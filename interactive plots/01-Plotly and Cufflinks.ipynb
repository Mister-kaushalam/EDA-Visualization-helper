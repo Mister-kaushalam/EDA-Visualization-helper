{
 "cells": [
  {
   "cell_type": "markdown",
   "metadata": {},
   "source": [
    "# Plotly and Cufflinks"
   ]
  },
  {
   "cell_type": "markdown",
   "metadata": {},
   "source": [
    "Plotly is a library that allows you to create interactive plots that you can use in dashboards or websites (you can save them as html files or static images).\n",
    "\n",
    "## Installation\n",
    "\n",
    "In order for this all to work, you'll need to install plotly and cufflinks to call plots directly off of a pandas dataframe. These libraries are not currently available through **conda** but are available through **pip**. Install the libraries at your command line/terminal using:\n",
    "\n",
    "    pip install plotly\n",
    "    pip install cufflinks\n",
    "\n",
    "** NOTE: Make sure you only have one installation of Python on your computer when you do this, otherwise the installation may not work. **\n",
    "\n",
    "## Imports and Set-up"
   ]
  },
  {
   "cell_type": "code",
   "execution_count": 1,
   "metadata": {},
   "outputs": [],
   "source": [
    "import pandas as pd\n",
    "import numpy as np\n",
    "%matplotlib inline"
   ]
  },
  {
   "cell_type": "code",
   "execution_count": 2,
   "metadata": {},
   "outputs": [
    {
     "name": "stdout",
     "output_type": "stream",
     "text": [
      "4.7.1\n"
     ]
    }
   ],
   "source": [
    "from plotly import __version__\n",
    "from plotly.offline import download_plotlyjs, init_notebook_mode, plot, iplot\n",
    "\n",
    "print(__version__) # requires version >= 1.9.0"
   ]
  },
  {
   "cell_type": "code",
   "execution_count": 3,
   "metadata": {},
   "outputs": [],
   "source": [
    "import cufflinks as cf"
   ]
  },
  {
   "cell_type": "code",
   "execution_count": 4,
   "metadata": {},
   "outputs": [
    {
     "data": {
      "text/html": [
       "        <script type=\"text/javascript\">\n",
       "        window.PlotlyConfig = {MathJaxConfig: 'local'};\n",
       "        if (window.MathJax) {MathJax.Hub.Config({SVG: {font: \"STIX-Web\"}});}\n",
       "        if (typeof require !== 'undefined') {\n",
       "        require.undef(\"plotly\");\n",
       "        requirejs.config({\n",
       "            paths: {\n",
       "                'plotly': ['https://cdn.plot.ly/plotly-latest.min']\n",
       "            }\n",
       "        });\n",
       "        require(['plotly'], function(Plotly) {\n",
       "            window._Plotly = Plotly;\n",
       "        });\n",
       "        }\n",
       "        </script>\n",
       "        "
      ]
     },
     "metadata": {},
     "output_type": "display_data"
    }
   ],
   "source": [
    "# For Notebooks\n",
    "init_notebook_mode(connected=True)"
   ]
  },
  {
   "cell_type": "code",
   "execution_count": 5,
   "metadata": {},
   "outputs": [
    {
     "data": {
      "text/html": [
       "        <script type=\"text/javascript\">\n",
       "        window.PlotlyConfig = {MathJaxConfig: 'local'};\n",
       "        if (window.MathJax) {MathJax.Hub.Config({SVG: {font: \"STIX-Web\"}});}\n",
       "        if (typeof require !== 'undefined') {\n",
       "        require.undef(\"plotly\");\n",
       "        requirejs.config({\n",
       "            paths: {\n",
       "                'plotly': ['https://cdn.plot.ly/plotly-latest.min']\n",
       "            }\n",
       "        });\n",
       "        require(['plotly'], function(Plotly) {\n",
       "            window._Plotly = Plotly;\n",
       "        });\n",
       "        }\n",
       "        </script>\n",
       "        "
      ]
     },
     "metadata": {},
     "output_type": "display_data"
    }
   ],
   "source": [
    "# For offline use\n",
    "cf.go_offline()"
   ]
  },
  {
   "cell_type": "markdown",
   "metadata": {},
   "source": [
    "### Fake Data"
   ]
  },
  {
   "cell_type": "code",
   "execution_count": 6,
   "metadata": {},
   "outputs": [],
   "source": [
    "df = pd.DataFrame(np.random.randn(100,4),columns='A B C D'.split())"
   ]
  },
  {
   "cell_type": "code",
   "execution_count": 7,
   "metadata": {},
   "outputs": [
    {
     "data": {
      "text/html": [
       "<div>\n",
       "<style scoped>\n",
       "    .dataframe tbody tr th:only-of-type {\n",
       "        vertical-align: middle;\n",
       "    }\n",
       "\n",
       "    .dataframe tbody tr th {\n",
       "        vertical-align: top;\n",
       "    }\n",
       "\n",
       "    .dataframe thead th {\n",
       "        text-align: right;\n",
       "    }\n",
       "</style>\n",
       "<table border=\"1\" class=\"dataframe\">\n",
       "  <thead>\n",
       "    <tr style=\"text-align: right;\">\n",
       "      <th></th>\n",
       "      <th>A</th>\n",
       "      <th>B</th>\n",
       "      <th>C</th>\n",
       "      <th>D</th>\n",
       "    </tr>\n",
       "  </thead>\n",
       "  <tbody>\n",
       "    <tr>\n",
       "      <th>0</th>\n",
       "      <td>0.216817</td>\n",
       "      <td>-0.574411</td>\n",
       "      <td>-1.872955</td>\n",
       "      <td>-0.872857</td>\n",
       "    </tr>\n",
       "    <tr>\n",
       "      <th>1</th>\n",
       "      <td>-1.977289</td>\n",
       "      <td>1.325013</td>\n",
       "      <td>0.623799</td>\n",
       "      <td>-1.051084</td>\n",
       "    </tr>\n",
       "    <tr>\n",
       "      <th>2</th>\n",
       "      <td>-0.546213</td>\n",
       "      <td>1.060950</td>\n",
       "      <td>0.686641</td>\n",
       "      <td>-1.352221</td>\n",
       "    </tr>\n",
       "    <tr>\n",
       "      <th>3</th>\n",
       "      <td>-0.681982</td>\n",
       "      <td>1.447136</td>\n",
       "      <td>-0.487663</td>\n",
       "      <td>-1.081660</td>\n",
       "    </tr>\n",
       "    <tr>\n",
       "      <th>4</th>\n",
       "      <td>-1.021425</td>\n",
       "      <td>1.636442</td>\n",
       "      <td>-1.668674</td>\n",
       "      <td>0.616132</td>\n",
       "    </tr>\n",
       "  </tbody>\n",
       "</table>\n",
       "</div>"
      ],
      "text/plain": [
       "          A         B         C         D\n",
       "0  0.216817 -0.574411 -1.872955 -0.872857\n",
       "1 -1.977289  1.325013  0.623799 -1.051084\n",
       "2 -0.546213  1.060950  0.686641 -1.352221\n",
       "3 -0.681982  1.447136 -0.487663 -1.081660\n",
       "4 -1.021425  1.636442 -1.668674  0.616132"
      ]
     },
     "execution_count": 7,
     "metadata": {},
     "output_type": "execute_result"
    }
   ],
   "source": [
    "df.head()"
   ]
  },
  {
   "cell_type": "code",
   "execution_count": 8,
   "metadata": {},
   "outputs": [],
   "source": [
    "df2 = pd.DataFrame({'Category':['A','B','C'],'Values':[32,43,50]})"
   ]
  },
  {
   "cell_type": "code",
   "execution_count": 9,
   "metadata": {},
   "outputs": [
    {
     "data": {
      "text/html": [
       "<div>\n",
       "<style scoped>\n",
       "    .dataframe tbody tr th:only-of-type {\n",
       "        vertical-align: middle;\n",
       "    }\n",
       "\n",
       "    .dataframe tbody tr th {\n",
       "        vertical-align: top;\n",
       "    }\n",
       "\n",
       "    .dataframe thead th {\n",
       "        text-align: right;\n",
       "    }\n",
       "</style>\n",
       "<table border=\"1\" class=\"dataframe\">\n",
       "  <thead>\n",
       "    <tr style=\"text-align: right;\">\n",
       "      <th></th>\n",
       "      <th>Category</th>\n",
       "      <th>Values</th>\n",
       "    </tr>\n",
       "  </thead>\n",
       "  <tbody>\n",
       "    <tr>\n",
       "      <th>0</th>\n",
       "      <td>A</td>\n",
       "      <td>32</td>\n",
       "    </tr>\n",
       "    <tr>\n",
       "      <th>1</th>\n",
       "      <td>B</td>\n",
       "      <td>43</td>\n",
       "    </tr>\n",
       "    <tr>\n",
       "      <th>2</th>\n",
       "      <td>C</td>\n",
       "      <td>50</td>\n",
       "    </tr>\n",
       "  </tbody>\n",
       "</table>\n",
       "</div>"
      ],
      "text/plain": [
       "  Category  Values\n",
       "0        A      32\n",
       "1        B      43\n",
       "2        C      50"
      ]
     },
     "execution_count": 9,
     "metadata": {},
     "output_type": "execute_result"
    }
   ],
   "source": [
    "df2.head()"
   ]
  },
  {
   "cell_type": "markdown",
   "metadata": {},
   "source": [
    "## Using Cufflinks and iplot()\n",
    "\n",
    "* scatter\n",
    "* bar\n",
    "* box\n",
    "* spread\n",
    "* ratio\n",
    "* heatmap\n",
    "* surface\n",
    "* histogram\n",
    "* bubble"
   ]
  },
  {
   "cell_type": "markdown",
   "metadata": {},
   "source": [
    "## Scatter"
   ]
  },
  {
   "cell_type": "code",
   "execution_count": 10,
   "metadata": {},
   "outputs": [
    {
     "data": {
      "application/vnd.plotly.v1+json": {
       "config": {
        "linkText": "Export to plot.ly",
        "plotlyServerURL": "https://plot.ly",
        "showLink": true
       },
       "data": [
        {
         "line": {
          "color": "rgba(255, 153, 51, 1.0)",
          "dash": "solid",
          "shape": "linear",
          "width": 1.3
         },
         "marker": {
          "size": 10,
          "symbol": "circle"
         },
         "mode": "markers",
         "name": "B",
         "text": "",
         "type": "scatter",
         "x": [
          0.21681727542441842,
          -1.9772885113327838,
          -0.5462132471505399,
          -0.6819819367976302,
          -1.0214246855639262,
          -1.4663406701189936,
          -1.3869714818665195,
          0.6792759180849723,
          0.003323249589601154,
          0.35263353393747643,
          -2.173396383826939,
          -0.39936467024163136,
          0.8835612461124585,
          1.748782428403716,
          1.2981444583558728,
          -0.32230543795352296,
          -2.2872486799886977,
          -0.9222217108403428,
          1.0586883344373945,
          -0.7728894682805112,
          0.1846911614370194,
          0.9551326809373836,
          0.06571449259757192,
          -0.2879721715497405,
          0.4192649222122794,
          -0.22975781578973978,
          1.1268507659495426,
          -0.8736355780617026,
          -0.49053047435131,
          -1.860305257457072,
          -1.3014448030976098,
          -0.7363205380791245,
          0.18582304290026405,
          -0.9193683541857193,
          -0.04760099120972285,
          1.1381969500860398,
          0.7132664776376054,
          -1.4059686462089924,
          0.12934554272216123,
          0.07709514927434992,
          1.2065139611399052,
          -0.2922868261161954,
          -0.6492118066817882,
          -2.7875169264679287,
          1.487366502025058,
          -0.27655005327292226,
          0.6720373114730019,
          1.0871682635420434,
          -1.2882506461748495,
          -1.1688212881513926,
          2.1650038192151153,
          0.9167077936678667,
          -0.6828969660269069,
          -0.362244895015562,
          -0.09097710761368762,
          1.1693454323863541,
          -1.0802438914386934,
          1.6878002831003949,
          -0.7579699094459557,
          -0.923800232625123,
          -2.114427367903597,
          -0.8129595596031683,
          -0.9012657916491319,
          -0.5455684789811972,
          0.003975478803318766,
          1.1179112763539043,
          0.9018043992546574,
          -0.8986152080322387,
          -0.21730607952635342,
          -0.5377706905229709,
          0.7182445328073375,
          1.3848319307421704,
          0.2073759925829057,
          0.7458428658575877,
          -1.1782479208176158,
          0.7308951672261628,
          1.2742068212954676,
          -0.5091233276267916,
          1.2123761493889964,
          -0.8696175139611265,
          0.05467665427955305,
          -0.10334873767188274,
          -0.8969549934246617,
          -0.5115917199381562,
          0.19375254046062468,
          1.148982738277355,
          -0.7879074944195215,
          0.20254895860414326,
          -0.10967627777498896,
          0.4834359516159212,
          0.26554038535107627,
          0.8015719884092859,
          -1.727774502348332,
          -0.8585361784135981,
          2.215116094482056,
          -0.8258598941353283,
          0.2927407389721164,
          -0.5278021971348248,
          -0.37959624617078397,
          -0.902146704300605
         ],
         "y": [
          -0.5744108505115697,
          1.3250127875694866,
          1.0609501013173488,
          1.4471358685229194,
          1.636441501367267,
          0.3591387809175054,
          -0.008677973283243321,
          1.2483095611775963,
          -0.3377835165446373,
          2.2936306970939824,
          1.4935410087314982,
          -1.1678829013387353,
          -0.4302557027404968,
          -1.2175853872046736,
          0.9976278820986041,
          1.8542346052856826,
          -0.3336832591907579,
          0.4305648305343407,
          -0.3413782131381251,
          1.885562577489426,
          -1.167728416431715,
          -0.25855441335933166,
          0.8457605079877005,
          1.786687191313069,
          -0.08016895736742227,
          -0.1675114125436269,
          0.6660676823694558,
          0.45908821282456685,
          0.024217153209860284,
          -1.256145709598057,
          -0.04627554807779002,
          -1.0138047364711658,
          0.8176005919444439,
          0.7242425774053408,
          1.0121548452900764,
          0.08734325694977876,
          -0.6137761053906247,
          0.19046996905840896,
          -0.199575010944785,
          1.763674923294254,
          0.7998263899160724,
          0.4694877243781425,
          -0.18758354700512347,
          -0.27105335552054344,
          0.2000247639308463,
          0.828433270741575,
          -0.7058613693027531,
          1.8623140211472056,
          2.1618073436752887,
          -1.7317496849627836,
          -0.3992836362099629,
          -2.2223897210323944,
          1.3436501899446402,
          -1.1852917082259877,
          0.4828293211581265,
          -1.9592110315381874,
          1.507469336916762,
          -0.0700760714281321,
          0.8282896907807905,
          -1.997244238790069,
          0.4585925848688841,
          -1.4981223246453403,
          -0.31732990651485327,
          1.8869775085501947,
          1.1584731749792427,
          1.0273130448326746,
          0.19508827087091382,
          1.4258471228220166,
          0.5788535326226437,
          -0.299954280656903,
          -0.3998410210242254,
          -0.35031737167406823,
          0.8832288439399775,
          0.21669465213116756,
          1.5391788486551,
          0.4271428089617199,
          -0.5953874578026,
          -0.6572397682085748,
          -0.26642398341379453,
          0.5076714514941331,
          -0.49600297058156256,
          -0.04379002145007061,
          0.13194756351743006,
          1.3883149776748287,
          0.6451060566263321,
          -0.7813472507428276,
          -0.9010886847348751,
          -0.07420666006715997,
          2.1058526584425343,
          1.5004904613813166,
          -0.8716479253418286,
          -1.0163449295692388,
          -0.006685171080727264,
          -1.2081557920076373,
          0.046997033531740375,
          -1.0292765217406235,
          -0.5659707554107236,
          0.5939692678161016,
          1.32004815915914,
          1.693620985365639
         ]
        }
       ],
       "layout": {
        "legend": {
         "bgcolor": "#F5F6F9",
         "font": {
          "color": "#4D5663"
         }
        },
        "paper_bgcolor": "#F5F6F9",
        "plot_bgcolor": "#F5F6F9",
        "template": {
         "data": {
          "bar": [
           {
            "error_x": {
             "color": "#2a3f5f"
            },
            "error_y": {
             "color": "#2a3f5f"
            },
            "marker": {
             "line": {
              "color": "#E5ECF6",
              "width": 0.5
             }
            },
            "type": "bar"
           }
          ],
          "barpolar": [
           {
            "marker": {
             "line": {
              "color": "#E5ECF6",
              "width": 0.5
             }
            },
            "type": "barpolar"
           }
          ],
          "carpet": [
           {
            "aaxis": {
             "endlinecolor": "#2a3f5f",
             "gridcolor": "white",
             "linecolor": "white",
             "minorgridcolor": "white",
             "startlinecolor": "#2a3f5f"
            },
            "baxis": {
             "endlinecolor": "#2a3f5f",
             "gridcolor": "white",
             "linecolor": "white",
             "minorgridcolor": "white",
             "startlinecolor": "#2a3f5f"
            },
            "type": "carpet"
           }
          ],
          "choropleth": [
           {
            "colorbar": {
             "outlinewidth": 0,
             "ticks": ""
            },
            "type": "choropleth"
           }
          ],
          "contour": [
           {
            "colorbar": {
             "outlinewidth": 0,
             "ticks": ""
            },
            "colorscale": [
             [
              0,
              "#0d0887"
             ],
             [
              0.1111111111111111,
              "#46039f"
             ],
             [
              0.2222222222222222,
              "#7201a8"
             ],
             [
              0.3333333333333333,
              "#9c179e"
             ],
             [
              0.4444444444444444,
              "#bd3786"
             ],
             [
              0.5555555555555556,
              "#d8576b"
             ],
             [
              0.6666666666666666,
              "#ed7953"
             ],
             [
              0.7777777777777778,
              "#fb9f3a"
             ],
             [
              0.8888888888888888,
              "#fdca26"
             ],
             [
              1,
              "#f0f921"
             ]
            ],
            "type": "contour"
           }
          ],
          "contourcarpet": [
           {
            "colorbar": {
             "outlinewidth": 0,
             "ticks": ""
            },
            "type": "contourcarpet"
           }
          ],
          "heatmap": [
           {
            "colorbar": {
             "outlinewidth": 0,
             "ticks": ""
            },
            "colorscale": [
             [
              0,
              "#0d0887"
             ],
             [
              0.1111111111111111,
              "#46039f"
             ],
             [
              0.2222222222222222,
              "#7201a8"
             ],
             [
              0.3333333333333333,
              "#9c179e"
             ],
             [
              0.4444444444444444,
              "#bd3786"
             ],
             [
              0.5555555555555556,
              "#d8576b"
             ],
             [
              0.6666666666666666,
              "#ed7953"
             ],
             [
              0.7777777777777778,
              "#fb9f3a"
             ],
             [
              0.8888888888888888,
              "#fdca26"
             ],
             [
              1,
              "#f0f921"
             ]
            ],
            "type": "heatmap"
           }
          ],
          "heatmapgl": [
           {
            "colorbar": {
             "outlinewidth": 0,
             "ticks": ""
            },
            "colorscale": [
             [
              0,
              "#0d0887"
             ],
             [
              0.1111111111111111,
              "#46039f"
             ],
             [
              0.2222222222222222,
              "#7201a8"
             ],
             [
              0.3333333333333333,
              "#9c179e"
             ],
             [
              0.4444444444444444,
              "#bd3786"
             ],
             [
              0.5555555555555556,
              "#d8576b"
             ],
             [
              0.6666666666666666,
              "#ed7953"
             ],
             [
              0.7777777777777778,
              "#fb9f3a"
             ],
             [
              0.8888888888888888,
              "#fdca26"
             ],
             [
              1,
              "#f0f921"
             ]
            ],
            "type": "heatmapgl"
           }
          ],
          "histogram": [
           {
            "marker": {
             "colorbar": {
              "outlinewidth": 0,
              "ticks": ""
             }
            },
            "type": "histogram"
           }
          ],
          "histogram2d": [
           {
            "colorbar": {
             "outlinewidth": 0,
             "ticks": ""
            },
            "colorscale": [
             [
              0,
              "#0d0887"
             ],
             [
              0.1111111111111111,
              "#46039f"
             ],
             [
              0.2222222222222222,
              "#7201a8"
             ],
             [
              0.3333333333333333,
              "#9c179e"
             ],
             [
              0.4444444444444444,
              "#bd3786"
             ],
             [
              0.5555555555555556,
              "#d8576b"
             ],
             [
              0.6666666666666666,
              "#ed7953"
             ],
             [
              0.7777777777777778,
              "#fb9f3a"
             ],
             [
              0.8888888888888888,
              "#fdca26"
             ],
             [
              1,
              "#f0f921"
             ]
            ],
            "type": "histogram2d"
           }
          ],
          "histogram2dcontour": [
           {
            "colorbar": {
             "outlinewidth": 0,
             "ticks": ""
            },
            "colorscale": [
             [
              0,
              "#0d0887"
             ],
             [
              0.1111111111111111,
              "#46039f"
             ],
             [
              0.2222222222222222,
              "#7201a8"
             ],
             [
              0.3333333333333333,
              "#9c179e"
             ],
             [
              0.4444444444444444,
              "#bd3786"
             ],
             [
              0.5555555555555556,
              "#d8576b"
             ],
             [
              0.6666666666666666,
              "#ed7953"
             ],
             [
              0.7777777777777778,
              "#fb9f3a"
             ],
             [
              0.8888888888888888,
              "#fdca26"
             ],
             [
              1,
              "#f0f921"
             ]
            ],
            "type": "histogram2dcontour"
           }
          ],
          "mesh3d": [
           {
            "colorbar": {
             "outlinewidth": 0,
             "ticks": ""
            },
            "type": "mesh3d"
           }
          ],
          "parcoords": [
           {
            "line": {
             "colorbar": {
              "outlinewidth": 0,
              "ticks": ""
             }
            },
            "type": "parcoords"
           }
          ],
          "pie": [
           {
            "automargin": true,
            "type": "pie"
           }
          ],
          "scatter": [
           {
            "marker": {
             "colorbar": {
              "outlinewidth": 0,
              "ticks": ""
             }
            },
            "type": "scatter"
           }
          ],
          "scatter3d": [
           {
            "line": {
             "colorbar": {
              "outlinewidth": 0,
              "ticks": ""
             }
            },
            "marker": {
             "colorbar": {
              "outlinewidth": 0,
              "ticks": ""
             }
            },
            "type": "scatter3d"
           }
          ],
          "scattercarpet": [
           {
            "marker": {
             "colorbar": {
              "outlinewidth": 0,
              "ticks": ""
             }
            },
            "type": "scattercarpet"
           }
          ],
          "scattergeo": [
           {
            "marker": {
             "colorbar": {
              "outlinewidth": 0,
              "ticks": ""
             }
            },
            "type": "scattergeo"
           }
          ],
          "scattergl": [
           {
            "marker": {
             "colorbar": {
              "outlinewidth": 0,
              "ticks": ""
             }
            },
            "type": "scattergl"
           }
          ],
          "scattermapbox": [
           {
            "marker": {
             "colorbar": {
              "outlinewidth": 0,
              "ticks": ""
             }
            },
            "type": "scattermapbox"
           }
          ],
          "scatterpolar": [
           {
            "marker": {
             "colorbar": {
              "outlinewidth": 0,
              "ticks": ""
             }
            },
            "type": "scatterpolar"
           }
          ],
          "scatterpolargl": [
           {
            "marker": {
             "colorbar": {
              "outlinewidth": 0,
              "ticks": ""
             }
            },
            "type": "scatterpolargl"
           }
          ],
          "scatterternary": [
           {
            "marker": {
             "colorbar": {
              "outlinewidth": 0,
              "ticks": ""
             }
            },
            "type": "scatterternary"
           }
          ],
          "surface": [
           {
            "colorbar": {
             "outlinewidth": 0,
             "ticks": ""
            },
            "colorscale": [
             [
              0,
              "#0d0887"
             ],
             [
              0.1111111111111111,
              "#46039f"
             ],
             [
              0.2222222222222222,
              "#7201a8"
             ],
             [
              0.3333333333333333,
              "#9c179e"
             ],
             [
              0.4444444444444444,
              "#bd3786"
             ],
             [
              0.5555555555555556,
              "#d8576b"
             ],
             [
              0.6666666666666666,
              "#ed7953"
             ],
             [
              0.7777777777777778,
              "#fb9f3a"
             ],
             [
              0.8888888888888888,
              "#fdca26"
             ],
             [
              1,
              "#f0f921"
             ]
            ],
            "type": "surface"
           }
          ],
          "table": [
           {
            "cells": {
             "fill": {
              "color": "#EBF0F8"
             },
             "line": {
              "color": "white"
             }
            },
            "header": {
             "fill": {
              "color": "#C8D4E3"
             },
             "line": {
              "color": "white"
             }
            },
            "type": "table"
           }
          ]
         },
         "layout": {
          "annotationdefaults": {
           "arrowcolor": "#2a3f5f",
           "arrowhead": 0,
           "arrowwidth": 1
          },
          "coloraxis": {
           "colorbar": {
            "outlinewidth": 0,
            "ticks": ""
           }
          },
          "colorscale": {
           "diverging": [
            [
             0,
             "#8e0152"
            ],
            [
             0.1,
             "#c51b7d"
            ],
            [
             0.2,
             "#de77ae"
            ],
            [
             0.3,
             "#f1b6da"
            ],
            [
             0.4,
             "#fde0ef"
            ],
            [
             0.5,
             "#f7f7f7"
            ],
            [
             0.6,
             "#e6f5d0"
            ],
            [
             0.7,
             "#b8e186"
            ],
            [
             0.8,
             "#7fbc41"
            ],
            [
             0.9,
             "#4d9221"
            ],
            [
             1,
             "#276419"
            ]
           ],
           "sequential": [
            [
             0,
             "#0d0887"
            ],
            [
             0.1111111111111111,
             "#46039f"
            ],
            [
             0.2222222222222222,
             "#7201a8"
            ],
            [
             0.3333333333333333,
             "#9c179e"
            ],
            [
             0.4444444444444444,
             "#bd3786"
            ],
            [
             0.5555555555555556,
             "#d8576b"
            ],
            [
             0.6666666666666666,
             "#ed7953"
            ],
            [
             0.7777777777777778,
             "#fb9f3a"
            ],
            [
             0.8888888888888888,
             "#fdca26"
            ],
            [
             1,
             "#f0f921"
            ]
           ],
           "sequentialminus": [
            [
             0,
             "#0d0887"
            ],
            [
             0.1111111111111111,
             "#46039f"
            ],
            [
             0.2222222222222222,
             "#7201a8"
            ],
            [
             0.3333333333333333,
             "#9c179e"
            ],
            [
             0.4444444444444444,
             "#bd3786"
            ],
            [
             0.5555555555555556,
             "#d8576b"
            ],
            [
             0.6666666666666666,
             "#ed7953"
            ],
            [
             0.7777777777777778,
             "#fb9f3a"
            ],
            [
             0.8888888888888888,
             "#fdca26"
            ],
            [
             1,
             "#f0f921"
            ]
           ]
          },
          "colorway": [
           "#636efa",
           "#EF553B",
           "#00cc96",
           "#ab63fa",
           "#FFA15A",
           "#19d3f3",
           "#FF6692",
           "#B6E880",
           "#FF97FF",
           "#FECB52"
          ],
          "font": {
           "color": "#2a3f5f"
          },
          "geo": {
           "bgcolor": "white",
           "lakecolor": "white",
           "landcolor": "#E5ECF6",
           "showlakes": true,
           "showland": true,
           "subunitcolor": "white"
          },
          "hoverlabel": {
           "align": "left"
          },
          "hovermode": "closest",
          "mapbox": {
           "style": "light"
          },
          "paper_bgcolor": "white",
          "plot_bgcolor": "#E5ECF6",
          "polar": {
           "angularaxis": {
            "gridcolor": "white",
            "linecolor": "white",
            "ticks": ""
           },
           "bgcolor": "#E5ECF6",
           "radialaxis": {
            "gridcolor": "white",
            "linecolor": "white",
            "ticks": ""
           }
          },
          "scene": {
           "xaxis": {
            "backgroundcolor": "#E5ECF6",
            "gridcolor": "white",
            "gridwidth": 2,
            "linecolor": "white",
            "showbackground": true,
            "ticks": "",
            "zerolinecolor": "white"
           },
           "yaxis": {
            "backgroundcolor": "#E5ECF6",
            "gridcolor": "white",
            "gridwidth": 2,
            "linecolor": "white",
            "showbackground": true,
            "ticks": "",
            "zerolinecolor": "white"
           },
           "zaxis": {
            "backgroundcolor": "#E5ECF6",
            "gridcolor": "white",
            "gridwidth": 2,
            "linecolor": "white",
            "showbackground": true,
            "ticks": "",
            "zerolinecolor": "white"
           }
          },
          "shapedefaults": {
           "line": {
            "color": "#2a3f5f"
           }
          },
          "ternary": {
           "aaxis": {
            "gridcolor": "white",
            "linecolor": "white",
            "ticks": ""
           },
           "baxis": {
            "gridcolor": "white",
            "linecolor": "white",
            "ticks": ""
           },
           "bgcolor": "#E5ECF6",
           "caxis": {
            "gridcolor": "white",
            "linecolor": "white",
            "ticks": ""
           }
          },
          "title": {
           "x": 0.05
          },
          "xaxis": {
           "automargin": true,
           "gridcolor": "white",
           "linecolor": "white",
           "ticks": "",
           "title": {
            "standoff": 15
           },
           "zerolinecolor": "white",
           "zerolinewidth": 2
          },
          "yaxis": {
           "automargin": true,
           "gridcolor": "white",
           "linecolor": "white",
           "ticks": "",
           "title": {
            "standoff": 15
           },
           "zerolinecolor": "white",
           "zerolinewidth": 2
          }
         }
        },
        "title": {
         "font": {
          "color": "#4D5663"
         }
        },
        "xaxis": {
         "gridcolor": "#E1E5ED",
         "showgrid": true,
         "tickfont": {
          "color": "#4D5663"
         },
         "title": {
          "font": {
           "color": "#4D5663"
          },
          "text": ""
         },
         "zerolinecolor": "#E1E5ED"
        },
        "yaxis": {
         "gridcolor": "#E1E5ED",
         "showgrid": true,
         "tickfont": {
          "color": "#4D5663"
         },
         "title": {
          "font": {
           "color": "#4D5663"
          },
          "text": ""
         },
         "zerolinecolor": "#E1E5ED"
        }
       }
      },
      "text/html": [
       "<div>\n",
       "        \n",
       "        \n",
       "            <div id=\"61bd5c47-8d38-40a8-88e4-f9f7ff661478\" class=\"plotly-graph-div\" style=\"height:525px; width:100%;\"></div>\n",
       "            <script type=\"text/javascript\">\n",
       "                require([\"plotly\"], function(Plotly) {\n",
       "                    window.PLOTLYENV=window.PLOTLYENV || {};\n",
       "                    window.PLOTLYENV.BASE_URL='https://plot.ly';\n",
       "                    \n",
       "                if (document.getElementById(\"61bd5c47-8d38-40a8-88e4-f9f7ff661478\")) {\n",
       "                    Plotly.newPlot(\n",
       "                        '61bd5c47-8d38-40a8-88e4-f9f7ff661478',\n",
       "                        [{\"line\": {\"color\": \"rgba(255, 153, 51, 1.0)\", \"dash\": \"solid\", \"shape\": \"linear\", \"width\": 1.3}, \"marker\": {\"size\": 10, \"symbol\": \"circle\"}, \"mode\": \"markers\", \"name\": \"B\", \"text\": \"\", \"type\": \"scatter\", \"x\": [0.21681727542441842, -1.9772885113327838, -0.5462132471505399, -0.6819819367976302, -1.0214246855639262, -1.4663406701189936, -1.3869714818665195, 0.6792759180849723, 0.003323249589601154, 0.35263353393747643, -2.173396383826939, -0.39936467024163136, 0.8835612461124585, 1.748782428403716, 1.2981444583558728, -0.32230543795352296, -2.2872486799886977, -0.9222217108403428, 1.0586883344373945, -0.7728894682805112, 0.1846911614370194, 0.9551326809373836, 0.06571449259757192, -0.2879721715497405, 0.4192649222122794, -0.22975781578973978, 1.1268507659495426, -0.8736355780617026, -0.49053047435131, -1.860305257457072, -1.3014448030976098, -0.7363205380791245, 0.18582304290026405, -0.9193683541857193, -0.04760099120972285, 1.1381969500860398, 0.7132664776376054, -1.4059686462089924, 0.12934554272216123, 0.07709514927434992, 1.2065139611399052, -0.2922868261161954, -0.6492118066817882, -2.7875169264679287, 1.487366502025058, -0.27655005327292226, 0.6720373114730019, 1.0871682635420434, -1.2882506461748495, -1.1688212881513926, 2.1650038192151153, 0.9167077936678667, -0.6828969660269069, -0.362244895015562, -0.09097710761368762, 1.1693454323863541, -1.0802438914386934, 1.6878002831003949, -0.7579699094459557, -0.923800232625123, -2.114427367903597, -0.8129595596031683, -0.9012657916491319, -0.5455684789811972, 0.003975478803318766, 1.1179112763539043, 0.9018043992546574, -0.8986152080322387, -0.21730607952635342, -0.5377706905229709, 0.7182445328073375, 1.3848319307421704, 0.2073759925829057, 0.7458428658575877, -1.1782479208176158, 0.7308951672261628, 1.2742068212954676, -0.5091233276267916, 1.2123761493889964, -0.8696175139611265, 0.05467665427955305, -0.10334873767188274, -0.8969549934246617, -0.5115917199381562, 0.19375254046062468, 1.148982738277355, -0.7879074944195215, 0.20254895860414326, -0.10967627777498896, 0.4834359516159212, 0.26554038535107627, 0.8015719884092859, -1.727774502348332, -0.8585361784135981, 2.215116094482056, -0.8258598941353283, 0.2927407389721164, -0.5278021971348248, -0.37959624617078397, -0.902146704300605], \"y\": [-0.5744108505115697, 1.3250127875694866, 1.0609501013173488, 1.4471358685229194, 1.636441501367267, 0.3591387809175054, -0.008677973283243321, 1.2483095611775963, -0.3377835165446373, 2.2936306970939824, 1.4935410087314982, -1.1678829013387353, -0.4302557027404968, -1.2175853872046736, 0.9976278820986041, 1.8542346052856826, -0.3336832591907579, 0.4305648305343407, -0.3413782131381251, 1.885562577489426, -1.167728416431715, -0.25855441335933166, 0.8457605079877005, 1.786687191313069, -0.08016895736742227, -0.1675114125436269, 0.6660676823694558, 0.45908821282456685, 0.024217153209860284, -1.256145709598057, -0.04627554807779002, -1.0138047364711658, 0.8176005919444439, 0.7242425774053408, 1.0121548452900764, 0.08734325694977876, -0.6137761053906247, 0.19046996905840896, -0.199575010944785, 1.763674923294254, 0.7998263899160724, 0.4694877243781425, -0.18758354700512347, -0.27105335552054344, 0.2000247639308463, 0.828433270741575, -0.7058613693027531, 1.8623140211472056, 2.1618073436752887, -1.7317496849627836, -0.3992836362099629, -2.2223897210323944, 1.3436501899446402, -1.1852917082259877, 0.4828293211581265, -1.9592110315381874, 1.507469336916762, -0.0700760714281321, 0.8282896907807905, -1.997244238790069, 0.4585925848688841, -1.4981223246453403, -0.31732990651485327, 1.8869775085501947, 1.1584731749792427, 1.0273130448326746, 0.19508827087091382, 1.4258471228220166, 0.5788535326226437, -0.299954280656903, -0.3998410210242254, -0.35031737167406823, 0.8832288439399775, 0.21669465213116756, 1.5391788486551, 0.4271428089617199, -0.5953874578026, -0.6572397682085748, -0.26642398341379453, 0.5076714514941331, -0.49600297058156256, -0.04379002145007061, 0.13194756351743006, 1.3883149776748287, 0.6451060566263321, -0.7813472507428276, -0.9010886847348751, -0.07420666006715997, 2.1058526584425343, 1.5004904613813166, -0.8716479253418286, -1.0163449295692388, -0.006685171080727264, -1.2081557920076373, 0.046997033531740375, -1.0292765217406235, -0.5659707554107236, 0.5939692678161016, 1.32004815915914, 1.693620985365639]}],\n",
       "                        {\"legend\": {\"bgcolor\": \"#F5F6F9\", \"font\": {\"color\": \"#4D5663\"}}, \"paper_bgcolor\": \"#F5F6F9\", \"plot_bgcolor\": \"#F5F6F9\", \"template\": {\"data\": {\"bar\": [{\"error_x\": {\"color\": \"#2a3f5f\"}, \"error_y\": {\"color\": \"#2a3f5f\"}, \"marker\": {\"line\": {\"color\": \"#E5ECF6\", \"width\": 0.5}}, \"type\": \"bar\"}], \"barpolar\": [{\"marker\": {\"line\": {\"color\": \"#E5ECF6\", \"width\": 0.5}}, \"type\": \"barpolar\"}], \"carpet\": [{\"aaxis\": {\"endlinecolor\": \"#2a3f5f\", \"gridcolor\": \"white\", \"linecolor\": \"white\", \"minorgridcolor\": \"white\", \"startlinecolor\": \"#2a3f5f\"}, \"baxis\": {\"endlinecolor\": \"#2a3f5f\", \"gridcolor\": \"white\", \"linecolor\": \"white\", \"minorgridcolor\": \"white\", \"startlinecolor\": \"#2a3f5f\"}, \"type\": \"carpet\"}], \"choropleth\": [{\"colorbar\": {\"outlinewidth\": 0, \"ticks\": \"\"}, \"type\": \"choropleth\"}], \"contour\": [{\"colorbar\": {\"outlinewidth\": 0, \"ticks\": \"\"}, \"colorscale\": [[0.0, \"#0d0887\"], [0.1111111111111111, \"#46039f\"], [0.2222222222222222, \"#7201a8\"], [0.3333333333333333, \"#9c179e\"], [0.4444444444444444, \"#bd3786\"], [0.5555555555555556, \"#d8576b\"], [0.6666666666666666, \"#ed7953\"], [0.7777777777777778, \"#fb9f3a\"], [0.8888888888888888, \"#fdca26\"], [1.0, \"#f0f921\"]], \"type\": \"contour\"}], \"contourcarpet\": [{\"colorbar\": {\"outlinewidth\": 0, \"ticks\": \"\"}, \"type\": \"contourcarpet\"}], \"heatmap\": [{\"colorbar\": {\"outlinewidth\": 0, \"ticks\": \"\"}, \"colorscale\": [[0.0, \"#0d0887\"], [0.1111111111111111, \"#46039f\"], [0.2222222222222222, \"#7201a8\"], [0.3333333333333333, \"#9c179e\"], [0.4444444444444444, \"#bd3786\"], [0.5555555555555556, \"#d8576b\"], [0.6666666666666666, \"#ed7953\"], [0.7777777777777778, \"#fb9f3a\"], [0.8888888888888888, \"#fdca26\"], [1.0, \"#f0f921\"]], \"type\": \"heatmap\"}], \"heatmapgl\": [{\"colorbar\": {\"outlinewidth\": 0, \"ticks\": \"\"}, \"colorscale\": [[0.0, \"#0d0887\"], [0.1111111111111111, \"#46039f\"], [0.2222222222222222, \"#7201a8\"], [0.3333333333333333, \"#9c179e\"], [0.4444444444444444, \"#bd3786\"], [0.5555555555555556, \"#d8576b\"], [0.6666666666666666, \"#ed7953\"], [0.7777777777777778, \"#fb9f3a\"], [0.8888888888888888, \"#fdca26\"], [1.0, \"#f0f921\"]], \"type\": \"heatmapgl\"}], \"histogram\": [{\"marker\": {\"colorbar\": {\"outlinewidth\": 0, \"ticks\": \"\"}}, \"type\": \"histogram\"}], \"histogram2d\": [{\"colorbar\": {\"outlinewidth\": 0, \"ticks\": \"\"}, \"colorscale\": [[0.0, \"#0d0887\"], [0.1111111111111111, \"#46039f\"], [0.2222222222222222, \"#7201a8\"], [0.3333333333333333, \"#9c179e\"], [0.4444444444444444, \"#bd3786\"], [0.5555555555555556, \"#d8576b\"], [0.6666666666666666, \"#ed7953\"], [0.7777777777777778, \"#fb9f3a\"], [0.8888888888888888, \"#fdca26\"], [1.0, \"#f0f921\"]], \"type\": \"histogram2d\"}], \"histogram2dcontour\": [{\"colorbar\": {\"outlinewidth\": 0, \"ticks\": \"\"}, \"colorscale\": [[0.0, \"#0d0887\"], [0.1111111111111111, \"#46039f\"], [0.2222222222222222, \"#7201a8\"], [0.3333333333333333, \"#9c179e\"], [0.4444444444444444, \"#bd3786\"], [0.5555555555555556, \"#d8576b\"], [0.6666666666666666, \"#ed7953\"], [0.7777777777777778, \"#fb9f3a\"], [0.8888888888888888, \"#fdca26\"], [1.0, \"#f0f921\"]], \"type\": \"histogram2dcontour\"}], \"mesh3d\": [{\"colorbar\": {\"outlinewidth\": 0, \"ticks\": \"\"}, \"type\": \"mesh3d\"}], \"parcoords\": [{\"line\": {\"colorbar\": {\"outlinewidth\": 0, \"ticks\": \"\"}}, \"type\": \"parcoords\"}], \"pie\": [{\"automargin\": true, \"type\": \"pie\"}], \"scatter\": [{\"marker\": {\"colorbar\": {\"outlinewidth\": 0, \"ticks\": \"\"}}, \"type\": \"scatter\"}], \"scatter3d\": [{\"line\": {\"colorbar\": {\"outlinewidth\": 0, \"ticks\": \"\"}}, \"marker\": {\"colorbar\": {\"outlinewidth\": 0, \"ticks\": \"\"}}, \"type\": \"scatter3d\"}], \"scattercarpet\": [{\"marker\": {\"colorbar\": {\"outlinewidth\": 0, \"ticks\": \"\"}}, \"type\": \"scattercarpet\"}], \"scattergeo\": [{\"marker\": {\"colorbar\": {\"outlinewidth\": 0, \"ticks\": \"\"}}, \"type\": \"scattergeo\"}], \"scattergl\": [{\"marker\": {\"colorbar\": {\"outlinewidth\": 0, \"ticks\": \"\"}}, \"type\": \"scattergl\"}], \"scattermapbox\": [{\"marker\": {\"colorbar\": {\"outlinewidth\": 0, \"ticks\": \"\"}}, \"type\": \"scattermapbox\"}], \"scatterpolar\": [{\"marker\": {\"colorbar\": {\"outlinewidth\": 0, \"ticks\": \"\"}}, \"type\": \"scatterpolar\"}], \"scatterpolargl\": [{\"marker\": {\"colorbar\": {\"outlinewidth\": 0, \"ticks\": \"\"}}, \"type\": \"scatterpolargl\"}], \"scatterternary\": [{\"marker\": {\"colorbar\": {\"outlinewidth\": 0, \"ticks\": \"\"}}, \"type\": \"scatterternary\"}], \"surface\": [{\"colorbar\": {\"outlinewidth\": 0, \"ticks\": \"\"}, \"colorscale\": [[0.0, \"#0d0887\"], [0.1111111111111111, \"#46039f\"], [0.2222222222222222, \"#7201a8\"], [0.3333333333333333, \"#9c179e\"], [0.4444444444444444, \"#bd3786\"], [0.5555555555555556, \"#d8576b\"], [0.6666666666666666, \"#ed7953\"], [0.7777777777777778, \"#fb9f3a\"], [0.8888888888888888, \"#fdca26\"], [1.0, \"#f0f921\"]], \"type\": \"surface\"}], \"table\": [{\"cells\": {\"fill\": {\"color\": \"#EBF0F8\"}, \"line\": {\"color\": \"white\"}}, \"header\": {\"fill\": {\"color\": \"#C8D4E3\"}, \"line\": {\"color\": \"white\"}}, \"type\": \"table\"}]}, \"layout\": {\"annotationdefaults\": {\"arrowcolor\": \"#2a3f5f\", \"arrowhead\": 0, \"arrowwidth\": 1}, \"coloraxis\": {\"colorbar\": {\"outlinewidth\": 0, \"ticks\": \"\"}}, \"colorscale\": {\"diverging\": [[0, \"#8e0152\"], [0.1, \"#c51b7d\"], [0.2, \"#de77ae\"], [0.3, \"#f1b6da\"], [0.4, \"#fde0ef\"], [0.5, \"#f7f7f7\"], [0.6, \"#e6f5d0\"], [0.7, \"#b8e186\"], [0.8, \"#7fbc41\"], [0.9, \"#4d9221\"], [1, \"#276419\"]], \"sequential\": [[0.0, \"#0d0887\"], [0.1111111111111111, \"#46039f\"], [0.2222222222222222, \"#7201a8\"], [0.3333333333333333, \"#9c179e\"], [0.4444444444444444, \"#bd3786\"], [0.5555555555555556, \"#d8576b\"], [0.6666666666666666, \"#ed7953\"], [0.7777777777777778, \"#fb9f3a\"], [0.8888888888888888, \"#fdca26\"], [1.0, \"#f0f921\"]], \"sequentialminus\": [[0.0, \"#0d0887\"], [0.1111111111111111, \"#46039f\"], [0.2222222222222222, \"#7201a8\"], [0.3333333333333333, \"#9c179e\"], [0.4444444444444444, \"#bd3786\"], [0.5555555555555556, \"#d8576b\"], [0.6666666666666666, \"#ed7953\"], [0.7777777777777778, \"#fb9f3a\"], [0.8888888888888888, \"#fdca26\"], [1.0, \"#f0f921\"]]}, \"colorway\": [\"#636efa\", \"#EF553B\", \"#00cc96\", \"#ab63fa\", \"#FFA15A\", \"#19d3f3\", \"#FF6692\", \"#B6E880\", \"#FF97FF\", \"#FECB52\"], \"font\": {\"color\": \"#2a3f5f\"}, \"geo\": {\"bgcolor\": \"white\", \"lakecolor\": \"white\", \"landcolor\": \"#E5ECF6\", \"showlakes\": true, \"showland\": true, \"subunitcolor\": \"white\"}, \"hoverlabel\": {\"align\": \"left\"}, \"hovermode\": \"closest\", \"mapbox\": {\"style\": \"light\"}, \"paper_bgcolor\": \"white\", \"plot_bgcolor\": \"#E5ECF6\", \"polar\": {\"angularaxis\": {\"gridcolor\": \"white\", \"linecolor\": \"white\", \"ticks\": \"\"}, \"bgcolor\": \"#E5ECF6\", \"radialaxis\": {\"gridcolor\": \"white\", \"linecolor\": \"white\", \"ticks\": \"\"}}, \"scene\": {\"xaxis\": {\"backgroundcolor\": \"#E5ECF6\", \"gridcolor\": \"white\", \"gridwidth\": 2, \"linecolor\": \"white\", \"showbackground\": true, \"ticks\": \"\", \"zerolinecolor\": \"white\"}, \"yaxis\": {\"backgroundcolor\": \"#E5ECF6\", \"gridcolor\": \"white\", \"gridwidth\": 2, \"linecolor\": \"white\", \"showbackground\": true, \"ticks\": \"\", \"zerolinecolor\": \"white\"}, \"zaxis\": {\"backgroundcolor\": \"#E5ECF6\", \"gridcolor\": \"white\", \"gridwidth\": 2, \"linecolor\": \"white\", \"showbackground\": true, \"ticks\": \"\", \"zerolinecolor\": \"white\"}}, \"shapedefaults\": {\"line\": {\"color\": \"#2a3f5f\"}}, \"ternary\": {\"aaxis\": {\"gridcolor\": \"white\", \"linecolor\": \"white\", \"ticks\": \"\"}, \"baxis\": {\"gridcolor\": \"white\", \"linecolor\": \"white\", \"ticks\": \"\"}, \"bgcolor\": \"#E5ECF6\", \"caxis\": {\"gridcolor\": \"white\", \"linecolor\": \"white\", \"ticks\": \"\"}}, \"title\": {\"x\": 0.05}, \"xaxis\": {\"automargin\": true, \"gridcolor\": \"white\", \"linecolor\": \"white\", \"ticks\": \"\", \"title\": {\"standoff\": 15}, \"zerolinecolor\": \"white\", \"zerolinewidth\": 2}, \"yaxis\": {\"automargin\": true, \"gridcolor\": \"white\", \"linecolor\": \"white\", \"ticks\": \"\", \"title\": {\"standoff\": 15}, \"zerolinecolor\": \"white\", \"zerolinewidth\": 2}}}, \"title\": {\"font\": {\"color\": \"#4D5663\"}}, \"xaxis\": {\"gridcolor\": \"#E1E5ED\", \"showgrid\": true, \"tickfont\": {\"color\": \"#4D5663\"}, \"title\": {\"font\": {\"color\": \"#4D5663\"}, \"text\": \"\"}, \"zerolinecolor\": \"#E1E5ED\"}, \"yaxis\": {\"gridcolor\": \"#E1E5ED\", \"showgrid\": true, \"tickfont\": {\"color\": \"#4D5663\"}, \"title\": {\"font\": {\"color\": \"#4D5663\"}, \"text\": \"\"}, \"zerolinecolor\": \"#E1E5ED\"}},\n",
       "                        {\"showLink\": true, \"linkText\": \"Export to plot.ly\", \"plotlyServerURL\": \"https://plot.ly\", \"responsive\": true}\n",
       "                    ).then(function(){\n",
       "                            \n",
       "var gd = document.getElementById('61bd5c47-8d38-40a8-88e4-f9f7ff661478');\n",
       "var x = new MutationObserver(function (mutations, observer) {{\n",
       "        var display = window.getComputedStyle(gd).display;\n",
       "        if (!display || display === 'none') {{\n",
       "            console.log([gd, 'removed!']);\n",
       "            Plotly.purge(gd);\n",
       "            observer.disconnect();\n",
       "        }}\n",
       "}});\n",
       "\n",
       "// Listen for the removal of the full notebook cells\n",
       "var notebookContainer = gd.closest('#notebook-container');\n",
       "if (notebookContainer) {{\n",
       "    x.observe(notebookContainer, {childList: true});\n",
       "}}\n",
       "\n",
       "// Listen for the clearing of the current output cell\n",
       "var outputEl = gd.closest('.output');\n",
       "if (outputEl) {{\n",
       "    x.observe(outputEl, {childList: true});\n",
       "}}\n",
       "\n",
       "                        })\n",
       "                };\n",
       "                });\n",
       "            </script>\n",
       "        </div>"
      ]
     },
     "metadata": {},
     "output_type": "display_data"
    }
   ],
   "source": [
    "df.iplot(kind='scatter',x='A',y='B',mode='markers',size=10)"
   ]
  },
  {
   "cell_type": "markdown",
   "metadata": {},
   "source": [
    "## Bar Plots"
   ]
  },
  {
   "cell_type": "code",
   "execution_count": 11,
   "metadata": {},
   "outputs": [
    {
     "data": {
      "application/vnd.plotly.v1+json": {
       "config": {
        "linkText": "Export to plot.ly",
        "plotlyServerURL": "https://plot.ly",
        "showLink": true
       },
       "data": [
        {
         "marker": {
          "color": "rgba(255, 153, 51, 0.6)",
          "line": {
           "color": "rgba(255, 153, 51, 1.0)",
           "width": 1
          }
         },
         "name": "Values",
         "orientation": "v",
         "text": "",
         "type": "bar",
         "x": [
          "A",
          "B",
          "C"
         ],
         "y": [
          32,
          43,
          50
         ]
        }
       ],
       "layout": {
        "legend": {
         "bgcolor": "#F5F6F9",
         "font": {
          "color": "#4D5663"
         }
        },
        "paper_bgcolor": "#F5F6F9",
        "plot_bgcolor": "#F5F6F9",
        "template": {
         "data": {
          "bar": [
           {
            "error_x": {
             "color": "#2a3f5f"
            },
            "error_y": {
             "color": "#2a3f5f"
            },
            "marker": {
             "line": {
              "color": "#E5ECF6",
              "width": 0.5
             }
            },
            "type": "bar"
           }
          ],
          "barpolar": [
           {
            "marker": {
             "line": {
              "color": "#E5ECF6",
              "width": 0.5
             }
            },
            "type": "barpolar"
           }
          ],
          "carpet": [
           {
            "aaxis": {
             "endlinecolor": "#2a3f5f",
             "gridcolor": "white",
             "linecolor": "white",
             "minorgridcolor": "white",
             "startlinecolor": "#2a3f5f"
            },
            "baxis": {
             "endlinecolor": "#2a3f5f",
             "gridcolor": "white",
             "linecolor": "white",
             "minorgridcolor": "white",
             "startlinecolor": "#2a3f5f"
            },
            "type": "carpet"
           }
          ],
          "choropleth": [
           {
            "colorbar": {
             "outlinewidth": 0,
             "ticks": ""
            },
            "type": "choropleth"
           }
          ],
          "contour": [
           {
            "colorbar": {
             "outlinewidth": 0,
             "ticks": ""
            },
            "colorscale": [
             [
              0,
              "#0d0887"
             ],
             [
              0.1111111111111111,
              "#46039f"
             ],
             [
              0.2222222222222222,
              "#7201a8"
             ],
             [
              0.3333333333333333,
              "#9c179e"
             ],
             [
              0.4444444444444444,
              "#bd3786"
             ],
             [
              0.5555555555555556,
              "#d8576b"
             ],
             [
              0.6666666666666666,
              "#ed7953"
             ],
             [
              0.7777777777777778,
              "#fb9f3a"
             ],
             [
              0.8888888888888888,
              "#fdca26"
             ],
             [
              1,
              "#f0f921"
             ]
            ],
            "type": "contour"
           }
          ],
          "contourcarpet": [
           {
            "colorbar": {
             "outlinewidth": 0,
             "ticks": ""
            },
            "type": "contourcarpet"
           }
          ],
          "heatmap": [
           {
            "colorbar": {
             "outlinewidth": 0,
             "ticks": ""
            },
            "colorscale": [
             [
              0,
              "#0d0887"
             ],
             [
              0.1111111111111111,
              "#46039f"
             ],
             [
              0.2222222222222222,
              "#7201a8"
             ],
             [
              0.3333333333333333,
              "#9c179e"
             ],
             [
              0.4444444444444444,
              "#bd3786"
             ],
             [
              0.5555555555555556,
              "#d8576b"
             ],
             [
              0.6666666666666666,
              "#ed7953"
             ],
             [
              0.7777777777777778,
              "#fb9f3a"
             ],
             [
              0.8888888888888888,
              "#fdca26"
             ],
             [
              1,
              "#f0f921"
             ]
            ],
            "type": "heatmap"
           }
          ],
          "heatmapgl": [
           {
            "colorbar": {
             "outlinewidth": 0,
             "ticks": ""
            },
            "colorscale": [
             [
              0,
              "#0d0887"
             ],
             [
              0.1111111111111111,
              "#46039f"
             ],
             [
              0.2222222222222222,
              "#7201a8"
             ],
             [
              0.3333333333333333,
              "#9c179e"
             ],
             [
              0.4444444444444444,
              "#bd3786"
             ],
             [
              0.5555555555555556,
              "#d8576b"
             ],
             [
              0.6666666666666666,
              "#ed7953"
             ],
             [
              0.7777777777777778,
              "#fb9f3a"
             ],
             [
              0.8888888888888888,
              "#fdca26"
             ],
             [
              1,
              "#f0f921"
             ]
            ],
            "type": "heatmapgl"
           }
          ],
          "histogram": [
           {
            "marker": {
             "colorbar": {
              "outlinewidth": 0,
              "ticks": ""
             }
            },
            "type": "histogram"
           }
          ],
          "histogram2d": [
           {
            "colorbar": {
             "outlinewidth": 0,
             "ticks": ""
            },
            "colorscale": [
             [
              0,
              "#0d0887"
             ],
             [
              0.1111111111111111,
              "#46039f"
             ],
             [
              0.2222222222222222,
              "#7201a8"
             ],
             [
              0.3333333333333333,
              "#9c179e"
             ],
             [
              0.4444444444444444,
              "#bd3786"
             ],
             [
              0.5555555555555556,
              "#d8576b"
             ],
             [
              0.6666666666666666,
              "#ed7953"
             ],
             [
              0.7777777777777778,
              "#fb9f3a"
             ],
             [
              0.8888888888888888,
              "#fdca26"
             ],
             [
              1,
              "#f0f921"
             ]
            ],
            "type": "histogram2d"
           }
          ],
          "histogram2dcontour": [
           {
            "colorbar": {
             "outlinewidth": 0,
             "ticks": ""
            },
            "colorscale": [
             [
              0,
              "#0d0887"
             ],
             [
              0.1111111111111111,
              "#46039f"
             ],
             [
              0.2222222222222222,
              "#7201a8"
             ],
             [
              0.3333333333333333,
              "#9c179e"
             ],
             [
              0.4444444444444444,
              "#bd3786"
             ],
             [
              0.5555555555555556,
              "#d8576b"
             ],
             [
              0.6666666666666666,
              "#ed7953"
             ],
             [
              0.7777777777777778,
              "#fb9f3a"
             ],
             [
              0.8888888888888888,
              "#fdca26"
             ],
             [
              1,
              "#f0f921"
             ]
            ],
            "type": "histogram2dcontour"
           }
          ],
          "mesh3d": [
           {
            "colorbar": {
             "outlinewidth": 0,
             "ticks": ""
            },
            "type": "mesh3d"
           }
          ],
          "parcoords": [
           {
            "line": {
             "colorbar": {
              "outlinewidth": 0,
              "ticks": ""
             }
            },
            "type": "parcoords"
           }
          ],
          "pie": [
           {
            "automargin": true,
            "type": "pie"
           }
          ],
          "scatter": [
           {
            "marker": {
             "colorbar": {
              "outlinewidth": 0,
              "ticks": ""
             }
            },
            "type": "scatter"
           }
          ],
          "scatter3d": [
           {
            "line": {
             "colorbar": {
              "outlinewidth": 0,
              "ticks": ""
             }
            },
            "marker": {
             "colorbar": {
              "outlinewidth": 0,
              "ticks": ""
             }
            },
            "type": "scatter3d"
           }
          ],
          "scattercarpet": [
           {
            "marker": {
             "colorbar": {
              "outlinewidth": 0,
              "ticks": ""
             }
            },
            "type": "scattercarpet"
           }
          ],
          "scattergeo": [
           {
            "marker": {
             "colorbar": {
              "outlinewidth": 0,
              "ticks": ""
             }
            },
            "type": "scattergeo"
           }
          ],
          "scattergl": [
           {
            "marker": {
             "colorbar": {
              "outlinewidth": 0,
              "ticks": ""
             }
            },
            "type": "scattergl"
           }
          ],
          "scattermapbox": [
           {
            "marker": {
             "colorbar": {
              "outlinewidth": 0,
              "ticks": ""
             }
            },
            "type": "scattermapbox"
           }
          ],
          "scatterpolar": [
           {
            "marker": {
             "colorbar": {
              "outlinewidth": 0,
              "ticks": ""
             }
            },
            "type": "scatterpolar"
           }
          ],
          "scatterpolargl": [
           {
            "marker": {
             "colorbar": {
              "outlinewidth": 0,
              "ticks": ""
             }
            },
            "type": "scatterpolargl"
           }
          ],
          "scatterternary": [
           {
            "marker": {
             "colorbar": {
              "outlinewidth": 0,
              "ticks": ""
             }
            },
            "type": "scatterternary"
           }
          ],
          "surface": [
           {
            "colorbar": {
             "outlinewidth": 0,
             "ticks": ""
            },
            "colorscale": [
             [
              0,
              "#0d0887"
             ],
             [
              0.1111111111111111,
              "#46039f"
             ],
             [
              0.2222222222222222,
              "#7201a8"
             ],
             [
              0.3333333333333333,
              "#9c179e"
             ],
             [
              0.4444444444444444,
              "#bd3786"
             ],
             [
              0.5555555555555556,
              "#d8576b"
             ],
             [
              0.6666666666666666,
              "#ed7953"
             ],
             [
              0.7777777777777778,
              "#fb9f3a"
             ],
             [
              0.8888888888888888,
              "#fdca26"
             ],
             [
              1,
              "#f0f921"
             ]
            ],
            "type": "surface"
           }
          ],
          "table": [
           {
            "cells": {
             "fill": {
              "color": "#EBF0F8"
             },
             "line": {
              "color": "white"
             }
            },
            "header": {
             "fill": {
              "color": "#C8D4E3"
             },
             "line": {
              "color": "white"
             }
            },
            "type": "table"
           }
          ]
         },
         "layout": {
          "annotationdefaults": {
           "arrowcolor": "#2a3f5f",
           "arrowhead": 0,
           "arrowwidth": 1
          },
          "coloraxis": {
           "colorbar": {
            "outlinewidth": 0,
            "ticks": ""
           }
          },
          "colorscale": {
           "diverging": [
            [
             0,
             "#8e0152"
            ],
            [
             0.1,
             "#c51b7d"
            ],
            [
             0.2,
             "#de77ae"
            ],
            [
             0.3,
             "#f1b6da"
            ],
            [
             0.4,
             "#fde0ef"
            ],
            [
             0.5,
             "#f7f7f7"
            ],
            [
             0.6,
             "#e6f5d0"
            ],
            [
             0.7,
             "#b8e186"
            ],
            [
             0.8,
             "#7fbc41"
            ],
            [
             0.9,
             "#4d9221"
            ],
            [
             1,
             "#276419"
            ]
           ],
           "sequential": [
            [
             0,
             "#0d0887"
            ],
            [
             0.1111111111111111,
             "#46039f"
            ],
            [
             0.2222222222222222,
             "#7201a8"
            ],
            [
             0.3333333333333333,
             "#9c179e"
            ],
            [
             0.4444444444444444,
             "#bd3786"
            ],
            [
             0.5555555555555556,
             "#d8576b"
            ],
            [
             0.6666666666666666,
             "#ed7953"
            ],
            [
             0.7777777777777778,
             "#fb9f3a"
            ],
            [
             0.8888888888888888,
             "#fdca26"
            ],
            [
             1,
             "#f0f921"
            ]
           ],
           "sequentialminus": [
            [
             0,
             "#0d0887"
            ],
            [
             0.1111111111111111,
             "#46039f"
            ],
            [
             0.2222222222222222,
             "#7201a8"
            ],
            [
             0.3333333333333333,
             "#9c179e"
            ],
            [
             0.4444444444444444,
             "#bd3786"
            ],
            [
             0.5555555555555556,
             "#d8576b"
            ],
            [
             0.6666666666666666,
             "#ed7953"
            ],
            [
             0.7777777777777778,
             "#fb9f3a"
            ],
            [
             0.8888888888888888,
             "#fdca26"
            ],
            [
             1,
             "#f0f921"
            ]
           ]
          },
          "colorway": [
           "#636efa",
           "#EF553B",
           "#00cc96",
           "#ab63fa",
           "#FFA15A",
           "#19d3f3",
           "#FF6692",
           "#B6E880",
           "#FF97FF",
           "#FECB52"
          ],
          "font": {
           "color": "#2a3f5f"
          },
          "geo": {
           "bgcolor": "white",
           "lakecolor": "white",
           "landcolor": "#E5ECF6",
           "showlakes": true,
           "showland": true,
           "subunitcolor": "white"
          },
          "hoverlabel": {
           "align": "left"
          },
          "hovermode": "closest",
          "mapbox": {
           "style": "light"
          },
          "paper_bgcolor": "white",
          "plot_bgcolor": "#E5ECF6",
          "polar": {
           "angularaxis": {
            "gridcolor": "white",
            "linecolor": "white",
            "ticks": ""
           },
           "bgcolor": "#E5ECF6",
           "radialaxis": {
            "gridcolor": "white",
            "linecolor": "white",
            "ticks": ""
           }
          },
          "scene": {
           "xaxis": {
            "backgroundcolor": "#E5ECF6",
            "gridcolor": "white",
            "gridwidth": 2,
            "linecolor": "white",
            "showbackground": true,
            "ticks": "",
            "zerolinecolor": "white"
           },
           "yaxis": {
            "backgroundcolor": "#E5ECF6",
            "gridcolor": "white",
            "gridwidth": 2,
            "linecolor": "white",
            "showbackground": true,
            "ticks": "",
            "zerolinecolor": "white"
           },
           "zaxis": {
            "backgroundcolor": "#E5ECF6",
            "gridcolor": "white",
            "gridwidth": 2,
            "linecolor": "white",
            "showbackground": true,
            "ticks": "",
            "zerolinecolor": "white"
           }
          },
          "shapedefaults": {
           "line": {
            "color": "#2a3f5f"
           }
          },
          "ternary": {
           "aaxis": {
            "gridcolor": "white",
            "linecolor": "white",
            "ticks": ""
           },
           "baxis": {
            "gridcolor": "white",
            "linecolor": "white",
            "ticks": ""
           },
           "bgcolor": "#E5ECF6",
           "caxis": {
            "gridcolor": "white",
            "linecolor": "white",
            "ticks": ""
           }
          },
          "title": {
           "x": 0.05
          },
          "xaxis": {
           "automargin": true,
           "gridcolor": "white",
           "linecolor": "white",
           "ticks": "",
           "title": {
            "standoff": 15
           },
           "zerolinecolor": "white",
           "zerolinewidth": 2
          },
          "yaxis": {
           "automargin": true,
           "gridcolor": "white",
           "linecolor": "white",
           "ticks": "",
           "title": {
            "standoff": 15
           },
           "zerolinecolor": "white",
           "zerolinewidth": 2
          }
         }
        },
        "title": {
         "font": {
          "color": "#4D5663"
         }
        },
        "xaxis": {
         "gridcolor": "#E1E5ED",
         "showgrid": true,
         "tickfont": {
          "color": "#4D5663"
         },
         "title": {
          "font": {
           "color": "#4D5663"
          },
          "text": ""
         },
         "zerolinecolor": "#E1E5ED"
        },
        "yaxis": {
         "gridcolor": "#E1E5ED",
         "showgrid": true,
         "tickfont": {
          "color": "#4D5663"
         },
         "title": {
          "font": {
           "color": "#4D5663"
          },
          "text": ""
         },
         "zerolinecolor": "#E1E5ED"
        }
       }
      },
      "text/html": [
       "<div>\n",
       "        \n",
       "        \n",
       "            <div id=\"5a6bd3f5-4836-4793-8974-3d6316d65662\" class=\"plotly-graph-div\" style=\"height:525px; width:100%;\"></div>\n",
       "            <script type=\"text/javascript\">\n",
       "                require([\"plotly\"], function(Plotly) {\n",
       "                    window.PLOTLYENV=window.PLOTLYENV || {};\n",
       "                    window.PLOTLYENV.BASE_URL='https://plot.ly';\n",
       "                    \n",
       "                if (document.getElementById(\"5a6bd3f5-4836-4793-8974-3d6316d65662\")) {\n",
       "                    Plotly.newPlot(\n",
       "                        '5a6bd3f5-4836-4793-8974-3d6316d65662',\n",
       "                        [{\"marker\": {\"color\": \"rgba(255, 153, 51, 0.6)\", \"line\": {\"color\": \"rgba(255, 153, 51, 1.0)\", \"width\": 1}}, \"name\": \"Values\", \"orientation\": \"v\", \"text\": \"\", \"type\": \"bar\", \"x\": [\"A\", \"B\", \"C\"], \"y\": [32, 43, 50]}],\n",
       "                        {\"legend\": {\"bgcolor\": \"#F5F6F9\", \"font\": {\"color\": \"#4D5663\"}}, \"paper_bgcolor\": \"#F5F6F9\", \"plot_bgcolor\": \"#F5F6F9\", \"template\": {\"data\": {\"bar\": [{\"error_x\": {\"color\": \"#2a3f5f\"}, \"error_y\": {\"color\": \"#2a3f5f\"}, \"marker\": {\"line\": {\"color\": \"#E5ECF6\", \"width\": 0.5}}, \"type\": \"bar\"}], \"barpolar\": [{\"marker\": {\"line\": {\"color\": \"#E5ECF6\", \"width\": 0.5}}, \"type\": \"barpolar\"}], \"carpet\": [{\"aaxis\": {\"endlinecolor\": \"#2a3f5f\", \"gridcolor\": \"white\", \"linecolor\": \"white\", \"minorgridcolor\": \"white\", \"startlinecolor\": \"#2a3f5f\"}, \"baxis\": {\"endlinecolor\": \"#2a3f5f\", \"gridcolor\": \"white\", \"linecolor\": \"white\", \"minorgridcolor\": \"white\", \"startlinecolor\": \"#2a3f5f\"}, \"type\": \"carpet\"}], \"choropleth\": [{\"colorbar\": {\"outlinewidth\": 0, \"ticks\": \"\"}, \"type\": \"choropleth\"}], \"contour\": [{\"colorbar\": {\"outlinewidth\": 0, \"ticks\": \"\"}, \"colorscale\": [[0.0, \"#0d0887\"], [0.1111111111111111, \"#46039f\"], [0.2222222222222222, \"#7201a8\"], [0.3333333333333333, \"#9c179e\"], [0.4444444444444444, \"#bd3786\"], [0.5555555555555556, \"#d8576b\"], [0.6666666666666666, \"#ed7953\"], [0.7777777777777778, \"#fb9f3a\"], [0.8888888888888888, \"#fdca26\"], [1.0, \"#f0f921\"]], \"type\": \"contour\"}], \"contourcarpet\": [{\"colorbar\": {\"outlinewidth\": 0, \"ticks\": \"\"}, \"type\": \"contourcarpet\"}], \"heatmap\": [{\"colorbar\": {\"outlinewidth\": 0, \"ticks\": \"\"}, \"colorscale\": [[0.0, \"#0d0887\"], [0.1111111111111111, \"#46039f\"], [0.2222222222222222, \"#7201a8\"], [0.3333333333333333, \"#9c179e\"], [0.4444444444444444, \"#bd3786\"], [0.5555555555555556, \"#d8576b\"], [0.6666666666666666, \"#ed7953\"], [0.7777777777777778, \"#fb9f3a\"], [0.8888888888888888, \"#fdca26\"], [1.0, \"#f0f921\"]], \"type\": \"heatmap\"}], \"heatmapgl\": [{\"colorbar\": {\"outlinewidth\": 0, \"ticks\": \"\"}, \"colorscale\": [[0.0, \"#0d0887\"], [0.1111111111111111, \"#46039f\"], [0.2222222222222222, \"#7201a8\"], [0.3333333333333333, \"#9c179e\"], [0.4444444444444444, \"#bd3786\"], [0.5555555555555556, \"#d8576b\"], [0.6666666666666666, \"#ed7953\"], [0.7777777777777778, \"#fb9f3a\"], [0.8888888888888888, \"#fdca26\"], [1.0, \"#f0f921\"]], \"type\": \"heatmapgl\"}], \"histogram\": [{\"marker\": {\"colorbar\": {\"outlinewidth\": 0, \"ticks\": \"\"}}, \"type\": \"histogram\"}], \"histogram2d\": [{\"colorbar\": {\"outlinewidth\": 0, \"ticks\": \"\"}, \"colorscale\": [[0.0, \"#0d0887\"], [0.1111111111111111, \"#46039f\"], [0.2222222222222222, \"#7201a8\"], [0.3333333333333333, \"#9c179e\"], [0.4444444444444444, \"#bd3786\"], [0.5555555555555556, \"#d8576b\"], [0.6666666666666666, \"#ed7953\"], [0.7777777777777778, \"#fb9f3a\"], [0.8888888888888888, \"#fdca26\"], [1.0, \"#f0f921\"]], \"type\": \"histogram2d\"}], \"histogram2dcontour\": [{\"colorbar\": {\"outlinewidth\": 0, \"ticks\": \"\"}, \"colorscale\": [[0.0, \"#0d0887\"], [0.1111111111111111, \"#46039f\"], [0.2222222222222222, \"#7201a8\"], [0.3333333333333333, \"#9c179e\"], [0.4444444444444444, \"#bd3786\"], [0.5555555555555556, \"#d8576b\"], [0.6666666666666666, \"#ed7953\"], [0.7777777777777778, \"#fb9f3a\"], [0.8888888888888888, \"#fdca26\"], [1.0, \"#f0f921\"]], \"type\": \"histogram2dcontour\"}], \"mesh3d\": [{\"colorbar\": {\"outlinewidth\": 0, \"ticks\": \"\"}, \"type\": \"mesh3d\"}], \"parcoords\": [{\"line\": {\"colorbar\": {\"outlinewidth\": 0, \"ticks\": \"\"}}, \"type\": \"parcoords\"}], \"pie\": [{\"automargin\": true, \"type\": \"pie\"}], \"scatter\": [{\"marker\": {\"colorbar\": {\"outlinewidth\": 0, \"ticks\": \"\"}}, \"type\": \"scatter\"}], \"scatter3d\": [{\"line\": {\"colorbar\": {\"outlinewidth\": 0, \"ticks\": \"\"}}, \"marker\": {\"colorbar\": {\"outlinewidth\": 0, \"ticks\": \"\"}}, \"type\": \"scatter3d\"}], \"scattercarpet\": [{\"marker\": {\"colorbar\": {\"outlinewidth\": 0, \"ticks\": \"\"}}, \"type\": \"scattercarpet\"}], \"scattergeo\": [{\"marker\": {\"colorbar\": {\"outlinewidth\": 0, \"ticks\": \"\"}}, \"type\": \"scattergeo\"}], \"scattergl\": [{\"marker\": {\"colorbar\": {\"outlinewidth\": 0, \"ticks\": \"\"}}, \"type\": \"scattergl\"}], \"scattermapbox\": [{\"marker\": {\"colorbar\": {\"outlinewidth\": 0, \"ticks\": \"\"}}, \"type\": \"scattermapbox\"}], \"scatterpolar\": [{\"marker\": {\"colorbar\": {\"outlinewidth\": 0, \"ticks\": \"\"}}, \"type\": \"scatterpolar\"}], \"scatterpolargl\": [{\"marker\": {\"colorbar\": {\"outlinewidth\": 0, \"ticks\": \"\"}}, \"type\": \"scatterpolargl\"}], \"scatterternary\": [{\"marker\": {\"colorbar\": {\"outlinewidth\": 0, \"ticks\": \"\"}}, \"type\": \"scatterternary\"}], \"surface\": [{\"colorbar\": {\"outlinewidth\": 0, \"ticks\": \"\"}, \"colorscale\": [[0.0, \"#0d0887\"], [0.1111111111111111, \"#46039f\"], [0.2222222222222222, \"#7201a8\"], [0.3333333333333333, \"#9c179e\"], [0.4444444444444444, \"#bd3786\"], [0.5555555555555556, \"#d8576b\"], [0.6666666666666666, \"#ed7953\"], [0.7777777777777778, \"#fb9f3a\"], [0.8888888888888888, \"#fdca26\"], [1.0, \"#f0f921\"]], \"type\": \"surface\"}], \"table\": [{\"cells\": {\"fill\": {\"color\": \"#EBF0F8\"}, \"line\": {\"color\": \"white\"}}, \"header\": {\"fill\": {\"color\": \"#C8D4E3\"}, \"line\": {\"color\": \"white\"}}, \"type\": \"table\"}]}, \"layout\": {\"annotationdefaults\": {\"arrowcolor\": \"#2a3f5f\", \"arrowhead\": 0, \"arrowwidth\": 1}, \"coloraxis\": {\"colorbar\": {\"outlinewidth\": 0, \"ticks\": \"\"}}, \"colorscale\": {\"diverging\": [[0, \"#8e0152\"], [0.1, \"#c51b7d\"], [0.2, \"#de77ae\"], [0.3, \"#f1b6da\"], [0.4, \"#fde0ef\"], [0.5, \"#f7f7f7\"], [0.6, \"#e6f5d0\"], [0.7, \"#b8e186\"], [0.8, \"#7fbc41\"], [0.9, \"#4d9221\"], [1, \"#276419\"]], \"sequential\": [[0.0, \"#0d0887\"], [0.1111111111111111, \"#46039f\"], [0.2222222222222222, \"#7201a8\"], [0.3333333333333333, \"#9c179e\"], [0.4444444444444444, \"#bd3786\"], [0.5555555555555556, \"#d8576b\"], [0.6666666666666666, \"#ed7953\"], [0.7777777777777778, \"#fb9f3a\"], [0.8888888888888888, \"#fdca26\"], [1.0, \"#f0f921\"]], \"sequentialminus\": [[0.0, \"#0d0887\"], [0.1111111111111111, \"#46039f\"], [0.2222222222222222, \"#7201a8\"], [0.3333333333333333, \"#9c179e\"], [0.4444444444444444, \"#bd3786\"], [0.5555555555555556, \"#d8576b\"], [0.6666666666666666, \"#ed7953\"], [0.7777777777777778, \"#fb9f3a\"], [0.8888888888888888, \"#fdca26\"], [1.0, \"#f0f921\"]]}, \"colorway\": [\"#636efa\", \"#EF553B\", \"#00cc96\", \"#ab63fa\", \"#FFA15A\", \"#19d3f3\", \"#FF6692\", \"#B6E880\", \"#FF97FF\", \"#FECB52\"], \"font\": {\"color\": \"#2a3f5f\"}, \"geo\": {\"bgcolor\": \"white\", \"lakecolor\": \"white\", \"landcolor\": \"#E5ECF6\", \"showlakes\": true, \"showland\": true, \"subunitcolor\": \"white\"}, \"hoverlabel\": {\"align\": \"left\"}, \"hovermode\": \"closest\", \"mapbox\": {\"style\": \"light\"}, \"paper_bgcolor\": \"white\", \"plot_bgcolor\": \"#E5ECF6\", \"polar\": {\"angularaxis\": {\"gridcolor\": \"white\", \"linecolor\": \"white\", \"ticks\": \"\"}, \"bgcolor\": \"#E5ECF6\", \"radialaxis\": {\"gridcolor\": \"white\", \"linecolor\": \"white\", \"ticks\": \"\"}}, \"scene\": {\"xaxis\": {\"backgroundcolor\": \"#E5ECF6\", \"gridcolor\": \"white\", \"gridwidth\": 2, \"linecolor\": \"white\", \"showbackground\": true, \"ticks\": \"\", \"zerolinecolor\": \"white\"}, \"yaxis\": {\"backgroundcolor\": \"#E5ECF6\", \"gridcolor\": \"white\", \"gridwidth\": 2, \"linecolor\": \"white\", \"showbackground\": true, \"ticks\": \"\", \"zerolinecolor\": \"white\"}, \"zaxis\": {\"backgroundcolor\": \"#E5ECF6\", \"gridcolor\": \"white\", \"gridwidth\": 2, \"linecolor\": \"white\", \"showbackground\": true, \"ticks\": \"\", \"zerolinecolor\": \"white\"}}, \"shapedefaults\": {\"line\": {\"color\": \"#2a3f5f\"}}, \"ternary\": {\"aaxis\": {\"gridcolor\": \"white\", \"linecolor\": \"white\", \"ticks\": \"\"}, \"baxis\": {\"gridcolor\": \"white\", \"linecolor\": \"white\", \"ticks\": \"\"}, \"bgcolor\": \"#E5ECF6\", \"caxis\": {\"gridcolor\": \"white\", \"linecolor\": \"white\", \"ticks\": \"\"}}, \"title\": {\"x\": 0.05}, \"xaxis\": {\"automargin\": true, \"gridcolor\": \"white\", \"linecolor\": \"white\", \"ticks\": \"\", \"title\": {\"standoff\": 15}, \"zerolinecolor\": \"white\", \"zerolinewidth\": 2}, \"yaxis\": {\"automargin\": true, \"gridcolor\": \"white\", \"linecolor\": \"white\", \"ticks\": \"\", \"title\": {\"standoff\": 15}, \"zerolinecolor\": \"white\", \"zerolinewidth\": 2}}}, \"title\": {\"font\": {\"color\": \"#4D5663\"}}, \"xaxis\": {\"gridcolor\": \"#E1E5ED\", \"showgrid\": true, \"tickfont\": {\"color\": \"#4D5663\"}, \"title\": {\"font\": {\"color\": \"#4D5663\"}, \"text\": \"\"}, \"zerolinecolor\": \"#E1E5ED\"}, \"yaxis\": {\"gridcolor\": \"#E1E5ED\", \"showgrid\": true, \"tickfont\": {\"color\": \"#4D5663\"}, \"title\": {\"font\": {\"color\": \"#4D5663\"}, \"text\": \"\"}, \"zerolinecolor\": \"#E1E5ED\"}},\n",
       "                        {\"showLink\": true, \"linkText\": \"Export to plot.ly\", \"plotlyServerURL\": \"https://plot.ly\", \"responsive\": true}\n",
       "                    ).then(function(){\n",
       "                            \n",
       "var gd = document.getElementById('5a6bd3f5-4836-4793-8974-3d6316d65662');\n",
       "var x = new MutationObserver(function (mutations, observer) {{\n",
       "        var display = window.getComputedStyle(gd).display;\n",
       "        if (!display || display === 'none') {{\n",
       "            console.log([gd, 'removed!']);\n",
       "            Plotly.purge(gd);\n",
       "            observer.disconnect();\n",
       "        }}\n",
       "}});\n",
       "\n",
       "// Listen for the removal of the full notebook cells\n",
       "var notebookContainer = gd.closest('#notebook-container');\n",
       "if (notebookContainer) {{\n",
       "    x.observe(notebookContainer, {childList: true});\n",
       "}}\n",
       "\n",
       "// Listen for the clearing of the current output cell\n",
       "var outputEl = gd.closest('.output');\n",
       "if (outputEl) {{\n",
       "    x.observe(outputEl, {childList: true});\n",
       "}}\n",
       "\n",
       "                        })\n",
       "                };\n",
       "                });\n",
       "            </script>\n",
       "        </div>"
      ]
     },
     "metadata": {},
     "output_type": "display_data"
    }
   ],
   "source": [
    "df2.iplot(kind='bar',x='Category',y='Values')"
   ]
  },
  {
   "cell_type": "code",
   "execution_count": 12,
   "metadata": {},
   "outputs": [
    {
     "data": {
      "application/vnd.plotly.v1+json": {
       "config": {
        "linkText": "Export to plot.ly",
        "plotlyServerURL": "https://plot.ly",
        "showLink": true
       },
       "data": [
        {
         "marker": {
          "color": "rgba(255, 153, 51, 0.6)",
          "line": {
           "color": "rgba(255, 153, 51, 1.0)",
           "width": 1
          }
         },
         "name": "None",
         "orientation": "v",
         "text": "",
         "type": "bar",
         "x": [
          "A",
          "B",
          "C",
          "D"
         ],
         "y": [
          100,
          100,
          100,
          100
         ]
        }
       ],
       "layout": {
        "legend": {
         "bgcolor": "#F5F6F9",
         "font": {
          "color": "#4D5663"
         }
        },
        "paper_bgcolor": "#F5F6F9",
        "plot_bgcolor": "#F5F6F9",
        "template": {
         "data": {
          "bar": [
           {
            "error_x": {
             "color": "#2a3f5f"
            },
            "error_y": {
             "color": "#2a3f5f"
            },
            "marker": {
             "line": {
              "color": "#E5ECF6",
              "width": 0.5
             }
            },
            "type": "bar"
           }
          ],
          "barpolar": [
           {
            "marker": {
             "line": {
              "color": "#E5ECF6",
              "width": 0.5
             }
            },
            "type": "barpolar"
           }
          ],
          "carpet": [
           {
            "aaxis": {
             "endlinecolor": "#2a3f5f",
             "gridcolor": "white",
             "linecolor": "white",
             "minorgridcolor": "white",
             "startlinecolor": "#2a3f5f"
            },
            "baxis": {
             "endlinecolor": "#2a3f5f",
             "gridcolor": "white",
             "linecolor": "white",
             "minorgridcolor": "white",
             "startlinecolor": "#2a3f5f"
            },
            "type": "carpet"
           }
          ],
          "choropleth": [
           {
            "colorbar": {
             "outlinewidth": 0,
             "ticks": ""
            },
            "type": "choropleth"
           }
          ],
          "contour": [
           {
            "colorbar": {
             "outlinewidth": 0,
             "ticks": ""
            },
            "colorscale": [
             [
              0,
              "#0d0887"
             ],
             [
              0.1111111111111111,
              "#46039f"
             ],
             [
              0.2222222222222222,
              "#7201a8"
             ],
             [
              0.3333333333333333,
              "#9c179e"
             ],
             [
              0.4444444444444444,
              "#bd3786"
             ],
             [
              0.5555555555555556,
              "#d8576b"
             ],
             [
              0.6666666666666666,
              "#ed7953"
             ],
             [
              0.7777777777777778,
              "#fb9f3a"
             ],
             [
              0.8888888888888888,
              "#fdca26"
             ],
             [
              1,
              "#f0f921"
             ]
            ],
            "type": "contour"
           }
          ],
          "contourcarpet": [
           {
            "colorbar": {
             "outlinewidth": 0,
             "ticks": ""
            },
            "type": "contourcarpet"
           }
          ],
          "heatmap": [
           {
            "colorbar": {
             "outlinewidth": 0,
             "ticks": ""
            },
            "colorscale": [
             [
              0,
              "#0d0887"
             ],
             [
              0.1111111111111111,
              "#46039f"
             ],
             [
              0.2222222222222222,
              "#7201a8"
             ],
             [
              0.3333333333333333,
              "#9c179e"
             ],
             [
              0.4444444444444444,
              "#bd3786"
             ],
             [
              0.5555555555555556,
              "#d8576b"
             ],
             [
              0.6666666666666666,
              "#ed7953"
             ],
             [
              0.7777777777777778,
              "#fb9f3a"
             ],
             [
              0.8888888888888888,
              "#fdca26"
             ],
             [
              1,
              "#f0f921"
             ]
            ],
            "type": "heatmap"
           }
          ],
          "heatmapgl": [
           {
            "colorbar": {
             "outlinewidth": 0,
             "ticks": ""
            },
            "colorscale": [
             [
              0,
              "#0d0887"
             ],
             [
              0.1111111111111111,
              "#46039f"
             ],
             [
              0.2222222222222222,
              "#7201a8"
             ],
             [
              0.3333333333333333,
              "#9c179e"
             ],
             [
              0.4444444444444444,
              "#bd3786"
             ],
             [
              0.5555555555555556,
              "#d8576b"
             ],
             [
              0.6666666666666666,
              "#ed7953"
             ],
             [
              0.7777777777777778,
              "#fb9f3a"
             ],
             [
              0.8888888888888888,
              "#fdca26"
             ],
             [
              1,
              "#f0f921"
             ]
            ],
            "type": "heatmapgl"
           }
          ],
          "histogram": [
           {
            "marker": {
             "colorbar": {
              "outlinewidth": 0,
              "ticks": ""
             }
            },
            "type": "histogram"
           }
          ],
          "histogram2d": [
           {
            "colorbar": {
             "outlinewidth": 0,
             "ticks": ""
            },
            "colorscale": [
             [
              0,
              "#0d0887"
             ],
             [
              0.1111111111111111,
              "#46039f"
             ],
             [
              0.2222222222222222,
              "#7201a8"
             ],
             [
              0.3333333333333333,
              "#9c179e"
             ],
             [
              0.4444444444444444,
              "#bd3786"
             ],
             [
              0.5555555555555556,
              "#d8576b"
             ],
             [
              0.6666666666666666,
              "#ed7953"
             ],
             [
              0.7777777777777778,
              "#fb9f3a"
             ],
             [
              0.8888888888888888,
              "#fdca26"
             ],
             [
              1,
              "#f0f921"
             ]
            ],
            "type": "histogram2d"
           }
          ],
          "histogram2dcontour": [
           {
            "colorbar": {
             "outlinewidth": 0,
             "ticks": ""
            },
            "colorscale": [
             [
              0,
              "#0d0887"
             ],
             [
              0.1111111111111111,
              "#46039f"
             ],
             [
              0.2222222222222222,
              "#7201a8"
             ],
             [
              0.3333333333333333,
              "#9c179e"
             ],
             [
              0.4444444444444444,
              "#bd3786"
             ],
             [
              0.5555555555555556,
              "#d8576b"
             ],
             [
              0.6666666666666666,
              "#ed7953"
             ],
             [
              0.7777777777777778,
              "#fb9f3a"
             ],
             [
              0.8888888888888888,
              "#fdca26"
             ],
             [
              1,
              "#f0f921"
             ]
            ],
            "type": "histogram2dcontour"
           }
          ],
          "mesh3d": [
           {
            "colorbar": {
             "outlinewidth": 0,
             "ticks": ""
            },
            "type": "mesh3d"
           }
          ],
          "parcoords": [
           {
            "line": {
             "colorbar": {
              "outlinewidth": 0,
              "ticks": ""
             }
            },
            "type": "parcoords"
           }
          ],
          "pie": [
           {
            "automargin": true,
            "type": "pie"
           }
          ],
          "scatter": [
           {
            "marker": {
             "colorbar": {
              "outlinewidth": 0,
              "ticks": ""
             }
            },
            "type": "scatter"
           }
          ],
          "scatter3d": [
           {
            "line": {
             "colorbar": {
              "outlinewidth": 0,
              "ticks": ""
             }
            },
            "marker": {
             "colorbar": {
              "outlinewidth": 0,
              "ticks": ""
             }
            },
            "type": "scatter3d"
           }
          ],
          "scattercarpet": [
           {
            "marker": {
             "colorbar": {
              "outlinewidth": 0,
              "ticks": ""
             }
            },
            "type": "scattercarpet"
           }
          ],
          "scattergeo": [
           {
            "marker": {
             "colorbar": {
              "outlinewidth": 0,
              "ticks": ""
             }
            },
            "type": "scattergeo"
           }
          ],
          "scattergl": [
           {
            "marker": {
             "colorbar": {
              "outlinewidth": 0,
              "ticks": ""
             }
            },
            "type": "scattergl"
           }
          ],
          "scattermapbox": [
           {
            "marker": {
             "colorbar": {
              "outlinewidth": 0,
              "ticks": ""
             }
            },
            "type": "scattermapbox"
           }
          ],
          "scatterpolar": [
           {
            "marker": {
             "colorbar": {
              "outlinewidth": 0,
              "ticks": ""
             }
            },
            "type": "scatterpolar"
           }
          ],
          "scatterpolargl": [
           {
            "marker": {
             "colorbar": {
              "outlinewidth": 0,
              "ticks": ""
             }
            },
            "type": "scatterpolargl"
           }
          ],
          "scatterternary": [
           {
            "marker": {
             "colorbar": {
              "outlinewidth": 0,
              "ticks": ""
             }
            },
            "type": "scatterternary"
           }
          ],
          "surface": [
           {
            "colorbar": {
             "outlinewidth": 0,
             "ticks": ""
            },
            "colorscale": [
             [
              0,
              "#0d0887"
             ],
             [
              0.1111111111111111,
              "#46039f"
             ],
             [
              0.2222222222222222,
              "#7201a8"
             ],
             [
              0.3333333333333333,
              "#9c179e"
             ],
             [
              0.4444444444444444,
              "#bd3786"
             ],
             [
              0.5555555555555556,
              "#d8576b"
             ],
             [
              0.6666666666666666,
              "#ed7953"
             ],
             [
              0.7777777777777778,
              "#fb9f3a"
             ],
             [
              0.8888888888888888,
              "#fdca26"
             ],
             [
              1,
              "#f0f921"
             ]
            ],
            "type": "surface"
           }
          ],
          "table": [
           {
            "cells": {
             "fill": {
              "color": "#EBF0F8"
             },
             "line": {
              "color": "white"
             }
            },
            "header": {
             "fill": {
              "color": "#C8D4E3"
             },
             "line": {
              "color": "white"
             }
            },
            "type": "table"
           }
          ]
         },
         "layout": {
          "annotationdefaults": {
           "arrowcolor": "#2a3f5f",
           "arrowhead": 0,
           "arrowwidth": 1
          },
          "coloraxis": {
           "colorbar": {
            "outlinewidth": 0,
            "ticks": ""
           }
          },
          "colorscale": {
           "diverging": [
            [
             0,
             "#8e0152"
            ],
            [
             0.1,
             "#c51b7d"
            ],
            [
             0.2,
             "#de77ae"
            ],
            [
             0.3,
             "#f1b6da"
            ],
            [
             0.4,
             "#fde0ef"
            ],
            [
             0.5,
             "#f7f7f7"
            ],
            [
             0.6,
             "#e6f5d0"
            ],
            [
             0.7,
             "#b8e186"
            ],
            [
             0.8,
             "#7fbc41"
            ],
            [
             0.9,
             "#4d9221"
            ],
            [
             1,
             "#276419"
            ]
           ],
           "sequential": [
            [
             0,
             "#0d0887"
            ],
            [
             0.1111111111111111,
             "#46039f"
            ],
            [
             0.2222222222222222,
             "#7201a8"
            ],
            [
             0.3333333333333333,
             "#9c179e"
            ],
            [
             0.4444444444444444,
             "#bd3786"
            ],
            [
             0.5555555555555556,
             "#d8576b"
            ],
            [
             0.6666666666666666,
             "#ed7953"
            ],
            [
             0.7777777777777778,
             "#fb9f3a"
            ],
            [
             0.8888888888888888,
             "#fdca26"
            ],
            [
             1,
             "#f0f921"
            ]
           ],
           "sequentialminus": [
            [
             0,
             "#0d0887"
            ],
            [
             0.1111111111111111,
             "#46039f"
            ],
            [
             0.2222222222222222,
             "#7201a8"
            ],
            [
             0.3333333333333333,
             "#9c179e"
            ],
            [
             0.4444444444444444,
             "#bd3786"
            ],
            [
             0.5555555555555556,
             "#d8576b"
            ],
            [
             0.6666666666666666,
             "#ed7953"
            ],
            [
             0.7777777777777778,
             "#fb9f3a"
            ],
            [
             0.8888888888888888,
             "#fdca26"
            ],
            [
             1,
             "#f0f921"
            ]
           ]
          },
          "colorway": [
           "#636efa",
           "#EF553B",
           "#00cc96",
           "#ab63fa",
           "#FFA15A",
           "#19d3f3",
           "#FF6692",
           "#B6E880",
           "#FF97FF",
           "#FECB52"
          ],
          "font": {
           "color": "#2a3f5f"
          },
          "geo": {
           "bgcolor": "white",
           "lakecolor": "white",
           "landcolor": "#E5ECF6",
           "showlakes": true,
           "showland": true,
           "subunitcolor": "white"
          },
          "hoverlabel": {
           "align": "left"
          },
          "hovermode": "closest",
          "mapbox": {
           "style": "light"
          },
          "paper_bgcolor": "white",
          "plot_bgcolor": "#E5ECF6",
          "polar": {
           "angularaxis": {
            "gridcolor": "white",
            "linecolor": "white",
            "ticks": ""
           },
           "bgcolor": "#E5ECF6",
           "radialaxis": {
            "gridcolor": "white",
            "linecolor": "white",
            "ticks": ""
           }
          },
          "scene": {
           "xaxis": {
            "backgroundcolor": "#E5ECF6",
            "gridcolor": "white",
            "gridwidth": 2,
            "linecolor": "white",
            "showbackground": true,
            "ticks": "",
            "zerolinecolor": "white"
           },
           "yaxis": {
            "backgroundcolor": "#E5ECF6",
            "gridcolor": "white",
            "gridwidth": 2,
            "linecolor": "white",
            "showbackground": true,
            "ticks": "",
            "zerolinecolor": "white"
           },
           "zaxis": {
            "backgroundcolor": "#E5ECF6",
            "gridcolor": "white",
            "gridwidth": 2,
            "linecolor": "white",
            "showbackground": true,
            "ticks": "",
            "zerolinecolor": "white"
           }
          },
          "shapedefaults": {
           "line": {
            "color": "#2a3f5f"
           }
          },
          "ternary": {
           "aaxis": {
            "gridcolor": "white",
            "linecolor": "white",
            "ticks": ""
           },
           "baxis": {
            "gridcolor": "white",
            "linecolor": "white",
            "ticks": ""
           },
           "bgcolor": "#E5ECF6",
           "caxis": {
            "gridcolor": "white",
            "linecolor": "white",
            "ticks": ""
           }
          },
          "title": {
           "x": 0.05
          },
          "xaxis": {
           "automargin": true,
           "gridcolor": "white",
           "linecolor": "white",
           "ticks": "",
           "title": {
            "standoff": 15
           },
           "zerolinecolor": "white",
           "zerolinewidth": 2
          },
          "yaxis": {
           "automargin": true,
           "gridcolor": "white",
           "linecolor": "white",
           "ticks": "",
           "title": {
            "standoff": 15
           },
           "zerolinecolor": "white",
           "zerolinewidth": 2
          }
         }
        },
        "title": {
         "font": {
          "color": "#4D5663"
         }
        },
        "xaxis": {
         "gridcolor": "#E1E5ED",
         "showgrid": true,
         "tickfont": {
          "color": "#4D5663"
         },
         "title": {
          "font": {
           "color": "#4D5663"
          },
          "text": ""
         },
         "zerolinecolor": "#E1E5ED"
        },
        "yaxis": {
         "gridcolor": "#E1E5ED",
         "showgrid": true,
         "tickfont": {
          "color": "#4D5663"
         },
         "title": {
          "font": {
           "color": "#4D5663"
          },
          "text": ""
         },
         "zerolinecolor": "#E1E5ED"
        }
       }
      },
      "text/html": [
       "<div>\n",
       "        \n",
       "        \n",
       "            <div id=\"54ff8baf-58ac-49d3-a892-4b30263d86a5\" class=\"plotly-graph-div\" style=\"height:525px; width:100%;\"></div>\n",
       "            <script type=\"text/javascript\">\n",
       "                require([\"plotly\"], function(Plotly) {\n",
       "                    window.PLOTLYENV=window.PLOTLYENV || {};\n",
       "                    window.PLOTLYENV.BASE_URL='https://plot.ly';\n",
       "                    \n",
       "                if (document.getElementById(\"54ff8baf-58ac-49d3-a892-4b30263d86a5\")) {\n",
       "                    Plotly.newPlot(\n",
       "                        '54ff8baf-58ac-49d3-a892-4b30263d86a5',\n",
       "                        [{\"marker\": {\"color\": \"rgba(255, 153, 51, 0.6)\", \"line\": {\"color\": \"rgba(255, 153, 51, 1.0)\", \"width\": 1}}, \"name\": \"None\", \"orientation\": \"v\", \"text\": \"\", \"type\": \"bar\", \"x\": [\"A\", \"B\", \"C\", \"D\"], \"y\": [100, 100, 100, 100]}],\n",
       "                        {\"legend\": {\"bgcolor\": \"#F5F6F9\", \"font\": {\"color\": \"#4D5663\"}}, \"paper_bgcolor\": \"#F5F6F9\", \"plot_bgcolor\": \"#F5F6F9\", \"template\": {\"data\": {\"bar\": [{\"error_x\": {\"color\": \"#2a3f5f\"}, \"error_y\": {\"color\": \"#2a3f5f\"}, \"marker\": {\"line\": {\"color\": \"#E5ECF6\", \"width\": 0.5}}, \"type\": \"bar\"}], \"barpolar\": [{\"marker\": {\"line\": {\"color\": \"#E5ECF6\", \"width\": 0.5}}, \"type\": \"barpolar\"}], \"carpet\": [{\"aaxis\": {\"endlinecolor\": \"#2a3f5f\", \"gridcolor\": \"white\", \"linecolor\": \"white\", \"minorgridcolor\": \"white\", \"startlinecolor\": \"#2a3f5f\"}, \"baxis\": {\"endlinecolor\": \"#2a3f5f\", \"gridcolor\": \"white\", \"linecolor\": \"white\", \"minorgridcolor\": \"white\", \"startlinecolor\": \"#2a3f5f\"}, \"type\": \"carpet\"}], \"choropleth\": [{\"colorbar\": {\"outlinewidth\": 0, \"ticks\": \"\"}, \"type\": \"choropleth\"}], \"contour\": [{\"colorbar\": {\"outlinewidth\": 0, \"ticks\": \"\"}, \"colorscale\": [[0.0, \"#0d0887\"], [0.1111111111111111, \"#46039f\"], [0.2222222222222222, \"#7201a8\"], [0.3333333333333333, \"#9c179e\"], [0.4444444444444444, \"#bd3786\"], [0.5555555555555556, \"#d8576b\"], [0.6666666666666666, \"#ed7953\"], [0.7777777777777778, \"#fb9f3a\"], [0.8888888888888888, \"#fdca26\"], [1.0, \"#f0f921\"]], \"type\": \"contour\"}], \"contourcarpet\": [{\"colorbar\": {\"outlinewidth\": 0, \"ticks\": \"\"}, \"type\": \"contourcarpet\"}], \"heatmap\": [{\"colorbar\": {\"outlinewidth\": 0, \"ticks\": \"\"}, \"colorscale\": [[0.0, \"#0d0887\"], [0.1111111111111111, \"#46039f\"], [0.2222222222222222, \"#7201a8\"], [0.3333333333333333, \"#9c179e\"], [0.4444444444444444, \"#bd3786\"], [0.5555555555555556, \"#d8576b\"], [0.6666666666666666, \"#ed7953\"], [0.7777777777777778, \"#fb9f3a\"], [0.8888888888888888, \"#fdca26\"], [1.0, \"#f0f921\"]], \"type\": \"heatmap\"}], \"heatmapgl\": [{\"colorbar\": {\"outlinewidth\": 0, \"ticks\": \"\"}, \"colorscale\": [[0.0, \"#0d0887\"], [0.1111111111111111, \"#46039f\"], [0.2222222222222222, \"#7201a8\"], [0.3333333333333333, \"#9c179e\"], [0.4444444444444444, \"#bd3786\"], [0.5555555555555556, \"#d8576b\"], [0.6666666666666666, \"#ed7953\"], [0.7777777777777778, \"#fb9f3a\"], [0.8888888888888888, \"#fdca26\"], [1.0, \"#f0f921\"]], \"type\": \"heatmapgl\"}], \"histogram\": [{\"marker\": {\"colorbar\": {\"outlinewidth\": 0, \"ticks\": \"\"}}, \"type\": \"histogram\"}], \"histogram2d\": [{\"colorbar\": {\"outlinewidth\": 0, \"ticks\": \"\"}, \"colorscale\": [[0.0, \"#0d0887\"], [0.1111111111111111, \"#46039f\"], [0.2222222222222222, \"#7201a8\"], [0.3333333333333333, \"#9c179e\"], [0.4444444444444444, \"#bd3786\"], [0.5555555555555556, \"#d8576b\"], [0.6666666666666666, \"#ed7953\"], [0.7777777777777778, \"#fb9f3a\"], [0.8888888888888888, \"#fdca26\"], [1.0, \"#f0f921\"]], \"type\": \"histogram2d\"}], \"histogram2dcontour\": [{\"colorbar\": {\"outlinewidth\": 0, \"ticks\": \"\"}, \"colorscale\": [[0.0, \"#0d0887\"], [0.1111111111111111, \"#46039f\"], [0.2222222222222222, \"#7201a8\"], [0.3333333333333333, \"#9c179e\"], [0.4444444444444444, \"#bd3786\"], [0.5555555555555556, \"#d8576b\"], [0.6666666666666666, \"#ed7953\"], [0.7777777777777778, \"#fb9f3a\"], [0.8888888888888888, \"#fdca26\"], [1.0, \"#f0f921\"]], \"type\": \"histogram2dcontour\"}], \"mesh3d\": [{\"colorbar\": {\"outlinewidth\": 0, \"ticks\": \"\"}, \"type\": \"mesh3d\"}], \"parcoords\": [{\"line\": {\"colorbar\": {\"outlinewidth\": 0, \"ticks\": \"\"}}, \"type\": \"parcoords\"}], \"pie\": [{\"automargin\": true, \"type\": \"pie\"}], \"scatter\": [{\"marker\": {\"colorbar\": {\"outlinewidth\": 0, \"ticks\": \"\"}}, \"type\": \"scatter\"}], \"scatter3d\": [{\"line\": {\"colorbar\": {\"outlinewidth\": 0, \"ticks\": \"\"}}, \"marker\": {\"colorbar\": {\"outlinewidth\": 0, \"ticks\": \"\"}}, \"type\": \"scatter3d\"}], \"scattercarpet\": [{\"marker\": {\"colorbar\": {\"outlinewidth\": 0, \"ticks\": \"\"}}, \"type\": \"scattercarpet\"}], \"scattergeo\": [{\"marker\": {\"colorbar\": {\"outlinewidth\": 0, \"ticks\": \"\"}}, \"type\": \"scattergeo\"}], \"scattergl\": [{\"marker\": {\"colorbar\": {\"outlinewidth\": 0, \"ticks\": \"\"}}, \"type\": \"scattergl\"}], \"scattermapbox\": [{\"marker\": {\"colorbar\": {\"outlinewidth\": 0, \"ticks\": \"\"}}, \"type\": \"scattermapbox\"}], \"scatterpolar\": [{\"marker\": {\"colorbar\": {\"outlinewidth\": 0, \"ticks\": \"\"}}, \"type\": \"scatterpolar\"}], \"scatterpolargl\": [{\"marker\": {\"colorbar\": {\"outlinewidth\": 0, \"ticks\": \"\"}}, \"type\": \"scatterpolargl\"}], \"scatterternary\": [{\"marker\": {\"colorbar\": {\"outlinewidth\": 0, \"ticks\": \"\"}}, \"type\": \"scatterternary\"}], \"surface\": [{\"colorbar\": {\"outlinewidth\": 0, \"ticks\": \"\"}, \"colorscale\": [[0.0, \"#0d0887\"], [0.1111111111111111, \"#46039f\"], [0.2222222222222222, \"#7201a8\"], [0.3333333333333333, \"#9c179e\"], [0.4444444444444444, \"#bd3786\"], [0.5555555555555556, \"#d8576b\"], [0.6666666666666666, \"#ed7953\"], [0.7777777777777778, \"#fb9f3a\"], [0.8888888888888888, \"#fdca26\"], [1.0, \"#f0f921\"]], \"type\": \"surface\"}], \"table\": [{\"cells\": {\"fill\": {\"color\": \"#EBF0F8\"}, \"line\": {\"color\": \"white\"}}, \"header\": {\"fill\": {\"color\": \"#C8D4E3\"}, \"line\": {\"color\": \"white\"}}, \"type\": \"table\"}]}, \"layout\": {\"annotationdefaults\": {\"arrowcolor\": \"#2a3f5f\", \"arrowhead\": 0, \"arrowwidth\": 1}, \"coloraxis\": {\"colorbar\": {\"outlinewidth\": 0, \"ticks\": \"\"}}, \"colorscale\": {\"diverging\": [[0, \"#8e0152\"], [0.1, \"#c51b7d\"], [0.2, \"#de77ae\"], [0.3, \"#f1b6da\"], [0.4, \"#fde0ef\"], [0.5, \"#f7f7f7\"], [0.6, \"#e6f5d0\"], [0.7, \"#b8e186\"], [0.8, \"#7fbc41\"], [0.9, \"#4d9221\"], [1, \"#276419\"]], \"sequential\": [[0.0, \"#0d0887\"], [0.1111111111111111, \"#46039f\"], [0.2222222222222222, \"#7201a8\"], [0.3333333333333333, \"#9c179e\"], [0.4444444444444444, \"#bd3786\"], [0.5555555555555556, \"#d8576b\"], [0.6666666666666666, \"#ed7953\"], [0.7777777777777778, \"#fb9f3a\"], [0.8888888888888888, \"#fdca26\"], [1.0, \"#f0f921\"]], \"sequentialminus\": [[0.0, \"#0d0887\"], [0.1111111111111111, \"#46039f\"], [0.2222222222222222, \"#7201a8\"], [0.3333333333333333, \"#9c179e\"], [0.4444444444444444, \"#bd3786\"], [0.5555555555555556, \"#d8576b\"], [0.6666666666666666, \"#ed7953\"], [0.7777777777777778, \"#fb9f3a\"], [0.8888888888888888, \"#fdca26\"], [1.0, \"#f0f921\"]]}, \"colorway\": [\"#636efa\", \"#EF553B\", \"#00cc96\", \"#ab63fa\", \"#FFA15A\", \"#19d3f3\", \"#FF6692\", \"#B6E880\", \"#FF97FF\", \"#FECB52\"], \"font\": {\"color\": \"#2a3f5f\"}, \"geo\": {\"bgcolor\": \"white\", \"lakecolor\": \"white\", \"landcolor\": \"#E5ECF6\", \"showlakes\": true, \"showland\": true, \"subunitcolor\": \"white\"}, \"hoverlabel\": {\"align\": \"left\"}, \"hovermode\": \"closest\", \"mapbox\": {\"style\": \"light\"}, \"paper_bgcolor\": \"white\", \"plot_bgcolor\": \"#E5ECF6\", \"polar\": {\"angularaxis\": {\"gridcolor\": \"white\", \"linecolor\": \"white\", \"ticks\": \"\"}, \"bgcolor\": \"#E5ECF6\", \"radialaxis\": {\"gridcolor\": \"white\", \"linecolor\": \"white\", \"ticks\": \"\"}}, \"scene\": {\"xaxis\": {\"backgroundcolor\": \"#E5ECF6\", \"gridcolor\": \"white\", \"gridwidth\": 2, \"linecolor\": \"white\", \"showbackground\": true, \"ticks\": \"\", \"zerolinecolor\": \"white\"}, \"yaxis\": {\"backgroundcolor\": \"#E5ECF6\", \"gridcolor\": \"white\", \"gridwidth\": 2, \"linecolor\": \"white\", \"showbackground\": true, \"ticks\": \"\", \"zerolinecolor\": \"white\"}, \"zaxis\": {\"backgroundcolor\": \"#E5ECF6\", \"gridcolor\": \"white\", \"gridwidth\": 2, \"linecolor\": \"white\", \"showbackground\": true, \"ticks\": \"\", \"zerolinecolor\": \"white\"}}, \"shapedefaults\": {\"line\": {\"color\": \"#2a3f5f\"}}, \"ternary\": {\"aaxis\": {\"gridcolor\": \"white\", \"linecolor\": \"white\", \"ticks\": \"\"}, \"baxis\": {\"gridcolor\": \"white\", \"linecolor\": \"white\", \"ticks\": \"\"}, \"bgcolor\": \"#E5ECF6\", \"caxis\": {\"gridcolor\": \"white\", \"linecolor\": \"white\", \"ticks\": \"\"}}, \"title\": {\"x\": 0.05}, \"xaxis\": {\"automargin\": true, \"gridcolor\": \"white\", \"linecolor\": \"white\", \"ticks\": \"\", \"title\": {\"standoff\": 15}, \"zerolinecolor\": \"white\", \"zerolinewidth\": 2}, \"yaxis\": {\"automargin\": true, \"gridcolor\": \"white\", \"linecolor\": \"white\", \"ticks\": \"\", \"title\": {\"standoff\": 15}, \"zerolinecolor\": \"white\", \"zerolinewidth\": 2}}}, \"title\": {\"font\": {\"color\": \"#4D5663\"}}, \"xaxis\": {\"gridcolor\": \"#E1E5ED\", \"showgrid\": true, \"tickfont\": {\"color\": \"#4D5663\"}, \"title\": {\"font\": {\"color\": \"#4D5663\"}, \"text\": \"\"}, \"zerolinecolor\": \"#E1E5ED\"}, \"yaxis\": {\"gridcolor\": \"#E1E5ED\", \"showgrid\": true, \"tickfont\": {\"color\": \"#4D5663\"}, \"title\": {\"font\": {\"color\": \"#4D5663\"}, \"text\": \"\"}, \"zerolinecolor\": \"#E1E5ED\"}},\n",
       "                        {\"showLink\": true, \"linkText\": \"Export to plot.ly\", \"plotlyServerURL\": \"https://plot.ly\", \"responsive\": true}\n",
       "                    ).then(function(){\n",
       "                            \n",
       "var gd = document.getElementById('54ff8baf-58ac-49d3-a892-4b30263d86a5');\n",
       "var x = new MutationObserver(function (mutations, observer) {{\n",
       "        var display = window.getComputedStyle(gd).display;\n",
       "        if (!display || display === 'none') {{\n",
       "            console.log([gd, 'removed!']);\n",
       "            Plotly.purge(gd);\n",
       "            observer.disconnect();\n",
       "        }}\n",
       "}});\n",
       "\n",
       "// Listen for the removal of the full notebook cells\n",
       "var notebookContainer = gd.closest('#notebook-container');\n",
       "if (notebookContainer) {{\n",
       "    x.observe(notebookContainer, {childList: true});\n",
       "}}\n",
       "\n",
       "// Listen for the clearing of the current output cell\n",
       "var outputEl = gd.closest('.output');\n",
       "if (outputEl) {{\n",
       "    x.observe(outputEl, {childList: true});\n",
       "}}\n",
       "\n",
       "                        })\n",
       "                };\n",
       "                });\n",
       "            </script>\n",
       "        </div>"
      ]
     },
     "metadata": {},
     "output_type": "display_data"
    }
   ],
   "source": [
    "df.count().iplot(kind='bar')"
   ]
  },
  {
   "cell_type": "markdown",
   "metadata": {},
   "source": [
    "## Boxplots"
   ]
  },
  {
   "cell_type": "code",
   "execution_count": 13,
   "metadata": {},
   "outputs": [
    {
     "data": {
      "application/vnd.plotly.v1+json": {
       "config": {
        "linkText": "Export to plot.ly",
        "plotlyServerURL": "https://plot.ly",
        "showLink": true
       },
       "data": [
        {
         "boxpoints": false,
         "line": {
          "width": 1.3
         },
         "marker": {
          "color": "rgba(255, 153, 51, 1.0)"
         },
         "name": "A",
         "orientation": "v",
         "type": "box",
         "y": [
          0.21681727542441842,
          -1.9772885113327838,
          -0.5462132471505399,
          -0.6819819367976302,
          -1.0214246855639262,
          -1.4663406701189936,
          -1.3869714818665195,
          0.6792759180849723,
          0.003323249589601154,
          0.35263353393747643,
          -2.173396383826939,
          -0.39936467024163136,
          0.8835612461124585,
          1.748782428403716,
          1.2981444583558728,
          -0.32230543795352296,
          -2.2872486799886977,
          -0.9222217108403428,
          1.0586883344373945,
          -0.7728894682805112,
          0.1846911614370194,
          0.9551326809373836,
          0.06571449259757192,
          -0.2879721715497405,
          0.4192649222122794,
          -0.22975781578973978,
          1.1268507659495426,
          -0.8736355780617026,
          -0.49053047435131,
          -1.860305257457072,
          -1.3014448030976098,
          -0.7363205380791245,
          0.18582304290026405,
          -0.9193683541857193,
          -0.04760099120972285,
          1.1381969500860398,
          0.7132664776376054,
          -1.4059686462089924,
          0.12934554272216123,
          0.07709514927434992,
          1.2065139611399052,
          -0.2922868261161954,
          -0.6492118066817882,
          -2.7875169264679287,
          1.487366502025058,
          -0.27655005327292226,
          0.6720373114730019,
          1.0871682635420434,
          -1.2882506461748495,
          -1.1688212881513926,
          2.1650038192151153,
          0.9167077936678667,
          -0.6828969660269069,
          -0.362244895015562,
          -0.09097710761368762,
          1.1693454323863541,
          -1.0802438914386934,
          1.6878002831003949,
          -0.7579699094459557,
          -0.923800232625123,
          -2.114427367903597,
          -0.8129595596031683,
          -0.9012657916491319,
          -0.5455684789811972,
          0.003975478803318766,
          1.1179112763539043,
          0.9018043992546574,
          -0.8986152080322387,
          -0.21730607952635342,
          -0.5377706905229709,
          0.7182445328073375,
          1.3848319307421704,
          0.2073759925829057,
          0.7458428658575877,
          -1.1782479208176158,
          0.7308951672261628,
          1.2742068212954676,
          -0.5091233276267916,
          1.2123761493889964,
          -0.8696175139611265,
          0.05467665427955305,
          -0.10334873767188274,
          -0.8969549934246617,
          -0.5115917199381562,
          0.19375254046062468,
          1.148982738277355,
          -0.7879074944195215,
          0.20254895860414326,
          -0.10967627777498896,
          0.4834359516159212,
          0.26554038535107627,
          0.8015719884092859,
          -1.727774502348332,
          -0.8585361784135981,
          2.215116094482056,
          -0.8258598941353283,
          0.2927407389721164,
          -0.5278021971348248,
          -0.37959624617078397,
          -0.902146704300605
         ]
        },
        {
         "boxpoints": false,
         "line": {
          "width": 1.3
         },
         "marker": {
          "color": "rgba(55, 128, 191, 1.0)"
         },
         "name": "B",
         "orientation": "v",
         "type": "box",
         "y": [
          -0.5744108505115697,
          1.3250127875694866,
          1.0609501013173488,
          1.4471358685229194,
          1.636441501367267,
          0.3591387809175054,
          -0.008677973283243321,
          1.2483095611775963,
          -0.3377835165446373,
          2.2936306970939824,
          1.4935410087314982,
          -1.1678829013387353,
          -0.4302557027404968,
          -1.2175853872046736,
          0.9976278820986041,
          1.8542346052856826,
          -0.3336832591907579,
          0.4305648305343407,
          -0.3413782131381251,
          1.885562577489426,
          -1.167728416431715,
          -0.25855441335933166,
          0.8457605079877005,
          1.786687191313069,
          -0.08016895736742227,
          -0.1675114125436269,
          0.6660676823694558,
          0.45908821282456685,
          0.024217153209860284,
          -1.256145709598057,
          -0.04627554807779002,
          -1.0138047364711658,
          0.8176005919444439,
          0.7242425774053408,
          1.0121548452900764,
          0.08734325694977876,
          -0.6137761053906247,
          0.19046996905840896,
          -0.199575010944785,
          1.763674923294254,
          0.7998263899160724,
          0.4694877243781425,
          -0.18758354700512347,
          -0.27105335552054344,
          0.2000247639308463,
          0.828433270741575,
          -0.7058613693027531,
          1.8623140211472056,
          2.1618073436752887,
          -1.7317496849627836,
          -0.3992836362099629,
          -2.2223897210323944,
          1.3436501899446402,
          -1.1852917082259877,
          0.4828293211581265,
          -1.9592110315381874,
          1.507469336916762,
          -0.0700760714281321,
          0.8282896907807905,
          -1.997244238790069,
          0.4585925848688841,
          -1.4981223246453403,
          -0.31732990651485327,
          1.8869775085501947,
          1.1584731749792427,
          1.0273130448326746,
          0.19508827087091382,
          1.4258471228220166,
          0.5788535326226437,
          -0.299954280656903,
          -0.3998410210242254,
          -0.35031737167406823,
          0.8832288439399775,
          0.21669465213116756,
          1.5391788486551,
          0.4271428089617199,
          -0.5953874578026,
          -0.6572397682085748,
          -0.26642398341379453,
          0.5076714514941331,
          -0.49600297058156256,
          -0.04379002145007061,
          0.13194756351743006,
          1.3883149776748287,
          0.6451060566263321,
          -0.7813472507428276,
          -0.9010886847348751,
          -0.07420666006715997,
          2.1058526584425343,
          1.5004904613813166,
          -0.8716479253418286,
          -1.0163449295692388,
          -0.006685171080727264,
          -1.2081557920076373,
          0.046997033531740375,
          -1.0292765217406235,
          -0.5659707554107236,
          0.5939692678161016,
          1.32004815915914,
          1.693620985365639
         ]
        },
        {
         "boxpoints": false,
         "line": {
          "width": 1.3
         },
         "marker": {
          "color": "rgba(50, 171, 96, 1.0)"
         },
         "name": "C",
         "orientation": "v",
         "type": "box",
         "y": [
          -1.872954677600378,
          0.6237986215647472,
          0.6866408536792551,
          -0.48766271328392546,
          -1.6686735114095153,
          1.8403309348515722,
          -0.5802584868683829,
          -0.09590551641504427,
          -0.3442463387741227,
          0.2737142878257539,
          -1.4218450463159413,
          0.7709040897234393,
          -0.07295983746557827,
          -1.585735782030788,
          -1.5092326107678922,
          0.5987878893341813,
          -2.442247418258759,
          0.576734661954173,
          0.8932620270742699,
          1.7210945926264,
          -0.193650720818915,
          -1.8827382883360646,
          0.5267084819851623,
          0.4502021076727158,
          0.5782721498235335,
          1.524876126491854,
          -0.5764848321310584,
          -1.0182912978470837,
          -0.3742721960445256,
          -0.025784471592042307,
          -0.07569622413293894,
          -1.8154983154776863,
          0.4116414754184234,
          0.26766633150779834,
          -0.2806289232711756,
          -0.3663080388799181,
          -1.1917704708170465,
          -0.23254241210939353,
          -0.5351316137964464,
          0.8845920872694568,
          -0.7873773746819375,
          0.2696003554116361,
          0.08794955587826678,
          -0.6270801337312517,
          0.4486869821425425,
          1.488637625170458,
          -0.31130228901789786,
          -0.716111509929642,
          0.20497583156080681,
          -0.2962049922521928,
          -0.2082296782079445,
          0.26253270562528874,
          -0.029461583376019222,
          2.1259929146531658,
          -1.3524190583596964,
          1.2273251696394714,
          -0.2226446997934744,
          1.5468268499509297,
          1.0926860304033381,
          -0.6997672107763743,
          -0.8529187938069779,
          -0.7459564482678005,
          -0.44526888387627556,
          -1.4362303726731906,
          -0.722555502691798,
          -2.4472253539453135,
          1.2597956722977133,
          -0.6710559039136937,
          -0.00360102487350076,
          -0.5765588505391732,
          -0.7977464865918783,
          -0.292568575810376,
          0.16079219281142076,
          -1.8156656652692287,
          -0.21540313286528162,
          -0.4266057263630033,
          -0.06602932667023537,
          0.9181668400319609,
          0.6111089534555753,
          0.2559227548732202,
          0.6589708527863093,
          0.0962924738039389,
          -0.7387430617003714,
          -0.8894694047202094,
          -0.35252595282788435,
          0.3317370217514892,
          -0.17473481883169364,
          0.5280074710824594,
          -0.23774601846475946,
          -2.3276518020216455,
          -0.08554987200826247,
          -1.6747764742596722,
          -0.4897571707909026,
          0.546843935985657,
          -0.880815681633401,
          -0.5754310312497479,
          -0.10487926773626505,
          -0.7872773624593267,
          -0.4662007162197939,
          0.1483084351961708
         ]
        },
        {
         "boxpoints": false,
         "line": {
          "width": 1.3
         },
         "marker": {
          "color": "rgba(128, 0, 128, 1.0)"
         },
         "name": "D",
         "orientation": "v",
         "type": "box",
         "y": [
          -0.8728568372913522,
          -1.0510839903023959,
          -1.3522210246133695,
          -1.0816602083836728,
          0.6161322785741782,
          -2.270253807128969,
          0.6457899317353106,
          -1.3023380466637922,
          0.0960482715782704,
          1.5902741295396368,
          -1.6356410274309405,
          -0.31939983853754883,
          1.1145104516527602,
          0.21057626889985578,
          -0.348828659122623,
          -0.7740468853790099,
          -1.1371514856913192,
          -2.7563694180718286,
          -0.18317684500872908,
          0.13512465678845337,
          0.6178216024363102,
          0.5604358561514041,
          1.3983856775592367,
          -0.3035881578738405,
          -0.3774950175173685,
          -0.6616870657179112,
          1.5493503947902147,
          -0.4066197153605928,
          -0.18170123689474885,
          -1.311645410463092,
          0.03470772459447403,
          1.0901857430839144,
          -0.8352027962332579,
          -1.160382279111738,
          0.7929162188452963,
          0.74698492705652,
          0.30823360053240406,
          0.7986033694033816,
          0.20032881366843805,
          0.48512832309855636,
          0.34674395826673204,
          0.931126066960723,
          1.8001481372656352,
          -0.29031346160423976,
          -0.7562122193388319,
          1.0508531904257834,
          0.8535621846402527,
          -1.5367587665560831,
          -0.32931442972299696,
          -0.07158615958449306,
          1.535187698124292,
          0.7104861445707624,
          -0.29305053344074944,
          -0.9086209710701793,
          -0.7543966871857999,
          1.177980752510718,
          -0.8325497999131194,
          0.25156817802406456,
          1.6825980027936205,
          0.5558331143556858,
          0.044974642202284934,
          0.45569153607454416,
          1.5167151857230254,
          -0.3801697586836345,
          -0.6043239029203588,
          -1.2627049881656545,
          0.6083375058295283,
          -0.6591289274799408,
          -0.582030722062489,
          0.35254231790267604,
          -0.5340487197214605,
          0.09964931800781102,
          -0.7653941341267405,
          -0.5454442040396222,
          2.1473975031906143,
          0.24770283578654514,
          1.8349778113605748,
          1.043134585923067,
          1.5448786834883979,
          1.3503980196143361,
          -0.06148969425015488,
          -0.5629858218381755,
          -0.5881476331205633,
          1.0917438061825997,
          -0.42805670621658326,
          0.3809315099034995,
          -0.6032626214404642,
          -0.5012972379840266,
          -0.1121313752327508,
          -0.5734900802024279,
          -0.9910032634693237,
          -0.5802253131299402,
          -0.6184576789314314,
          0.9186984268311955,
          -0.6996580907227681,
          0.7777360459923974,
          -1.3180784343881304,
          0.5228080624229092,
          -1.34301177081277,
          -0.5740555702198387
         ]
        }
       ],
       "layout": {
        "legend": {
         "bgcolor": "#F5F6F9",
         "font": {
          "color": "#4D5663"
         }
        },
        "paper_bgcolor": "#F5F6F9",
        "plot_bgcolor": "#F5F6F9",
        "template": {
         "data": {
          "bar": [
           {
            "error_x": {
             "color": "#2a3f5f"
            },
            "error_y": {
             "color": "#2a3f5f"
            },
            "marker": {
             "line": {
              "color": "#E5ECF6",
              "width": 0.5
             }
            },
            "type": "bar"
           }
          ],
          "barpolar": [
           {
            "marker": {
             "line": {
              "color": "#E5ECF6",
              "width": 0.5
             }
            },
            "type": "barpolar"
           }
          ],
          "carpet": [
           {
            "aaxis": {
             "endlinecolor": "#2a3f5f",
             "gridcolor": "white",
             "linecolor": "white",
             "minorgridcolor": "white",
             "startlinecolor": "#2a3f5f"
            },
            "baxis": {
             "endlinecolor": "#2a3f5f",
             "gridcolor": "white",
             "linecolor": "white",
             "minorgridcolor": "white",
             "startlinecolor": "#2a3f5f"
            },
            "type": "carpet"
           }
          ],
          "choropleth": [
           {
            "colorbar": {
             "outlinewidth": 0,
             "ticks": ""
            },
            "type": "choropleth"
           }
          ],
          "contour": [
           {
            "colorbar": {
             "outlinewidth": 0,
             "ticks": ""
            },
            "colorscale": [
             [
              0,
              "#0d0887"
             ],
             [
              0.1111111111111111,
              "#46039f"
             ],
             [
              0.2222222222222222,
              "#7201a8"
             ],
             [
              0.3333333333333333,
              "#9c179e"
             ],
             [
              0.4444444444444444,
              "#bd3786"
             ],
             [
              0.5555555555555556,
              "#d8576b"
             ],
             [
              0.6666666666666666,
              "#ed7953"
             ],
             [
              0.7777777777777778,
              "#fb9f3a"
             ],
             [
              0.8888888888888888,
              "#fdca26"
             ],
             [
              1,
              "#f0f921"
             ]
            ],
            "type": "contour"
           }
          ],
          "contourcarpet": [
           {
            "colorbar": {
             "outlinewidth": 0,
             "ticks": ""
            },
            "type": "contourcarpet"
           }
          ],
          "heatmap": [
           {
            "colorbar": {
             "outlinewidth": 0,
             "ticks": ""
            },
            "colorscale": [
             [
              0,
              "#0d0887"
             ],
             [
              0.1111111111111111,
              "#46039f"
             ],
             [
              0.2222222222222222,
              "#7201a8"
             ],
             [
              0.3333333333333333,
              "#9c179e"
             ],
             [
              0.4444444444444444,
              "#bd3786"
             ],
             [
              0.5555555555555556,
              "#d8576b"
             ],
             [
              0.6666666666666666,
              "#ed7953"
             ],
             [
              0.7777777777777778,
              "#fb9f3a"
             ],
             [
              0.8888888888888888,
              "#fdca26"
             ],
             [
              1,
              "#f0f921"
             ]
            ],
            "type": "heatmap"
           }
          ],
          "heatmapgl": [
           {
            "colorbar": {
             "outlinewidth": 0,
             "ticks": ""
            },
            "colorscale": [
             [
              0,
              "#0d0887"
             ],
             [
              0.1111111111111111,
              "#46039f"
             ],
             [
              0.2222222222222222,
              "#7201a8"
             ],
             [
              0.3333333333333333,
              "#9c179e"
             ],
             [
              0.4444444444444444,
              "#bd3786"
             ],
             [
              0.5555555555555556,
              "#d8576b"
             ],
             [
              0.6666666666666666,
              "#ed7953"
             ],
             [
              0.7777777777777778,
              "#fb9f3a"
             ],
             [
              0.8888888888888888,
              "#fdca26"
             ],
             [
              1,
              "#f0f921"
             ]
            ],
            "type": "heatmapgl"
           }
          ],
          "histogram": [
           {
            "marker": {
             "colorbar": {
              "outlinewidth": 0,
              "ticks": ""
             }
            },
            "type": "histogram"
           }
          ],
          "histogram2d": [
           {
            "colorbar": {
             "outlinewidth": 0,
             "ticks": ""
            },
            "colorscale": [
             [
              0,
              "#0d0887"
             ],
             [
              0.1111111111111111,
              "#46039f"
             ],
             [
              0.2222222222222222,
              "#7201a8"
             ],
             [
              0.3333333333333333,
              "#9c179e"
             ],
             [
              0.4444444444444444,
              "#bd3786"
             ],
             [
              0.5555555555555556,
              "#d8576b"
             ],
             [
              0.6666666666666666,
              "#ed7953"
             ],
             [
              0.7777777777777778,
              "#fb9f3a"
             ],
             [
              0.8888888888888888,
              "#fdca26"
             ],
             [
              1,
              "#f0f921"
             ]
            ],
            "type": "histogram2d"
           }
          ],
          "histogram2dcontour": [
           {
            "colorbar": {
             "outlinewidth": 0,
             "ticks": ""
            },
            "colorscale": [
             [
              0,
              "#0d0887"
             ],
             [
              0.1111111111111111,
              "#46039f"
             ],
             [
              0.2222222222222222,
              "#7201a8"
             ],
             [
              0.3333333333333333,
              "#9c179e"
             ],
             [
              0.4444444444444444,
              "#bd3786"
             ],
             [
              0.5555555555555556,
              "#d8576b"
             ],
             [
              0.6666666666666666,
              "#ed7953"
             ],
             [
              0.7777777777777778,
              "#fb9f3a"
             ],
             [
              0.8888888888888888,
              "#fdca26"
             ],
             [
              1,
              "#f0f921"
             ]
            ],
            "type": "histogram2dcontour"
           }
          ],
          "mesh3d": [
           {
            "colorbar": {
             "outlinewidth": 0,
             "ticks": ""
            },
            "type": "mesh3d"
           }
          ],
          "parcoords": [
           {
            "line": {
             "colorbar": {
              "outlinewidth": 0,
              "ticks": ""
             }
            },
            "type": "parcoords"
           }
          ],
          "pie": [
           {
            "automargin": true,
            "type": "pie"
           }
          ],
          "scatter": [
           {
            "marker": {
             "colorbar": {
              "outlinewidth": 0,
              "ticks": ""
             }
            },
            "type": "scatter"
           }
          ],
          "scatter3d": [
           {
            "line": {
             "colorbar": {
              "outlinewidth": 0,
              "ticks": ""
             }
            },
            "marker": {
             "colorbar": {
              "outlinewidth": 0,
              "ticks": ""
             }
            },
            "type": "scatter3d"
           }
          ],
          "scattercarpet": [
           {
            "marker": {
             "colorbar": {
              "outlinewidth": 0,
              "ticks": ""
             }
            },
            "type": "scattercarpet"
           }
          ],
          "scattergeo": [
           {
            "marker": {
             "colorbar": {
              "outlinewidth": 0,
              "ticks": ""
             }
            },
            "type": "scattergeo"
           }
          ],
          "scattergl": [
           {
            "marker": {
             "colorbar": {
              "outlinewidth": 0,
              "ticks": ""
             }
            },
            "type": "scattergl"
           }
          ],
          "scattermapbox": [
           {
            "marker": {
             "colorbar": {
              "outlinewidth": 0,
              "ticks": ""
             }
            },
            "type": "scattermapbox"
           }
          ],
          "scatterpolar": [
           {
            "marker": {
             "colorbar": {
              "outlinewidth": 0,
              "ticks": ""
             }
            },
            "type": "scatterpolar"
           }
          ],
          "scatterpolargl": [
           {
            "marker": {
             "colorbar": {
              "outlinewidth": 0,
              "ticks": ""
             }
            },
            "type": "scatterpolargl"
           }
          ],
          "scatterternary": [
           {
            "marker": {
             "colorbar": {
              "outlinewidth": 0,
              "ticks": ""
             }
            },
            "type": "scatterternary"
           }
          ],
          "surface": [
           {
            "colorbar": {
             "outlinewidth": 0,
             "ticks": ""
            },
            "colorscale": [
             [
              0,
              "#0d0887"
             ],
             [
              0.1111111111111111,
              "#46039f"
             ],
             [
              0.2222222222222222,
              "#7201a8"
             ],
             [
              0.3333333333333333,
              "#9c179e"
             ],
             [
              0.4444444444444444,
              "#bd3786"
             ],
             [
              0.5555555555555556,
              "#d8576b"
             ],
             [
              0.6666666666666666,
              "#ed7953"
             ],
             [
              0.7777777777777778,
              "#fb9f3a"
             ],
             [
              0.8888888888888888,
              "#fdca26"
             ],
             [
              1,
              "#f0f921"
             ]
            ],
            "type": "surface"
           }
          ],
          "table": [
           {
            "cells": {
             "fill": {
              "color": "#EBF0F8"
             },
             "line": {
              "color": "white"
             }
            },
            "header": {
             "fill": {
              "color": "#C8D4E3"
             },
             "line": {
              "color": "white"
             }
            },
            "type": "table"
           }
          ]
         },
         "layout": {
          "annotationdefaults": {
           "arrowcolor": "#2a3f5f",
           "arrowhead": 0,
           "arrowwidth": 1
          },
          "coloraxis": {
           "colorbar": {
            "outlinewidth": 0,
            "ticks": ""
           }
          },
          "colorscale": {
           "diverging": [
            [
             0,
             "#8e0152"
            ],
            [
             0.1,
             "#c51b7d"
            ],
            [
             0.2,
             "#de77ae"
            ],
            [
             0.3,
             "#f1b6da"
            ],
            [
             0.4,
             "#fde0ef"
            ],
            [
             0.5,
             "#f7f7f7"
            ],
            [
             0.6,
             "#e6f5d0"
            ],
            [
             0.7,
             "#b8e186"
            ],
            [
             0.8,
             "#7fbc41"
            ],
            [
             0.9,
             "#4d9221"
            ],
            [
             1,
             "#276419"
            ]
           ],
           "sequential": [
            [
             0,
             "#0d0887"
            ],
            [
             0.1111111111111111,
             "#46039f"
            ],
            [
             0.2222222222222222,
             "#7201a8"
            ],
            [
             0.3333333333333333,
             "#9c179e"
            ],
            [
             0.4444444444444444,
             "#bd3786"
            ],
            [
             0.5555555555555556,
             "#d8576b"
            ],
            [
             0.6666666666666666,
             "#ed7953"
            ],
            [
             0.7777777777777778,
             "#fb9f3a"
            ],
            [
             0.8888888888888888,
             "#fdca26"
            ],
            [
             1,
             "#f0f921"
            ]
           ],
           "sequentialminus": [
            [
             0,
             "#0d0887"
            ],
            [
             0.1111111111111111,
             "#46039f"
            ],
            [
             0.2222222222222222,
             "#7201a8"
            ],
            [
             0.3333333333333333,
             "#9c179e"
            ],
            [
             0.4444444444444444,
             "#bd3786"
            ],
            [
             0.5555555555555556,
             "#d8576b"
            ],
            [
             0.6666666666666666,
             "#ed7953"
            ],
            [
             0.7777777777777778,
             "#fb9f3a"
            ],
            [
             0.8888888888888888,
             "#fdca26"
            ],
            [
             1,
             "#f0f921"
            ]
           ]
          },
          "colorway": [
           "#636efa",
           "#EF553B",
           "#00cc96",
           "#ab63fa",
           "#FFA15A",
           "#19d3f3",
           "#FF6692",
           "#B6E880",
           "#FF97FF",
           "#FECB52"
          ],
          "font": {
           "color": "#2a3f5f"
          },
          "geo": {
           "bgcolor": "white",
           "lakecolor": "white",
           "landcolor": "#E5ECF6",
           "showlakes": true,
           "showland": true,
           "subunitcolor": "white"
          },
          "hoverlabel": {
           "align": "left"
          },
          "hovermode": "closest",
          "mapbox": {
           "style": "light"
          },
          "paper_bgcolor": "white",
          "plot_bgcolor": "#E5ECF6",
          "polar": {
           "angularaxis": {
            "gridcolor": "white",
            "linecolor": "white",
            "ticks": ""
           },
           "bgcolor": "#E5ECF6",
           "radialaxis": {
            "gridcolor": "white",
            "linecolor": "white",
            "ticks": ""
           }
          },
          "scene": {
           "xaxis": {
            "backgroundcolor": "#E5ECF6",
            "gridcolor": "white",
            "gridwidth": 2,
            "linecolor": "white",
            "showbackground": true,
            "ticks": "",
            "zerolinecolor": "white"
           },
           "yaxis": {
            "backgroundcolor": "#E5ECF6",
            "gridcolor": "white",
            "gridwidth": 2,
            "linecolor": "white",
            "showbackground": true,
            "ticks": "",
            "zerolinecolor": "white"
           },
           "zaxis": {
            "backgroundcolor": "#E5ECF6",
            "gridcolor": "white",
            "gridwidth": 2,
            "linecolor": "white",
            "showbackground": true,
            "ticks": "",
            "zerolinecolor": "white"
           }
          },
          "shapedefaults": {
           "line": {
            "color": "#2a3f5f"
           }
          },
          "ternary": {
           "aaxis": {
            "gridcolor": "white",
            "linecolor": "white",
            "ticks": ""
           },
           "baxis": {
            "gridcolor": "white",
            "linecolor": "white",
            "ticks": ""
           },
           "bgcolor": "#E5ECF6",
           "caxis": {
            "gridcolor": "white",
            "linecolor": "white",
            "ticks": ""
           }
          },
          "title": {
           "x": 0.05
          },
          "xaxis": {
           "automargin": true,
           "gridcolor": "white",
           "linecolor": "white",
           "ticks": "",
           "title": {
            "standoff": 15
           },
           "zerolinecolor": "white",
           "zerolinewidth": 2
          },
          "yaxis": {
           "automargin": true,
           "gridcolor": "white",
           "linecolor": "white",
           "ticks": "",
           "title": {
            "standoff": 15
           },
           "zerolinecolor": "white",
           "zerolinewidth": 2
          }
         }
        },
        "title": {
         "font": {
          "color": "#4D5663"
         }
        },
        "xaxis": {
         "gridcolor": "#E1E5ED",
         "showgrid": true,
         "tickfont": {
          "color": "#4D5663"
         },
         "title": {
          "font": {
           "color": "#4D5663"
          },
          "text": ""
         },
         "zerolinecolor": "#E1E5ED"
        },
        "yaxis": {
         "gridcolor": "#E1E5ED",
         "showgrid": true,
         "tickfont": {
          "color": "#4D5663"
         },
         "title": {
          "font": {
           "color": "#4D5663"
          },
          "text": ""
         },
         "zerolinecolor": "#E1E5ED"
        }
       }
      },
      "text/html": [
       "<div>\n",
       "        \n",
       "        \n",
       "            <div id=\"d59a6e45-57cf-4c98-9fd9-11dd069bc194\" class=\"plotly-graph-div\" style=\"height:525px; width:100%;\"></div>\n",
       "            <script type=\"text/javascript\">\n",
       "                require([\"plotly\"], function(Plotly) {\n",
       "                    window.PLOTLYENV=window.PLOTLYENV || {};\n",
       "                    window.PLOTLYENV.BASE_URL='https://plot.ly';\n",
       "                    \n",
       "                if (document.getElementById(\"d59a6e45-57cf-4c98-9fd9-11dd069bc194\")) {\n",
       "                    Plotly.newPlot(\n",
       "                        'd59a6e45-57cf-4c98-9fd9-11dd069bc194',\n",
       "                        [{\"boxpoints\": false, \"line\": {\"width\": 1.3}, \"marker\": {\"color\": \"rgba(255, 153, 51, 1.0)\"}, \"name\": \"A\", \"orientation\": \"v\", \"type\": \"box\", \"y\": [0.21681727542441842, -1.9772885113327838, -0.5462132471505399, -0.6819819367976302, -1.0214246855639262, -1.4663406701189936, -1.3869714818665195, 0.6792759180849723, 0.003323249589601154, 0.35263353393747643, -2.173396383826939, -0.39936467024163136, 0.8835612461124585, 1.748782428403716, 1.2981444583558728, -0.32230543795352296, -2.2872486799886977, -0.9222217108403428, 1.0586883344373945, -0.7728894682805112, 0.1846911614370194, 0.9551326809373836, 0.06571449259757192, -0.2879721715497405, 0.4192649222122794, -0.22975781578973978, 1.1268507659495426, -0.8736355780617026, -0.49053047435131, -1.860305257457072, -1.3014448030976098, -0.7363205380791245, 0.18582304290026405, -0.9193683541857193, -0.04760099120972285, 1.1381969500860398, 0.7132664776376054, -1.4059686462089924, 0.12934554272216123, 0.07709514927434992, 1.2065139611399052, -0.2922868261161954, -0.6492118066817882, -2.7875169264679287, 1.487366502025058, -0.27655005327292226, 0.6720373114730019, 1.0871682635420434, -1.2882506461748495, -1.1688212881513926, 2.1650038192151153, 0.9167077936678667, -0.6828969660269069, -0.362244895015562, -0.09097710761368762, 1.1693454323863541, -1.0802438914386934, 1.6878002831003949, -0.7579699094459557, -0.923800232625123, -2.114427367903597, -0.8129595596031683, -0.9012657916491319, -0.5455684789811972, 0.003975478803318766, 1.1179112763539043, 0.9018043992546574, -0.8986152080322387, -0.21730607952635342, -0.5377706905229709, 0.7182445328073375, 1.3848319307421704, 0.2073759925829057, 0.7458428658575877, -1.1782479208176158, 0.7308951672261628, 1.2742068212954676, -0.5091233276267916, 1.2123761493889964, -0.8696175139611265, 0.05467665427955305, -0.10334873767188274, -0.8969549934246617, -0.5115917199381562, 0.19375254046062468, 1.148982738277355, -0.7879074944195215, 0.20254895860414326, -0.10967627777498896, 0.4834359516159212, 0.26554038535107627, 0.8015719884092859, -1.727774502348332, -0.8585361784135981, 2.215116094482056, -0.8258598941353283, 0.2927407389721164, -0.5278021971348248, -0.37959624617078397, -0.902146704300605]}, {\"boxpoints\": false, \"line\": {\"width\": 1.3}, \"marker\": {\"color\": \"rgba(55, 128, 191, 1.0)\"}, \"name\": \"B\", \"orientation\": \"v\", \"type\": \"box\", \"y\": [-0.5744108505115697, 1.3250127875694866, 1.0609501013173488, 1.4471358685229194, 1.636441501367267, 0.3591387809175054, -0.008677973283243321, 1.2483095611775963, -0.3377835165446373, 2.2936306970939824, 1.4935410087314982, -1.1678829013387353, -0.4302557027404968, -1.2175853872046736, 0.9976278820986041, 1.8542346052856826, -0.3336832591907579, 0.4305648305343407, -0.3413782131381251, 1.885562577489426, -1.167728416431715, -0.25855441335933166, 0.8457605079877005, 1.786687191313069, -0.08016895736742227, -0.1675114125436269, 0.6660676823694558, 0.45908821282456685, 0.024217153209860284, -1.256145709598057, -0.04627554807779002, -1.0138047364711658, 0.8176005919444439, 0.7242425774053408, 1.0121548452900764, 0.08734325694977876, -0.6137761053906247, 0.19046996905840896, -0.199575010944785, 1.763674923294254, 0.7998263899160724, 0.4694877243781425, -0.18758354700512347, -0.27105335552054344, 0.2000247639308463, 0.828433270741575, -0.7058613693027531, 1.8623140211472056, 2.1618073436752887, -1.7317496849627836, -0.3992836362099629, -2.2223897210323944, 1.3436501899446402, -1.1852917082259877, 0.4828293211581265, -1.9592110315381874, 1.507469336916762, -0.0700760714281321, 0.8282896907807905, -1.997244238790069, 0.4585925848688841, -1.4981223246453403, -0.31732990651485327, 1.8869775085501947, 1.1584731749792427, 1.0273130448326746, 0.19508827087091382, 1.4258471228220166, 0.5788535326226437, -0.299954280656903, -0.3998410210242254, -0.35031737167406823, 0.8832288439399775, 0.21669465213116756, 1.5391788486551, 0.4271428089617199, -0.5953874578026, -0.6572397682085748, -0.26642398341379453, 0.5076714514941331, -0.49600297058156256, -0.04379002145007061, 0.13194756351743006, 1.3883149776748287, 0.6451060566263321, -0.7813472507428276, -0.9010886847348751, -0.07420666006715997, 2.1058526584425343, 1.5004904613813166, -0.8716479253418286, -1.0163449295692388, -0.006685171080727264, -1.2081557920076373, 0.046997033531740375, -1.0292765217406235, -0.5659707554107236, 0.5939692678161016, 1.32004815915914, 1.693620985365639]}, {\"boxpoints\": false, \"line\": {\"width\": 1.3}, \"marker\": {\"color\": \"rgba(50, 171, 96, 1.0)\"}, \"name\": \"C\", \"orientation\": \"v\", \"type\": \"box\", \"y\": [-1.872954677600378, 0.6237986215647472, 0.6866408536792551, -0.48766271328392546, -1.6686735114095153, 1.8403309348515722, -0.5802584868683829, -0.09590551641504427, -0.3442463387741227, 0.2737142878257539, -1.4218450463159413, 0.7709040897234393, -0.07295983746557827, -1.585735782030788, -1.5092326107678922, 0.5987878893341813, -2.442247418258759, 0.576734661954173, 0.8932620270742699, 1.7210945926264, -0.193650720818915, -1.8827382883360646, 0.5267084819851623, 0.4502021076727158, 0.5782721498235335, 1.524876126491854, -0.5764848321310584, -1.0182912978470837, -0.3742721960445256, -0.025784471592042307, -0.07569622413293894, -1.8154983154776863, 0.4116414754184234, 0.26766633150779834, -0.2806289232711756, -0.3663080388799181, -1.1917704708170465, -0.23254241210939353, -0.5351316137964464, 0.8845920872694568, -0.7873773746819375, 0.2696003554116361, 0.08794955587826678, -0.6270801337312517, 0.4486869821425425, 1.488637625170458, -0.31130228901789786, -0.716111509929642, 0.20497583156080681, -0.2962049922521928, -0.2082296782079445, 0.26253270562528874, -0.029461583376019222, 2.1259929146531658, -1.3524190583596964, 1.2273251696394714, -0.2226446997934744, 1.5468268499509297, 1.0926860304033381, -0.6997672107763743, -0.8529187938069779, -0.7459564482678005, -0.44526888387627556, -1.4362303726731906, -0.722555502691798, -2.4472253539453135, 1.2597956722977133, -0.6710559039136937, -0.00360102487350076, -0.5765588505391732, -0.7977464865918783, -0.292568575810376, 0.16079219281142076, -1.8156656652692287, -0.21540313286528162, -0.4266057263630033, -0.06602932667023537, 0.9181668400319609, 0.6111089534555753, 0.2559227548732202, 0.6589708527863093, 0.0962924738039389, -0.7387430617003714, -0.8894694047202094, -0.35252595282788435, 0.3317370217514892, -0.17473481883169364, 0.5280074710824594, -0.23774601846475946, -2.3276518020216455, -0.08554987200826247, -1.6747764742596722, -0.4897571707909026, 0.546843935985657, -0.880815681633401, -0.5754310312497479, -0.10487926773626505, -0.7872773624593267, -0.4662007162197939, 0.1483084351961708]}, {\"boxpoints\": false, \"line\": {\"width\": 1.3}, \"marker\": {\"color\": \"rgba(128, 0, 128, 1.0)\"}, \"name\": \"D\", \"orientation\": \"v\", \"type\": \"box\", \"y\": [-0.8728568372913522, -1.0510839903023959, -1.3522210246133695, -1.0816602083836728, 0.6161322785741782, -2.270253807128969, 0.6457899317353106, -1.3023380466637922, 0.0960482715782704, 1.5902741295396368, -1.6356410274309405, -0.31939983853754883, 1.1145104516527602, 0.21057626889985578, -0.348828659122623, -0.7740468853790099, -1.1371514856913192, -2.7563694180718286, -0.18317684500872908, 0.13512465678845337, 0.6178216024363102, 0.5604358561514041, 1.3983856775592367, -0.3035881578738405, -0.3774950175173685, -0.6616870657179112, 1.5493503947902147, -0.4066197153605928, -0.18170123689474885, -1.311645410463092, 0.03470772459447403, 1.0901857430839144, -0.8352027962332579, -1.160382279111738, 0.7929162188452963, 0.74698492705652, 0.30823360053240406, 0.7986033694033816, 0.20032881366843805, 0.48512832309855636, 0.34674395826673204, 0.931126066960723, 1.8001481372656352, -0.29031346160423976, -0.7562122193388319, 1.0508531904257834, 0.8535621846402527, -1.5367587665560831, -0.32931442972299696, -0.07158615958449306, 1.535187698124292, 0.7104861445707624, -0.29305053344074944, -0.9086209710701793, -0.7543966871857999, 1.177980752510718, -0.8325497999131194, 0.25156817802406456, 1.6825980027936205, 0.5558331143556858, 0.044974642202284934, 0.45569153607454416, 1.5167151857230254, -0.3801697586836345, -0.6043239029203588, -1.2627049881656545, 0.6083375058295283, -0.6591289274799408, -0.582030722062489, 0.35254231790267604, -0.5340487197214605, 0.09964931800781102, -0.7653941341267405, -0.5454442040396222, 2.1473975031906143, 0.24770283578654514, 1.8349778113605748, 1.043134585923067, 1.5448786834883979, 1.3503980196143361, -0.06148969425015488, -0.5629858218381755, -0.5881476331205633, 1.0917438061825997, -0.42805670621658326, 0.3809315099034995, -0.6032626214404642, -0.5012972379840266, -0.1121313752327508, -0.5734900802024279, -0.9910032634693237, -0.5802253131299402, -0.6184576789314314, 0.9186984268311955, -0.6996580907227681, 0.7777360459923974, -1.3180784343881304, 0.5228080624229092, -1.34301177081277, -0.5740555702198387]}],\n",
       "                        {\"legend\": {\"bgcolor\": \"#F5F6F9\", \"font\": {\"color\": \"#4D5663\"}}, \"paper_bgcolor\": \"#F5F6F9\", \"plot_bgcolor\": \"#F5F6F9\", \"template\": {\"data\": {\"bar\": [{\"error_x\": {\"color\": \"#2a3f5f\"}, \"error_y\": {\"color\": \"#2a3f5f\"}, \"marker\": {\"line\": {\"color\": \"#E5ECF6\", \"width\": 0.5}}, \"type\": \"bar\"}], \"barpolar\": [{\"marker\": {\"line\": {\"color\": \"#E5ECF6\", \"width\": 0.5}}, \"type\": \"barpolar\"}], \"carpet\": [{\"aaxis\": {\"endlinecolor\": \"#2a3f5f\", \"gridcolor\": \"white\", \"linecolor\": \"white\", \"minorgridcolor\": \"white\", \"startlinecolor\": \"#2a3f5f\"}, \"baxis\": {\"endlinecolor\": \"#2a3f5f\", \"gridcolor\": \"white\", \"linecolor\": \"white\", \"minorgridcolor\": \"white\", \"startlinecolor\": \"#2a3f5f\"}, \"type\": \"carpet\"}], \"choropleth\": [{\"colorbar\": {\"outlinewidth\": 0, \"ticks\": \"\"}, \"type\": \"choropleth\"}], \"contour\": [{\"colorbar\": {\"outlinewidth\": 0, \"ticks\": \"\"}, \"colorscale\": [[0.0, \"#0d0887\"], [0.1111111111111111, \"#46039f\"], [0.2222222222222222, \"#7201a8\"], [0.3333333333333333, \"#9c179e\"], [0.4444444444444444, \"#bd3786\"], [0.5555555555555556, \"#d8576b\"], [0.6666666666666666, \"#ed7953\"], [0.7777777777777778, \"#fb9f3a\"], [0.8888888888888888, \"#fdca26\"], [1.0, \"#f0f921\"]], \"type\": \"contour\"}], \"contourcarpet\": [{\"colorbar\": {\"outlinewidth\": 0, \"ticks\": \"\"}, \"type\": \"contourcarpet\"}], \"heatmap\": [{\"colorbar\": {\"outlinewidth\": 0, \"ticks\": \"\"}, \"colorscale\": [[0.0, \"#0d0887\"], [0.1111111111111111, \"#46039f\"], [0.2222222222222222, \"#7201a8\"], [0.3333333333333333, \"#9c179e\"], [0.4444444444444444, \"#bd3786\"], [0.5555555555555556, \"#d8576b\"], [0.6666666666666666, \"#ed7953\"], [0.7777777777777778, \"#fb9f3a\"], [0.8888888888888888, \"#fdca26\"], [1.0, \"#f0f921\"]], \"type\": \"heatmap\"}], \"heatmapgl\": [{\"colorbar\": {\"outlinewidth\": 0, \"ticks\": \"\"}, \"colorscale\": [[0.0, \"#0d0887\"], [0.1111111111111111, \"#46039f\"], [0.2222222222222222, \"#7201a8\"], [0.3333333333333333, \"#9c179e\"], [0.4444444444444444, \"#bd3786\"], [0.5555555555555556, \"#d8576b\"], [0.6666666666666666, \"#ed7953\"], [0.7777777777777778, \"#fb9f3a\"], [0.8888888888888888, \"#fdca26\"], [1.0, \"#f0f921\"]], \"type\": \"heatmapgl\"}], \"histogram\": [{\"marker\": {\"colorbar\": {\"outlinewidth\": 0, \"ticks\": \"\"}}, \"type\": \"histogram\"}], \"histogram2d\": [{\"colorbar\": {\"outlinewidth\": 0, \"ticks\": \"\"}, \"colorscale\": [[0.0, \"#0d0887\"], [0.1111111111111111, \"#46039f\"], [0.2222222222222222, \"#7201a8\"], [0.3333333333333333, \"#9c179e\"], [0.4444444444444444, \"#bd3786\"], [0.5555555555555556, \"#d8576b\"], [0.6666666666666666, \"#ed7953\"], [0.7777777777777778, \"#fb9f3a\"], [0.8888888888888888, \"#fdca26\"], [1.0, \"#f0f921\"]], \"type\": \"histogram2d\"}], \"histogram2dcontour\": [{\"colorbar\": {\"outlinewidth\": 0, \"ticks\": \"\"}, \"colorscale\": [[0.0, \"#0d0887\"], [0.1111111111111111, \"#46039f\"], [0.2222222222222222, \"#7201a8\"], [0.3333333333333333, \"#9c179e\"], [0.4444444444444444, \"#bd3786\"], [0.5555555555555556, \"#d8576b\"], [0.6666666666666666, \"#ed7953\"], [0.7777777777777778, \"#fb9f3a\"], [0.8888888888888888, \"#fdca26\"], [1.0, \"#f0f921\"]], \"type\": \"histogram2dcontour\"}], \"mesh3d\": [{\"colorbar\": {\"outlinewidth\": 0, \"ticks\": \"\"}, \"type\": \"mesh3d\"}], \"parcoords\": [{\"line\": {\"colorbar\": {\"outlinewidth\": 0, \"ticks\": \"\"}}, \"type\": \"parcoords\"}], \"pie\": [{\"automargin\": true, \"type\": \"pie\"}], \"scatter\": [{\"marker\": {\"colorbar\": {\"outlinewidth\": 0, \"ticks\": \"\"}}, \"type\": \"scatter\"}], \"scatter3d\": [{\"line\": {\"colorbar\": {\"outlinewidth\": 0, \"ticks\": \"\"}}, \"marker\": {\"colorbar\": {\"outlinewidth\": 0, \"ticks\": \"\"}}, \"type\": \"scatter3d\"}], \"scattercarpet\": [{\"marker\": {\"colorbar\": {\"outlinewidth\": 0, \"ticks\": \"\"}}, \"type\": \"scattercarpet\"}], \"scattergeo\": [{\"marker\": {\"colorbar\": {\"outlinewidth\": 0, \"ticks\": \"\"}}, \"type\": \"scattergeo\"}], \"scattergl\": [{\"marker\": {\"colorbar\": {\"outlinewidth\": 0, \"ticks\": \"\"}}, \"type\": \"scattergl\"}], \"scattermapbox\": [{\"marker\": {\"colorbar\": {\"outlinewidth\": 0, \"ticks\": \"\"}}, \"type\": \"scattermapbox\"}], \"scatterpolar\": [{\"marker\": {\"colorbar\": {\"outlinewidth\": 0, \"ticks\": \"\"}}, \"type\": \"scatterpolar\"}], \"scatterpolargl\": [{\"marker\": {\"colorbar\": {\"outlinewidth\": 0, \"ticks\": \"\"}}, \"type\": \"scatterpolargl\"}], \"scatterternary\": [{\"marker\": {\"colorbar\": {\"outlinewidth\": 0, \"ticks\": \"\"}}, \"type\": \"scatterternary\"}], \"surface\": [{\"colorbar\": {\"outlinewidth\": 0, \"ticks\": \"\"}, \"colorscale\": [[0.0, \"#0d0887\"], [0.1111111111111111, \"#46039f\"], [0.2222222222222222, \"#7201a8\"], [0.3333333333333333, \"#9c179e\"], [0.4444444444444444, \"#bd3786\"], [0.5555555555555556, \"#d8576b\"], [0.6666666666666666, \"#ed7953\"], [0.7777777777777778, \"#fb9f3a\"], [0.8888888888888888, \"#fdca26\"], [1.0, \"#f0f921\"]], \"type\": \"surface\"}], \"table\": [{\"cells\": {\"fill\": {\"color\": \"#EBF0F8\"}, \"line\": {\"color\": \"white\"}}, \"header\": {\"fill\": {\"color\": \"#C8D4E3\"}, \"line\": {\"color\": \"white\"}}, \"type\": \"table\"}]}, \"layout\": {\"annotationdefaults\": {\"arrowcolor\": \"#2a3f5f\", \"arrowhead\": 0, \"arrowwidth\": 1}, \"coloraxis\": {\"colorbar\": {\"outlinewidth\": 0, \"ticks\": \"\"}}, \"colorscale\": {\"diverging\": [[0, \"#8e0152\"], [0.1, \"#c51b7d\"], [0.2, \"#de77ae\"], [0.3, \"#f1b6da\"], [0.4, \"#fde0ef\"], [0.5, \"#f7f7f7\"], [0.6, \"#e6f5d0\"], [0.7, \"#b8e186\"], [0.8, \"#7fbc41\"], [0.9, \"#4d9221\"], [1, \"#276419\"]], \"sequential\": [[0.0, \"#0d0887\"], [0.1111111111111111, \"#46039f\"], [0.2222222222222222, \"#7201a8\"], [0.3333333333333333, \"#9c179e\"], [0.4444444444444444, \"#bd3786\"], [0.5555555555555556, \"#d8576b\"], [0.6666666666666666, \"#ed7953\"], [0.7777777777777778, \"#fb9f3a\"], [0.8888888888888888, \"#fdca26\"], [1.0, \"#f0f921\"]], \"sequentialminus\": [[0.0, \"#0d0887\"], [0.1111111111111111, \"#46039f\"], [0.2222222222222222, \"#7201a8\"], [0.3333333333333333, \"#9c179e\"], [0.4444444444444444, \"#bd3786\"], [0.5555555555555556, \"#d8576b\"], [0.6666666666666666, \"#ed7953\"], [0.7777777777777778, \"#fb9f3a\"], [0.8888888888888888, \"#fdca26\"], [1.0, \"#f0f921\"]]}, \"colorway\": [\"#636efa\", \"#EF553B\", \"#00cc96\", \"#ab63fa\", \"#FFA15A\", \"#19d3f3\", \"#FF6692\", \"#B6E880\", \"#FF97FF\", \"#FECB52\"], \"font\": {\"color\": \"#2a3f5f\"}, \"geo\": {\"bgcolor\": \"white\", \"lakecolor\": \"white\", \"landcolor\": \"#E5ECF6\", \"showlakes\": true, \"showland\": true, \"subunitcolor\": \"white\"}, \"hoverlabel\": {\"align\": \"left\"}, \"hovermode\": \"closest\", \"mapbox\": {\"style\": \"light\"}, \"paper_bgcolor\": \"white\", \"plot_bgcolor\": \"#E5ECF6\", \"polar\": {\"angularaxis\": {\"gridcolor\": \"white\", \"linecolor\": \"white\", \"ticks\": \"\"}, \"bgcolor\": \"#E5ECF6\", \"radialaxis\": {\"gridcolor\": \"white\", \"linecolor\": \"white\", \"ticks\": \"\"}}, \"scene\": {\"xaxis\": {\"backgroundcolor\": \"#E5ECF6\", \"gridcolor\": \"white\", \"gridwidth\": 2, \"linecolor\": \"white\", \"showbackground\": true, \"ticks\": \"\", \"zerolinecolor\": \"white\"}, \"yaxis\": {\"backgroundcolor\": \"#E5ECF6\", \"gridcolor\": \"white\", \"gridwidth\": 2, \"linecolor\": \"white\", \"showbackground\": true, \"ticks\": \"\", \"zerolinecolor\": \"white\"}, \"zaxis\": {\"backgroundcolor\": \"#E5ECF6\", \"gridcolor\": \"white\", \"gridwidth\": 2, \"linecolor\": \"white\", \"showbackground\": true, \"ticks\": \"\", \"zerolinecolor\": \"white\"}}, \"shapedefaults\": {\"line\": {\"color\": \"#2a3f5f\"}}, \"ternary\": {\"aaxis\": {\"gridcolor\": \"white\", \"linecolor\": \"white\", \"ticks\": \"\"}, \"baxis\": {\"gridcolor\": \"white\", \"linecolor\": \"white\", \"ticks\": \"\"}, \"bgcolor\": \"#E5ECF6\", \"caxis\": {\"gridcolor\": \"white\", \"linecolor\": \"white\", \"ticks\": \"\"}}, \"title\": {\"x\": 0.05}, \"xaxis\": {\"automargin\": true, \"gridcolor\": \"white\", \"linecolor\": \"white\", \"ticks\": \"\", \"title\": {\"standoff\": 15}, \"zerolinecolor\": \"white\", \"zerolinewidth\": 2}, \"yaxis\": {\"automargin\": true, \"gridcolor\": \"white\", \"linecolor\": \"white\", \"ticks\": \"\", \"title\": {\"standoff\": 15}, \"zerolinecolor\": \"white\", \"zerolinewidth\": 2}}}, \"title\": {\"font\": {\"color\": \"#4D5663\"}}, \"xaxis\": {\"gridcolor\": \"#E1E5ED\", \"showgrid\": true, \"tickfont\": {\"color\": \"#4D5663\"}, \"title\": {\"font\": {\"color\": \"#4D5663\"}, \"text\": \"\"}, \"zerolinecolor\": \"#E1E5ED\"}, \"yaxis\": {\"gridcolor\": \"#E1E5ED\", \"showgrid\": true, \"tickfont\": {\"color\": \"#4D5663\"}, \"title\": {\"font\": {\"color\": \"#4D5663\"}, \"text\": \"\"}, \"zerolinecolor\": \"#E1E5ED\"}},\n",
       "                        {\"showLink\": true, \"linkText\": \"Export to plot.ly\", \"plotlyServerURL\": \"https://plot.ly\", \"responsive\": true}\n",
       "                    ).then(function(){\n",
       "                            \n",
       "var gd = document.getElementById('d59a6e45-57cf-4c98-9fd9-11dd069bc194');\n",
       "var x = new MutationObserver(function (mutations, observer) {{\n",
       "        var display = window.getComputedStyle(gd).display;\n",
       "        if (!display || display === 'none') {{\n",
       "            console.log([gd, 'removed!']);\n",
       "            Plotly.purge(gd);\n",
       "            observer.disconnect();\n",
       "        }}\n",
       "}});\n",
       "\n",
       "// Listen for the removal of the full notebook cells\n",
       "var notebookContainer = gd.closest('#notebook-container');\n",
       "if (notebookContainer) {{\n",
       "    x.observe(notebookContainer, {childList: true});\n",
       "}}\n",
       "\n",
       "// Listen for the clearing of the current output cell\n",
       "var outputEl = gd.closest('.output');\n",
       "if (outputEl) {{\n",
       "    x.observe(outputEl, {childList: true});\n",
       "}}\n",
       "\n",
       "                        })\n",
       "                };\n",
       "                });\n",
       "            </script>\n",
       "        </div>"
      ]
     },
     "metadata": {},
     "output_type": "display_data"
    }
   ],
   "source": [
    "df.iplot(kind='box')"
   ]
  },
  {
   "cell_type": "markdown",
   "metadata": {},
   "source": [
    "## 3d Surface"
   ]
  },
  {
   "cell_type": "code",
   "execution_count": 14,
   "metadata": {},
   "outputs": [
    {
     "data": {
      "application/vnd.plotly.v1+json": {
       "config": {
        "linkText": "Export to plot.ly",
        "plotlyServerURL": "https://plot.ly",
        "showLink": true
       },
       "data": [
        {
         "colorscale": [
          [
           0,
           "rgb(165,0,38)"
          ],
          [
           0.1,
           "rgb(215,48,39)"
          ],
          [
           0.2,
           "rgb(244,109,67)"
          ],
          [
           0.3,
           "rgb(253,174,97)"
          ],
          [
           0.4,
           "rgb(254,224,144)"
          ],
          [
           0.5,
           "rgb(255,255,191)"
          ],
          [
           0.6,
           "rgb(224,243,248)"
          ],
          [
           0.7,
           "rgb(171,217,233)"
          ],
          [
           0.8,
           "rgb(116,173,209)"
          ],
          [
           0.9,
           "rgb(69,117,180)"
          ],
          [
           1,
           "rgb(49,54,149)"
          ]
         ],
         "type": "surface",
         "x": [
          0,
          1,
          2,
          3,
          4
         ],
         "y": [
          "x",
          "y",
          "z"
         ],
         "z": [
          [
           1,
           2,
           3,
           4,
           5
          ],
          [
           10,
           20,
           30,
           20,
           10
          ],
          [
           5,
           4,
           3,
           2,
           1
          ]
         ]
        }
       ],
       "layout": {
        "legend": {
         "bgcolor": "#F5F6F9",
         "font": {
          "color": "#4D5663"
         }
        },
        "paper_bgcolor": "#F5F6F9",
        "plot_bgcolor": "#F5F6F9",
        "template": {
         "data": {
          "bar": [
           {
            "error_x": {
             "color": "#2a3f5f"
            },
            "error_y": {
             "color": "#2a3f5f"
            },
            "marker": {
             "line": {
              "color": "#E5ECF6",
              "width": 0.5
             }
            },
            "type": "bar"
           }
          ],
          "barpolar": [
           {
            "marker": {
             "line": {
              "color": "#E5ECF6",
              "width": 0.5
             }
            },
            "type": "barpolar"
           }
          ],
          "carpet": [
           {
            "aaxis": {
             "endlinecolor": "#2a3f5f",
             "gridcolor": "white",
             "linecolor": "white",
             "minorgridcolor": "white",
             "startlinecolor": "#2a3f5f"
            },
            "baxis": {
             "endlinecolor": "#2a3f5f",
             "gridcolor": "white",
             "linecolor": "white",
             "minorgridcolor": "white",
             "startlinecolor": "#2a3f5f"
            },
            "type": "carpet"
           }
          ],
          "choropleth": [
           {
            "colorbar": {
             "outlinewidth": 0,
             "ticks": ""
            },
            "type": "choropleth"
           }
          ],
          "contour": [
           {
            "colorbar": {
             "outlinewidth": 0,
             "ticks": ""
            },
            "colorscale": [
             [
              0,
              "#0d0887"
             ],
             [
              0.1111111111111111,
              "#46039f"
             ],
             [
              0.2222222222222222,
              "#7201a8"
             ],
             [
              0.3333333333333333,
              "#9c179e"
             ],
             [
              0.4444444444444444,
              "#bd3786"
             ],
             [
              0.5555555555555556,
              "#d8576b"
             ],
             [
              0.6666666666666666,
              "#ed7953"
             ],
             [
              0.7777777777777778,
              "#fb9f3a"
             ],
             [
              0.8888888888888888,
              "#fdca26"
             ],
             [
              1,
              "#f0f921"
             ]
            ],
            "type": "contour"
           }
          ],
          "contourcarpet": [
           {
            "colorbar": {
             "outlinewidth": 0,
             "ticks": ""
            },
            "type": "contourcarpet"
           }
          ],
          "heatmap": [
           {
            "colorbar": {
             "outlinewidth": 0,
             "ticks": ""
            },
            "colorscale": [
             [
              0,
              "#0d0887"
             ],
             [
              0.1111111111111111,
              "#46039f"
             ],
             [
              0.2222222222222222,
              "#7201a8"
             ],
             [
              0.3333333333333333,
              "#9c179e"
             ],
             [
              0.4444444444444444,
              "#bd3786"
             ],
             [
              0.5555555555555556,
              "#d8576b"
             ],
             [
              0.6666666666666666,
              "#ed7953"
             ],
             [
              0.7777777777777778,
              "#fb9f3a"
             ],
             [
              0.8888888888888888,
              "#fdca26"
             ],
             [
              1,
              "#f0f921"
             ]
            ],
            "type": "heatmap"
           }
          ],
          "heatmapgl": [
           {
            "colorbar": {
             "outlinewidth": 0,
             "ticks": ""
            },
            "colorscale": [
             [
              0,
              "#0d0887"
             ],
             [
              0.1111111111111111,
              "#46039f"
             ],
             [
              0.2222222222222222,
              "#7201a8"
             ],
             [
              0.3333333333333333,
              "#9c179e"
             ],
             [
              0.4444444444444444,
              "#bd3786"
             ],
             [
              0.5555555555555556,
              "#d8576b"
             ],
             [
              0.6666666666666666,
              "#ed7953"
             ],
             [
              0.7777777777777778,
              "#fb9f3a"
             ],
             [
              0.8888888888888888,
              "#fdca26"
             ],
             [
              1,
              "#f0f921"
             ]
            ],
            "type": "heatmapgl"
           }
          ],
          "histogram": [
           {
            "marker": {
             "colorbar": {
              "outlinewidth": 0,
              "ticks": ""
             }
            },
            "type": "histogram"
           }
          ],
          "histogram2d": [
           {
            "colorbar": {
             "outlinewidth": 0,
             "ticks": ""
            },
            "colorscale": [
             [
              0,
              "#0d0887"
             ],
             [
              0.1111111111111111,
              "#46039f"
             ],
             [
              0.2222222222222222,
              "#7201a8"
             ],
             [
              0.3333333333333333,
              "#9c179e"
             ],
             [
              0.4444444444444444,
              "#bd3786"
             ],
             [
              0.5555555555555556,
              "#d8576b"
             ],
             [
              0.6666666666666666,
              "#ed7953"
             ],
             [
              0.7777777777777778,
              "#fb9f3a"
             ],
             [
              0.8888888888888888,
              "#fdca26"
             ],
             [
              1,
              "#f0f921"
             ]
            ],
            "type": "histogram2d"
           }
          ],
          "histogram2dcontour": [
           {
            "colorbar": {
             "outlinewidth": 0,
             "ticks": ""
            },
            "colorscale": [
             [
              0,
              "#0d0887"
             ],
             [
              0.1111111111111111,
              "#46039f"
             ],
             [
              0.2222222222222222,
              "#7201a8"
             ],
             [
              0.3333333333333333,
              "#9c179e"
             ],
             [
              0.4444444444444444,
              "#bd3786"
             ],
             [
              0.5555555555555556,
              "#d8576b"
             ],
             [
              0.6666666666666666,
              "#ed7953"
             ],
             [
              0.7777777777777778,
              "#fb9f3a"
             ],
             [
              0.8888888888888888,
              "#fdca26"
             ],
             [
              1,
              "#f0f921"
             ]
            ],
            "type": "histogram2dcontour"
           }
          ],
          "mesh3d": [
           {
            "colorbar": {
             "outlinewidth": 0,
             "ticks": ""
            },
            "type": "mesh3d"
           }
          ],
          "parcoords": [
           {
            "line": {
             "colorbar": {
              "outlinewidth": 0,
              "ticks": ""
             }
            },
            "type": "parcoords"
           }
          ],
          "pie": [
           {
            "automargin": true,
            "type": "pie"
           }
          ],
          "scatter": [
           {
            "marker": {
             "colorbar": {
              "outlinewidth": 0,
              "ticks": ""
             }
            },
            "type": "scatter"
           }
          ],
          "scatter3d": [
           {
            "line": {
             "colorbar": {
              "outlinewidth": 0,
              "ticks": ""
             }
            },
            "marker": {
             "colorbar": {
              "outlinewidth": 0,
              "ticks": ""
             }
            },
            "type": "scatter3d"
           }
          ],
          "scattercarpet": [
           {
            "marker": {
             "colorbar": {
              "outlinewidth": 0,
              "ticks": ""
             }
            },
            "type": "scattercarpet"
           }
          ],
          "scattergeo": [
           {
            "marker": {
             "colorbar": {
              "outlinewidth": 0,
              "ticks": ""
             }
            },
            "type": "scattergeo"
           }
          ],
          "scattergl": [
           {
            "marker": {
             "colorbar": {
              "outlinewidth": 0,
              "ticks": ""
             }
            },
            "type": "scattergl"
           }
          ],
          "scattermapbox": [
           {
            "marker": {
             "colorbar": {
              "outlinewidth": 0,
              "ticks": ""
             }
            },
            "type": "scattermapbox"
           }
          ],
          "scatterpolar": [
           {
            "marker": {
             "colorbar": {
              "outlinewidth": 0,
              "ticks": ""
             }
            },
            "type": "scatterpolar"
           }
          ],
          "scatterpolargl": [
           {
            "marker": {
             "colorbar": {
              "outlinewidth": 0,
              "ticks": ""
             }
            },
            "type": "scatterpolargl"
           }
          ],
          "scatterternary": [
           {
            "marker": {
             "colorbar": {
              "outlinewidth": 0,
              "ticks": ""
             }
            },
            "type": "scatterternary"
           }
          ],
          "surface": [
           {
            "colorbar": {
             "outlinewidth": 0,
             "ticks": ""
            },
            "colorscale": [
             [
              0,
              "#0d0887"
             ],
             [
              0.1111111111111111,
              "#46039f"
             ],
             [
              0.2222222222222222,
              "#7201a8"
             ],
             [
              0.3333333333333333,
              "#9c179e"
             ],
             [
              0.4444444444444444,
              "#bd3786"
             ],
             [
              0.5555555555555556,
              "#d8576b"
             ],
             [
              0.6666666666666666,
              "#ed7953"
             ],
             [
              0.7777777777777778,
              "#fb9f3a"
             ],
             [
              0.8888888888888888,
              "#fdca26"
             ],
             [
              1,
              "#f0f921"
             ]
            ],
            "type": "surface"
           }
          ],
          "table": [
           {
            "cells": {
             "fill": {
              "color": "#EBF0F8"
             },
             "line": {
              "color": "white"
             }
            },
            "header": {
             "fill": {
              "color": "#C8D4E3"
             },
             "line": {
              "color": "white"
             }
            },
            "type": "table"
           }
          ]
         },
         "layout": {
          "annotationdefaults": {
           "arrowcolor": "#2a3f5f",
           "arrowhead": 0,
           "arrowwidth": 1
          },
          "coloraxis": {
           "colorbar": {
            "outlinewidth": 0,
            "ticks": ""
           }
          },
          "colorscale": {
           "diverging": [
            [
             0,
             "#8e0152"
            ],
            [
             0.1,
             "#c51b7d"
            ],
            [
             0.2,
             "#de77ae"
            ],
            [
             0.3,
             "#f1b6da"
            ],
            [
             0.4,
             "#fde0ef"
            ],
            [
             0.5,
             "#f7f7f7"
            ],
            [
             0.6,
             "#e6f5d0"
            ],
            [
             0.7,
             "#b8e186"
            ],
            [
             0.8,
             "#7fbc41"
            ],
            [
             0.9,
             "#4d9221"
            ],
            [
             1,
             "#276419"
            ]
           ],
           "sequential": [
            [
             0,
             "#0d0887"
            ],
            [
             0.1111111111111111,
             "#46039f"
            ],
            [
             0.2222222222222222,
             "#7201a8"
            ],
            [
             0.3333333333333333,
             "#9c179e"
            ],
            [
             0.4444444444444444,
             "#bd3786"
            ],
            [
             0.5555555555555556,
             "#d8576b"
            ],
            [
             0.6666666666666666,
             "#ed7953"
            ],
            [
             0.7777777777777778,
             "#fb9f3a"
            ],
            [
             0.8888888888888888,
             "#fdca26"
            ],
            [
             1,
             "#f0f921"
            ]
           ],
           "sequentialminus": [
            [
             0,
             "#0d0887"
            ],
            [
             0.1111111111111111,
             "#46039f"
            ],
            [
             0.2222222222222222,
             "#7201a8"
            ],
            [
             0.3333333333333333,
             "#9c179e"
            ],
            [
             0.4444444444444444,
             "#bd3786"
            ],
            [
             0.5555555555555556,
             "#d8576b"
            ],
            [
             0.6666666666666666,
             "#ed7953"
            ],
            [
             0.7777777777777778,
             "#fb9f3a"
            ],
            [
             0.8888888888888888,
             "#fdca26"
            ],
            [
             1,
             "#f0f921"
            ]
           ]
          },
          "colorway": [
           "#636efa",
           "#EF553B",
           "#00cc96",
           "#ab63fa",
           "#FFA15A",
           "#19d3f3",
           "#FF6692",
           "#B6E880",
           "#FF97FF",
           "#FECB52"
          ],
          "font": {
           "color": "#2a3f5f"
          },
          "geo": {
           "bgcolor": "white",
           "lakecolor": "white",
           "landcolor": "#E5ECF6",
           "showlakes": true,
           "showland": true,
           "subunitcolor": "white"
          },
          "hoverlabel": {
           "align": "left"
          },
          "hovermode": "closest",
          "mapbox": {
           "style": "light"
          },
          "paper_bgcolor": "white",
          "plot_bgcolor": "#E5ECF6",
          "polar": {
           "angularaxis": {
            "gridcolor": "white",
            "linecolor": "white",
            "ticks": ""
           },
           "bgcolor": "#E5ECF6",
           "radialaxis": {
            "gridcolor": "white",
            "linecolor": "white",
            "ticks": ""
           }
          },
          "scene": {
           "xaxis": {
            "backgroundcolor": "#E5ECF6",
            "gridcolor": "white",
            "gridwidth": 2,
            "linecolor": "white",
            "showbackground": true,
            "ticks": "",
            "zerolinecolor": "white"
           },
           "yaxis": {
            "backgroundcolor": "#E5ECF6",
            "gridcolor": "white",
            "gridwidth": 2,
            "linecolor": "white",
            "showbackground": true,
            "ticks": "",
            "zerolinecolor": "white"
           },
           "zaxis": {
            "backgroundcolor": "#E5ECF6",
            "gridcolor": "white",
            "gridwidth": 2,
            "linecolor": "white",
            "showbackground": true,
            "ticks": "",
            "zerolinecolor": "white"
           }
          },
          "shapedefaults": {
           "line": {
            "color": "#2a3f5f"
           }
          },
          "ternary": {
           "aaxis": {
            "gridcolor": "white",
            "linecolor": "white",
            "ticks": ""
           },
           "baxis": {
            "gridcolor": "white",
            "linecolor": "white",
            "ticks": ""
           },
           "bgcolor": "#E5ECF6",
           "caxis": {
            "gridcolor": "white",
            "linecolor": "white",
            "ticks": ""
           }
          },
          "title": {
           "x": 0.05
          },
          "xaxis": {
           "automargin": true,
           "gridcolor": "white",
           "linecolor": "white",
           "ticks": "",
           "title": {
            "standoff": 15
           },
           "zerolinecolor": "white",
           "zerolinewidth": 2
          },
          "yaxis": {
           "automargin": true,
           "gridcolor": "white",
           "linecolor": "white",
           "ticks": "",
           "title": {
            "standoff": 15
           },
           "zerolinecolor": "white",
           "zerolinewidth": 2
          }
         }
        },
        "title": {
         "font": {
          "color": "#4D5663"
         }
        },
        "xaxis": {
         "gridcolor": "#E1E5ED",
         "showgrid": true,
         "tickfont": {
          "color": "#4D5663"
         },
         "title": {
          "font": {
           "color": "#4D5663"
          },
          "text": ""
         },
         "zerolinecolor": "#E1E5ED"
        },
        "yaxis": {
         "gridcolor": "#E1E5ED",
         "showgrid": true,
         "tickfont": {
          "color": "#4D5663"
         },
         "title": {
          "font": {
           "color": "#4D5663"
          },
          "text": ""
         },
         "zerolinecolor": "#E1E5ED"
        }
       }
      },
      "text/html": [
       "<div>\n",
       "        \n",
       "        \n",
       "            <div id=\"6a356f8b-2052-4033-87e7-906b9912cc78\" class=\"plotly-graph-div\" style=\"height:525px; width:100%;\"></div>\n",
       "            <script type=\"text/javascript\">\n",
       "                require([\"plotly\"], function(Plotly) {\n",
       "                    window.PLOTLYENV=window.PLOTLYENV || {};\n",
       "                    window.PLOTLYENV.BASE_URL='https://plot.ly';\n",
       "                    \n",
       "                if (document.getElementById(\"6a356f8b-2052-4033-87e7-906b9912cc78\")) {\n",
       "                    Plotly.newPlot(\n",
       "                        '6a356f8b-2052-4033-87e7-906b9912cc78',\n",
       "                        [{\"colorscale\": [[0.0, \"rgb(165,0,38)\"], [0.1, \"rgb(215,48,39)\"], [0.2, \"rgb(244,109,67)\"], [0.3, \"rgb(253,174,97)\"], [0.4, \"rgb(254,224,144)\"], [0.5, \"rgb(255,255,191)\"], [0.6, \"rgb(224,243,248)\"], [0.7, \"rgb(171,217,233)\"], [0.8, \"rgb(116,173,209)\"], [0.9, \"rgb(69,117,180)\"], [1.0, \"rgb(49,54,149)\"]], \"type\": \"surface\", \"x\": [0, 1, 2, 3, 4], \"y\": [\"x\", \"y\", \"z\"], \"z\": [[1, 2, 3, 4, 5], [10, 20, 30, 20, 10], [5, 4, 3, 2, 1]]}],\n",
       "                        {\"legend\": {\"bgcolor\": \"#F5F6F9\", \"font\": {\"color\": \"#4D5663\"}}, \"paper_bgcolor\": \"#F5F6F9\", \"plot_bgcolor\": \"#F5F6F9\", \"template\": {\"data\": {\"bar\": [{\"error_x\": {\"color\": \"#2a3f5f\"}, \"error_y\": {\"color\": \"#2a3f5f\"}, \"marker\": {\"line\": {\"color\": \"#E5ECF6\", \"width\": 0.5}}, \"type\": \"bar\"}], \"barpolar\": [{\"marker\": {\"line\": {\"color\": \"#E5ECF6\", \"width\": 0.5}}, \"type\": \"barpolar\"}], \"carpet\": [{\"aaxis\": {\"endlinecolor\": \"#2a3f5f\", \"gridcolor\": \"white\", \"linecolor\": \"white\", \"minorgridcolor\": \"white\", \"startlinecolor\": \"#2a3f5f\"}, \"baxis\": {\"endlinecolor\": \"#2a3f5f\", \"gridcolor\": \"white\", \"linecolor\": \"white\", \"minorgridcolor\": \"white\", \"startlinecolor\": \"#2a3f5f\"}, \"type\": \"carpet\"}], \"choropleth\": [{\"colorbar\": {\"outlinewidth\": 0, \"ticks\": \"\"}, \"type\": \"choropleth\"}], \"contour\": [{\"colorbar\": {\"outlinewidth\": 0, \"ticks\": \"\"}, \"colorscale\": [[0.0, \"#0d0887\"], [0.1111111111111111, \"#46039f\"], [0.2222222222222222, \"#7201a8\"], [0.3333333333333333, \"#9c179e\"], [0.4444444444444444, \"#bd3786\"], [0.5555555555555556, \"#d8576b\"], [0.6666666666666666, \"#ed7953\"], [0.7777777777777778, \"#fb9f3a\"], [0.8888888888888888, \"#fdca26\"], [1.0, \"#f0f921\"]], \"type\": \"contour\"}], \"contourcarpet\": [{\"colorbar\": {\"outlinewidth\": 0, \"ticks\": \"\"}, \"type\": \"contourcarpet\"}], \"heatmap\": [{\"colorbar\": {\"outlinewidth\": 0, \"ticks\": \"\"}, \"colorscale\": [[0.0, \"#0d0887\"], [0.1111111111111111, \"#46039f\"], [0.2222222222222222, \"#7201a8\"], [0.3333333333333333, \"#9c179e\"], [0.4444444444444444, \"#bd3786\"], [0.5555555555555556, \"#d8576b\"], [0.6666666666666666, \"#ed7953\"], [0.7777777777777778, \"#fb9f3a\"], [0.8888888888888888, \"#fdca26\"], [1.0, \"#f0f921\"]], \"type\": \"heatmap\"}], \"heatmapgl\": [{\"colorbar\": {\"outlinewidth\": 0, \"ticks\": \"\"}, \"colorscale\": [[0.0, \"#0d0887\"], [0.1111111111111111, \"#46039f\"], [0.2222222222222222, \"#7201a8\"], [0.3333333333333333, \"#9c179e\"], [0.4444444444444444, \"#bd3786\"], [0.5555555555555556, \"#d8576b\"], [0.6666666666666666, \"#ed7953\"], [0.7777777777777778, \"#fb9f3a\"], [0.8888888888888888, \"#fdca26\"], [1.0, \"#f0f921\"]], \"type\": \"heatmapgl\"}], \"histogram\": [{\"marker\": {\"colorbar\": {\"outlinewidth\": 0, \"ticks\": \"\"}}, \"type\": \"histogram\"}], \"histogram2d\": [{\"colorbar\": {\"outlinewidth\": 0, \"ticks\": \"\"}, \"colorscale\": [[0.0, \"#0d0887\"], [0.1111111111111111, \"#46039f\"], [0.2222222222222222, \"#7201a8\"], [0.3333333333333333, \"#9c179e\"], [0.4444444444444444, \"#bd3786\"], [0.5555555555555556, \"#d8576b\"], [0.6666666666666666, \"#ed7953\"], [0.7777777777777778, \"#fb9f3a\"], [0.8888888888888888, \"#fdca26\"], [1.0, \"#f0f921\"]], \"type\": \"histogram2d\"}], \"histogram2dcontour\": [{\"colorbar\": {\"outlinewidth\": 0, \"ticks\": \"\"}, \"colorscale\": [[0.0, \"#0d0887\"], [0.1111111111111111, \"#46039f\"], [0.2222222222222222, \"#7201a8\"], [0.3333333333333333, \"#9c179e\"], [0.4444444444444444, \"#bd3786\"], [0.5555555555555556, \"#d8576b\"], [0.6666666666666666, \"#ed7953\"], [0.7777777777777778, \"#fb9f3a\"], [0.8888888888888888, \"#fdca26\"], [1.0, \"#f0f921\"]], \"type\": \"histogram2dcontour\"}], \"mesh3d\": [{\"colorbar\": {\"outlinewidth\": 0, \"ticks\": \"\"}, \"type\": \"mesh3d\"}], \"parcoords\": [{\"line\": {\"colorbar\": {\"outlinewidth\": 0, \"ticks\": \"\"}}, \"type\": \"parcoords\"}], \"pie\": [{\"automargin\": true, \"type\": \"pie\"}], \"scatter\": [{\"marker\": {\"colorbar\": {\"outlinewidth\": 0, \"ticks\": \"\"}}, \"type\": \"scatter\"}], \"scatter3d\": [{\"line\": {\"colorbar\": {\"outlinewidth\": 0, \"ticks\": \"\"}}, \"marker\": {\"colorbar\": {\"outlinewidth\": 0, \"ticks\": \"\"}}, \"type\": \"scatter3d\"}], \"scattercarpet\": [{\"marker\": {\"colorbar\": {\"outlinewidth\": 0, \"ticks\": \"\"}}, \"type\": \"scattercarpet\"}], \"scattergeo\": [{\"marker\": {\"colorbar\": {\"outlinewidth\": 0, \"ticks\": \"\"}}, \"type\": \"scattergeo\"}], \"scattergl\": [{\"marker\": {\"colorbar\": {\"outlinewidth\": 0, \"ticks\": \"\"}}, \"type\": \"scattergl\"}], \"scattermapbox\": [{\"marker\": {\"colorbar\": {\"outlinewidth\": 0, \"ticks\": \"\"}}, \"type\": \"scattermapbox\"}], \"scatterpolar\": [{\"marker\": {\"colorbar\": {\"outlinewidth\": 0, \"ticks\": \"\"}}, \"type\": \"scatterpolar\"}], \"scatterpolargl\": [{\"marker\": {\"colorbar\": {\"outlinewidth\": 0, \"ticks\": \"\"}}, \"type\": \"scatterpolargl\"}], \"scatterternary\": [{\"marker\": {\"colorbar\": {\"outlinewidth\": 0, \"ticks\": \"\"}}, \"type\": \"scatterternary\"}], \"surface\": [{\"colorbar\": {\"outlinewidth\": 0, \"ticks\": \"\"}, \"colorscale\": [[0.0, \"#0d0887\"], [0.1111111111111111, \"#46039f\"], [0.2222222222222222, \"#7201a8\"], [0.3333333333333333, \"#9c179e\"], [0.4444444444444444, \"#bd3786\"], [0.5555555555555556, \"#d8576b\"], [0.6666666666666666, \"#ed7953\"], [0.7777777777777778, \"#fb9f3a\"], [0.8888888888888888, \"#fdca26\"], [1.0, \"#f0f921\"]], \"type\": \"surface\"}], \"table\": [{\"cells\": {\"fill\": {\"color\": \"#EBF0F8\"}, \"line\": {\"color\": \"white\"}}, \"header\": {\"fill\": {\"color\": \"#C8D4E3\"}, \"line\": {\"color\": \"white\"}}, \"type\": \"table\"}]}, \"layout\": {\"annotationdefaults\": {\"arrowcolor\": \"#2a3f5f\", \"arrowhead\": 0, \"arrowwidth\": 1}, \"coloraxis\": {\"colorbar\": {\"outlinewidth\": 0, \"ticks\": \"\"}}, \"colorscale\": {\"diverging\": [[0, \"#8e0152\"], [0.1, \"#c51b7d\"], [0.2, \"#de77ae\"], [0.3, \"#f1b6da\"], [0.4, \"#fde0ef\"], [0.5, \"#f7f7f7\"], [0.6, \"#e6f5d0\"], [0.7, \"#b8e186\"], [0.8, \"#7fbc41\"], [0.9, \"#4d9221\"], [1, \"#276419\"]], \"sequential\": [[0.0, \"#0d0887\"], [0.1111111111111111, \"#46039f\"], [0.2222222222222222, \"#7201a8\"], [0.3333333333333333, \"#9c179e\"], [0.4444444444444444, \"#bd3786\"], [0.5555555555555556, \"#d8576b\"], [0.6666666666666666, \"#ed7953\"], [0.7777777777777778, \"#fb9f3a\"], [0.8888888888888888, \"#fdca26\"], [1.0, \"#f0f921\"]], \"sequentialminus\": [[0.0, \"#0d0887\"], [0.1111111111111111, \"#46039f\"], [0.2222222222222222, \"#7201a8\"], [0.3333333333333333, \"#9c179e\"], [0.4444444444444444, \"#bd3786\"], [0.5555555555555556, \"#d8576b\"], [0.6666666666666666, \"#ed7953\"], [0.7777777777777778, \"#fb9f3a\"], [0.8888888888888888, \"#fdca26\"], [1.0, \"#f0f921\"]]}, \"colorway\": [\"#636efa\", \"#EF553B\", \"#00cc96\", \"#ab63fa\", \"#FFA15A\", \"#19d3f3\", \"#FF6692\", \"#B6E880\", \"#FF97FF\", \"#FECB52\"], \"font\": {\"color\": \"#2a3f5f\"}, \"geo\": {\"bgcolor\": \"white\", \"lakecolor\": \"white\", \"landcolor\": \"#E5ECF6\", \"showlakes\": true, \"showland\": true, \"subunitcolor\": \"white\"}, \"hoverlabel\": {\"align\": \"left\"}, \"hovermode\": \"closest\", \"mapbox\": {\"style\": \"light\"}, \"paper_bgcolor\": \"white\", \"plot_bgcolor\": \"#E5ECF6\", \"polar\": {\"angularaxis\": {\"gridcolor\": \"white\", \"linecolor\": \"white\", \"ticks\": \"\"}, \"bgcolor\": \"#E5ECF6\", \"radialaxis\": {\"gridcolor\": \"white\", \"linecolor\": \"white\", \"ticks\": \"\"}}, \"scene\": {\"xaxis\": {\"backgroundcolor\": \"#E5ECF6\", \"gridcolor\": \"white\", \"gridwidth\": 2, \"linecolor\": \"white\", \"showbackground\": true, \"ticks\": \"\", \"zerolinecolor\": \"white\"}, \"yaxis\": {\"backgroundcolor\": \"#E5ECF6\", \"gridcolor\": \"white\", \"gridwidth\": 2, \"linecolor\": \"white\", \"showbackground\": true, \"ticks\": \"\", \"zerolinecolor\": \"white\"}, \"zaxis\": {\"backgroundcolor\": \"#E5ECF6\", \"gridcolor\": \"white\", \"gridwidth\": 2, \"linecolor\": \"white\", \"showbackground\": true, \"ticks\": \"\", \"zerolinecolor\": \"white\"}}, \"shapedefaults\": {\"line\": {\"color\": \"#2a3f5f\"}}, \"ternary\": {\"aaxis\": {\"gridcolor\": \"white\", \"linecolor\": \"white\", \"ticks\": \"\"}, \"baxis\": {\"gridcolor\": \"white\", \"linecolor\": \"white\", \"ticks\": \"\"}, \"bgcolor\": \"#E5ECF6\", \"caxis\": {\"gridcolor\": \"white\", \"linecolor\": \"white\", \"ticks\": \"\"}}, \"title\": {\"x\": 0.05}, \"xaxis\": {\"automargin\": true, \"gridcolor\": \"white\", \"linecolor\": \"white\", \"ticks\": \"\", \"title\": {\"standoff\": 15}, \"zerolinecolor\": \"white\", \"zerolinewidth\": 2}, \"yaxis\": {\"automargin\": true, \"gridcolor\": \"white\", \"linecolor\": \"white\", \"ticks\": \"\", \"title\": {\"standoff\": 15}, \"zerolinecolor\": \"white\", \"zerolinewidth\": 2}}}, \"title\": {\"font\": {\"color\": \"#4D5663\"}}, \"xaxis\": {\"gridcolor\": \"#E1E5ED\", \"showgrid\": true, \"tickfont\": {\"color\": \"#4D5663\"}, \"title\": {\"font\": {\"color\": \"#4D5663\"}, \"text\": \"\"}, \"zerolinecolor\": \"#E1E5ED\"}, \"yaxis\": {\"gridcolor\": \"#E1E5ED\", \"showgrid\": true, \"tickfont\": {\"color\": \"#4D5663\"}, \"title\": {\"font\": {\"color\": \"#4D5663\"}, \"text\": \"\"}, \"zerolinecolor\": \"#E1E5ED\"}},\n",
       "                        {\"showLink\": true, \"linkText\": \"Export to plot.ly\", \"plotlyServerURL\": \"https://plot.ly\", \"responsive\": true}\n",
       "                    ).then(function(){\n",
       "                            \n",
       "var gd = document.getElementById('6a356f8b-2052-4033-87e7-906b9912cc78');\n",
       "var x = new MutationObserver(function (mutations, observer) {{\n",
       "        var display = window.getComputedStyle(gd).display;\n",
       "        if (!display || display === 'none') {{\n",
       "            console.log([gd, 'removed!']);\n",
       "            Plotly.purge(gd);\n",
       "            observer.disconnect();\n",
       "        }}\n",
       "}});\n",
       "\n",
       "// Listen for the removal of the full notebook cells\n",
       "var notebookContainer = gd.closest('#notebook-container');\n",
       "if (notebookContainer) {{\n",
       "    x.observe(notebookContainer, {childList: true});\n",
       "}}\n",
       "\n",
       "// Listen for the clearing of the current output cell\n",
       "var outputEl = gd.closest('.output');\n",
       "if (outputEl) {{\n",
       "    x.observe(outputEl, {childList: true});\n",
       "}}\n",
       "\n",
       "                        })\n",
       "                };\n",
       "                });\n",
       "            </script>\n",
       "        </div>"
      ]
     },
     "metadata": {},
     "output_type": "display_data"
    }
   ],
   "source": [
    "df3 = pd.DataFrame({'x':[1,2,3,4,5],'y':[10,20,30,20,10],'z':[5,4,3,2,1]})\n",
    "df3.iplot(kind='surface',colorscale='rdylbu')"
   ]
  },
  {
   "cell_type": "markdown",
   "metadata": {},
   "source": [
    "## Spread"
   ]
  },
  {
   "cell_type": "code",
   "execution_count": 15,
   "metadata": {},
   "outputs": [
    {
     "name": "stderr",
     "output_type": "stream",
     "text": [
      "C:\\Users\\Mahip\\anaconda3\\lib\\site-packages\\cufflinks\\plotlytools.py:849: FutureWarning:\n",
      "\n",
      "The pandas.np module is deprecated and will be removed from pandas in a future version. Import numpy directly instead\n",
      "\n",
      "C:\\Users\\Mahip\\anaconda3\\lib\\site-packages\\cufflinks\\plotlytools.py:850: FutureWarning:\n",
      "\n",
      "The pandas.np module is deprecated and will be removed from pandas in a future version. Import numpy directly instead\n",
      "\n"
     ]
    },
    {
     "data": {
      "application/vnd.plotly.v1+json": {
       "config": {
        "linkText": "Export to plot.ly",
        "plotlyServerURL": "https://plot.ly",
        "showLink": true
       },
       "data": [
        {
         "line": {
          "color": "rgba(255, 153, 51, 1.0)",
          "dash": "solid",
          "shape": "linear",
          "width": 1.3
         },
         "mode": "lines",
         "name": "A",
         "text": "",
         "type": "scatter",
         "x": [
          0,
          1,
          2,
          3,
          4,
          5,
          6,
          7,
          8,
          9,
          10,
          11,
          12,
          13,
          14,
          15,
          16,
          17,
          18,
          19,
          20,
          21,
          22,
          23,
          24,
          25,
          26,
          27,
          28,
          29,
          30,
          31,
          32,
          33,
          34,
          35,
          36,
          37,
          38,
          39,
          40,
          41,
          42,
          43,
          44,
          45,
          46,
          47,
          48,
          49,
          50,
          51,
          52,
          53,
          54,
          55,
          56,
          57,
          58,
          59,
          60,
          61,
          62,
          63,
          64,
          65,
          66,
          67,
          68,
          69,
          70,
          71,
          72,
          73,
          74,
          75,
          76,
          77,
          78,
          79,
          80,
          81,
          82,
          83,
          84,
          85,
          86,
          87,
          88,
          89,
          90,
          91,
          92,
          93,
          94,
          95,
          96,
          97,
          98,
          99
         ],
         "y": [
          0.21681727542441842,
          -1.9772885113327838,
          -0.5462132471505399,
          -0.6819819367976302,
          -1.0214246855639262,
          -1.4663406701189936,
          -1.3869714818665195,
          0.6792759180849723,
          0.003323249589601154,
          0.35263353393747643,
          -2.173396383826939,
          -0.39936467024163136,
          0.8835612461124585,
          1.748782428403716,
          1.2981444583558728,
          -0.32230543795352296,
          -2.2872486799886977,
          -0.9222217108403428,
          1.0586883344373945,
          -0.7728894682805112,
          0.1846911614370194,
          0.9551326809373836,
          0.06571449259757192,
          -0.2879721715497405,
          0.4192649222122794,
          -0.22975781578973978,
          1.1268507659495426,
          -0.8736355780617026,
          -0.49053047435131,
          -1.860305257457072,
          -1.3014448030976098,
          -0.7363205380791245,
          0.18582304290026405,
          -0.9193683541857193,
          -0.04760099120972285,
          1.1381969500860398,
          0.7132664776376054,
          -1.4059686462089924,
          0.12934554272216123,
          0.07709514927434992,
          1.2065139611399052,
          -0.2922868261161954,
          -0.6492118066817882,
          -2.7875169264679287,
          1.487366502025058,
          -0.27655005327292226,
          0.6720373114730019,
          1.0871682635420434,
          -1.2882506461748495,
          -1.1688212881513926,
          2.1650038192151153,
          0.9167077936678667,
          -0.6828969660269069,
          -0.362244895015562,
          -0.09097710761368762,
          1.1693454323863541,
          -1.0802438914386934,
          1.6878002831003949,
          -0.7579699094459557,
          -0.923800232625123,
          -2.114427367903597,
          -0.8129595596031683,
          -0.9012657916491319,
          -0.5455684789811972,
          0.003975478803318766,
          1.1179112763539043,
          0.9018043992546574,
          -0.8986152080322387,
          -0.21730607952635342,
          -0.5377706905229709,
          0.7182445328073375,
          1.3848319307421704,
          0.2073759925829057,
          0.7458428658575877,
          -1.1782479208176158,
          0.7308951672261628,
          1.2742068212954676,
          -0.5091233276267916,
          1.2123761493889964,
          -0.8696175139611265,
          0.05467665427955305,
          -0.10334873767188274,
          -0.8969549934246617,
          -0.5115917199381562,
          0.19375254046062468,
          1.148982738277355,
          -0.7879074944195215,
          0.20254895860414326,
          -0.10967627777498896,
          0.4834359516159212,
          0.26554038535107627,
          0.8015719884092859,
          -1.727774502348332,
          -0.8585361784135981,
          2.215116094482056,
          -0.8258598941353283,
          0.2927407389721164,
          -0.5278021971348248,
          -0.37959624617078397,
          -0.902146704300605
         ]
        },
        {
         "line": {
          "color": "rgba(55, 128, 191, 1.0)",
          "dash": "solid",
          "shape": "linear",
          "width": 1.3
         },
         "mode": "lines",
         "name": "B",
         "text": "",
         "type": "scatter",
         "x": [
          0,
          1,
          2,
          3,
          4,
          5,
          6,
          7,
          8,
          9,
          10,
          11,
          12,
          13,
          14,
          15,
          16,
          17,
          18,
          19,
          20,
          21,
          22,
          23,
          24,
          25,
          26,
          27,
          28,
          29,
          30,
          31,
          32,
          33,
          34,
          35,
          36,
          37,
          38,
          39,
          40,
          41,
          42,
          43,
          44,
          45,
          46,
          47,
          48,
          49,
          50,
          51,
          52,
          53,
          54,
          55,
          56,
          57,
          58,
          59,
          60,
          61,
          62,
          63,
          64,
          65,
          66,
          67,
          68,
          69,
          70,
          71,
          72,
          73,
          74,
          75,
          76,
          77,
          78,
          79,
          80,
          81,
          82,
          83,
          84,
          85,
          86,
          87,
          88,
          89,
          90,
          91,
          92,
          93,
          94,
          95,
          96,
          97,
          98,
          99
         ],
         "y": [
          -0.5744108505115697,
          1.3250127875694866,
          1.0609501013173488,
          1.4471358685229194,
          1.636441501367267,
          0.3591387809175054,
          -0.008677973283243321,
          1.2483095611775963,
          -0.3377835165446373,
          2.2936306970939824,
          1.4935410087314982,
          -1.1678829013387353,
          -0.4302557027404968,
          -1.2175853872046736,
          0.9976278820986041,
          1.8542346052856826,
          -0.3336832591907579,
          0.4305648305343407,
          -0.3413782131381251,
          1.885562577489426,
          -1.167728416431715,
          -0.25855441335933166,
          0.8457605079877005,
          1.786687191313069,
          -0.08016895736742227,
          -0.1675114125436269,
          0.6660676823694558,
          0.45908821282456685,
          0.024217153209860284,
          -1.256145709598057,
          -0.04627554807779002,
          -1.0138047364711658,
          0.8176005919444439,
          0.7242425774053408,
          1.0121548452900764,
          0.08734325694977876,
          -0.6137761053906247,
          0.19046996905840896,
          -0.199575010944785,
          1.763674923294254,
          0.7998263899160724,
          0.4694877243781425,
          -0.18758354700512347,
          -0.27105335552054344,
          0.2000247639308463,
          0.828433270741575,
          -0.7058613693027531,
          1.8623140211472056,
          2.1618073436752887,
          -1.7317496849627836,
          -0.3992836362099629,
          -2.2223897210323944,
          1.3436501899446402,
          -1.1852917082259877,
          0.4828293211581265,
          -1.9592110315381874,
          1.507469336916762,
          -0.0700760714281321,
          0.8282896907807905,
          -1.997244238790069,
          0.4585925848688841,
          -1.4981223246453403,
          -0.31732990651485327,
          1.8869775085501947,
          1.1584731749792427,
          1.0273130448326746,
          0.19508827087091382,
          1.4258471228220166,
          0.5788535326226437,
          -0.299954280656903,
          -0.3998410210242254,
          -0.35031737167406823,
          0.8832288439399775,
          0.21669465213116756,
          1.5391788486551,
          0.4271428089617199,
          -0.5953874578026,
          -0.6572397682085748,
          -0.26642398341379453,
          0.5076714514941331,
          -0.49600297058156256,
          -0.04379002145007061,
          0.13194756351743006,
          1.3883149776748287,
          0.6451060566263321,
          -0.7813472507428276,
          -0.9010886847348751,
          -0.07420666006715997,
          2.1058526584425343,
          1.5004904613813166,
          -0.8716479253418286,
          -1.0163449295692388,
          -0.006685171080727264,
          -1.2081557920076373,
          0.046997033531740375,
          -1.0292765217406235,
          -0.5659707554107236,
          0.5939692678161016,
          1.32004815915914,
          1.693620985365639
         ]
        },
        {
         "connectgaps": false,
         "fill": "tozeroy",
         "line": {
          "color": "green",
          "dash": "solid",
          "shape": "linear",
          "width": 0.5
         },
         "mode": "lines",
         "name": "Spread",
         "showlegend": false,
         "type": "scatter",
         "x": [
          0,
          1,
          2,
          3,
          4,
          5,
          6,
          7,
          8,
          9,
          10,
          11,
          12,
          13,
          14,
          15,
          16,
          17,
          18,
          19,
          20,
          21,
          22,
          23,
          24,
          25,
          26,
          27,
          28,
          29,
          30,
          31,
          32,
          33,
          34,
          35,
          36,
          37,
          38,
          39,
          40,
          41,
          42,
          43,
          44,
          45,
          46,
          47,
          48,
          49,
          50,
          51,
          52,
          53,
          54,
          55,
          56,
          57,
          58,
          59,
          60,
          61,
          62,
          63,
          64,
          65,
          66,
          67,
          68,
          69,
          70,
          71,
          72,
          73,
          74,
          75,
          76,
          77,
          78,
          79,
          80,
          81,
          82,
          83,
          84,
          85,
          86,
          87,
          88,
          89,
          90,
          91,
          92,
          93,
          94,
          95,
          96,
          97,
          98,
          99
         ],
         "xaxis": "x2",
         "y": [
          0.7912281259359881,
          "",
          "",
          "",
          "",
          "",
          "",
          "",
          0.34110676613423846,
          "",
          "",
          0.7685182310971039,
          1.3138169488529552,
          2.9663678156083897,
          0.3005165762572687,
          "",
          "",
          "",
          1.4000665475755196,
          "",
          1.3524195778687345,
          1.2136870942967153,
          "",
          "",
          0.49943387957970165,
          "",
          0.4607830835800868,
          "",
          "",
          "",
          "",
          0.2774841983920413,
          "",
          "",
          "",
          1.050853693136261,
          1.3270425830282302,
          "",
          0.3289205536669462,
          "",
          0.4066875712238328,
          "",
          "",
          "",
          1.2873417380942116,
          "",
          1.377898680775755,
          "",
          "",
          0.562928396811391,
          2.5642874554250783,
          3.139097514700261,
          "",
          0.8230468132104257,
          "",
          3.1285564639245416,
          "",
          1.757876354528527,
          "",
          1.0734440061649462,
          "",
          0.685162765042172,
          "",
          "",
          "",
          0.0905982315212297,
          0.7067161283837435,
          "",
          "",
          "",
          1.1180855538315628,
          1.7351493024162385,
          "",
          0.5291482137264202,
          "",
          0.30375235826444286,
          1.8695942790980675,
          0.1481164405817832,
          1.4788001328027909,
          "",
          0.5506796248611157,
          "",
          "",
          "",
          "",
          1.9303299890201826,
          0.11318119031535367,
          0.2767556186713032,
          "",
          "",
          1.1371883106929048,
          1.8179169179785246,
          "",
          0.34961961359403926,
          2.168119060950316,
          0.2034166276052951,
          0.85871149438284,
          "",
          "",
          ""
         ],
         "yaxis": "y2"
        },
        {
         "connectgaps": false,
         "fill": "tozeroy",
         "line": {
          "color": "red",
          "dash": "solid",
          "shape": "linear",
          "width": 0.5
         },
         "mode": "lines",
         "name": "Spread",
         "showlegend": false,
         "type": "scatter",
         "x": [
          0,
          1,
          2,
          3,
          4,
          5,
          6,
          7,
          8,
          9,
          10,
          11,
          12,
          13,
          14,
          15,
          16,
          17,
          18,
          19,
          20,
          21,
          22,
          23,
          24,
          25,
          26,
          27,
          28,
          29,
          30,
          31,
          32,
          33,
          34,
          35,
          36,
          37,
          38,
          39,
          40,
          41,
          42,
          43,
          44,
          45,
          46,
          47,
          48,
          49,
          50,
          51,
          52,
          53,
          54,
          55,
          56,
          57,
          58,
          59,
          60,
          61,
          62,
          63,
          64,
          65,
          66,
          67,
          68,
          69,
          70,
          71,
          72,
          73,
          74,
          75,
          76,
          77,
          78,
          79,
          80,
          81,
          82,
          83,
          84,
          85,
          86,
          87,
          88,
          89,
          90,
          91,
          92,
          93,
          94,
          95,
          96,
          97,
          98,
          99
         ],
         "xaxis": "x2",
         "y": [
          "",
          -3.3023012989022704,
          -1.6071633484678887,
          -2.1291178053205497,
          -2.6578661869311935,
          -1.825479451036499,
          -1.3782935085832762,
          -0.5690336430926239,
          "",
          -1.940997163156506,
          -3.666937392558437,
          "",
          "",
          "",
          "",
          -2.1765400432392057,
          -1.9535654207979398,
          -1.3527865413746833,
          "",
          -2.658452045769937,
          "",
          "",
          -0.7800460153901286,
          -2.0746593628628096,
          "",
          -0.062246403246112886,
          "",
          -1.3327237908862695,
          -0.5147476275611702,
          -0.6041595478590149,
          -1.2551692550198197,
          "",
          -0.6317775490441798,
          -1.64361093159106,
          -1.0597558364997992,
          "",
          "",
          -1.5964386152674015,
          "",
          -1.686579774019904,
          "",
          -0.7617745504943378,
          -0.46162825967666477,
          -2.5164635709473853,
          "",
          -1.1049833240144973,
          "",
          -0.7751457576051621,
          -3.450057989850138,
          "",
          "",
          "",
          -2.026547155971547,
          "",
          -0.5738064287718141,
          "",
          -2.5877132283554554,
          "",
          -1.5862596002267462,
          "",
          -2.573019952772481,
          "",
          -0.5839358851342786,
          -2.432545987531392,
          -1.154497696175924,
          "",
          "",
          -2.3244623308542556,
          -0.7961596121489971,
          -0.2378164098660679,
          "",
          "",
          -0.6758528513570717,
          "",
          -2.7174267694727154,
          "",
          "",
          "",
          "",
          -1.3772889654552596,
          "",
          -0.05955871622181213,
          -1.0289025569420918,
          -1.8999066976129848,
          -0.45135351616570746,
          "",
          "",
          "",
          -2.2155289362175234,
          -1.0170545097653954,
          "",
          "",
          -1.7210893312676048,
          "",
          "",
          "",
          "",
          -1.1217714649509265,
          -1.699644405329924,
          -2.595767689666244
         ],
         "yaxis": "y2"
        }
       ],
       "layout": {
        "hovermode": "x",
        "legend": {
         "bgcolor": "#F5F6F9",
         "font": {
          "color": "#4D5663"
         }
        },
        "paper_bgcolor": "#F5F6F9",
        "plot_bgcolor": "#F5F6F9",
        "template": {
         "data": {
          "bar": [
           {
            "error_x": {
             "color": "#2a3f5f"
            },
            "error_y": {
             "color": "#2a3f5f"
            },
            "marker": {
             "line": {
              "color": "#E5ECF6",
              "width": 0.5
             }
            },
            "type": "bar"
           }
          ],
          "barpolar": [
           {
            "marker": {
             "line": {
              "color": "#E5ECF6",
              "width": 0.5
             }
            },
            "type": "barpolar"
           }
          ],
          "carpet": [
           {
            "aaxis": {
             "endlinecolor": "#2a3f5f",
             "gridcolor": "white",
             "linecolor": "white",
             "minorgridcolor": "white",
             "startlinecolor": "#2a3f5f"
            },
            "baxis": {
             "endlinecolor": "#2a3f5f",
             "gridcolor": "white",
             "linecolor": "white",
             "minorgridcolor": "white",
             "startlinecolor": "#2a3f5f"
            },
            "type": "carpet"
           }
          ],
          "choropleth": [
           {
            "colorbar": {
             "outlinewidth": 0,
             "ticks": ""
            },
            "type": "choropleth"
           }
          ],
          "contour": [
           {
            "colorbar": {
             "outlinewidth": 0,
             "ticks": ""
            },
            "colorscale": [
             [
              0,
              "#0d0887"
             ],
             [
              0.1111111111111111,
              "#46039f"
             ],
             [
              0.2222222222222222,
              "#7201a8"
             ],
             [
              0.3333333333333333,
              "#9c179e"
             ],
             [
              0.4444444444444444,
              "#bd3786"
             ],
             [
              0.5555555555555556,
              "#d8576b"
             ],
             [
              0.6666666666666666,
              "#ed7953"
             ],
             [
              0.7777777777777778,
              "#fb9f3a"
             ],
             [
              0.8888888888888888,
              "#fdca26"
             ],
             [
              1,
              "#f0f921"
             ]
            ],
            "type": "contour"
           }
          ],
          "contourcarpet": [
           {
            "colorbar": {
             "outlinewidth": 0,
             "ticks": ""
            },
            "type": "contourcarpet"
           }
          ],
          "heatmap": [
           {
            "colorbar": {
             "outlinewidth": 0,
             "ticks": ""
            },
            "colorscale": [
             [
              0,
              "#0d0887"
             ],
             [
              0.1111111111111111,
              "#46039f"
             ],
             [
              0.2222222222222222,
              "#7201a8"
             ],
             [
              0.3333333333333333,
              "#9c179e"
             ],
             [
              0.4444444444444444,
              "#bd3786"
             ],
             [
              0.5555555555555556,
              "#d8576b"
             ],
             [
              0.6666666666666666,
              "#ed7953"
             ],
             [
              0.7777777777777778,
              "#fb9f3a"
             ],
             [
              0.8888888888888888,
              "#fdca26"
             ],
             [
              1,
              "#f0f921"
             ]
            ],
            "type": "heatmap"
           }
          ],
          "heatmapgl": [
           {
            "colorbar": {
             "outlinewidth": 0,
             "ticks": ""
            },
            "colorscale": [
             [
              0,
              "#0d0887"
             ],
             [
              0.1111111111111111,
              "#46039f"
             ],
             [
              0.2222222222222222,
              "#7201a8"
             ],
             [
              0.3333333333333333,
              "#9c179e"
             ],
             [
              0.4444444444444444,
              "#bd3786"
             ],
             [
              0.5555555555555556,
              "#d8576b"
             ],
             [
              0.6666666666666666,
              "#ed7953"
             ],
             [
              0.7777777777777778,
              "#fb9f3a"
             ],
             [
              0.8888888888888888,
              "#fdca26"
             ],
             [
              1,
              "#f0f921"
             ]
            ],
            "type": "heatmapgl"
           }
          ],
          "histogram": [
           {
            "marker": {
             "colorbar": {
              "outlinewidth": 0,
              "ticks": ""
             }
            },
            "type": "histogram"
           }
          ],
          "histogram2d": [
           {
            "colorbar": {
             "outlinewidth": 0,
             "ticks": ""
            },
            "colorscale": [
             [
              0,
              "#0d0887"
             ],
             [
              0.1111111111111111,
              "#46039f"
             ],
             [
              0.2222222222222222,
              "#7201a8"
             ],
             [
              0.3333333333333333,
              "#9c179e"
             ],
             [
              0.4444444444444444,
              "#bd3786"
             ],
             [
              0.5555555555555556,
              "#d8576b"
             ],
             [
              0.6666666666666666,
              "#ed7953"
             ],
             [
              0.7777777777777778,
              "#fb9f3a"
             ],
             [
              0.8888888888888888,
              "#fdca26"
             ],
             [
              1,
              "#f0f921"
             ]
            ],
            "type": "histogram2d"
           }
          ],
          "histogram2dcontour": [
           {
            "colorbar": {
             "outlinewidth": 0,
             "ticks": ""
            },
            "colorscale": [
             [
              0,
              "#0d0887"
             ],
             [
              0.1111111111111111,
              "#46039f"
             ],
             [
              0.2222222222222222,
              "#7201a8"
             ],
             [
              0.3333333333333333,
              "#9c179e"
             ],
             [
              0.4444444444444444,
              "#bd3786"
             ],
             [
              0.5555555555555556,
              "#d8576b"
             ],
             [
              0.6666666666666666,
              "#ed7953"
             ],
             [
              0.7777777777777778,
              "#fb9f3a"
             ],
             [
              0.8888888888888888,
              "#fdca26"
             ],
             [
              1,
              "#f0f921"
             ]
            ],
            "type": "histogram2dcontour"
           }
          ],
          "mesh3d": [
           {
            "colorbar": {
             "outlinewidth": 0,
             "ticks": ""
            },
            "type": "mesh3d"
           }
          ],
          "parcoords": [
           {
            "line": {
             "colorbar": {
              "outlinewidth": 0,
              "ticks": ""
             }
            },
            "type": "parcoords"
           }
          ],
          "pie": [
           {
            "automargin": true,
            "type": "pie"
           }
          ],
          "scatter": [
           {
            "marker": {
             "colorbar": {
              "outlinewidth": 0,
              "ticks": ""
             }
            },
            "type": "scatter"
           }
          ],
          "scatter3d": [
           {
            "line": {
             "colorbar": {
              "outlinewidth": 0,
              "ticks": ""
             }
            },
            "marker": {
             "colorbar": {
              "outlinewidth": 0,
              "ticks": ""
             }
            },
            "type": "scatter3d"
           }
          ],
          "scattercarpet": [
           {
            "marker": {
             "colorbar": {
              "outlinewidth": 0,
              "ticks": ""
             }
            },
            "type": "scattercarpet"
           }
          ],
          "scattergeo": [
           {
            "marker": {
             "colorbar": {
              "outlinewidth": 0,
              "ticks": ""
             }
            },
            "type": "scattergeo"
           }
          ],
          "scattergl": [
           {
            "marker": {
             "colorbar": {
              "outlinewidth": 0,
              "ticks": ""
             }
            },
            "type": "scattergl"
           }
          ],
          "scattermapbox": [
           {
            "marker": {
             "colorbar": {
              "outlinewidth": 0,
              "ticks": ""
             }
            },
            "type": "scattermapbox"
           }
          ],
          "scatterpolar": [
           {
            "marker": {
             "colorbar": {
              "outlinewidth": 0,
              "ticks": ""
             }
            },
            "type": "scatterpolar"
           }
          ],
          "scatterpolargl": [
           {
            "marker": {
             "colorbar": {
              "outlinewidth": 0,
              "ticks": ""
             }
            },
            "type": "scatterpolargl"
           }
          ],
          "scatterternary": [
           {
            "marker": {
             "colorbar": {
              "outlinewidth": 0,
              "ticks": ""
             }
            },
            "type": "scatterternary"
           }
          ],
          "surface": [
           {
            "colorbar": {
             "outlinewidth": 0,
             "ticks": ""
            },
            "colorscale": [
             [
              0,
              "#0d0887"
             ],
             [
              0.1111111111111111,
              "#46039f"
             ],
             [
              0.2222222222222222,
              "#7201a8"
             ],
             [
              0.3333333333333333,
              "#9c179e"
             ],
             [
              0.4444444444444444,
              "#bd3786"
             ],
             [
              0.5555555555555556,
              "#d8576b"
             ],
             [
              0.6666666666666666,
              "#ed7953"
             ],
             [
              0.7777777777777778,
              "#fb9f3a"
             ],
             [
              0.8888888888888888,
              "#fdca26"
             ],
             [
              1,
              "#f0f921"
             ]
            ],
            "type": "surface"
           }
          ],
          "table": [
           {
            "cells": {
             "fill": {
              "color": "#EBF0F8"
             },
             "line": {
              "color": "white"
             }
            },
            "header": {
             "fill": {
              "color": "#C8D4E3"
             },
             "line": {
              "color": "white"
             }
            },
            "type": "table"
           }
          ]
         },
         "layout": {
          "annotationdefaults": {
           "arrowcolor": "#2a3f5f",
           "arrowhead": 0,
           "arrowwidth": 1
          },
          "coloraxis": {
           "colorbar": {
            "outlinewidth": 0,
            "ticks": ""
           }
          },
          "colorscale": {
           "diverging": [
            [
             0,
             "#8e0152"
            ],
            [
             0.1,
             "#c51b7d"
            ],
            [
             0.2,
             "#de77ae"
            ],
            [
             0.3,
             "#f1b6da"
            ],
            [
             0.4,
             "#fde0ef"
            ],
            [
             0.5,
             "#f7f7f7"
            ],
            [
             0.6,
             "#e6f5d0"
            ],
            [
             0.7,
             "#b8e186"
            ],
            [
             0.8,
             "#7fbc41"
            ],
            [
             0.9,
             "#4d9221"
            ],
            [
             1,
             "#276419"
            ]
           ],
           "sequential": [
            [
             0,
             "#0d0887"
            ],
            [
             0.1111111111111111,
             "#46039f"
            ],
            [
             0.2222222222222222,
             "#7201a8"
            ],
            [
             0.3333333333333333,
             "#9c179e"
            ],
            [
             0.4444444444444444,
             "#bd3786"
            ],
            [
             0.5555555555555556,
             "#d8576b"
            ],
            [
             0.6666666666666666,
             "#ed7953"
            ],
            [
             0.7777777777777778,
             "#fb9f3a"
            ],
            [
             0.8888888888888888,
             "#fdca26"
            ],
            [
             1,
             "#f0f921"
            ]
           ],
           "sequentialminus": [
            [
             0,
             "#0d0887"
            ],
            [
             0.1111111111111111,
             "#46039f"
            ],
            [
             0.2222222222222222,
             "#7201a8"
            ],
            [
             0.3333333333333333,
             "#9c179e"
            ],
            [
             0.4444444444444444,
             "#bd3786"
            ],
            [
             0.5555555555555556,
             "#d8576b"
            ],
            [
             0.6666666666666666,
             "#ed7953"
            ],
            [
             0.7777777777777778,
             "#fb9f3a"
            ],
            [
             0.8888888888888888,
             "#fdca26"
            ],
            [
             1,
             "#f0f921"
            ]
           ]
          },
          "colorway": [
           "#636efa",
           "#EF553B",
           "#00cc96",
           "#ab63fa",
           "#FFA15A",
           "#19d3f3",
           "#FF6692",
           "#B6E880",
           "#FF97FF",
           "#FECB52"
          ],
          "font": {
           "color": "#2a3f5f"
          },
          "geo": {
           "bgcolor": "white",
           "lakecolor": "white",
           "landcolor": "#E5ECF6",
           "showlakes": true,
           "showland": true,
           "subunitcolor": "white"
          },
          "hoverlabel": {
           "align": "left"
          },
          "hovermode": "closest",
          "mapbox": {
           "style": "light"
          },
          "paper_bgcolor": "white",
          "plot_bgcolor": "#E5ECF6",
          "polar": {
           "angularaxis": {
            "gridcolor": "white",
            "linecolor": "white",
            "ticks": ""
           },
           "bgcolor": "#E5ECF6",
           "radialaxis": {
            "gridcolor": "white",
            "linecolor": "white",
            "ticks": ""
           }
          },
          "scene": {
           "xaxis": {
            "backgroundcolor": "#E5ECF6",
            "gridcolor": "white",
            "gridwidth": 2,
            "linecolor": "white",
            "showbackground": true,
            "ticks": "",
            "zerolinecolor": "white"
           },
           "yaxis": {
            "backgroundcolor": "#E5ECF6",
            "gridcolor": "white",
            "gridwidth": 2,
            "linecolor": "white",
            "showbackground": true,
            "ticks": "",
            "zerolinecolor": "white"
           },
           "zaxis": {
            "backgroundcolor": "#E5ECF6",
            "gridcolor": "white",
            "gridwidth": 2,
            "linecolor": "white",
            "showbackground": true,
            "ticks": "",
            "zerolinecolor": "white"
           }
          },
          "shapedefaults": {
           "line": {
            "color": "#2a3f5f"
           }
          },
          "ternary": {
           "aaxis": {
            "gridcolor": "white",
            "linecolor": "white",
            "ticks": ""
           },
           "baxis": {
            "gridcolor": "white",
            "linecolor": "white",
            "ticks": ""
           },
           "bgcolor": "#E5ECF6",
           "caxis": {
            "gridcolor": "white",
            "linecolor": "white",
            "ticks": ""
           }
          },
          "title": {
           "x": 0.05
          },
          "xaxis": {
           "automargin": true,
           "gridcolor": "white",
           "linecolor": "white",
           "ticks": "",
           "title": {
            "standoff": 15
           },
           "zerolinecolor": "white",
           "zerolinewidth": 2
          },
          "yaxis": {
           "automargin": true,
           "gridcolor": "white",
           "linecolor": "white",
           "ticks": "",
           "title": {
            "standoff": 15
           },
           "zerolinecolor": "white",
           "zerolinewidth": 2
          }
         }
        },
        "title": {
         "font": {
          "color": "#4D5663"
         }
        },
        "xaxis": {
         "gridcolor": "#E1E5ED",
         "showgrid": true,
         "tickfont": {
          "color": "#4D5663"
         },
         "title": {
          "font": {
           "color": "#4D5663"
          },
          "text": ""
         },
         "zerolinecolor": "#E1E5ED"
        },
        "xaxis2": {
         "anchor": "y2",
         "gridcolor": "#E1E5ED",
         "showgrid": true,
         "showticklabels": false,
         "tickfont": {
          "color": "#4D5663"
         },
         "title": {
          "font": {
           "color": "#4D5663"
          },
          "text": ""
         },
         "zerolinecolor": "#E1E5ED"
        },
        "yaxis": {
         "domain": [
          0.3,
          1
         ],
         "gridcolor": "#E1E5ED",
         "showgrid": true,
         "tickfont": {
          "color": "#4D5663"
         },
         "title": {
          "font": {
           "color": "#4D5663"
          },
          "text": ""
         },
         "zerolinecolor": "#E1E5ED"
        },
        "yaxis2": {
         "domain": [
          0,
          0.25
         ],
         "gridcolor": "#E1E5ED",
         "showgrid": true,
         "tickfont": {
          "color": "#4D5663"
         },
         "title": {
          "font": {
           "color": "#4D5663"
          },
          "text": "Spread"
         },
         "zerolinecolor": "#E1E5ED"
        }
       }
      },
      "text/html": [
       "<div>\n",
       "        \n",
       "        \n",
       "            <div id=\"23004764-7ff3-43a4-b852-b63b018735ec\" class=\"plotly-graph-div\" style=\"height:525px; width:100%;\"></div>\n",
       "            <script type=\"text/javascript\">\n",
       "                require([\"plotly\"], function(Plotly) {\n",
       "                    window.PLOTLYENV=window.PLOTLYENV || {};\n",
       "                    window.PLOTLYENV.BASE_URL='https://plot.ly';\n",
       "                    \n",
       "                if (document.getElementById(\"23004764-7ff3-43a4-b852-b63b018735ec\")) {\n",
       "                    Plotly.newPlot(\n",
       "                        '23004764-7ff3-43a4-b852-b63b018735ec',\n",
       "                        [{\"line\": {\"color\": \"rgba(255, 153, 51, 1.0)\", \"dash\": \"solid\", \"shape\": \"linear\", \"width\": 1.3}, \"mode\": \"lines\", \"name\": \"A\", \"text\": \"\", \"type\": \"scatter\", \"x\": [0, 1, 2, 3, 4, 5, 6, 7, 8, 9, 10, 11, 12, 13, 14, 15, 16, 17, 18, 19, 20, 21, 22, 23, 24, 25, 26, 27, 28, 29, 30, 31, 32, 33, 34, 35, 36, 37, 38, 39, 40, 41, 42, 43, 44, 45, 46, 47, 48, 49, 50, 51, 52, 53, 54, 55, 56, 57, 58, 59, 60, 61, 62, 63, 64, 65, 66, 67, 68, 69, 70, 71, 72, 73, 74, 75, 76, 77, 78, 79, 80, 81, 82, 83, 84, 85, 86, 87, 88, 89, 90, 91, 92, 93, 94, 95, 96, 97, 98, 99], \"y\": [0.21681727542441842, -1.9772885113327838, -0.5462132471505399, -0.6819819367976302, -1.0214246855639262, -1.4663406701189936, -1.3869714818665195, 0.6792759180849723, 0.003323249589601154, 0.35263353393747643, -2.173396383826939, -0.39936467024163136, 0.8835612461124585, 1.748782428403716, 1.2981444583558728, -0.32230543795352296, -2.2872486799886977, -0.9222217108403428, 1.0586883344373945, -0.7728894682805112, 0.1846911614370194, 0.9551326809373836, 0.06571449259757192, -0.2879721715497405, 0.4192649222122794, -0.22975781578973978, 1.1268507659495426, -0.8736355780617026, -0.49053047435131, -1.860305257457072, -1.3014448030976098, -0.7363205380791245, 0.18582304290026405, -0.9193683541857193, -0.04760099120972285, 1.1381969500860398, 0.7132664776376054, -1.4059686462089924, 0.12934554272216123, 0.07709514927434992, 1.2065139611399052, -0.2922868261161954, -0.6492118066817882, -2.7875169264679287, 1.487366502025058, -0.27655005327292226, 0.6720373114730019, 1.0871682635420434, -1.2882506461748495, -1.1688212881513926, 2.1650038192151153, 0.9167077936678667, -0.6828969660269069, -0.362244895015562, -0.09097710761368762, 1.1693454323863541, -1.0802438914386934, 1.6878002831003949, -0.7579699094459557, -0.923800232625123, -2.114427367903597, -0.8129595596031683, -0.9012657916491319, -0.5455684789811972, 0.003975478803318766, 1.1179112763539043, 0.9018043992546574, -0.8986152080322387, -0.21730607952635342, -0.5377706905229709, 0.7182445328073375, 1.3848319307421704, 0.2073759925829057, 0.7458428658575877, -1.1782479208176158, 0.7308951672261628, 1.2742068212954676, -0.5091233276267916, 1.2123761493889964, -0.8696175139611265, 0.05467665427955305, -0.10334873767188274, -0.8969549934246617, -0.5115917199381562, 0.19375254046062468, 1.148982738277355, -0.7879074944195215, 0.20254895860414326, -0.10967627777498896, 0.4834359516159212, 0.26554038535107627, 0.8015719884092859, -1.727774502348332, -0.8585361784135981, 2.215116094482056, -0.8258598941353283, 0.2927407389721164, -0.5278021971348248, -0.37959624617078397, -0.902146704300605]}, {\"line\": {\"color\": \"rgba(55, 128, 191, 1.0)\", \"dash\": \"solid\", \"shape\": \"linear\", \"width\": 1.3}, \"mode\": \"lines\", \"name\": \"B\", \"text\": \"\", \"type\": \"scatter\", \"x\": [0, 1, 2, 3, 4, 5, 6, 7, 8, 9, 10, 11, 12, 13, 14, 15, 16, 17, 18, 19, 20, 21, 22, 23, 24, 25, 26, 27, 28, 29, 30, 31, 32, 33, 34, 35, 36, 37, 38, 39, 40, 41, 42, 43, 44, 45, 46, 47, 48, 49, 50, 51, 52, 53, 54, 55, 56, 57, 58, 59, 60, 61, 62, 63, 64, 65, 66, 67, 68, 69, 70, 71, 72, 73, 74, 75, 76, 77, 78, 79, 80, 81, 82, 83, 84, 85, 86, 87, 88, 89, 90, 91, 92, 93, 94, 95, 96, 97, 98, 99], \"y\": [-0.5744108505115697, 1.3250127875694866, 1.0609501013173488, 1.4471358685229194, 1.636441501367267, 0.3591387809175054, -0.008677973283243321, 1.2483095611775963, -0.3377835165446373, 2.2936306970939824, 1.4935410087314982, -1.1678829013387353, -0.4302557027404968, -1.2175853872046736, 0.9976278820986041, 1.8542346052856826, -0.3336832591907579, 0.4305648305343407, -0.3413782131381251, 1.885562577489426, -1.167728416431715, -0.25855441335933166, 0.8457605079877005, 1.786687191313069, -0.08016895736742227, -0.1675114125436269, 0.6660676823694558, 0.45908821282456685, 0.024217153209860284, -1.256145709598057, -0.04627554807779002, -1.0138047364711658, 0.8176005919444439, 0.7242425774053408, 1.0121548452900764, 0.08734325694977876, -0.6137761053906247, 0.19046996905840896, -0.199575010944785, 1.763674923294254, 0.7998263899160724, 0.4694877243781425, -0.18758354700512347, -0.27105335552054344, 0.2000247639308463, 0.828433270741575, -0.7058613693027531, 1.8623140211472056, 2.1618073436752887, -1.7317496849627836, -0.3992836362099629, -2.2223897210323944, 1.3436501899446402, -1.1852917082259877, 0.4828293211581265, -1.9592110315381874, 1.507469336916762, -0.0700760714281321, 0.8282896907807905, -1.997244238790069, 0.4585925848688841, -1.4981223246453403, -0.31732990651485327, 1.8869775085501947, 1.1584731749792427, 1.0273130448326746, 0.19508827087091382, 1.4258471228220166, 0.5788535326226437, -0.299954280656903, -0.3998410210242254, -0.35031737167406823, 0.8832288439399775, 0.21669465213116756, 1.5391788486551, 0.4271428089617199, -0.5953874578026, -0.6572397682085748, -0.26642398341379453, 0.5076714514941331, -0.49600297058156256, -0.04379002145007061, 0.13194756351743006, 1.3883149776748287, 0.6451060566263321, -0.7813472507428276, -0.9010886847348751, -0.07420666006715997, 2.1058526584425343, 1.5004904613813166, -0.8716479253418286, -1.0163449295692388, -0.006685171080727264, -1.2081557920076373, 0.046997033531740375, -1.0292765217406235, -0.5659707554107236, 0.5939692678161016, 1.32004815915914, 1.693620985365639]}, {\"connectgaps\": false, \"fill\": \"tozeroy\", \"line\": {\"color\": \"green\", \"dash\": \"solid\", \"shape\": \"linear\", \"width\": 0.5}, \"mode\": \"lines\", \"name\": \"Spread\", \"showlegend\": false, \"type\": \"scatter\", \"x\": [0, 1, 2, 3, 4, 5, 6, 7, 8, 9, 10, 11, 12, 13, 14, 15, 16, 17, 18, 19, 20, 21, 22, 23, 24, 25, 26, 27, 28, 29, 30, 31, 32, 33, 34, 35, 36, 37, 38, 39, 40, 41, 42, 43, 44, 45, 46, 47, 48, 49, 50, 51, 52, 53, 54, 55, 56, 57, 58, 59, 60, 61, 62, 63, 64, 65, 66, 67, 68, 69, 70, 71, 72, 73, 74, 75, 76, 77, 78, 79, 80, 81, 82, 83, 84, 85, 86, 87, 88, 89, 90, 91, 92, 93, 94, 95, 96, 97, 98, 99], \"xaxis\": \"x2\", \"y\": [0.7912281259359881, \"\", \"\", \"\", \"\", \"\", \"\", \"\", 0.34110676613423846, \"\", \"\", 0.7685182310971039, 1.3138169488529552, 2.9663678156083897, 0.3005165762572687, \"\", \"\", \"\", 1.4000665475755196, \"\", 1.3524195778687345, 1.2136870942967153, \"\", \"\", 0.49943387957970165, \"\", 0.4607830835800868, \"\", \"\", \"\", \"\", 0.2774841983920413, \"\", \"\", \"\", 1.050853693136261, 1.3270425830282302, \"\", 0.3289205536669462, \"\", 0.4066875712238328, \"\", \"\", \"\", 1.2873417380942116, \"\", 1.377898680775755, \"\", \"\", 0.562928396811391, 2.5642874554250783, 3.139097514700261, \"\", 0.8230468132104257, \"\", 3.1285564639245416, \"\", 1.757876354528527, \"\", 1.0734440061649462, \"\", 0.685162765042172, \"\", \"\", \"\", 0.0905982315212297, 0.7067161283837435, \"\", \"\", \"\", 1.1180855538315628, 1.7351493024162385, \"\", 0.5291482137264202, \"\", 0.30375235826444286, 1.8695942790980675, 0.1481164405817832, 1.4788001328027909, \"\", 0.5506796248611157, \"\", \"\", \"\", \"\", 1.9303299890201826, 0.11318119031535367, 0.2767556186713032, \"\", \"\", 1.1371883106929048, 1.8179169179785246, \"\", 0.34961961359403926, 2.168119060950316, 0.2034166276052951, 0.85871149438284, \"\", \"\", \"\"], \"yaxis\": \"y2\"}, {\"connectgaps\": false, \"fill\": \"tozeroy\", \"line\": {\"color\": \"red\", \"dash\": \"solid\", \"shape\": \"linear\", \"width\": 0.5}, \"mode\": \"lines\", \"name\": \"Spread\", \"showlegend\": false, \"type\": \"scatter\", \"x\": [0, 1, 2, 3, 4, 5, 6, 7, 8, 9, 10, 11, 12, 13, 14, 15, 16, 17, 18, 19, 20, 21, 22, 23, 24, 25, 26, 27, 28, 29, 30, 31, 32, 33, 34, 35, 36, 37, 38, 39, 40, 41, 42, 43, 44, 45, 46, 47, 48, 49, 50, 51, 52, 53, 54, 55, 56, 57, 58, 59, 60, 61, 62, 63, 64, 65, 66, 67, 68, 69, 70, 71, 72, 73, 74, 75, 76, 77, 78, 79, 80, 81, 82, 83, 84, 85, 86, 87, 88, 89, 90, 91, 92, 93, 94, 95, 96, 97, 98, 99], \"xaxis\": \"x2\", \"y\": [\"\", -3.3023012989022704, -1.6071633484678887, -2.1291178053205497, -2.6578661869311935, -1.825479451036499, -1.3782935085832762, -0.5690336430926239, \"\", -1.940997163156506, -3.666937392558437, \"\", \"\", \"\", \"\", -2.1765400432392057, -1.9535654207979398, -1.3527865413746833, \"\", -2.658452045769937, \"\", \"\", -0.7800460153901286, -2.0746593628628096, \"\", -0.062246403246112886, \"\", -1.3327237908862695, -0.5147476275611702, -0.6041595478590149, -1.2551692550198197, \"\", -0.6317775490441798, -1.64361093159106, -1.0597558364997992, \"\", \"\", -1.5964386152674015, \"\", -1.686579774019904, \"\", -0.7617745504943378, -0.46162825967666477, -2.5164635709473853, \"\", -1.1049833240144973, \"\", -0.7751457576051621, -3.450057989850138, \"\", \"\", \"\", -2.026547155971547, \"\", -0.5738064287718141, \"\", -2.5877132283554554, \"\", -1.5862596002267462, \"\", -2.573019952772481, \"\", -0.5839358851342786, -2.432545987531392, -1.154497696175924, \"\", \"\", -2.3244623308542556, -0.7961596121489971, -0.2378164098660679, \"\", \"\", -0.6758528513570717, \"\", -2.7174267694727154, \"\", \"\", \"\", \"\", -1.3772889654552596, \"\", -0.05955871622181213, -1.0289025569420918, -1.8999066976129848, -0.45135351616570746, \"\", \"\", \"\", -2.2155289362175234, -1.0170545097653954, \"\", \"\", -1.7210893312676048, \"\", \"\", \"\", \"\", -1.1217714649509265, -1.699644405329924, -2.595767689666244], \"yaxis\": \"y2\"}],\n",
       "                        {\"hovermode\": \"x\", \"legend\": {\"bgcolor\": \"#F5F6F9\", \"font\": {\"color\": \"#4D5663\"}}, \"paper_bgcolor\": \"#F5F6F9\", \"plot_bgcolor\": \"#F5F6F9\", \"template\": {\"data\": {\"bar\": [{\"error_x\": {\"color\": \"#2a3f5f\"}, \"error_y\": {\"color\": \"#2a3f5f\"}, \"marker\": {\"line\": {\"color\": \"#E5ECF6\", \"width\": 0.5}}, \"type\": \"bar\"}], \"barpolar\": [{\"marker\": {\"line\": {\"color\": \"#E5ECF6\", \"width\": 0.5}}, \"type\": \"barpolar\"}], \"carpet\": [{\"aaxis\": {\"endlinecolor\": \"#2a3f5f\", \"gridcolor\": \"white\", \"linecolor\": \"white\", \"minorgridcolor\": \"white\", \"startlinecolor\": \"#2a3f5f\"}, \"baxis\": {\"endlinecolor\": \"#2a3f5f\", \"gridcolor\": \"white\", \"linecolor\": \"white\", \"minorgridcolor\": \"white\", \"startlinecolor\": \"#2a3f5f\"}, \"type\": \"carpet\"}], \"choropleth\": [{\"colorbar\": {\"outlinewidth\": 0, \"ticks\": \"\"}, \"type\": \"choropleth\"}], \"contour\": [{\"colorbar\": {\"outlinewidth\": 0, \"ticks\": \"\"}, \"colorscale\": [[0.0, \"#0d0887\"], [0.1111111111111111, \"#46039f\"], [0.2222222222222222, \"#7201a8\"], [0.3333333333333333, \"#9c179e\"], [0.4444444444444444, \"#bd3786\"], [0.5555555555555556, \"#d8576b\"], [0.6666666666666666, \"#ed7953\"], [0.7777777777777778, \"#fb9f3a\"], [0.8888888888888888, \"#fdca26\"], [1.0, \"#f0f921\"]], \"type\": \"contour\"}], \"contourcarpet\": [{\"colorbar\": {\"outlinewidth\": 0, \"ticks\": \"\"}, \"type\": \"contourcarpet\"}], \"heatmap\": [{\"colorbar\": {\"outlinewidth\": 0, \"ticks\": \"\"}, \"colorscale\": [[0.0, \"#0d0887\"], [0.1111111111111111, \"#46039f\"], [0.2222222222222222, \"#7201a8\"], [0.3333333333333333, \"#9c179e\"], [0.4444444444444444, \"#bd3786\"], [0.5555555555555556, \"#d8576b\"], [0.6666666666666666, \"#ed7953\"], [0.7777777777777778, \"#fb9f3a\"], [0.8888888888888888, \"#fdca26\"], [1.0, \"#f0f921\"]], \"type\": \"heatmap\"}], \"heatmapgl\": [{\"colorbar\": {\"outlinewidth\": 0, \"ticks\": \"\"}, \"colorscale\": [[0.0, \"#0d0887\"], [0.1111111111111111, \"#46039f\"], [0.2222222222222222, \"#7201a8\"], [0.3333333333333333, \"#9c179e\"], [0.4444444444444444, \"#bd3786\"], [0.5555555555555556, \"#d8576b\"], [0.6666666666666666, \"#ed7953\"], [0.7777777777777778, \"#fb9f3a\"], [0.8888888888888888, \"#fdca26\"], [1.0, \"#f0f921\"]], \"type\": \"heatmapgl\"}], \"histogram\": [{\"marker\": {\"colorbar\": {\"outlinewidth\": 0, \"ticks\": \"\"}}, \"type\": \"histogram\"}], \"histogram2d\": [{\"colorbar\": {\"outlinewidth\": 0, \"ticks\": \"\"}, \"colorscale\": [[0.0, \"#0d0887\"], [0.1111111111111111, \"#46039f\"], [0.2222222222222222, \"#7201a8\"], [0.3333333333333333, \"#9c179e\"], [0.4444444444444444, \"#bd3786\"], [0.5555555555555556, \"#d8576b\"], [0.6666666666666666, \"#ed7953\"], [0.7777777777777778, \"#fb9f3a\"], [0.8888888888888888, \"#fdca26\"], [1.0, \"#f0f921\"]], \"type\": \"histogram2d\"}], \"histogram2dcontour\": [{\"colorbar\": {\"outlinewidth\": 0, \"ticks\": \"\"}, \"colorscale\": [[0.0, \"#0d0887\"], [0.1111111111111111, \"#46039f\"], [0.2222222222222222, \"#7201a8\"], [0.3333333333333333, \"#9c179e\"], [0.4444444444444444, \"#bd3786\"], [0.5555555555555556, \"#d8576b\"], [0.6666666666666666, \"#ed7953\"], [0.7777777777777778, \"#fb9f3a\"], [0.8888888888888888, \"#fdca26\"], [1.0, \"#f0f921\"]], \"type\": \"histogram2dcontour\"}], \"mesh3d\": [{\"colorbar\": {\"outlinewidth\": 0, \"ticks\": \"\"}, \"type\": \"mesh3d\"}], \"parcoords\": [{\"line\": {\"colorbar\": {\"outlinewidth\": 0, \"ticks\": \"\"}}, \"type\": \"parcoords\"}], \"pie\": [{\"automargin\": true, \"type\": \"pie\"}], \"scatter\": [{\"marker\": {\"colorbar\": {\"outlinewidth\": 0, \"ticks\": \"\"}}, \"type\": \"scatter\"}], \"scatter3d\": [{\"line\": {\"colorbar\": {\"outlinewidth\": 0, \"ticks\": \"\"}}, \"marker\": {\"colorbar\": {\"outlinewidth\": 0, \"ticks\": \"\"}}, \"type\": \"scatter3d\"}], \"scattercarpet\": [{\"marker\": {\"colorbar\": {\"outlinewidth\": 0, \"ticks\": \"\"}}, \"type\": \"scattercarpet\"}], \"scattergeo\": [{\"marker\": {\"colorbar\": {\"outlinewidth\": 0, \"ticks\": \"\"}}, \"type\": \"scattergeo\"}], \"scattergl\": [{\"marker\": {\"colorbar\": {\"outlinewidth\": 0, \"ticks\": \"\"}}, \"type\": \"scattergl\"}], \"scattermapbox\": [{\"marker\": {\"colorbar\": {\"outlinewidth\": 0, \"ticks\": \"\"}}, \"type\": \"scattermapbox\"}], \"scatterpolar\": [{\"marker\": {\"colorbar\": {\"outlinewidth\": 0, \"ticks\": \"\"}}, \"type\": \"scatterpolar\"}], \"scatterpolargl\": [{\"marker\": {\"colorbar\": {\"outlinewidth\": 0, \"ticks\": \"\"}}, \"type\": \"scatterpolargl\"}], \"scatterternary\": [{\"marker\": {\"colorbar\": {\"outlinewidth\": 0, \"ticks\": \"\"}}, \"type\": \"scatterternary\"}], \"surface\": [{\"colorbar\": {\"outlinewidth\": 0, \"ticks\": \"\"}, \"colorscale\": [[0.0, \"#0d0887\"], [0.1111111111111111, \"#46039f\"], [0.2222222222222222, \"#7201a8\"], [0.3333333333333333, \"#9c179e\"], [0.4444444444444444, \"#bd3786\"], [0.5555555555555556, \"#d8576b\"], [0.6666666666666666, \"#ed7953\"], [0.7777777777777778, \"#fb9f3a\"], [0.8888888888888888, \"#fdca26\"], [1.0, \"#f0f921\"]], \"type\": \"surface\"}], \"table\": [{\"cells\": {\"fill\": {\"color\": \"#EBF0F8\"}, \"line\": {\"color\": \"white\"}}, \"header\": {\"fill\": {\"color\": \"#C8D4E3\"}, \"line\": {\"color\": \"white\"}}, \"type\": \"table\"}]}, \"layout\": {\"annotationdefaults\": {\"arrowcolor\": \"#2a3f5f\", \"arrowhead\": 0, \"arrowwidth\": 1}, \"coloraxis\": {\"colorbar\": {\"outlinewidth\": 0, \"ticks\": \"\"}}, \"colorscale\": {\"diverging\": [[0, \"#8e0152\"], [0.1, \"#c51b7d\"], [0.2, \"#de77ae\"], [0.3, \"#f1b6da\"], [0.4, \"#fde0ef\"], [0.5, \"#f7f7f7\"], [0.6, \"#e6f5d0\"], [0.7, \"#b8e186\"], [0.8, \"#7fbc41\"], [0.9, \"#4d9221\"], [1, \"#276419\"]], \"sequential\": [[0.0, \"#0d0887\"], [0.1111111111111111, \"#46039f\"], [0.2222222222222222, \"#7201a8\"], [0.3333333333333333, \"#9c179e\"], [0.4444444444444444, \"#bd3786\"], [0.5555555555555556, \"#d8576b\"], [0.6666666666666666, \"#ed7953\"], [0.7777777777777778, \"#fb9f3a\"], [0.8888888888888888, \"#fdca26\"], [1.0, \"#f0f921\"]], \"sequentialminus\": [[0.0, \"#0d0887\"], [0.1111111111111111, \"#46039f\"], [0.2222222222222222, \"#7201a8\"], [0.3333333333333333, \"#9c179e\"], [0.4444444444444444, \"#bd3786\"], [0.5555555555555556, \"#d8576b\"], [0.6666666666666666, \"#ed7953\"], [0.7777777777777778, \"#fb9f3a\"], [0.8888888888888888, \"#fdca26\"], [1.0, \"#f0f921\"]]}, \"colorway\": [\"#636efa\", \"#EF553B\", \"#00cc96\", \"#ab63fa\", \"#FFA15A\", \"#19d3f3\", \"#FF6692\", \"#B6E880\", \"#FF97FF\", \"#FECB52\"], \"font\": {\"color\": \"#2a3f5f\"}, \"geo\": {\"bgcolor\": \"white\", \"lakecolor\": \"white\", \"landcolor\": \"#E5ECF6\", \"showlakes\": true, \"showland\": true, \"subunitcolor\": \"white\"}, \"hoverlabel\": {\"align\": \"left\"}, \"hovermode\": \"closest\", \"mapbox\": {\"style\": \"light\"}, \"paper_bgcolor\": \"white\", \"plot_bgcolor\": \"#E5ECF6\", \"polar\": {\"angularaxis\": {\"gridcolor\": \"white\", \"linecolor\": \"white\", \"ticks\": \"\"}, \"bgcolor\": \"#E5ECF6\", \"radialaxis\": {\"gridcolor\": \"white\", \"linecolor\": \"white\", \"ticks\": \"\"}}, \"scene\": {\"xaxis\": {\"backgroundcolor\": \"#E5ECF6\", \"gridcolor\": \"white\", \"gridwidth\": 2, \"linecolor\": \"white\", \"showbackground\": true, \"ticks\": \"\", \"zerolinecolor\": \"white\"}, \"yaxis\": {\"backgroundcolor\": \"#E5ECF6\", \"gridcolor\": \"white\", \"gridwidth\": 2, \"linecolor\": \"white\", \"showbackground\": true, \"ticks\": \"\", \"zerolinecolor\": \"white\"}, \"zaxis\": {\"backgroundcolor\": \"#E5ECF6\", \"gridcolor\": \"white\", \"gridwidth\": 2, \"linecolor\": \"white\", \"showbackground\": true, \"ticks\": \"\", \"zerolinecolor\": \"white\"}}, \"shapedefaults\": {\"line\": {\"color\": \"#2a3f5f\"}}, \"ternary\": {\"aaxis\": {\"gridcolor\": \"white\", \"linecolor\": \"white\", \"ticks\": \"\"}, \"baxis\": {\"gridcolor\": \"white\", \"linecolor\": \"white\", \"ticks\": \"\"}, \"bgcolor\": \"#E5ECF6\", \"caxis\": {\"gridcolor\": \"white\", \"linecolor\": \"white\", \"ticks\": \"\"}}, \"title\": {\"x\": 0.05}, \"xaxis\": {\"automargin\": true, \"gridcolor\": \"white\", \"linecolor\": \"white\", \"ticks\": \"\", \"title\": {\"standoff\": 15}, \"zerolinecolor\": \"white\", \"zerolinewidth\": 2}, \"yaxis\": {\"automargin\": true, \"gridcolor\": \"white\", \"linecolor\": \"white\", \"ticks\": \"\", \"title\": {\"standoff\": 15}, \"zerolinecolor\": \"white\", \"zerolinewidth\": 2}}}, \"title\": {\"font\": {\"color\": \"#4D5663\"}}, \"xaxis\": {\"gridcolor\": \"#E1E5ED\", \"showgrid\": true, \"tickfont\": {\"color\": \"#4D5663\"}, \"title\": {\"font\": {\"color\": \"#4D5663\"}, \"text\": \"\"}, \"zerolinecolor\": \"#E1E5ED\"}, \"xaxis2\": {\"anchor\": \"y2\", \"gridcolor\": \"#E1E5ED\", \"showgrid\": true, \"showticklabels\": false, \"tickfont\": {\"color\": \"#4D5663\"}, \"title\": {\"font\": {\"color\": \"#4D5663\"}, \"text\": \"\"}, \"zerolinecolor\": \"#E1E5ED\"}, \"yaxis\": {\"domain\": [0.3, 1], \"gridcolor\": \"#E1E5ED\", \"showgrid\": true, \"tickfont\": {\"color\": \"#4D5663\"}, \"title\": {\"font\": {\"color\": \"#4D5663\"}, \"text\": \"\"}, \"zerolinecolor\": \"#E1E5ED\"}, \"yaxis2\": {\"domain\": [0, 0.25], \"gridcolor\": \"#E1E5ED\", \"showgrid\": true, \"tickfont\": {\"color\": \"#4D5663\"}, \"title\": {\"font\": {\"color\": \"#4D5663\"}, \"text\": \"Spread\"}, \"zerolinecolor\": \"#E1E5ED\"}},\n",
       "                        {\"showLink\": true, \"linkText\": \"Export to plot.ly\", \"plotlyServerURL\": \"https://plot.ly\", \"responsive\": true}\n",
       "                    ).then(function(){\n",
       "                            \n",
       "var gd = document.getElementById('23004764-7ff3-43a4-b852-b63b018735ec');\n",
       "var x = new MutationObserver(function (mutations, observer) {{\n",
       "        var display = window.getComputedStyle(gd).display;\n",
       "        if (!display || display === 'none') {{\n",
       "            console.log([gd, 'removed!']);\n",
       "            Plotly.purge(gd);\n",
       "            observer.disconnect();\n",
       "        }}\n",
       "}});\n",
       "\n",
       "// Listen for the removal of the full notebook cells\n",
       "var notebookContainer = gd.closest('#notebook-container');\n",
       "if (notebookContainer) {{\n",
       "    x.observe(notebookContainer, {childList: true});\n",
       "}}\n",
       "\n",
       "// Listen for the clearing of the current output cell\n",
       "var outputEl = gd.closest('.output');\n",
       "if (outputEl) {{\n",
       "    x.observe(outputEl, {childList: true});\n",
       "}}\n",
       "\n",
       "                        })\n",
       "                };\n",
       "                });\n",
       "            </script>\n",
       "        </div>"
      ]
     },
     "metadata": {},
     "output_type": "display_data"
    }
   ],
   "source": [
    "df[['A','B']].iplot(kind='spread')"
   ]
  },
  {
   "cell_type": "markdown",
   "metadata": {},
   "source": [
    "## histogram"
   ]
  },
  {
   "cell_type": "code",
   "execution_count": 16,
   "metadata": {},
   "outputs": [
    {
     "data": {
      "application/vnd.plotly.v1+json": {
       "config": {
        "linkText": "Export to plot.ly",
        "plotlyServerURL": "https://plot.ly",
        "showLink": true
       },
       "data": [
        {
         "histfunc": "count",
         "histnorm": "",
         "marker": {
          "color": "rgba(255, 153, 51, 1.0)",
          "line": {
           "color": "#4D5663",
           "width": 1.3
          }
         },
         "name": "A",
         "nbinsx": 25,
         "opacity": 0.8,
         "orientation": "v",
         "type": "histogram",
         "x": [
          0.21681727542441842,
          -1.9772885113327838,
          -0.5462132471505399,
          -0.6819819367976302,
          -1.0214246855639262,
          -1.4663406701189936,
          -1.3869714818665195,
          0.6792759180849723,
          0.003323249589601154,
          0.35263353393747643,
          -2.173396383826939,
          -0.39936467024163136,
          0.8835612461124585,
          1.748782428403716,
          1.2981444583558728,
          -0.32230543795352296,
          -2.2872486799886977,
          -0.9222217108403428,
          1.0586883344373945,
          -0.7728894682805112,
          0.1846911614370194,
          0.9551326809373836,
          0.06571449259757192,
          -0.2879721715497405,
          0.4192649222122794,
          -0.22975781578973978,
          1.1268507659495426,
          -0.8736355780617026,
          -0.49053047435131,
          -1.860305257457072,
          -1.3014448030976098,
          -0.7363205380791245,
          0.18582304290026405,
          -0.9193683541857193,
          -0.04760099120972285,
          1.1381969500860398,
          0.7132664776376054,
          -1.4059686462089924,
          0.12934554272216123,
          0.07709514927434992,
          1.2065139611399052,
          -0.2922868261161954,
          -0.6492118066817882,
          -2.7875169264679287,
          1.487366502025058,
          -0.27655005327292226,
          0.6720373114730019,
          1.0871682635420434,
          -1.2882506461748495,
          -1.1688212881513926,
          2.1650038192151153,
          0.9167077936678667,
          -0.6828969660269069,
          -0.362244895015562,
          -0.09097710761368762,
          1.1693454323863541,
          -1.0802438914386934,
          1.6878002831003949,
          -0.7579699094459557,
          -0.923800232625123,
          -2.114427367903597,
          -0.8129595596031683,
          -0.9012657916491319,
          -0.5455684789811972,
          0.003975478803318766,
          1.1179112763539043,
          0.9018043992546574,
          -0.8986152080322387,
          -0.21730607952635342,
          -0.5377706905229709,
          0.7182445328073375,
          1.3848319307421704,
          0.2073759925829057,
          0.7458428658575877,
          -1.1782479208176158,
          0.7308951672261628,
          1.2742068212954676,
          -0.5091233276267916,
          1.2123761493889964,
          -0.8696175139611265,
          0.05467665427955305,
          -0.10334873767188274,
          -0.8969549934246617,
          -0.5115917199381562,
          0.19375254046062468,
          1.148982738277355,
          -0.7879074944195215,
          0.20254895860414326,
          -0.10967627777498896,
          0.4834359516159212,
          0.26554038535107627,
          0.8015719884092859,
          -1.727774502348332,
          -0.8585361784135981,
          2.215116094482056,
          -0.8258598941353283,
          0.2927407389721164,
          -0.5278021971348248,
          -0.37959624617078397,
          -0.902146704300605
         ]
        }
       ],
       "layout": {
        "barmode": "overlay",
        "legend": {
         "bgcolor": "#F5F6F9",
         "font": {
          "color": "#4D5663"
         }
        },
        "paper_bgcolor": "#F5F6F9",
        "plot_bgcolor": "#F5F6F9",
        "template": {
         "data": {
          "bar": [
           {
            "error_x": {
             "color": "#2a3f5f"
            },
            "error_y": {
             "color": "#2a3f5f"
            },
            "marker": {
             "line": {
              "color": "#E5ECF6",
              "width": 0.5
             }
            },
            "type": "bar"
           }
          ],
          "barpolar": [
           {
            "marker": {
             "line": {
              "color": "#E5ECF6",
              "width": 0.5
             }
            },
            "type": "barpolar"
           }
          ],
          "carpet": [
           {
            "aaxis": {
             "endlinecolor": "#2a3f5f",
             "gridcolor": "white",
             "linecolor": "white",
             "minorgridcolor": "white",
             "startlinecolor": "#2a3f5f"
            },
            "baxis": {
             "endlinecolor": "#2a3f5f",
             "gridcolor": "white",
             "linecolor": "white",
             "minorgridcolor": "white",
             "startlinecolor": "#2a3f5f"
            },
            "type": "carpet"
           }
          ],
          "choropleth": [
           {
            "colorbar": {
             "outlinewidth": 0,
             "ticks": ""
            },
            "type": "choropleth"
           }
          ],
          "contour": [
           {
            "colorbar": {
             "outlinewidth": 0,
             "ticks": ""
            },
            "colorscale": [
             [
              0,
              "#0d0887"
             ],
             [
              0.1111111111111111,
              "#46039f"
             ],
             [
              0.2222222222222222,
              "#7201a8"
             ],
             [
              0.3333333333333333,
              "#9c179e"
             ],
             [
              0.4444444444444444,
              "#bd3786"
             ],
             [
              0.5555555555555556,
              "#d8576b"
             ],
             [
              0.6666666666666666,
              "#ed7953"
             ],
             [
              0.7777777777777778,
              "#fb9f3a"
             ],
             [
              0.8888888888888888,
              "#fdca26"
             ],
             [
              1,
              "#f0f921"
             ]
            ],
            "type": "contour"
           }
          ],
          "contourcarpet": [
           {
            "colorbar": {
             "outlinewidth": 0,
             "ticks": ""
            },
            "type": "contourcarpet"
           }
          ],
          "heatmap": [
           {
            "colorbar": {
             "outlinewidth": 0,
             "ticks": ""
            },
            "colorscale": [
             [
              0,
              "#0d0887"
             ],
             [
              0.1111111111111111,
              "#46039f"
             ],
             [
              0.2222222222222222,
              "#7201a8"
             ],
             [
              0.3333333333333333,
              "#9c179e"
             ],
             [
              0.4444444444444444,
              "#bd3786"
             ],
             [
              0.5555555555555556,
              "#d8576b"
             ],
             [
              0.6666666666666666,
              "#ed7953"
             ],
             [
              0.7777777777777778,
              "#fb9f3a"
             ],
             [
              0.8888888888888888,
              "#fdca26"
             ],
             [
              1,
              "#f0f921"
             ]
            ],
            "type": "heatmap"
           }
          ],
          "heatmapgl": [
           {
            "colorbar": {
             "outlinewidth": 0,
             "ticks": ""
            },
            "colorscale": [
             [
              0,
              "#0d0887"
             ],
             [
              0.1111111111111111,
              "#46039f"
             ],
             [
              0.2222222222222222,
              "#7201a8"
             ],
             [
              0.3333333333333333,
              "#9c179e"
             ],
             [
              0.4444444444444444,
              "#bd3786"
             ],
             [
              0.5555555555555556,
              "#d8576b"
             ],
             [
              0.6666666666666666,
              "#ed7953"
             ],
             [
              0.7777777777777778,
              "#fb9f3a"
             ],
             [
              0.8888888888888888,
              "#fdca26"
             ],
             [
              1,
              "#f0f921"
             ]
            ],
            "type": "heatmapgl"
           }
          ],
          "histogram": [
           {
            "marker": {
             "colorbar": {
              "outlinewidth": 0,
              "ticks": ""
             }
            },
            "type": "histogram"
           }
          ],
          "histogram2d": [
           {
            "colorbar": {
             "outlinewidth": 0,
             "ticks": ""
            },
            "colorscale": [
             [
              0,
              "#0d0887"
             ],
             [
              0.1111111111111111,
              "#46039f"
             ],
             [
              0.2222222222222222,
              "#7201a8"
             ],
             [
              0.3333333333333333,
              "#9c179e"
             ],
             [
              0.4444444444444444,
              "#bd3786"
             ],
             [
              0.5555555555555556,
              "#d8576b"
             ],
             [
              0.6666666666666666,
              "#ed7953"
             ],
             [
              0.7777777777777778,
              "#fb9f3a"
             ],
             [
              0.8888888888888888,
              "#fdca26"
             ],
             [
              1,
              "#f0f921"
             ]
            ],
            "type": "histogram2d"
           }
          ],
          "histogram2dcontour": [
           {
            "colorbar": {
             "outlinewidth": 0,
             "ticks": ""
            },
            "colorscale": [
             [
              0,
              "#0d0887"
             ],
             [
              0.1111111111111111,
              "#46039f"
             ],
             [
              0.2222222222222222,
              "#7201a8"
             ],
             [
              0.3333333333333333,
              "#9c179e"
             ],
             [
              0.4444444444444444,
              "#bd3786"
             ],
             [
              0.5555555555555556,
              "#d8576b"
             ],
             [
              0.6666666666666666,
              "#ed7953"
             ],
             [
              0.7777777777777778,
              "#fb9f3a"
             ],
             [
              0.8888888888888888,
              "#fdca26"
             ],
             [
              1,
              "#f0f921"
             ]
            ],
            "type": "histogram2dcontour"
           }
          ],
          "mesh3d": [
           {
            "colorbar": {
             "outlinewidth": 0,
             "ticks": ""
            },
            "type": "mesh3d"
           }
          ],
          "parcoords": [
           {
            "line": {
             "colorbar": {
              "outlinewidth": 0,
              "ticks": ""
             }
            },
            "type": "parcoords"
           }
          ],
          "pie": [
           {
            "automargin": true,
            "type": "pie"
           }
          ],
          "scatter": [
           {
            "marker": {
             "colorbar": {
              "outlinewidth": 0,
              "ticks": ""
             }
            },
            "type": "scatter"
           }
          ],
          "scatter3d": [
           {
            "line": {
             "colorbar": {
              "outlinewidth": 0,
              "ticks": ""
             }
            },
            "marker": {
             "colorbar": {
              "outlinewidth": 0,
              "ticks": ""
             }
            },
            "type": "scatter3d"
           }
          ],
          "scattercarpet": [
           {
            "marker": {
             "colorbar": {
              "outlinewidth": 0,
              "ticks": ""
             }
            },
            "type": "scattercarpet"
           }
          ],
          "scattergeo": [
           {
            "marker": {
             "colorbar": {
              "outlinewidth": 0,
              "ticks": ""
             }
            },
            "type": "scattergeo"
           }
          ],
          "scattergl": [
           {
            "marker": {
             "colorbar": {
              "outlinewidth": 0,
              "ticks": ""
             }
            },
            "type": "scattergl"
           }
          ],
          "scattermapbox": [
           {
            "marker": {
             "colorbar": {
              "outlinewidth": 0,
              "ticks": ""
             }
            },
            "type": "scattermapbox"
           }
          ],
          "scatterpolar": [
           {
            "marker": {
             "colorbar": {
              "outlinewidth": 0,
              "ticks": ""
             }
            },
            "type": "scatterpolar"
           }
          ],
          "scatterpolargl": [
           {
            "marker": {
             "colorbar": {
              "outlinewidth": 0,
              "ticks": ""
             }
            },
            "type": "scatterpolargl"
           }
          ],
          "scatterternary": [
           {
            "marker": {
             "colorbar": {
              "outlinewidth": 0,
              "ticks": ""
             }
            },
            "type": "scatterternary"
           }
          ],
          "surface": [
           {
            "colorbar": {
             "outlinewidth": 0,
             "ticks": ""
            },
            "colorscale": [
             [
              0,
              "#0d0887"
             ],
             [
              0.1111111111111111,
              "#46039f"
             ],
             [
              0.2222222222222222,
              "#7201a8"
             ],
             [
              0.3333333333333333,
              "#9c179e"
             ],
             [
              0.4444444444444444,
              "#bd3786"
             ],
             [
              0.5555555555555556,
              "#d8576b"
             ],
             [
              0.6666666666666666,
              "#ed7953"
             ],
             [
              0.7777777777777778,
              "#fb9f3a"
             ],
             [
              0.8888888888888888,
              "#fdca26"
             ],
             [
              1,
              "#f0f921"
             ]
            ],
            "type": "surface"
           }
          ],
          "table": [
           {
            "cells": {
             "fill": {
              "color": "#EBF0F8"
             },
             "line": {
              "color": "white"
             }
            },
            "header": {
             "fill": {
              "color": "#C8D4E3"
             },
             "line": {
              "color": "white"
             }
            },
            "type": "table"
           }
          ]
         },
         "layout": {
          "annotationdefaults": {
           "arrowcolor": "#2a3f5f",
           "arrowhead": 0,
           "arrowwidth": 1
          },
          "coloraxis": {
           "colorbar": {
            "outlinewidth": 0,
            "ticks": ""
           }
          },
          "colorscale": {
           "diverging": [
            [
             0,
             "#8e0152"
            ],
            [
             0.1,
             "#c51b7d"
            ],
            [
             0.2,
             "#de77ae"
            ],
            [
             0.3,
             "#f1b6da"
            ],
            [
             0.4,
             "#fde0ef"
            ],
            [
             0.5,
             "#f7f7f7"
            ],
            [
             0.6,
             "#e6f5d0"
            ],
            [
             0.7,
             "#b8e186"
            ],
            [
             0.8,
             "#7fbc41"
            ],
            [
             0.9,
             "#4d9221"
            ],
            [
             1,
             "#276419"
            ]
           ],
           "sequential": [
            [
             0,
             "#0d0887"
            ],
            [
             0.1111111111111111,
             "#46039f"
            ],
            [
             0.2222222222222222,
             "#7201a8"
            ],
            [
             0.3333333333333333,
             "#9c179e"
            ],
            [
             0.4444444444444444,
             "#bd3786"
            ],
            [
             0.5555555555555556,
             "#d8576b"
            ],
            [
             0.6666666666666666,
             "#ed7953"
            ],
            [
             0.7777777777777778,
             "#fb9f3a"
            ],
            [
             0.8888888888888888,
             "#fdca26"
            ],
            [
             1,
             "#f0f921"
            ]
           ],
           "sequentialminus": [
            [
             0,
             "#0d0887"
            ],
            [
             0.1111111111111111,
             "#46039f"
            ],
            [
             0.2222222222222222,
             "#7201a8"
            ],
            [
             0.3333333333333333,
             "#9c179e"
            ],
            [
             0.4444444444444444,
             "#bd3786"
            ],
            [
             0.5555555555555556,
             "#d8576b"
            ],
            [
             0.6666666666666666,
             "#ed7953"
            ],
            [
             0.7777777777777778,
             "#fb9f3a"
            ],
            [
             0.8888888888888888,
             "#fdca26"
            ],
            [
             1,
             "#f0f921"
            ]
           ]
          },
          "colorway": [
           "#636efa",
           "#EF553B",
           "#00cc96",
           "#ab63fa",
           "#FFA15A",
           "#19d3f3",
           "#FF6692",
           "#B6E880",
           "#FF97FF",
           "#FECB52"
          ],
          "font": {
           "color": "#2a3f5f"
          },
          "geo": {
           "bgcolor": "white",
           "lakecolor": "white",
           "landcolor": "#E5ECF6",
           "showlakes": true,
           "showland": true,
           "subunitcolor": "white"
          },
          "hoverlabel": {
           "align": "left"
          },
          "hovermode": "closest",
          "mapbox": {
           "style": "light"
          },
          "paper_bgcolor": "white",
          "plot_bgcolor": "#E5ECF6",
          "polar": {
           "angularaxis": {
            "gridcolor": "white",
            "linecolor": "white",
            "ticks": ""
           },
           "bgcolor": "#E5ECF6",
           "radialaxis": {
            "gridcolor": "white",
            "linecolor": "white",
            "ticks": ""
           }
          },
          "scene": {
           "xaxis": {
            "backgroundcolor": "#E5ECF6",
            "gridcolor": "white",
            "gridwidth": 2,
            "linecolor": "white",
            "showbackground": true,
            "ticks": "",
            "zerolinecolor": "white"
           },
           "yaxis": {
            "backgroundcolor": "#E5ECF6",
            "gridcolor": "white",
            "gridwidth": 2,
            "linecolor": "white",
            "showbackground": true,
            "ticks": "",
            "zerolinecolor": "white"
           },
           "zaxis": {
            "backgroundcolor": "#E5ECF6",
            "gridcolor": "white",
            "gridwidth": 2,
            "linecolor": "white",
            "showbackground": true,
            "ticks": "",
            "zerolinecolor": "white"
           }
          },
          "shapedefaults": {
           "line": {
            "color": "#2a3f5f"
           }
          },
          "ternary": {
           "aaxis": {
            "gridcolor": "white",
            "linecolor": "white",
            "ticks": ""
           },
           "baxis": {
            "gridcolor": "white",
            "linecolor": "white",
            "ticks": ""
           },
           "bgcolor": "#E5ECF6",
           "caxis": {
            "gridcolor": "white",
            "linecolor": "white",
            "ticks": ""
           }
          },
          "title": {
           "x": 0.05
          },
          "xaxis": {
           "automargin": true,
           "gridcolor": "white",
           "linecolor": "white",
           "ticks": "",
           "title": {
            "standoff": 15
           },
           "zerolinecolor": "white",
           "zerolinewidth": 2
          },
          "yaxis": {
           "automargin": true,
           "gridcolor": "white",
           "linecolor": "white",
           "ticks": "",
           "title": {
            "standoff": 15
           },
           "zerolinecolor": "white",
           "zerolinewidth": 2
          }
         }
        },
        "title": {
         "font": {
          "color": "#4D5663"
         }
        },
        "xaxis": {
         "gridcolor": "#E1E5ED",
         "showgrid": true,
         "tickfont": {
          "color": "#4D5663"
         },
         "title": {
          "font": {
           "color": "#4D5663"
          },
          "text": ""
         },
         "zerolinecolor": "#E1E5ED"
        },
        "yaxis": {
         "gridcolor": "#E1E5ED",
         "showgrid": true,
         "tickfont": {
          "color": "#4D5663"
         },
         "title": {
          "font": {
           "color": "#4D5663"
          },
          "text": ""
         },
         "zerolinecolor": "#E1E5ED"
        }
       }
      },
      "text/html": [
       "<div>\n",
       "        \n",
       "        \n",
       "            <div id=\"8e54eb53-6a99-4a98-bd73-a742c6c51d67\" class=\"plotly-graph-div\" style=\"height:525px; width:100%;\"></div>\n",
       "            <script type=\"text/javascript\">\n",
       "                require([\"plotly\"], function(Plotly) {\n",
       "                    window.PLOTLYENV=window.PLOTLYENV || {};\n",
       "                    window.PLOTLYENV.BASE_URL='https://plot.ly';\n",
       "                    \n",
       "                if (document.getElementById(\"8e54eb53-6a99-4a98-bd73-a742c6c51d67\")) {\n",
       "                    Plotly.newPlot(\n",
       "                        '8e54eb53-6a99-4a98-bd73-a742c6c51d67',\n",
       "                        [{\"histfunc\": \"count\", \"histnorm\": \"\", \"marker\": {\"color\": \"rgba(255, 153, 51, 1.0)\", \"line\": {\"color\": \"#4D5663\", \"width\": 1.3}}, \"name\": \"A\", \"nbinsx\": 25, \"opacity\": 0.8, \"orientation\": \"v\", \"type\": \"histogram\", \"x\": [0.21681727542441842, -1.9772885113327838, -0.5462132471505399, -0.6819819367976302, -1.0214246855639262, -1.4663406701189936, -1.3869714818665195, 0.6792759180849723, 0.003323249589601154, 0.35263353393747643, -2.173396383826939, -0.39936467024163136, 0.8835612461124585, 1.748782428403716, 1.2981444583558728, -0.32230543795352296, -2.2872486799886977, -0.9222217108403428, 1.0586883344373945, -0.7728894682805112, 0.1846911614370194, 0.9551326809373836, 0.06571449259757192, -0.2879721715497405, 0.4192649222122794, -0.22975781578973978, 1.1268507659495426, -0.8736355780617026, -0.49053047435131, -1.860305257457072, -1.3014448030976098, -0.7363205380791245, 0.18582304290026405, -0.9193683541857193, -0.04760099120972285, 1.1381969500860398, 0.7132664776376054, -1.4059686462089924, 0.12934554272216123, 0.07709514927434992, 1.2065139611399052, -0.2922868261161954, -0.6492118066817882, -2.7875169264679287, 1.487366502025058, -0.27655005327292226, 0.6720373114730019, 1.0871682635420434, -1.2882506461748495, -1.1688212881513926, 2.1650038192151153, 0.9167077936678667, -0.6828969660269069, -0.362244895015562, -0.09097710761368762, 1.1693454323863541, -1.0802438914386934, 1.6878002831003949, -0.7579699094459557, -0.923800232625123, -2.114427367903597, -0.8129595596031683, -0.9012657916491319, -0.5455684789811972, 0.003975478803318766, 1.1179112763539043, 0.9018043992546574, -0.8986152080322387, -0.21730607952635342, -0.5377706905229709, 0.7182445328073375, 1.3848319307421704, 0.2073759925829057, 0.7458428658575877, -1.1782479208176158, 0.7308951672261628, 1.2742068212954676, -0.5091233276267916, 1.2123761493889964, -0.8696175139611265, 0.05467665427955305, -0.10334873767188274, -0.8969549934246617, -0.5115917199381562, 0.19375254046062468, 1.148982738277355, -0.7879074944195215, 0.20254895860414326, -0.10967627777498896, 0.4834359516159212, 0.26554038535107627, 0.8015719884092859, -1.727774502348332, -0.8585361784135981, 2.215116094482056, -0.8258598941353283, 0.2927407389721164, -0.5278021971348248, -0.37959624617078397, -0.902146704300605]}],\n",
       "                        {\"barmode\": \"overlay\", \"legend\": {\"bgcolor\": \"#F5F6F9\", \"font\": {\"color\": \"#4D5663\"}}, \"paper_bgcolor\": \"#F5F6F9\", \"plot_bgcolor\": \"#F5F6F9\", \"template\": {\"data\": {\"bar\": [{\"error_x\": {\"color\": \"#2a3f5f\"}, \"error_y\": {\"color\": \"#2a3f5f\"}, \"marker\": {\"line\": {\"color\": \"#E5ECF6\", \"width\": 0.5}}, \"type\": \"bar\"}], \"barpolar\": [{\"marker\": {\"line\": {\"color\": \"#E5ECF6\", \"width\": 0.5}}, \"type\": \"barpolar\"}], \"carpet\": [{\"aaxis\": {\"endlinecolor\": \"#2a3f5f\", \"gridcolor\": \"white\", \"linecolor\": \"white\", \"minorgridcolor\": \"white\", \"startlinecolor\": \"#2a3f5f\"}, \"baxis\": {\"endlinecolor\": \"#2a3f5f\", \"gridcolor\": \"white\", \"linecolor\": \"white\", \"minorgridcolor\": \"white\", \"startlinecolor\": \"#2a3f5f\"}, \"type\": \"carpet\"}], \"choropleth\": [{\"colorbar\": {\"outlinewidth\": 0, \"ticks\": \"\"}, \"type\": \"choropleth\"}], \"contour\": [{\"colorbar\": {\"outlinewidth\": 0, \"ticks\": \"\"}, \"colorscale\": [[0.0, \"#0d0887\"], [0.1111111111111111, \"#46039f\"], [0.2222222222222222, \"#7201a8\"], [0.3333333333333333, \"#9c179e\"], [0.4444444444444444, \"#bd3786\"], [0.5555555555555556, \"#d8576b\"], [0.6666666666666666, \"#ed7953\"], [0.7777777777777778, \"#fb9f3a\"], [0.8888888888888888, \"#fdca26\"], [1.0, \"#f0f921\"]], \"type\": \"contour\"}], \"contourcarpet\": [{\"colorbar\": {\"outlinewidth\": 0, \"ticks\": \"\"}, \"type\": \"contourcarpet\"}], \"heatmap\": [{\"colorbar\": {\"outlinewidth\": 0, \"ticks\": \"\"}, \"colorscale\": [[0.0, \"#0d0887\"], [0.1111111111111111, \"#46039f\"], [0.2222222222222222, \"#7201a8\"], [0.3333333333333333, \"#9c179e\"], [0.4444444444444444, \"#bd3786\"], [0.5555555555555556, \"#d8576b\"], [0.6666666666666666, \"#ed7953\"], [0.7777777777777778, \"#fb9f3a\"], [0.8888888888888888, \"#fdca26\"], [1.0, \"#f0f921\"]], \"type\": \"heatmap\"}], \"heatmapgl\": [{\"colorbar\": {\"outlinewidth\": 0, \"ticks\": \"\"}, \"colorscale\": [[0.0, \"#0d0887\"], [0.1111111111111111, \"#46039f\"], [0.2222222222222222, \"#7201a8\"], [0.3333333333333333, \"#9c179e\"], [0.4444444444444444, \"#bd3786\"], [0.5555555555555556, \"#d8576b\"], [0.6666666666666666, \"#ed7953\"], [0.7777777777777778, \"#fb9f3a\"], [0.8888888888888888, \"#fdca26\"], [1.0, \"#f0f921\"]], \"type\": \"heatmapgl\"}], \"histogram\": [{\"marker\": {\"colorbar\": {\"outlinewidth\": 0, \"ticks\": \"\"}}, \"type\": \"histogram\"}], \"histogram2d\": [{\"colorbar\": {\"outlinewidth\": 0, \"ticks\": \"\"}, \"colorscale\": [[0.0, \"#0d0887\"], [0.1111111111111111, \"#46039f\"], [0.2222222222222222, \"#7201a8\"], [0.3333333333333333, \"#9c179e\"], [0.4444444444444444, \"#bd3786\"], [0.5555555555555556, \"#d8576b\"], [0.6666666666666666, \"#ed7953\"], [0.7777777777777778, \"#fb9f3a\"], [0.8888888888888888, \"#fdca26\"], [1.0, \"#f0f921\"]], \"type\": \"histogram2d\"}], \"histogram2dcontour\": [{\"colorbar\": {\"outlinewidth\": 0, \"ticks\": \"\"}, \"colorscale\": [[0.0, \"#0d0887\"], [0.1111111111111111, \"#46039f\"], [0.2222222222222222, \"#7201a8\"], [0.3333333333333333, \"#9c179e\"], [0.4444444444444444, \"#bd3786\"], [0.5555555555555556, \"#d8576b\"], [0.6666666666666666, \"#ed7953\"], [0.7777777777777778, \"#fb9f3a\"], [0.8888888888888888, \"#fdca26\"], [1.0, \"#f0f921\"]], \"type\": \"histogram2dcontour\"}], \"mesh3d\": [{\"colorbar\": {\"outlinewidth\": 0, \"ticks\": \"\"}, \"type\": \"mesh3d\"}], \"parcoords\": [{\"line\": {\"colorbar\": {\"outlinewidth\": 0, \"ticks\": \"\"}}, \"type\": \"parcoords\"}], \"pie\": [{\"automargin\": true, \"type\": \"pie\"}], \"scatter\": [{\"marker\": {\"colorbar\": {\"outlinewidth\": 0, \"ticks\": \"\"}}, \"type\": \"scatter\"}], \"scatter3d\": [{\"line\": {\"colorbar\": {\"outlinewidth\": 0, \"ticks\": \"\"}}, \"marker\": {\"colorbar\": {\"outlinewidth\": 0, \"ticks\": \"\"}}, \"type\": \"scatter3d\"}], \"scattercarpet\": [{\"marker\": {\"colorbar\": {\"outlinewidth\": 0, \"ticks\": \"\"}}, \"type\": \"scattercarpet\"}], \"scattergeo\": [{\"marker\": {\"colorbar\": {\"outlinewidth\": 0, \"ticks\": \"\"}}, \"type\": \"scattergeo\"}], \"scattergl\": [{\"marker\": {\"colorbar\": {\"outlinewidth\": 0, \"ticks\": \"\"}}, \"type\": \"scattergl\"}], \"scattermapbox\": [{\"marker\": {\"colorbar\": {\"outlinewidth\": 0, \"ticks\": \"\"}}, \"type\": \"scattermapbox\"}], \"scatterpolar\": [{\"marker\": {\"colorbar\": {\"outlinewidth\": 0, \"ticks\": \"\"}}, \"type\": \"scatterpolar\"}], \"scatterpolargl\": [{\"marker\": {\"colorbar\": {\"outlinewidth\": 0, \"ticks\": \"\"}}, \"type\": \"scatterpolargl\"}], \"scatterternary\": [{\"marker\": {\"colorbar\": {\"outlinewidth\": 0, \"ticks\": \"\"}}, \"type\": \"scatterternary\"}], \"surface\": [{\"colorbar\": {\"outlinewidth\": 0, \"ticks\": \"\"}, \"colorscale\": [[0.0, \"#0d0887\"], [0.1111111111111111, \"#46039f\"], [0.2222222222222222, \"#7201a8\"], [0.3333333333333333, \"#9c179e\"], [0.4444444444444444, \"#bd3786\"], [0.5555555555555556, \"#d8576b\"], [0.6666666666666666, \"#ed7953\"], [0.7777777777777778, \"#fb9f3a\"], [0.8888888888888888, \"#fdca26\"], [1.0, \"#f0f921\"]], \"type\": \"surface\"}], \"table\": [{\"cells\": {\"fill\": {\"color\": \"#EBF0F8\"}, \"line\": {\"color\": \"white\"}}, \"header\": {\"fill\": {\"color\": \"#C8D4E3\"}, \"line\": {\"color\": \"white\"}}, \"type\": \"table\"}]}, \"layout\": {\"annotationdefaults\": {\"arrowcolor\": \"#2a3f5f\", \"arrowhead\": 0, \"arrowwidth\": 1}, \"coloraxis\": {\"colorbar\": {\"outlinewidth\": 0, \"ticks\": \"\"}}, \"colorscale\": {\"diverging\": [[0, \"#8e0152\"], [0.1, \"#c51b7d\"], [0.2, \"#de77ae\"], [0.3, \"#f1b6da\"], [0.4, \"#fde0ef\"], [0.5, \"#f7f7f7\"], [0.6, \"#e6f5d0\"], [0.7, \"#b8e186\"], [0.8, \"#7fbc41\"], [0.9, \"#4d9221\"], [1, \"#276419\"]], \"sequential\": [[0.0, \"#0d0887\"], [0.1111111111111111, \"#46039f\"], [0.2222222222222222, \"#7201a8\"], [0.3333333333333333, \"#9c179e\"], [0.4444444444444444, \"#bd3786\"], [0.5555555555555556, \"#d8576b\"], [0.6666666666666666, \"#ed7953\"], [0.7777777777777778, \"#fb9f3a\"], [0.8888888888888888, \"#fdca26\"], [1.0, \"#f0f921\"]], \"sequentialminus\": [[0.0, \"#0d0887\"], [0.1111111111111111, \"#46039f\"], [0.2222222222222222, \"#7201a8\"], [0.3333333333333333, \"#9c179e\"], [0.4444444444444444, \"#bd3786\"], [0.5555555555555556, \"#d8576b\"], [0.6666666666666666, \"#ed7953\"], [0.7777777777777778, \"#fb9f3a\"], [0.8888888888888888, \"#fdca26\"], [1.0, \"#f0f921\"]]}, \"colorway\": [\"#636efa\", \"#EF553B\", \"#00cc96\", \"#ab63fa\", \"#FFA15A\", \"#19d3f3\", \"#FF6692\", \"#B6E880\", \"#FF97FF\", \"#FECB52\"], \"font\": {\"color\": \"#2a3f5f\"}, \"geo\": {\"bgcolor\": \"white\", \"lakecolor\": \"white\", \"landcolor\": \"#E5ECF6\", \"showlakes\": true, \"showland\": true, \"subunitcolor\": \"white\"}, \"hoverlabel\": {\"align\": \"left\"}, \"hovermode\": \"closest\", \"mapbox\": {\"style\": \"light\"}, \"paper_bgcolor\": \"white\", \"plot_bgcolor\": \"#E5ECF6\", \"polar\": {\"angularaxis\": {\"gridcolor\": \"white\", \"linecolor\": \"white\", \"ticks\": \"\"}, \"bgcolor\": \"#E5ECF6\", \"radialaxis\": {\"gridcolor\": \"white\", \"linecolor\": \"white\", \"ticks\": \"\"}}, \"scene\": {\"xaxis\": {\"backgroundcolor\": \"#E5ECF6\", \"gridcolor\": \"white\", \"gridwidth\": 2, \"linecolor\": \"white\", \"showbackground\": true, \"ticks\": \"\", \"zerolinecolor\": \"white\"}, \"yaxis\": {\"backgroundcolor\": \"#E5ECF6\", \"gridcolor\": \"white\", \"gridwidth\": 2, \"linecolor\": \"white\", \"showbackground\": true, \"ticks\": \"\", \"zerolinecolor\": \"white\"}, \"zaxis\": {\"backgroundcolor\": \"#E5ECF6\", \"gridcolor\": \"white\", \"gridwidth\": 2, \"linecolor\": \"white\", \"showbackground\": true, \"ticks\": \"\", \"zerolinecolor\": \"white\"}}, \"shapedefaults\": {\"line\": {\"color\": \"#2a3f5f\"}}, \"ternary\": {\"aaxis\": {\"gridcolor\": \"white\", \"linecolor\": \"white\", \"ticks\": \"\"}, \"baxis\": {\"gridcolor\": \"white\", \"linecolor\": \"white\", \"ticks\": \"\"}, \"bgcolor\": \"#E5ECF6\", \"caxis\": {\"gridcolor\": \"white\", \"linecolor\": \"white\", \"ticks\": \"\"}}, \"title\": {\"x\": 0.05}, \"xaxis\": {\"automargin\": true, \"gridcolor\": \"white\", \"linecolor\": \"white\", \"ticks\": \"\", \"title\": {\"standoff\": 15}, \"zerolinecolor\": \"white\", \"zerolinewidth\": 2}, \"yaxis\": {\"automargin\": true, \"gridcolor\": \"white\", \"linecolor\": \"white\", \"ticks\": \"\", \"title\": {\"standoff\": 15}, \"zerolinecolor\": \"white\", \"zerolinewidth\": 2}}}, \"title\": {\"font\": {\"color\": \"#4D5663\"}}, \"xaxis\": {\"gridcolor\": \"#E1E5ED\", \"showgrid\": true, \"tickfont\": {\"color\": \"#4D5663\"}, \"title\": {\"font\": {\"color\": \"#4D5663\"}, \"text\": \"\"}, \"zerolinecolor\": \"#E1E5ED\"}, \"yaxis\": {\"gridcolor\": \"#E1E5ED\", \"showgrid\": true, \"tickfont\": {\"color\": \"#4D5663\"}, \"title\": {\"font\": {\"color\": \"#4D5663\"}, \"text\": \"\"}, \"zerolinecolor\": \"#E1E5ED\"}},\n",
       "                        {\"showLink\": true, \"linkText\": \"Export to plot.ly\", \"plotlyServerURL\": \"https://plot.ly\", \"responsive\": true}\n",
       "                    ).then(function(){\n",
       "                            \n",
       "var gd = document.getElementById('8e54eb53-6a99-4a98-bd73-a742c6c51d67');\n",
       "var x = new MutationObserver(function (mutations, observer) {{\n",
       "        var display = window.getComputedStyle(gd).display;\n",
       "        if (!display || display === 'none') {{\n",
       "            console.log([gd, 'removed!']);\n",
       "            Plotly.purge(gd);\n",
       "            observer.disconnect();\n",
       "        }}\n",
       "}});\n",
       "\n",
       "// Listen for the removal of the full notebook cells\n",
       "var notebookContainer = gd.closest('#notebook-container');\n",
       "if (notebookContainer) {{\n",
       "    x.observe(notebookContainer, {childList: true});\n",
       "}}\n",
       "\n",
       "// Listen for the clearing of the current output cell\n",
       "var outputEl = gd.closest('.output');\n",
       "if (outputEl) {{\n",
       "    x.observe(outputEl, {childList: true});\n",
       "}}\n",
       "\n",
       "                        })\n",
       "                };\n",
       "                });\n",
       "            </script>\n",
       "        </div>"
      ]
     },
     "metadata": {},
     "output_type": "display_data"
    }
   ],
   "source": [
    "df['A'].iplot(kind='hist',bins=25)"
   ]
  },
  {
   "cell_type": "code",
   "execution_count": 17,
   "metadata": {},
   "outputs": [
    {
     "data": {
      "application/vnd.plotly.v1+json": {
       "config": {
        "linkText": "Export to plot.ly",
        "plotlyServerURL": "https://plot.ly",
        "showLink": true
       },
       "data": [
        {
         "marker": {
          "color": [
           "rgb(255, 153, 51)",
           "rgb(55, 128, 191)",
           "rgb(50, 171, 96)",
           "rgb(128, 0, 128)",
           "rgb(219, 64, 82)",
           "rgb(0, 128, 128)",
           "rgb(255, 255, 51)",
           "rgb(128, 128, 0)",
           "rgb(251, 128, 114)",
           "rgb(128, 177, 211)"
          ],
          "line": {
           "width": 1.3
          },
          "size": [
           24,
           79,
           80,
           54,
           29,
           105,
           52,
           63,
           57,
           71,
           34,
           82,
           63,
           30,
           32,
           78,
           12,
           78,
           85,
           103,
           61,
           24,
           77,
           75,
           78,
           98,
           52,
           43,
           57,
           64,
           63,
           25,
           74,
           71,
           59,
           57,
           39,
           60,
           53,
           84,
           48,
           71,
           67,
           51,
           75,
           98,
           58,
           49,
           69,
           59,
           60,
           71,
           64,
           112,
           35,
           92,
           60,
           99,
           89,
           50,
           46,
           49,
           55,
           34,
           49,
           12,
           93,
           50,
           65,
           52,
           48,
           59,
           69,
           25,
           60,
           56,
           64,
           85,
           78,
           71,
           79,
           67,
           49,
           46,
           57,
           72,
           61,
           77,
           60,
           14,
           63,
           28,
           54,
           77,
           46,
           52,
           63,
           48,
           55,
           68
          ],
          "symbol": "circle"
         },
         "mode": "markers",
         "text": "",
         "type": "scatter",
         "x": [
          0.21681727542441842,
          -1.9772885113327838,
          -0.5462132471505399,
          -0.6819819367976302,
          -1.0214246855639262,
          -1.4663406701189936,
          -1.3869714818665195,
          0.6792759180849723,
          0.003323249589601154,
          0.35263353393747643,
          -2.173396383826939,
          -0.39936467024163136,
          0.8835612461124585,
          1.748782428403716,
          1.2981444583558728,
          -0.32230543795352296,
          -2.2872486799886977,
          -0.9222217108403428,
          1.0586883344373945,
          -0.7728894682805112,
          0.1846911614370194,
          0.9551326809373836,
          0.06571449259757192,
          -0.2879721715497405,
          0.4192649222122794,
          -0.22975781578973978,
          1.1268507659495426,
          -0.8736355780617026,
          -0.49053047435131,
          -1.860305257457072,
          -1.3014448030976098,
          -0.7363205380791245,
          0.18582304290026405,
          -0.9193683541857193,
          -0.04760099120972285,
          1.1381969500860398,
          0.7132664776376054,
          -1.4059686462089924,
          0.12934554272216123,
          0.07709514927434992,
          1.2065139611399052,
          -0.2922868261161954,
          -0.6492118066817882,
          -2.7875169264679287,
          1.487366502025058,
          -0.27655005327292226,
          0.6720373114730019,
          1.0871682635420434,
          -1.2882506461748495,
          -1.1688212881513926,
          2.1650038192151153,
          0.9167077936678667,
          -0.6828969660269069,
          -0.362244895015562,
          -0.09097710761368762,
          1.1693454323863541,
          -1.0802438914386934,
          1.6878002831003949,
          -0.7579699094459557,
          -0.923800232625123,
          -2.114427367903597,
          -0.8129595596031683,
          -0.9012657916491319,
          -0.5455684789811972,
          0.003975478803318766,
          1.1179112763539043,
          0.9018043992546574,
          -0.8986152080322387,
          -0.21730607952635342,
          -0.5377706905229709,
          0.7182445328073375,
          1.3848319307421704,
          0.2073759925829057,
          0.7458428658575877,
          -1.1782479208176158,
          0.7308951672261628,
          1.2742068212954676,
          -0.5091233276267916,
          1.2123761493889964,
          -0.8696175139611265,
          0.05467665427955305,
          -0.10334873767188274,
          -0.8969549934246617,
          -0.5115917199381562,
          0.19375254046062468,
          1.148982738277355,
          -0.7879074944195215,
          0.20254895860414326,
          -0.10967627777498896,
          0.4834359516159212,
          0.26554038535107627,
          0.8015719884092859,
          -1.727774502348332,
          -0.8585361784135981,
          2.215116094482056,
          -0.8258598941353283,
          0.2927407389721164,
          -0.5278021971348248,
          -0.37959624617078397,
          -0.902146704300605
         ],
         "y": [
          -0.5744108505115697,
          1.3250127875694866,
          1.0609501013173488,
          1.4471358685229194,
          1.636441501367267,
          0.3591387809175054,
          -0.008677973283243321,
          1.2483095611775963,
          -0.3377835165446373,
          2.2936306970939824,
          1.4935410087314982,
          -1.1678829013387353,
          -0.4302557027404968,
          -1.2175853872046736,
          0.9976278820986041,
          1.8542346052856826,
          -0.3336832591907579,
          0.4305648305343407,
          -0.3413782131381251,
          1.885562577489426,
          -1.167728416431715,
          -0.25855441335933166,
          0.8457605079877005,
          1.786687191313069,
          -0.08016895736742227,
          -0.1675114125436269,
          0.6660676823694558,
          0.45908821282456685,
          0.024217153209860284,
          -1.256145709598057,
          -0.04627554807779002,
          -1.0138047364711658,
          0.8176005919444439,
          0.7242425774053408,
          1.0121548452900764,
          0.08734325694977876,
          -0.6137761053906247,
          0.19046996905840896,
          -0.199575010944785,
          1.763674923294254,
          0.7998263899160724,
          0.4694877243781425,
          -0.18758354700512347,
          -0.27105335552054344,
          0.2000247639308463,
          0.828433270741575,
          -0.7058613693027531,
          1.8623140211472056,
          2.1618073436752887,
          -1.7317496849627836,
          -0.3992836362099629,
          -2.2223897210323944,
          1.3436501899446402,
          -1.1852917082259877,
          0.4828293211581265,
          -1.9592110315381874,
          1.507469336916762,
          -0.0700760714281321,
          0.8282896907807905,
          -1.997244238790069,
          0.4585925848688841,
          -1.4981223246453403,
          -0.31732990651485327,
          1.8869775085501947,
          1.1584731749792427,
          1.0273130448326746,
          0.19508827087091382,
          1.4258471228220166,
          0.5788535326226437,
          -0.299954280656903,
          -0.3998410210242254,
          -0.35031737167406823,
          0.8832288439399775,
          0.21669465213116756,
          1.5391788486551,
          0.4271428089617199,
          -0.5953874578026,
          -0.6572397682085748,
          -0.26642398341379453,
          0.5076714514941331,
          -0.49600297058156256,
          -0.04379002145007061,
          0.13194756351743006,
          1.3883149776748287,
          0.6451060566263321,
          -0.7813472507428276,
          -0.9010886847348751,
          -0.07420666006715997,
          2.1058526584425343,
          1.5004904613813166,
          -0.8716479253418286,
          -1.0163449295692388,
          -0.006685171080727264,
          -1.2081557920076373,
          0.046997033531740375,
          -1.0292765217406235,
          -0.5659707554107236,
          0.5939692678161016,
          1.32004815915914,
          1.693620985365639
         ]
        }
       ],
       "layout": {
        "legend": {
         "bgcolor": "#F5F6F9",
         "font": {
          "color": "#4D5663"
         }
        },
        "paper_bgcolor": "#F5F6F9",
        "plot_bgcolor": "#F5F6F9",
        "template": {
         "data": {
          "bar": [
           {
            "error_x": {
             "color": "#2a3f5f"
            },
            "error_y": {
             "color": "#2a3f5f"
            },
            "marker": {
             "line": {
              "color": "#E5ECF6",
              "width": 0.5
             }
            },
            "type": "bar"
           }
          ],
          "barpolar": [
           {
            "marker": {
             "line": {
              "color": "#E5ECF6",
              "width": 0.5
             }
            },
            "type": "barpolar"
           }
          ],
          "carpet": [
           {
            "aaxis": {
             "endlinecolor": "#2a3f5f",
             "gridcolor": "white",
             "linecolor": "white",
             "minorgridcolor": "white",
             "startlinecolor": "#2a3f5f"
            },
            "baxis": {
             "endlinecolor": "#2a3f5f",
             "gridcolor": "white",
             "linecolor": "white",
             "minorgridcolor": "white",
             "startlinecolor": "#2a3f5f"
            },
            "type": "carpet"
           }
          ],
          "choropleth": [
           {
            "colorbar": {
             "outlinewidth": 0,
             "ticks": ""
            },
            "type": "choropleth"
           }
          ],
          "contour": [
           {
            "colorbar": {
             "outlinewidth": 0,
             "ticks": ""
            },
            "colorscale": [
             [
              0,
              "#0d0887"
             ],
             [
              0.1111111111111111,
              "#46039f"
             ],
             [
              0.2222222222222222,
              "#7201a8"
             ],
             [
              0.3333333333333333,
              "#9c179e"
             ],
             [
              0.4444444444444444,
              "#bd3786"
             ],
             [
              0.5555555555555556,
              "#d8576b"
             ],
             [
              0.6666666666666666,
              "#ed7953"
             ],
             [
              0.7777777777777778,
              "#fb9f3a"
             ],
             [
              0.8888888888888888,
              "#fdca26"
             ],
             [
              1,
              "#f0f921"
             ]
            ],
            "type": "contour"
           }
          ],
          "contourcarpet": [
           {
            "colorbar": {
             "outlinewidth": 0,
             "ticks": ""
            },
            "type": "contourcarpet"
           }
          ],
          "heatmap": [
           {
            "colorbar": {
             "outlinewidth": 0,
             "ticks": ""
            },
            "colorscale": [
             [
              0,
              "#0d0887"
             ],
             [
              0.1111111111111111,
              "#46039f"
             ],
             [
              0.2222222222222222,
              "#7201a8"
             ],
             [
              0.3333333333333333,
              "#9c179e"
             ],
             [
              0.4444444444444444,
              "#bd3786"
             ],
             [
              0.5555555555555556,
              "#d8576b"
             ],
             [
              0.6666666666666666,
              "#ed7953"
             ],
             [
              0.7777777777777778,
              "#fb9f3a"
             ],
             [
              0.8888888888888888,
              "#fdca26"
             ],
             [
              1,
              "#f0f921"
             ]
            ],
            "type": "heatmap"
           }
          ],
          "heatmapgl": [
           {
            "colorbar": {
             "outlinewidth": 0,
             "ticks": ""
            },
            "colorscale": [
             [
              0,
              "#0d0887"
             ],
             [
              0.1111111111111111,
              "#46039f"
             ],
             [
              0.2222222222222222,
              "#7201a8"
             ],
             [
              0.3333333333333333,
              "#9c179e"
             ],
             [
              0.4444444444444444,
              "#bd3786"
             ],
             [
              0.5555555555555556,
              "#d8576b"
             ],
             [
              0.6666666666666666,
              "#ed7953"
             ],
             [
              0.7777777777777778,
              "#fb9f3a"
             ],
             [
              0.8888888888888888,
              "#fdca26"
             ],
             [
              1,
              "#f0f921"
             ]
            ],
            "type": "heatmapgl"
           }
          ],
          "histogram": [
           {
            "marker": {
             "colorbar": {
              "outlinewidth": 0,
              "ticks": ""
             }
            },
            "type": "histogram"
           }
          ],
          "histogram2d": [
           {
            "colorbar": {
             "outlinewidth": 0,
             "ticks": ""
            },
            "colorscale": [
             [
              0,
              "#0d0887"
             ],
             [
              0.1111111111111111,
              "#46039f"
             ],
             [
              0.2222222222222222,
              "#7201a8"
             ],
             [
              0.3333333333333333,
              "#9c179e"
             ],
             [
              0.4444444444444444,
              "#bd3786"
             ],
             [
              0.5555555555555556,
              "#d8576b"
             ],
             [
              0.6666666666666666,
              "#ed7953"
             ],
             [
              0.7777777777777778,
              "#fb9f3a"
             ],
             [
              0.8888888888888888,
              "#fdca26"
             ],
             [
              1,
              "#f0f921"
             ]
            ],
            "type": "histogram2d"
           }
          ],
          "histogram2dcontour": [
           {
            "colorbar": {
             "outlinewidth": 0,
             "ticks": ""
            },
            "colorscale": [
             [
              0,
              "#0d0887"
             ],
             [
              0.1111111111111111,
              "#46039f"
             ],
             [
              0.2222222222222222,
              "#7201a8"
             ],
             [
              0.3333333333333333,
              "#9c179e"
             ],
             [
              0.4444444444444444,
              "#bd3786"
             ],
             [
              0.5555555555555556,
              "#d8576b"
             ],
             [
              0.6666666666666666,
              "#ed7953"
             ],
             [
              0.7777777777777778,
              "#fb9f3a"
             ],
             [
              0.8888888888888888,
              "#fdca26"
             ],
             [
              1,
              "#f0f921"
             ]
            ],
            "type": "histogram2dcontour"
           }
          ],
          "mesh3d": [
           {
            "colorbar": {
             "outlinewidth": 0,
             "ticks": ""
            },
            "type": "mesh3d"
           }
          ],
          "parcoords": [
           {
            "line": {
             "colorbar": {
              "outlinewidth": 0,
              "ticks": ""
             }
            },
            "type": "parcoords"
           }
          ],
          "pie": [
           {
            "automargin": true,
            "type": "pie"
           }
          ],
          "scatter": [
           {
            "marker": {
             "colorbar": {
              "outlinewidth": 0,
              "ticks": ""
             }
            },
            "type": "scatter"
           }
          ],
          "scatter3d": [
           {
            "line": {
             "colorbar": {
              "outlinewidth": 0,
              "ticks": ""
             }
            },
            "marker": {
             "colorbar": {
              "outlinewidth": 0,
              "ticks": ""
             }
            },
            "type": "scatter3d"
           }
          ],
          "scattercarpet": [
           {
            "marker": {
             "colorbar": {
              "outlinewidth": 0,
              "ticks": ""
             }
            },
            "type": "scattercarpet"
           }
          ],
          "scattergeo": [
           {
            "marker": {
             "colorbar": {
              "outlinewidth": 0,
              "ticks": ""
             }
            },
            "type": "scattergeo"
           }
          ],
          "scattergl": [
           {
            "marker": {
             "colorbar": {
              "outlinewidth": 0,
              "ticks": ""
             }
            },
            "type": "scattergl"
           }
          ],
          "scattermapbox": [
           {
            "marker": {
             "colorbar": {
              "outlinewidth": 0,
              "ticks": ""
             }
            },
            "type": "scattermapbox"
           }
          ],
          "scatterpolar": [
           {
            "marker": {
             "colorbar": {
              "outlinewidth": 0,
              "ticks": ""
             }
            },
            "type": "scatterpolar"
           }
          ],
          "scatterpolargl": [
           {
            "marker": {
             "colorbar": {
              "outlinewidth": 0,
              "ticks": ""
             }
            },
            "type": "scatterpolargl"
           }
          ],
          "scatterternary": [
           {
            "marker": {
             "colorbar": {
              "outlinewidth": 0,
              "ticks": ""
             }
            },
            "type": "scatterternary"
           }
          ],
          "surface": [
           {
            "colorbar": {
             "outlinewidth": 0,
             "ticks": ""
            },
            "colorscale": [
             [
              0,
              "#0d0887"
             ],
             [
              0.1111111111111111,
              "#46039f"
             ],
             [
              0.2222222222222222,
              "#7201a8"
             ],
             [
              0.3333333333333333,
              "#9c179e"
             ],
             [
              0.4444444444444444,
              "#bd3786"
             ],
             [
              0.5555555555555556,
              "#d8576b"
             ],
             [
              0.6666666666666666,
              "#ed7953"
             ],
             [
              0.7777777777777778,
              "#fb9f3a"
             ],
             [
              0.8888888888888888,
              "#fdca26"
             ],
             [
              1,
              "#f0f921"
             ]
            ],
            "type": "surface"
           }
          ],
          "table": [
           {
            "cells": {
             "fill": {
              "color": "#EBF0F8"
             },
             "line": {
              "color": "white"
             }
            },
            "header": {
             "fill": {
              "color": "#C8D4E3"
             },
             "line": {
              "color": "white"
             }
            },
            "type": "table"
           }
          ]
         },
         "layout": {
          "annotationdefaults": {
           "arrowcolor": "#2a3f5f",
           "arrowhead": 0,
           "arrowwidth": 1
          },
          "coloraxis": {
           "colorbar": {
            "outlinewidth": 0,
            "ticks": ""
           }
          },
          "colorscale": {
           "diverging": [
            [
             0,
             "#8e0152"
            ],
            [
             0.1,
             "#c51b7d"
            ],
            [
             0.2,
             "#de77ae"
            ],
            [
             0.3,
             "#f1b6da"
            ],
            [
             0.4,
             "#fde0ef"
            ],
            [
             0.5,
             "#f7f7f7"
            ],
            [
             0.6,
             "#e6f5d0"
            ],
            [
             0.7,
             "#b8e186"
            ],
            [
             0.8,
             "#7fbc41"
            ],
            [
             0.9,
             "#4d9221"
            ],
            [
             1,
             "#276419"
            ]
           ],
           "sequential": [
            [
             0,
             "#0d0887"
            ],
            [
             0.1111111111111111,
             "#46039f"
            ],
            [
             0.2222222222222222,
             "#7201a8"
            ],
            [
             0.3333333333333333,
             "#9c179e"
            ],
            [
             0.4444444444444444,
             "#bd3786"
            ],
            [
             0.5555555555555556,
             "#d8576b"
            ],
            [
             0.6666666666666666,
             "#ed7953"
            ],
            [
             0.7777777777777778,
             "#fb9f3a"
            ],
            [
             0.8888888888888888,
             "#fdca26"
            ],
            [
             1,
             "#f0f921"
            ]
           ],
           "sequentialminus": [
            [
             0,
             "#0d0887"
            ],
            [
             0.1111111111111111,
             "#46039f"
            ],
            [
             0.2222222222222222,
             "#7201a8"
            ],
            [
             0.3333333333333333,
             "#9c179e"
            ],
            [
             0.4444444444444444,
             "#bd3786"
            ],
            [
             0.5555555555555556,
             "#d8576b"
            ],
            [
             0.6666666666666666,
             "#ed7953"
            ],
            [
             0.7777777777777778,
             "#fb9f3a"
            ],
            [
             0.8888888888888888,
             "#fdca26"
            ],
            [
             1,
             "#f0f921"
            ]
           ]
          },
          "colorway": [
           "#636efa",
           "#EF553B",
           "#00cc96",
           "#ab63fa",
           "#FFA15A",
           "#19d3f3",
           "#FF6692",
           "#B6E880",
           "#FF97FF",
           "#FECB52"
          ],
          "font": {
           "color": "#2a3f5f"
          },
          "geo": {
           "bgcolor": "white",
           "lakecolor": "white",
           "landcolor": "#E5ECF6",
           "showlakes": true,
           "showland": true,
           "subunitcolor": "white"
          },
          "hoverlabel": {
           "align": "left"
          },
          "hovermode": "closest",
          "mapbox": {
           "style": "light"
          },
          "paper_bgcolor": "white",
          "plot_bgcolor": "#E5ECF6",
          "polar": {
           "angularaxis": {
            "gridcolor": "white",
            "linecolor": "white",
            "ticks": ""
           },
           "bgcolor": "#E5ECF6",
           "radialaxis": {
            "gridcolor": "white",
            "linecolor": "white",
            "ticks": ""
           }
          },
          "scene": {
           "xaxis": {
            "backgroundcolor": "#E5ECF6",
            "gridcolor": "white",
            "gridwidth": 2,
            "linecolor": "white",
            "showbackground": true,
            "ticks": "",
            "zerolinecolor": "white"
           },
           "yaxis": {
            "backgroundcolor": "#E5ECF6",
            "gridcolor": "white",
            "gridwidth": 2,
            "linecolor": "white",
            "showbackground": true,
            "ticks": "",
            "zerolinecolor": "white"
           },
           "zaxis": {
            "backgroundcolor": "#E5ECF6",
            "gridcolor": "white",
            "gridwidth": 2,
            "linecolor": "white",
            "showbackground": true,
            "ticks": "",
            "zerolinecolor": "white"
           }
          },
          "shapedefaults": {
           "line": {
            "color": "#2a3f5f"
           }
          },
          "ternary": {
           "aaxis": {
            "gridcolor": "white",
            "linecolor": "white",
            "ticks": ""
           },
           "baxis": {
            "gridcolor": "white",
            "linecolor": "white",
            "ticks": ""
           },
           "bgcolor": "#E5ECF6",
           "caxis": {
            "gridcolor": "white",
            "linecolor": "white",
            "ticks": ""
           }
          },
          "title": {
           "x": 0.05
          },
          "xaxis": {
           "automargin": true,
           "gridcolor": "white",
           "linecolor": "white",
           "ticks": "",
           "title": {
            "standoff": 15
           },
           "zerolinecolor": "white",
           "zerolinewidth": 2
          },
          "yaxis": {
           "automargin": true,
           "gridcolor": "white",
           "linecolor": "white",
           "ticks": "",
           "title": {
            "standoff": 15
           },
           "zerolinecolor": "white",
           "zerolinewidth": 2
          }
         }
        },
        "title": {
         "font": {
          "color": "#4D5663"
         }
        },
        "xaxis": {
         "gridcolor": "#E1E5ED",
         "showgrid": true,
         "tickfont": {
          "color": "#4D5663"
         },
         "title": {
          "font": {
           "color": "#4D5663"
          },
          "text": ""
         },
         "zerolinecolor": "#E1E5ED"
        },
        "yaxis": {
         "gridcolor": "#E1E5ED",
         "showgrid": true,
         "tickfont": {
          "color": "#4D5663"
         },
         "title": {
          "font": {
           "color": "#4D5663"
          },
          "text": ""
         },
         "zerolinecolor": "#E1E5ED"
        }
       }
      },
      "text/html": [
       "<div>\n",
       "        \n",
       "        \n",
       "            <div id=\"a00d6a4e-50b5-44ec-b4db-8f7fb7bdfc55\" class=\"plotly-graph-div\" style=\"height:525px; width:100%;\"></div>\n",
       "            <script type=\"text/javascript\">\n",
       "                require([\"plotly\"], function(Plotly) {\n",
       "                    window.PLOTLYENV=window.PLOTLYENV || {};\n",
       "                    window.PLOTLYENV.BASE_URL='https://plot.ly';\n",
       "                    \n",
       "                if (document.getElementById(\"a00d6a4e-50b5-44ec-b4db-8f7fb7bdfc55\")) {\n",
       "                    Plotly.newPlot(\n",
       "                        'a00d6a4e-50b5-44ec-b4db-8f7fb7bdfc55',\n",
       "                        [{\"marker\": {\"color\": [\"rgb(255, 153, 51)\", \"rgb(55, 128, 191)\", \"rgb(50, 171, 96)\", \"rgb(128, 0, 128)\", \"rgb(219, 64, 82)\", \"rgb(0, 128, 128)\", \"rgb(255, 255, 51)\", \"rgb(128, 128, 0)\", \"rgb(251, 128, 114)\", \"rgb(128, 177, 211)\"], \"line\": {\"width\": 1.3}, \"size\": [24, 79, 80, 54, 29, 105, 52, 63, 57, 71, 34, 82, 63, 30, 32, 78, 12, 78, 85, 103, 61, 24, 77, 75, 78, 98, 52, 43, 57, 64, 63, 25, 74, 71, 59, 57, 39, 60, 53, 84, 48, 71, 67, 51, 75, 98, 58, 49, 69, 59, 60, 71, 64, 112, 35, 92, 60, 99, 89, 50, 46, 49, 55, 34, 49, 12, 93, 50, 65, 52, 48, 59, 69, 25, 60, 56, 64, 85, 78, 71, 79, 67, 49, 46, 57, 72, 61, 77, 60, 14, 63, 28, 54, 77, 46, 52, 63, 48, 55, 68], \"symbol\": \"circle\"}, \"mode\": \"markers\", \"text\": \"\", \"type\": \"scatter\", \"x\": [0.21681727542441842, -1.9772885113327838, -0.5462132471505399, -0.6819819367976302, -1.0214246855639262, -1.4663406701189936, -1.3869714818665195, 0.6792759180849723, 0.003323249589601154, 0.35263353393747643, -2.173396383826939, -0.39936467024163136, 0.8835612461124585, 1.748782428403716, 1.2981444583558728, -0.32230543795352296, -2.2872486799886977, -0.9222217108403428, 1.0586883344373945, -0.7728894682805112, 0.1846911614370194, 0.9551326809373836, 0.06571449259757192, -0.2879721715497405, 0.4192649222122794, -0.22975781578973978, 1.1268507659495426, -0.8736355780617026, -0.49053047435131, -1.860305257457072, -1.3014448030976098, -0.7363205380791245, 0.18582304290026405, -0.9193683541857193, -0.04760099120972285, 1.1381969500860398, 0.7132664776376054, -1.4059686462089924, 0.12934554272216123, 0.07709514927434992, 1.2065139611399052, -0.2922868261161954, -0.6492118066817882, -2.7875169264679287, 1.487366502025058, -0.27655005327292226, 0.6720373114730019, 1.0871682635420434, -1.2882506461748495, -1.1688212881513926, 2.1650038192151153, 0.9167077936678667, -0.6828969660269069, -0.362244895015562, -0.09097710761368762, 1.1693454323863541, -1.0802438914386934, 1.6878002831003949, -0.7579699094459557, -0.923800232625123, -2.114427367903597, -0.8129595596031683, -0.9012657916491319, -0.5455684789811972, 0.003975478803318766, 1.1179112763539043, 0.9018043992546574, -0.8986152080322387, -0.21730607952635342, -0.5377706905229709, 0.7182445328073375, 1.3848319307421704, 0.2073759925829057, 0.7458428658575877, -1.1782479208176158, 0.7308951672261628, 1.2742068212954676, -0.5091233276267916, 1.2123761493889964, -0.8696175139611265, 0.05467665427955305, -0.10334873767188274, -0.8969549934246617, -0.5115917199381562, 0.19375254046062468, 1.148982738277355, -0.7879074944195215, 0.20254895860414326, -0.10967627777498896, 0.4834359516159212, 0.26554038535107627, 0.8015719884092859, -1.727774502348332, -0.8585361784135981, 2.215116094482056, -0.8258598941353283, 0.2927407389721164, -0.5278021971348248, -0.37959624617078397, -0.902146704300605], \"y\": [-0.5744108505115697, 1.3250127875694866, 1.0609501013173488, 1.4471358685229194, 1.636441501367267, 0.3591387809175054, -0.008677973283243321, 1.2483095611775963, -0.3377835165446373, 2.2936306970939824, 1.4935410087314982, -1.1678829013387353, -0.4302557027404968, -1.2175853872046736, 0.9976278820986041, 1.8542346052856826, -0.3336832591907579, 0.4305648305343407, -0.3413782131381251, 1.885562577489426, -1.167728416431715, -0.25855441335933166, 0.8457605079877005, 1.786687191313069, -0.08016895736742227, -0.1675114125436269, 0.6660676823694558, 0.45908821282456685, 0.024217153209860284, -1.256145709598057, -0.04627554807779002, -1.0138047364711658, 0.8176005919444439, 0.7242425774053408, 1.0121548452900764, 0.08734325694977876, -0.6137761053906247, 0.19046996905840896, -0.199575010944785, 1.763674923294254, 0.7998263899160724, 0.4694877243781425, -0.18758354700512347, -0.27105335552054344, 0.2000247639308463, 0.828433270741575, -0.7058613693027531, 1.8623140211472056, 2.1618073436752887, -1.7317496849627836, -0.3992836362099629, -2.2223897210323944, 1.3436501899446402, -1.1852917082259877, 0.4828293211581265, -1.9592110315381874, 1.507469336916762, -0.0700760714281321, 0.8282896907807905, -1.997244238790069, 0.4585925848688841, -1.4981223246453403, -0.31732990651485327, 1.8869775085501947, 1.1584731749792427, 1.0273130448326746, 0.19508827087091382, 1.4258471228220166, 0.5788535326226437, -0.299954280656903, -0.3998410210242254, -0.35031737167406823, 0.8832288439399775, 0.21669465213116756, 1.5391788486551, 0.4271428089617199, -0.5953874578026, -0.6572397682085748, -0.26642398341379453, 0.5076714514941331, -0.49600297058156256, -0.04379002145007061, 0.13194756351743006, 1.3883149776748287, 0.6451060566263321, -0.7813472507428276, -0.9010886847348751, -0.07420666006715997, 2.1058526584425343, 1.5004904613813166, -0.8716479253418286, -1.0163449295692388, -0.006685171080727264, -1.2081557920076373, 0.046997033531740375, -1.0292765217406235, -0.5659707554107236, 0.5939692678161016, 1.32004815915914, 1.693620985365639]}],\n",
       "                        {\"legend\": {\"bgcolor\": \"#F5F6F9\", \"font\": {\"color\": \"#4D5663\"}}, \"paper_bgcolor\": \"#F5F6F9\", \"plot_bgcolor\": \"#F5F6F9\", \"template\": {\"data\": {\"bar\": [{\"error_x\": {\"color\": \"#2a3f5f\"}, \"error_y\": {\"color\": \"#2a3f5f\"}, \"marker\": {\"line\": {\"color\": \"#E5ECF6\", \"width\": 0.5}}, \"type\": \"bar\"}], \"barpolar\": [{\"marker\": {\"line\": {\"color\": \"#E5ECF6\", \"width\": 0.5}}, \"type\": \"barpolar\"}], \"carpet\": [{\"aaxis\": {\"endlinecolor\": \"#2a3f5f\", \"gridcolor\": \"white\", \"linecolor\": \"white\", \"minorgridcolor\": \"white\", \"startlinecolor\": \"#2a3f5f\"}, \"baxis\": {\"endlinecolor\": \"#2a3f5f\", \"gridcolor\": \"white\", \"linecolor\": \"white\", \"minorgridcolor\": \"white\", \"startlinecolor\": \"#2a3f5f\"}, \"type\": \"carpet\"}], \"choropleth\": [{\"colorbar\": {\"outlinewidth\": 0, \"ticks\": \"\"}, \"type\": \"choropleth\"}], \"contour\": [{\"colorbar\": {\"outlinewidth\": 0, \"ticks\": \"\"}, \"colorscale\": [[0.0, \"#0d0887\"], [0.1111111111111111, \"#46039f\"], [0.2222222222222222, \"#7201a8\"], [0.3333333333333333, \"#9c179e\"], [0.4444444444444444, \"#bd3786\"], [0.5555555555555556, \"#d8576b\"], [0.6666666666666666, \"#ed7953\"], [0.7777777777777778, \"#fb9f3a\"], [0.8888888888888888, \"#fdca26\"], [1.0, \"#f0f921\"]], \"type\": \"contour\"}], \"contourcarpet\": [{\"colorbar\": {\"outlinewidth\": 0, \"ticks\": \"\"}, \"type\": \"contourcarpet\"}], \"heatmap\": [{\"colorbar\": {\"outlinewidth\": 0, \"ticks\": \"\"}, \"colorscale\": [[0.0, \"#0d0887\"], [0.1111111111111111, \"#46039f\"], [0.2222222222222222, \"#7201a8\"], [0.3333333333333333, \"#9c179e\"], [0.4444444444444444, \"#bd3786\"], [0.5555555555555556, \"#d8576b\"], [0.6666666666666666, \"#ed7953\"], [0.7777777777777778, \"#fb9f3a\"], [0.8888888888888888, \"#fdca26\"], [1.0, \"#f0f921\"]], \"type\": \"heatmap\"}], \"heatmapgl\": [{\"colorbar\": {\"outlinewidth\": 0, \"ticks\": \"\"}, \"colorscale\": [[0.0, \"#0d0887\"], [0.1111111111111111, \"#46039f\"], [0.2222222222222222, \"#7201a8\"], [0.3333333333333333, \"#9c179e\"], [0.4444444444444444, \"#bd3786\"], [0.5555555555555556, \"#d8576b\"], [0.6666666666666666, \"#ed7953\"], [0.7777777777777778, \"#fb9f3a\"], [0.8888888888888888, \"#fdca26\"], [1.0, \"#f0f921\"]], \"type\": \"heatmapgl\"}], \"histogram\": [{\"marker\": {\"colorbar\": {\"outlinewidth\": 0, \"ticks\": \"\"}}, \"type\": \"histogram\"}], \"histogram2d\": [{\"colorbar\": {\"outlinewidth\": 0, \"ticks\": \"\"}, \"colorscale\": [[0.0, \"#0d0887\"], [0.1111111111111111, \"#46039f\"], [0.2222222222222222, \"#7201a8\"], [0.3333333333333333, \"#9c179e\"], [0.4444444444444444, \"#bd3786\"], [0.5555555555555556, \"#d8576b\"], [0.6666666666666666, \"#ed7953\"], [0.7777777777777778, \"#fb9f3a\"], [0.8888888888888888, \"#fdca26\"], [1.0, \"#f0f921\"]], \"type\": \"histogram2d\"}], \"histogram2dcontour\": [{\"colorbar\": {\"outlinewidth\": 0, \"ticks\": \"\"}, \"colorscale\": [[0.0, \"#0d0887\"], [0.1111111111111111, \"#46039f\"], [0.2222222222222222, \"#7201a8\"], [0.3333333333333333, \"#9c179e\"], [0.4444444444444444, \"#bd3786\"], [0.5555555555555556, \"#d8576b\"], [0.6666666666666666, \"#ed7953\"], [0.7777777777777778, \"#fb9f3a\"], [0.8888888888888888, \"#fdca26\"], [1.0, \"#f0f921\"]], \"type\": \"histogram2dcontour\"}], \"mesh3d\": [{\"colorbar\": {\"outlinewidth\": 0, \"ticks\": \"\"}, \"type\": \"mesh3d\"}], \"parcoords\": [{\"line\": {\"colorbar\": {\"outlinewidth\": 0, \"ticks\": \"\"}}, \"type\": \"parcoords\"}], \"pie\": [{\"automargin\": true, \"type\": \"pie\"}], \"scatter\": [{\"marker\": {\"colorbar\": {\"outlinewidth\": 0, \"ticks\": \"\"}}, \"type\": \"scatter\"}], \"scatter3d\": [{\"line\": {\"colorbar\": {\"outlinewidth\": 0, \"ticks\": \"\"}}, \"marker\": {\"colorbar\": {\"outlinewidth\": 0, \"ticks\": \"\"}}, \"type\": \"scatter3d\"}], \"scattercarpet\": [{\"marker\": {\"colorbar\": {\"outlinewidth\": 0, \"ticks\": \"\"}}, \"type\": \"scattercarpet\"}], \"scattergeo\": [{\"marker\": {\"colorbar\": {\"outlinewidth\": 0, \"ticks\": \"\"}}, \"type\": \"scattergeo\"}], \"scattergl\": [{\"marker\": {\"colorbar\": {\"outlinewidth\": 0, \"ticks\": \"\"}}, \"type\": \"scattergl\"}], \"scattermapbox\": [{\"marker\": {\"colorbar\": {\"outlinewidth\": 0, \"ticks\": \"\"}}, \"type\": \"scattermapbox\"}], \"scatterpolar\": [{\"marker\": {\"colorbar\": {\"outlinewidth\": 0, \"ticks\": \"\"}}, \"type\": \"scatterpolar\"}], \"scatterpolargl\": [{\"marker\": {\"colorbar\": {\"outlinewidth\": 0, \"ticks\": \"\"}}, \"type\": \"scatterpolargl\"}], \"scatterternary\": [{\"marker\": {\"colorbar\": {\"outlinewidth\": 0, \"ticks\": \"\"}}, \"type\": \"scatterternary\"}], \"surface\": [{\"colorbar\": {\"outlinewidth\": 0, \"ticks\": \"\"}, \"colorscale\": [[0.0, \"#0d0887\"], [0.1111111111111111, \"#46039f\"], [0.2222222222222222, \"#7201a8\"], [0.3333333333333333, \"#9c179e\"], [0.4444444444444444, \"#bd3786\"], [0.5555555555555556, \"#d8576b\"], [0.6666666666666666, \"#ed7953\"], [0.7777777777777778, \"#fb9f3a\"], [0.8888888888888888, \"#fdca26\"], [1.0, \"#f0f921\"]], \"type\": \"surface\"}], \"table\": [{\"cells\": {\"fill\": {\"color\": \"#EBF0F8\"}, \"line\": {\"color\": \"white\"}}, \"header\": {\"fill\": {\"color\": \"#C8D4E3\"}, \"line\": {\"color\": \"white\"}}, \"type\": \"table\"}]}, \"layout\": {\"annotationdefaults\": {\"arrowcolor\": \"#2a3f5f\", \"arrowhead\": 0, \"arrowwidth\": 1}, \"coloraxis\": {\"colorbar\": {\"outlinewidth\": 0, \"ticks\": \"\"}}, \"colorscale\": {\"diverging\": [[0, \"#8e0152\"], [0.1, \"#c51b7d\"], [0.2, \"#de77ae\"], [0.3, \"#f1b6da\"], [0.4, \"#fde0ef\"], [0.5, \"#f7f7f7\"], [0.6, \"#e6f5d0\"], [0.7, \"#b8e186\"], [0.8, \"#7fbc41\"], [0.9, \"#4d9221\"], [1, \"#276419\"]], \"sequential\": [[0.0, \"#0d0887\"], [0.1111111111111111, \"#46039f\"], [0.2222222222222222, \"#7201a8\"], [0.3333333333333333, \"#9c179e\"], [0.4444444444444444, \"#bd3786\"], [0.5555555555555556, \"#d8576b\"], [0.6666666666666666, \"#ed7953\"], [0.7777777777777778, \"#fb9f3a\"], [0.8888888888888888, \"#fdca26\"], [1.0, \"#f0f921\"]], \"sequentialminus\": [[0.0, \"#0d0887\"], [0.1111111111111111, \"#46039f\"], [0.2222222222222222, \"#7201a8\"], [0.3333333333333333, \"#9c179e\"], [0.4444444444444444, \"#bd3786\"], [0.5555555555555556, \"#d8576b\"], [0.6666666666666666, \"#ed7953\"], [0.7777777777777778, \"#fb9f3a\"], [0.8888888888888888, \"#fdca26\"], [1.0, \"#f0f921\"]]}, \"colorway\": [\"#636efa\", \"#EF553B\", \"#00cc96\", \"#ab63fa\", \"#FFA15A\", \"#19d3f3\", \"#FF6692\", \"#B6E880\", \"#FF97FF\", \"#FECB52\"], \"font\": {\"color\": \"#2a3f5f\"}, \"geo\": {\"bgcolor\": \"white\", \"lakecolor\": \"white\", \"landcolor\": \"#E5ECF6\", \"showlakes\": true, \"showland\": true, \"subunitcolor\": \"white\"}, \"hoverlabel\": {\"align\": \"left\"}, \"hovermode\": \"closest\", \"mapbox\": {\"style\": \"light\"}, \"paper_bgcolor\": \"white\", \"plot_bgcolor\": \"#E5ECF6\", \"polar\": {\"angularaxis\": {\"gridcolor\": \"white\", \"linecolor\": \"white\", \"ticks\": \"\"}, \"bgcolor\": \"#E5ECF6\", \"radialaxis\": {\"gridcolor\": \"white\", \"linecolor\": \"white\", \"ticks\": \"\"}}, \"scene\": {\"xaxis\": {\"backgroundcolor\": \"#E5ECF6\", \"gridcolor\": \"white\", \"gridwidth\": 2, \"linecolor\": \"white\", \"showbackground\": true, \"ticks\": \"\", \"zerolinecolor\": \"white\"}, \"yaxis\": {\"backgroundcolor\": \"#E5ECF6\", \"gridcolor\": \"white\", \"gridwidth\": 2, \"linecolor\": \"white\", \"showbackground\": true, \"ticks\": \"\", \"zerolinecolor\": \"white\"}, \"zaxis\": {\"backgroundcolor\": \"#E5ECF6\", \"gridcolor\": \"white\", \"gridwidth\": 2, \"linecolor\": \"white\", \"showbackground\": true, \"ticks\": \"\", \"zerolinecolor\": \"white\"}}, \"shapedefaults\": {\"line\": {\"color\": \"#2a3f5f\"}}, \"ternary\": {\"aaxis\": {\"gridcolor\": \"white\", \"linecolor\": \"white\", \"ticks\": \"\"}, \"baxis\": {\"gridcolor\": \"white\", \"linecolor\": \"white\", \"ticks\": \"\"}, \"bgcolor\": \"#E5ECF6\", \"caxis\": {\"gridcolor\": \"white\", \"linecolor\": \"white\", \"ticks\": \"\"}}, \"title\": {\"x\": 0.05}, \"xaxis\": {\"automargin\": true, \"gridcolor\": \"white\", \"linecolor\": \"white\", \"ticks\": \"\", \"title\": {\"standoff\": 15}, \"zerolinecolor\": \"white\", \"zerolinewidth\": 2}, \"yaxis\": {\"automargin\": true, \"gridcolor\": \"white\", \"linecolor\": \"white\", \"ticks\": \"\", \"title\": {\"standoff\": 15}, \"zerolinecolor\": \"white\", \"zerolinewidth\": 2}}}, \"title\": {\"font\": {\"color\": \"#4D5663\"}}, \"xaxis\": {\"gridcolor\": \"#E1E5ED\", \"showgrid\": true, \"tickfont\": {\"color\": \"#4D5663\"}, \"title\": {\"font\": {\"color\": \"#4D5663\"}, \"text\": \"\"}, \"zerolinecolor\": \"#E1E5ED\"}, \"yaxis\": {\"gridcolor\": \"#E1E5ED\", \"showgrid\": true, \"tickfont\": {\"color\": \"#4D5663\"}, \"title\": {\"font\": {\"color\": \"#4D5663\"}, \"text\": \"\"}, \"zerolinecolor\": \"#E1E5ED\"}},\n",
       "                        {\"showLink\": true, \"linkText\": \"Export to plot.ly\", \"plotlyServerURL\": \"https://plot.ly\", \"responsive\": true}\n",
       "                    ).then(function(){\n",
       "                            \n",
       "var gd = document.getElementById('a00d6a4e-50b5-44ec-b4db-8f7fb7bdfc55');\n",
       "var x = new MutationObserver(function (mutations, observer) {{\n",
       "        var display = window.getComputedStyle(gd).display;\n",
       "        if (!display || display === 'none') {{\n",
       "            console.log([gd, 'removed!']);\n",
       "            Plotly.purge(gd);\n",
       "            observer.disconnect();\n",
       "        }}\n",
       "}});\n",
       "\n",
       "// Listen for the removal of the full notebook cells\n",
       "var notebookContainer = gd.closest('#notebook-container');\n",
       "if (notebookContainer) {{\n",
       "    x.observe(notebookContainer, {childList: true});\n",
       "}}\n",
       "\n",
       "// Listen for the clearing of the current output cell\n",
       "var outputEl = gd.closest('.output');\n",
       "if (outputEl) {{\n",
       "    x.observe(outputEl, {childList: true});\n",
       "}}\n",
       "\n",
       "                        })\n",
       "                };\n",
       "                });\n",
       "            </script>\n",
       "        </div>"
      ]
     },
     "metadata": {},
     "output_type": "display_data"
    }
   ],
   "source": [
    "df.iplot(kind='bubble',x='A',y='B',size='C')"
   ]
  },
  {
   "cell_type": "markdown",
   "metadata": {},
   "source": [
    "## scatter_matrix()\n",
    "\n",
    "Similar to sns.pairplot()"
   ]
  },
  {
   "cell_type": "code",
   "execution_count": 18,
   "metadata": {},
   "outputs": [
    {
     "data": {
      "application/vnd.plotly.v1+json": {
       "config": {
        "linkText": "Export to plot.ly",
        "plotlyServerURL": "https://plot.ly",
        "showLink": true
       },
       "data": [
        {
         "histfunc": "count",
         "histnorm": "",
         "marker": {
          "color": "rgba(255, 153, 51, 1.0)",
          "line": {
           "color": "#4D5663",
           "width": 1.3
          }
         },
         "name": "A",
         "nbinsx": 10,
         "opacity": 0.8,
         "orientation": "v",
         "type": "histogram",
         "x": [
          0.21681727542441842,
          -1.9772885113327838,
          -0.5462132471505399,
          -0.6819819367976302,
          -1.0214246855639262,
          -1.4663406701189936,
          -1.3869714818665195,
          0.6792759180849723,
          0.003323249589601154,
          0.35263353393747643,
          -2.173396383826939,
          -0.39936467024163136,
          0.8835612461124585,
          1.748782428403716,
          1.2981444583558728,
          -0.32230543795352296,
          -2.2872486799886977,
          -0.9222217108403428,
          1.0586883344373945,
          -0.7728894682805112,
          0.1846911614370194,
          0.9551326809373836,
          0.06571449259757192,
          -0.2879721715497405,
          0.4192649222122794,
          -0.22975781578973978,
          1.1268507659495426,
          -0.8736355780617026,
          -0.49053047435131,
          -1.860305257457072,
          -1.3014448030976098,
          -0.7363205380791245,
          0.18582304290026405,
          -0.9193683541857193,
          -0.04760099120972285,
          1.1381969500860398,
          0.7132664776376054,
          -1.4059686462089924,
          0.12934554272216123,
          0.07709514927434992,
          1.2065139611399052,
          -0.2922868261161954,
          -0.6492118066817882,
          -2.7875169264679287,
          1.487366502025058,
          -0.27655005327292226,
          0.6720373114730019,
          1.0871682635420434,
          -1.2882506461748495,
          -1.1688212881513926,
          2.1650038192151153,
          0.9167077936678667,
          -0.6828969660269069,
          -0.362244895015562,
          -0.09097710761368762,
          1.1693454323863541,
          -1.0802438914386934,
          1.6878002831003949,
          -0.7579699094459557,
          -0.923800232625123,
          -2.114427367903597,
          -0.8129595596031683,
          -0.9012657916491319,
          -0.5455684789811972,
          0.003975478803318766,
          1.1179112763539043,
          0.9018043992546574,
          -0.8986152080322387,
          -0.21730607952635342,
          -0.5377706905229709,
          0.7182445328073375,
          1.3848319307421704,
          0.2073759925829057,
          0.7458428658575877,
          -1.1782479208176158,
          0.7308951672261628,
          1.2742068212954676,
          -0.5091233276267916,
          1.2123761493889964,
          -0.8696175139611265,
          0.05467665427955305,
          -0.10334873767188274,
          -0.8969549934246617,
          -0.5115917199381562,
          0.19375254046062468,
          1.148982738277355,
          -0.7879074944195215,
          0.20254895860414326,
          -0.10967627777498896,
          0.4834359516159212,
          0.26554038535107627,
          0.8015719884092859,
          -1.727774502348332,
          -0.8585361784135981,
          2.215116094482056,
          -0.8258598941353283,
          0.2927407389721164,
          -0.5278021971348248,
          -0.37959624617078397,
          -0.902146704300605
         ],
         "xaxis": "x",
         "yaxis": "y"
        },
        {
         "line": {
          "color": "rgba(128, 128, 128, 1.0)",
          "dash": "solid",
          "shape": "linear",
          "width": 1.3
         },
         "marker": {
          "size": 2,
          "symbol": "circle"
         },
         "mode": "markers",
         "name": "A",
         "text": "",
         "type": "scatter",
         "x": [
          -0.5744108505115697,
          1.3250127875694866,
          1.0609501013173488,
          1.4471358685229194,
          1.636441501367267,
          0.3591387809175054,
          -0.008677973283243321,
          1.2483095611775963,
          -0.3377835165446373,
          2.2936306970939824,
          1.4935410087314982,
          -1.1678829013387353,
          -0.4302557027404968,
          -1.2175853872046736,
          0.9976278820986041,
          1.8542346052856826,
          -0.3336832591907579,
          0.4305648305343407,
          -0.3413782131381251,
          1.885562577489426,
          -1.167728416431715,
          -0.25855441335933166,
          0.8457605079877005,
          1.786687191313069,
          -0.08016895736742227,
          -0.1675114125436269,
          0.6660676823694558,
          0.45908821282456685,
          0.024217153209860284,
          -1.256145709598057,
          -0.04627554807779002,
          -1.0138047364711658,
          0.8176005919444439,
          0.7242425774053408,
          1.0121548452900764,
          0.08734325694977876,
          -0.6137761053906247,
          0.19046996905840896,
          -0.199575010944785,
          1.763674923294254,
          0.7998263899160724,
          0.4694877243781425,
          -0.18758354700512347,
          -0.27105335552054344,
          0.2000247639308463,
          0.828433270741575,
          -0.7058613693027531,
          1.8623140211472056,
          2.1618073436752887,
          -1.7317496849627836,
          -0.3992836362099629,
          -2.2223897210323944,
          1.3436501899446402,
          -1.1852917082259877,
          0.4828293211581265,
          -1.9592110315381874,
          1.507469336916762,
          -0.0700760714281321,
          0.8282896907807905,
          -1.997244238790069,
          0.4585925848688841,
          -1.4981223246453403,
          -0.31732990651485327,
          1.8869775085501947,
          1.1584731749792427,
          1.0273130448326746,
          0.19508827087091382,
          1.4258471228220166,
          0.5788535326226437,
          -0.299954280656903,
          -0.3998410210242254,
          -0.35031737167406823,
          0.8832288439399775,
          0.21669465213116756,
          1.5391788486551,
          0.4271428089617199,
          -0.5953874578026,
          -0.6572397682085748,
          -0.26642398341379453,
          0.5076714514941331,
          -0.49600297058156256,
          -0.04379002145007061,
          0.13194756351743006,
          1.3883149776748287,
          0.6451060566263321,
          -0.7813472507428276,
          -0.9010886847348751,
          -0.07420666006715997,
          2.1058526584425343,
          1.5004904613813166,
          -0.8716479253418286,
          -1.0163449295692388,
          -0.006685171080727264,
          -1.2081557920076373,
          0.046997033531740375,
          -1.0292765217406235,
          -0.5659707554107236,
          0.5939692678161016,
          1.32004815915914,
          1.693620985365639
         ],
         "xaxis": "x2",
         "y": [
          0.21681727542441842,
          -1.9772885113327838,
          -0.5462132471505399,
          -0.6819819367976302,
          -1.0214246855639262,
          -1.4663406701189936,
          -1.3869714818665195,
          0.6792759180849723,
          0.003323249589601154,
          0.35263353393747643,
          -2.173396383826939,
          -0.39936467024163136,
          0.8835612461124585,
          1.748782428403716,
          1.2981444583558728,
          -0.32230543795352296,
          -2.2872486799886977,
          -0.9222217108403428,
          1.0586883344373945,
          -0.7728894682805112,
          0.1846911614370194,
          0.9551326809373836,
          0.06571449259757192,
          -0.2879721715497405,
          0.4192649222122794,
          -0.22975781578973978,
          1.1268507659495426,
          -0.8736355780617026,
          -0.49053047435131,
          -1.860305257457072,
          -1.3014448030976098,
          -0.7363205380791245,
          0.18582304290026405,
          -0.9193683541857193,
          -0.04760099120972285,
          1.1381969500860398,
          0.7132664776376054,
          -1.4059686462089924,
          0.12934554272216123,
          0.07709514927434992,
          1.2065139611399052,
          -0.2922868261161954,
          -0.6492118066817882,
          -2.7875169264679287,
          1.487366502025058,
          -0.27655005327292226,
          0.6720373114730019,
          1.0871682635420434,
          -1.2882506461748495,
          -1.1688212881513926,
          2.1650038192151153,
          0.9167077936678667,
          -0.6828969660269069,
          -0.362244895015562,
          -0.09097710761368762,
          1.1693454323863541,
          -1.0802438914386934,
          1.6878002831003949,
          -0.7579699094459557,
          -0.923800232625123,
          -2.114427367903597,
          -0.8129595596031683,
          -0.9012657916491319,
          -0.5455684789811972,
          0.003975478803318766,
          1.1179112763539043,
          0.9018043992546574,
          -0.8986152080322387,
          -0.21730607952635342,
          -0.5377706905229709,
          0.7182445328073375,
          1.3848319307421704,
          0.2073759925829057,
          0.7458428658575877,
          -1.1782479208176158,
          0.7308951672261628,
          1.2742068212954676,
          -0.5091233276267916,
          1.2123761493889964,
          -0.8696175139611265,
          0.05467665427955305,
          -0.10334873767188274,
          -0.8969549934246617,
          -0.5115917199381562,
          0.19375254046062468,
          1.148982738277355,
          -0.7879074944195215,
          0.20254895860414326,
          -0.10967627777498896,
          0.4834359516159212,
          0.26554038535107627,
          0.8015719884092859,
          -1.727774502348332,
          -0.8585361784135981,
          2.215116094482056,
          -0.8258598941353283,
          0.2927407389721164,
          -0.5278021971348248,
          -0.37959624617078397,
          -0.902146704300605
         ],
         "yaxis": "y2"
        },
        {
         "line": {
          "color": "rgba(128, 128, 128, 1.0)",
          "dash": "solid",
          "shape": "linear",
          "width": 1.3
         },
         "marker": {
          "size": 2,
          "symbol": "circle"
         },
         "mode": "markers",
         "name": "A",
         "text": "",
         "type": "scatter",
         "x": [
          -1.872954677600378,
          0.6237986215647472,
          0.6866408536792551,
          -0.48766271328392546,
          -1.6686735114095153,
          1.8403309348515722,
          -0.5802584868683829,
          -0.09590551641504427,
          -0.3442463387741227,
          0.2737142878257539,
          -1.4218450463159413,
          0.7709040897234393,
          -0.07295983746557827,
          -1.585735782030788,
          -1.5092326107678922,
          0.5987878893341813,
          -2.442247418258759,
          0.576734661954173,
          0.8932620270742699,
          1.7210945926264,
          -0.193650720818915,
          -1.8827382883360646,
          0.5267084819851623,
          0.4502021076727158,
          0.5782721498235335,
          1.524876126491854,
          -0.5764848321310584,
          -1.0182912978470837,
          -0.3742721960445256,
          -0.025784471592042307,
          -0.07569622413293894,
          -1.8154983154776863,
          0.4116414754184234,
          0.26766633150779834,
          -0.2806289232711756,
          -0.3663080388799181,
          -1.1917704708170465,
          -0.23254241210939353,
          -0.5351316137964464,
          0.8845920872694568,
          -0.7873773746819375,
          0.2696003554116361,
          0.08794955587826678,
          -0.6270801337312517,
          0.4486869821425425,
          1.488637625170458,
          -0.31130228901789786,
          -0.716111509929642,
          0.20497583156080681,
          -0.2962049922521928,
          -0.2082296782079445,
          0.26253270562528874,
          -0.029461583376019222,
          2.1259929146531658,
          -1.3524190583596964,
          1.2273251696394714,
          -0.2226446997934744,
          1.5468268499509297,
          1.0926860304033381,
          -0.6997672107763743,
          -0.8529187938069779,
          -0.7459564482678005,
          -0.44526888387627556,
          -1.4362303726731906,
          -0.722555502691798,
          -2.4472253539453135,
          1.2597956722977133,
          -0.6710559039136937,
          -0.00360102487350076,
          -0.5765588505391732,
          -0.7977464865918783,
          -0.292568575810376,
          0.16079219281142076,
          -1.8156656652692287,
          -0.21540313286528162,
          -0.4266057263630033,
          -0.06602932667023537,
          0.9181668400319609,
          0.6111089534555753,
          0.2559227548732202,
          0.6589708527863093,
          0.0962924738039389,
          -0.7387430617003714,
          -0.8894694047202094,
          -0.35252595282788435,
          0.3317370217514892,
          -0.17473481883169364,
          0.5280074710824594,
          -0.23774601846475946,
          -2.3276518020216455,
          -0.08554987200826247,
          -1.6747764742596722,
          -0.4897571707909026,
          0.546843935985657,
          -0.880815681633401,
          -0.5754310312497479,
          -0.10487926773626505,
          -0.7872773624593267,
          -0.4662007162197939,
          0.1483084351961708
         ],
         "xaxis": "x3",
         "y": [
          0.21681727542441842,
          -1.9772885113327838,
          -0.5462132471505399,
          -0.6819819367976302,
          -1.0214246855639262,
          -1.4663406701189936,
          -1.3869714818665195,
          0.6792759180849723,
          0.003323249589601154,
          0.35263353393747643,
          -2.173396383826939,
          -0.39936467024163136,
          0.8835612461124585,
          1.748782428403716,
          1.2981444583558728,
          -0.32230543795352296,
          -2.2872486799886977,
          -0.9222217108403428,
          1.0586883344373945,
          -0.7728894682805112,
          0.1846911614370194,
          0.9551326809373836,
          0.06571449259757192,
          -0.2879721715497405,
          0.4192649222122794,
          -0.22975781578973978,
          1.1268507659495426,
          -0.8736355780617026,
          -0.49053047435131,
          -1.860305257457072,
          -1.3014448030976098,
          -0.7363205380791245,
          0.18582304290026405,
          -0.9193683541857193,
          -0.04760099120972285,
          1.1381969500860398,
          0.7132664776376054,
          -1.4059686462089924,
          0.12934554272216123,
          0.07709514927434992,
          1.2065139611399052,
          -0.2922868261161954,
          -0.6492118066817882,
          -2.7875169264679287,
          1.487366502025058,
          -0.27655005327292226,
          0.6720373114730019,
          1.0871682635420434,
          -1.2882506461748495,
          -1.1688212881513926,
          2.1650038192151153,
          0.9167077936678667,
          -0.6828969660269069,
          -0.362244895015562,
          -0.09097710761368762,
          1.1693454323863541,
          -1.0802438914386934,
          1.6878002831003949,
          -0.7579699094459557,
          -0.923800232625123,
          -2.114427367903597,
          -0.8129595596031683,
          -0.9012657916491319,
          -0.5455684789811972,
          0.003975478803318766,
          1.1179112763539043,
          0.9018043992546574,
          -0.8986152080322387,
          -0.21730607952635342,
          -0.5377706905229709,
          0.7182445328073375,
          1.3848319307421704,
          0.2073759925829057,
          0.7458428658575877,
          -1.1782479208176158,
          0.7308951672261628,
          1.2742068212954676,
          -0.5091233276267916,
          1.2123761493889964,
          -0.8696175139611265,
          0.05467665427955305,
          -0.10334873767188274,
          -0.8969549934246617,
          -0.5115917199381562,
          0.19375254046062468,
          1.148982738277355,
          -0.7879074944195215,
          0.20254895860414326,
          -0.10967627777498896,
          0.4834359516159212,
          0.26554038535107627,
          0.8015719884092859,
          -1.727774502348332,
          -0.8585361784135981,
          2.215116094482056,
          -0.8258598941353283,
          0.2927407389721164,
          -0.5278021971348248,
          -0.37959624617078397,
          -0.902146704300605
         ],
         "yaxis": "y3"
        },
        {
         "line": {
          "color": "rgba(128, 128, 128, 1.0)",
          "dash": "solid",
          "shape": "linear",
          "width": 1.3
         },
         "marker": {
          "size": 2,
          "symbol": "circle"
         },
         "mode": "markers",
         "name": "A",
         "text": "",
         "type": "scatter",
         "x": [
          -0.8728568372913522,
          -1.0510839903023959,
          -1.3522210246133695,
          -1.0816602083836728,
          0.6161322785741782,
          -2.270253807128969,
          0.6457899317353106,
          -1.3023380466637922,
          0.0960482715782704,
          1.5902741295396368,
          -1.6356410274309405,
          -0.31939983853754883,
          1.1145104516527602,
          0.21057626889985578,
          -0.348828659122623,
          -0.7740468853790099,
          -1.1371514856913192,
          -2.7563694180718286,
          -0.18317684500872908,
          0.13512465678845337,
          0.6178216024363102,
          0.5604358561514041,
          1.3983856775592367,
          -0.3035881578738405,
          -0.3774950175173685,
          -0.6616870657179112,
          1.5493503947902147,
          -0.4066197153605928,
          -0.18170123689474885,
          -1.311645410463092,
          0.03470772459447403,
          1.0901857430839144,
          -0.8352027962332579,
          -1.160382279111738,
          0.7929162188452963,
          0.74698492705652,
          0.30823360053240406,
          0.7986033694033816,
          0.20032881366843805,
          0.48512832309855636,
          0.34674395826673204,
          0.931126066960723,
          1.8001481372656352,
          -0.29031346160423976,
          -0.7562122193388319,
          1.0508531904257834,
          0.8535621846402527,
          -1.5367587665560831,
          -0.32931442972299696,
          -0.07158615958449306,
          1.535187698124292,
          0.7104861445707624,
          -0.29305053344074944,
          -0.9086209710701793,
          -0.7543966871857999,
          1.177980752510718,
          -0.8325497999131194,
          0.25156817802406456,
          1.6825980027936205,
          0.5558331143556858,
          0.044974642202284934,
          0.45569153607454416,
          1.5167151857230254,
          -0.3801697586836345,
          -0.6043239029203588,
          -1.2627049881656545,
          0.6083375058295283,
          -0.6591289274799408,
          -0.582030722062489,
          0.35254231790267604,
          -0.5340487197214605,
          0.09964931800781102,
          -0.7653941341267405,
          -0.5454442040396222,
          2.1473975031906143,
          0.24770283578654514,
          1.8349778113605748,
          1.043134585923067,
          1.5448786834883979,
          1.3503980196143361,
          -0.06148969425015488,
          -0.5629858218381755,
          -0.5881476331205633,
          1.0917438061825997,
          -0.42805670621658326,
          0.3809315099034995,
          -0.6032626214404642,
          -0.5012972379840266,
          -0.1121313752327508,
          -0.5734900802024279,
          -0.9910032634693237,
          -0.5802253131299402,
          -0.6184576789314314,
          0.9186984268311955,
          -0.6996580907227681,
          0.7777360459923974,
          -1.3180784343881304,
          0.5228080624229092,
          -1.34301177081277,
          -0.5740555702198387
         ],
         "xaxis": "x4",
         "y": [
          0.21681727542441842,
          -1.9772885113327838,
          -0.5462132471505399,
          -0.6819819367976302,
          -1.0214246855639262,
          -1.4663406701189936,
          -1.3869714818665195,
          0.6792759180849723,
          0.003323249589601154,
          0.35263353393747643,
          -2.173396383826939,
          -0.39936467024163136,
          0.8835612461124585,
          1.748782428403716,
          1.2981444583558728,
          -0.32230543795352296,
          -2.2872486799886977,
          -0.9222217108403428,
          1.0586883344373945,
          -0.7728894682805112,
          0.1846911614370194,
          0.9551326809373836,
          0.06571449259757192,
          -0.2879721715497405,
          0.4192649222122794,
          -0.22975781578973978,
          1.1268507659495426,
          -0.8736355780617026,
          -0.49053047435131,
          -1.860305257457072,
          -1.3014448030976098,
          -0.7363205380791245,
          0.18582304290026405,
          -0.9193683541857193,
          -0.04760099120972285,
          1.1381969500860398,
          0.7132664776376054,
          -1.4059686462089924,
          0.12934554272216123,
          0.07709514927434992,
          1.2065139611399052,
          -0.2922868261161954,
          -0.6492118066817882,
          -2.7875169264679287,
          1.487366502025058,
          -0.27655005327292226,
          0.6720373114730019,
          1.0871682635420434,
          -1.2882506461748495,
          -1.1688212881513926,
          2.1650038192151153,
          0.9167077936678667,
          -0.6828969660269069,
          -0.362244895015562,
          -0.09097710761368762,
          1.1693454323863541,
          -1.0802438914386934,
          1.6878002831003949,
          -0.7579699094459557,
          -0.923800232625123,
          -2.114427367903597,
          -0.8129595596031683,
          -0.9012657916491319,
          -0.5455684789811972,
          0.003975478803318766,
          1.1179112763539043,
          0.9018043992546574,
          -0.8986152080322387,
          -0.21730607952635342,
          -0.5377706905229709,
          0.7182445328073375,
          1.3848319307421704,
          0.2073759925829057,
          0.7458428658575877,
          -1.1782479208176158,
          0.7308951672261628,
          1.2742068212954676,
          -0.5091233276267916,
          1.2123761493889964,
          -0.8696175139611265,
          0.05467665427955305,
          -0.10334873767188274,
          -0.8969549934246617,
          -0.5115917199381562,
          0.19375254046062468,
          1.148982738277355,
          -0.7879074944195215,
          0.20254895860414326,
          -0.10967627777498896,
          0.4834359516159212,
          0.26554038535107627,
          0.8015719884092859,
          -1.727774502348332,
          -0.8585361784135981,
          2.215116094482056,
          -0.8258598941353283,
          0.2927407389721164,
          -0.5278021971348248,
          -0.37959624617078397,
          -0.902146704300605
         ],
         "yaxis": "y4"
        },
        {
         "line": {
          "color": "rgba(128, 128, 128, 1.0)",
          "dash": "solid",
          "shape": "linear",
          "width": 1.3
         },
         "marker": {
          "size": 2,
          "symbol": "circle"
         },
         "mode": "markers",
         "name": "B",
         "text": "",
         "type": "scatter",
         "x": [
          0.21681727542441842,
          -1.9772885113327838,
          -0.5462132471505399,
          -0.6819819367976302,
          -1.0214246855639262,
          -1.4663406701189936,
          -1.3869714818665195,
          0.6792759180849723,
          0.003323249589601154,
          0.35263353393747643,
          -2.173396383826939,
          -0.39936467024163136,
          0.8835612461124585,
          1.748782428403716,
          1.2981444583558728,
          -0.32230543795352296,
          -2.2872486799886977,
          -0.9222217108403428,
          1.0586883344373945,
          -0.7728894682805112,
          0.1846911614370194,
          0.9551326809373836,
          0.06571449259757192,
          -0.2879721715497405,
          0.4192649222122794,
          -0.22975781578973978,
          1.1268507659495426,
          -0.8736355780617026,
          -0.49053047435131,
          -1.860305257457072,
          -1.3014448030976098,
          -0.7363205380791245,
          0.18582304290026405,
          -0.9193683541857193,
          -0.04760099120972285,
          1.1381969500860398,
          0.7132664776376054,
          -1.4059686462089924,
          0.12934554272216123,
          0.07709514927434992,
          1.2065139611399052,
          -0.2922868261161954,
          -0.6492118066817882,
          -2.7875169264679287,
          1.487366502025058,
          -0.27655005327292226,
          0.6720373114730019,
          1.0871682635420434,
          -1.2882506461748495,
          -1.1688212881513926,
          2.1650038192151153,
          0.9167077936678667,
          -0.6828969660269069,
          -0.362244895015562,
          -0.09097710761368762,
          1.1693454323863541,
          -1.0802438914386934,
          1.6878002831003949,
          -0.7579699094459557,
          -0.923800232625123,
          -2.114427367903597,
          -0.8129595596031683,
          -0.9012657916491319,
          -0.5455684789811972,
          0.003975478803318766,
          1.1179112763539043,
          0.9018043992546574,
          -0.8986152080322387,
          -0.21730607952635342,
          -0.5377706905229709,
          0.7182445328073375,
          1.3848319307421704,
          0.2073759925829057,
          0.7458428658575877,
          -1.1782479208176158,
          0.7308951672261628,
          1.2742068212954676,
          -0.5091233276267916,
          1.2123761493889964,
          -0.8696175139611265,
          0.05467665427955305,
          -0.10334873767188274,
          -0.8969549934246617,
          -0.5115917199381562,
          0.19375254046062468,
          1.148982738277355,
          -0.7879074944195215,
          0.20254895860414326,
          -0.10967627777498896,
          0.4834359516159212,
          0.26554038535107627,
          0.8015719884092859,
          -1.727774502348332,
          -0.8585361784135981,
          2.215116094482056,
          -0.8258598941353283,
          0.2927407389721164,
          -0.5278021971348248,
          -0.37959624617078397,
          -0.902146704300605
         ],
         "xaxis": "x5",
         "y": [
          -0.5744108505115697,
          1.3250127875694866,
          1.0609501013173488,
          1.4471358685229194,
          1.636441501367267,
          0.3591387809175054,
          -0.008677973283243321,
          1.2483095611775963,
          -0.3377835165446373,
          2.2936306970939824,
          1.4935410087314982,
          -1.1678829013387353,
          -0.4302557027404968,
          -1.2175853872046736,
          0.9976278820986041,
          1.8542346052856826,
          -0.3336832591907579,
          0.4305648305343407,
          -0.3413782131381251,
          1.885562577489426,
          -1.167728416431715,
          -0.25855441335933166,
          0.8457605079877005,
          1.786687191313069,
          -0.08016895736742227,
          -0.1675114125436269,
          0.6660676823694558,
          0.45908821282456685,
          0.024217153209860284,
          -1.256145709598057,
          -0.04627554807779002,
          -1.0138047364711658,
          0.8176005919444439,
          0.7242425774053408,
          1.0121548452900764,
          0.08734325694977876,
          -0.6137761053906247,
          0.19046996905840896,
          -0.199575010944785,
          1.763674923294254,
          0.7998263899160724,
          0.4694877243781425,
          -0.18758354700512347,
          -0.27105335552054344,
          0.2000247639308463,
          0.828433270741575,
          -0.7058613693027531,
          1.8623140211472056,
          2.1618073436752887,
          -1.7317496849627836,
          -0.3992836362099629,
          -2.2223897210323944,
          1.3436501899446402,
          -1.1852917082259877,
          0.4828293211581265,
          -1.9592110315381874,
          1.507469336916762,
          -0.0700760714281321,
          0.8282896907807905,
          -1.997244238790069,
          0.4585925848688841,
          -1.4981223246453403,
          -0.31732990651485327,
          1.8869775085501947,
          1.1584731749792427,
          1.0273130448326746,
          0.19508827087091382,
          1.4258471228220166,
          0.5788535326226437,
          -0.299954280656903,
          -0.3998410210242254,
          -0.35031737167406823,
          0.8832288439399775,
          0.21669465213116756,
          1.5391788486551,
          0.4271428089617199,
          -0.5953874578026,
          -0.6572397682085748,
          -0.26642398341379453,
          0.5076714514941331,
          -0.49600297058156256,
          -0.04379002145007061,
          0.13194756351743006,
          1.3883149776748287,
          0.6451060566263321,
          -0.7813472507428276,
          -0.9010886847348751,
          -0.07420666006715997,
          2.1058526584425343,
          1.5004904613813166,
          -0.8716479253418286,
          -1.0163449295692388,
          -0.006685171080727264,
          -1.2081557920076373,
          0.046997033531740375,
          -1.0292765217406235,
          -0.5659707554107236,
          0.5939692678161016,
          1.32004815915914,
          1.693620985365639
         ],
         "yaxis": "y5"
        },
        {
         "histfunc": "count",
         "histnorm": "",
         "marker": {
          "color": "rgba(55, 128, 191, 1.0)",
          "line": {
           "color": "#4D5663",
           "width": 1.3
          }
         },
         "name": "B",
         "nbinsx": 10,
         "opacity": 0.8,
         "orientation": "v",
         "type": "histogram",
         "x": [
          -0.5744108505115697,
          1.3250127875694866,
          1.0609501013173488,
          1.4471358685229194,
          1.636441501367267,
          0.3591387809175054,
          -0.008677973283243321,
          1.2483095611775963,
          -0.3377835165446373,
          2.2936306970939824,
          1.4935410087314982,
          -1.1678829013387353,
          -0.4302557027404968,
          -1.2175853872046736,
          0.9976278820986041,
          1.8542346052856826,
          -0.3336832591907579,
          0.4305648305343407,
          -0.3413782131381251,
          1.885562577489426,
          -1.167728416431715,
          -0.25855441335933166,
          0.8457605079877005,
          1.786687191313069,
          -0.08016895736742227,
          -0.1675114125436269,
          0.6660676823694558,
          0.45908821282456685,
          0.024217153209860284,
          -1.256145709598057,
          -0.04627554807779002,
          -1.0138047364711658,
          0.8176005919444439,
          0.7242425774053408,
          1.0121548452900764,
          0.08734325694977876,
          -0.6137761053906247,
          0.19046996905840896,
          -0.199575010944785,
          1.763674923294254,
          0.7998263899160724,
          0.4694877243781425,
          -0.18758354700512347,
          -0.27105335552054344,
          0.2000247639308463,
          0.828433270741575,
          -0.7058613693027531,
          1.8623140211472056,
          2.1618073436752887,
          -1.7317496849627836,
          -0.3992836362099629,
          -2.2223897210323944,
          1.3436501899446402,
          -1.1852917082259877,
          0.4828293211581265,
          -1.9592110315381874,
          1.507469336916762,
          -0.0700760714281321,
          0.8282896907807905,
          -1.997244238790069,
          0.4585925848688841,
          -1.4981223246453403,
          -0.31732990651485327,
          1.8869775085501947,
          1.1584731749792427,
          1.0273130448326746,
          0.19508827087091382,
          1.4258471228220166,
          0.5788535326226437,
          -0.299954280656903,
          -0.3998410210242254,
          -0.35031737167406823,
          0.8832288439399775,
          0.21669465213116756,
          1.5391788486551,
          0.4271428089617199,
          -0.5953874578026,
          -0.6572397682085748,
          -0.26642398341379453,
          0.5076714514941331,
          -0.49600297058156256,
          -0.04379002145007061,
          0.13194756351743006,
          1.3883149776748287,
          0.6451060566263321,
          -0.7813472507428276,
          -0.9010886847348751,
          -0.07420666006715997,
          2.1058526584425343,
          1.5004904613813166,
          -0.8716479253418286,
          -1.0163449295692388,
          -0.006685171080727264,
          -1.2081557920076373,
          0.046997033531740375,
          -1.0292765217406235,
          -0.5659707554107236,
          0.5939692678161016,
          1.32004815915914,
          1.693620985365639
         ],
         "xaxis": "x6",
         "yaxis": "y6"
        },
        {
         "line": {
          "color": "rgba(128, 128, 128, 1.0)",
          "dash": "solid",
          "shape": "linear",
          "width": 1.3
         },
         "marker": {
          "size": 2,
          "symbol": "circle"
         },
         "mode": "markers",
         "name": "B",
         "text": "",
         "type": "scatter",
         "x": [
          -1.872954677600378,
          0.6237986215647472,
          0.6866408536792551,
          -0.48766271328392546,
          -1.6686735114095153,
          1.8403309348515722,
          -0.5802584868683829,
          -0.09590551641504427,
          -0.3442463387741227,
          0.2737142878257539,
          -1.4218450463159413,
          0.7709040897234393,
          -0.07295983746557827,
          -1.585735782030788,
          -1.5092326107678922,
          0.5987878893341813,
          -2.442247418258759,
          0.576734661954173,
          0.8932620270742699,
          1.7210945926264,
          -0.193650720818915,
          -1.8827382883360646,
          0.5267084819851623,
          0.4502021076727158,
          0.5782721498235335,
          1.524876126491854,
          -0.5764848321310584,
          -1.0182912978470837,
          -0.3742721960445256,
          -0.025784471592042307,
          -0.07569622413293894,
          -1.8154983154776863,
          0.4116414754184234,
          0.26766633150779834,
          -0.2806289232711756,
          -0.3663080388799181,
          -1.1917704708170465,
          -0.23254241210939353,
          -0.5351316137964464,
          0.8845920872694568,
          -0.7873773746819375,
          0.2696003554116361,
          0.08794955587826678,
          -0.6270801337312517,
          0.4486869821425425,
          1.488637625170458,
          -0.31130228901789786,
          -0.716111509929642,
          0.20497583156080681,
          -0.2962049922521928,
          -0.2082296782079445,
          0.26253270562528874,
          -0.029461583376019222,
          2.1259929146531658,
          -1.3524190583596964,
          1.2273251696394714,
          -0.2226446997934744,
          1.5468268499509297,
          1.0926860304033381,
          -0.6997672107763743,
          -0.8529187938069779,
          -0.7459564482678005,
          -0.44526888387627556,
          -1.4362303726731906,
          -0.722555502691798,
          -2.4472253539453135,
          1.2597956722977133,
          -0.6710559039136937,
          -0.00360102487350076,
          -0.5765588505391732,
          -0.7977464865918783,
          -0.292568575810376,
          0.16079219281142076,
          -1.8156656652692287,
          -0.21540313286528162,
          -0.4266057263630033,
          -0.06602932667023537,
          0.9181668400319609,
          0.6111089534555753,
          0.2559227548732202,
          0.6589708527863093,
          0.0962924738039389,
          -0.7387430617003714,
          -0.8894694047202094,
          -0.35252595282788435,
          0.3317370217514892,
          -0.17473481883169364,
          0.5280074710824594,
          -0.23774601846475946,
          -2.3276518020216455,
          -0.08554987200826247,
          -1.6747764742596722,
          -0.4897571707909026,
          0.546843935985657,
          -0.880815681633401,
          -0.5754310312497479,
          -0.10487926773626505,
          -0.7872773624593267,
          -0.4662007162197939,
          0.1483084351961708
         ],
         "xaxis": "x7",
         "y": [
          -0.5744108505115697,
          1.3250127875694866,
          1.0609501013173488,
          1.4471358685229194,
          1.636441501367267,
          0.3591387809175054,
          -0.008677973283243321,
          1.2483095611775963,
          -0.3377835165446373,
          2.2936306970939824,
          1.4935410087314982,
          -1.1678829013387353,
          -0.4302557027404968,
          -1.2175853872046736,
          0.9976278820986041,
          1.8542346052856826,
          -0.3336832591907579,
          0.4305648305343407,
          -0.3413782131381251,
          1.885562577489426,
          -1.167728416431715,
          -0.25855441335933166,
          0.8457605079877005,
          1.786687191313069,
          -0.08016895736742227,
          -0.1675114125436269,
          0.6660676823694558,
          0.45908821282456685,
          0.024217153209860284,
          -1.256145709598057,
          -0.04627554807779002,
          -1.0138047364711658,
          0.8176005919444439,
          0.7242425774053408,
          1.0121548452900764,
          0.08734325694977876,
          -0.6137761053906247,
          0.19046996905840896,
          -0.199575010944785,
          1.763674923294254,
          0.7998263899160724,
          0.4694877243781425,
          -0.18758354700512347,
          -0.27105335552054344,
          0.2000247639308463,
          0.828433270741575,
          -0.7058613693027531,
          1.8623140211472056,
          2.1618073436752887,
          -1.7317496849627836,
          -0.3992836362099629,
          -2.2223897210323944,
          1.3436501899446402,
          -1.1852917082259877,
          0.4828293211581265,
          -1.9592110315381874,
          1.507469336916762,
          -0.0700760714281321,
          0.8282896907807905,
          -1.997244238790069,
          0.4585925848688841,
          -1.4981223246453403,
          -0.31732990651485327,
          1.8869775085501947,
          1.1584731749792427,
          1.0273130448326746,
          0.19508827087091382,
          1.4258471228220166,
          0.5788535326226437,
          -0.299954280656903,
          -0.3998410210242254,
          -0.35031737167406823,
          0.8832288439399775,
          0.21669465213116756,
          1.5391788486551,
          0.4271428089617199,
          -0.5953874578026,
          -0.6572397682085748,
          -0.26642398341379453,
          0.5076714514941331,
          -0.49600297058156256,
          -0.04379002145007061,
          0.13194756351743006,
          1.3883149776748287,
          0.6451060566263321,
          -0.7813472507428276,
          -0.9010886847348751,
          -0.07420666006715997,
          2.1058526584425343,
          1.5004904613813166,
          -0.8716479253418286,
          -1.0163449295692388,
          -0.006685171080727264,
          -1.2081557920076373,
          0.046997033531740375,
          -1.0292765217406235,
          -0.5659707554107236,
          0.5939692678161016,
          1.32004815915914,
          1.693620985365639
         ],
         "yaxis": "y7"
        },
        {
         "line": {
          "color": "rgba(128, 128, 128, 1.0)",
          "dash": "solid",
          "shape": "linear",
          "width": 1.3
         },
         "marker": {
          "size": 2,
          "symbol": "circle"
         },
         "mode": "markers",
         "name": "B",
         "text": "",
         "type": "scatter",
         "x": [
          -0.8728568372913522,
          -1.0510839903023959,
          -1.3522210246133695,
          -1.0816602083836728,
          0.6161322785741782,
          -2.270253807128969,
          0.6457899317353106,
          -1.3023380466637922,
          0.0960482715782704,
          1.5902741295396368,
          -1.6356410274309405,
          -0.31939983853754883,
          1.1145104516527602,
          0.21057626889985578,
          -0.348828659122623,
          -0.7740468853790099,
          -1.1371514856913192,
          -2.7563694180718286,
          -0.18317684500872908,
          0.13512465678845337,
          0.6178216024363102,
          0.5604358561514041,
          1.3983856775592367,
          -0.3035881578738405,
          -0.3774950175173685,
          -0.6616870657179112,
          1.5493503947902147,
          -0.4066197153605928,
          -0.18170123689474885,
          -1.311645410463092,
          0.03470772459447403,
          1.0901857430839144,
          -0.8352027962332579,
          -1.160382279111738,
          0.7929162188452963,
          0.74698492705652,
          0.30823360053240406,
          0.7986033694033816,
          0.20032881366843805,
          0.48512832309855636,
          0.34674395826673204,
          0.931126066960723,
          1.8001481372656352,
          -0.29031346160423976,
          -0.7562122193388319,
          1.0508531904257834,
          0.8535621846402527,
          -1.5367587665560831,
          -0.32931442972299696,
          -0.07158615958449306,
          1.535187698124292,
          0.7104861445707624,
          -0.29305053344074944,
          -0.9086209710701793,
          -0.7543966871857999,
          1.177980752510718,
          -0.8325497999131194,
          0.25156817802406456,
          1.6825980027936205,
          0.5558331143556858,
          0.044974642202284934,
          0.45569153607454416,
          1.5167151857230254,
          -0.3801697586836345,
          -0.6043239029203588,
          -1.2627049881656545,
          0.6083375058295283,
          -0.6591289274799408,
          -0.582030722062489,
          0.35254231790267604,
          -0.5340487197214605,
          0.09964931800781102,
          -0.7653941341267405,
          -0.5454442040396222,
          2.1473975031906143,
          0.24770283578654514,
          1.8349778113605748,
          1.043134585923067,
          1.5448786834883979,
          1.3503980196143361,
          -0.06148969425015488,
          -0.5629858218381755,
          -0.5881476331205633,
          1.0917438061825997,
          -0.42805670621658326,
          0.3809315099034995,
          -0.6032626214404642,
          -0.5012972379840266,
          -0.1121313752327508,
          -0.5734900802024279,
          -0.9910032634693237,
          -0.5802253131299402,
          -0.6184576789314314,
          0.9186984268311955,
          -0.6996580907227681,
          0.7777360459923974,
          -1.3180784343881304,
          0.5228080624229092,
          -1.34301177081277,
          -0.5740555702198387
         ],
         "xaxis": "x8",
         "y": [
          -0.5744108505115697,
          1.3250127875694866,
          1.0609501013173488,
          1.4471358685229194,
          1.636441501367267,
          0.3591387809175054,
          -0.008677973283243321,
          1.2483095611775963,
          -0.3377835165446373,
          2.2936306970939824,
          1.4935410087314982,
          -1.1678829013387353,
          -0.4302557027404968,
          -1.2175853872046736,
          0.9976278820986041,
          1.8542346052856826,
          -0.3336832591907579,
          0.4305648305343407,
          -0.3413782131381251,
          1.885562577489426,
          -1.167728416431715,
          -0.25855441335933166,
          0.8457605079877005,
          1.786687191313069,
          -0.08016895736742227,
          -0.1675114125436269,
          0.6660676823694558,
          0.45908821282456685,
          0.024217153209860284,
          -1.256145709598057,
          -0.04627554807779002,
          -1.0138047364711658,
          0.8176005919444439,
          0.7242425774053408,
          1.0121548452900764,
          0.08734325694977876,
          -0.6137761053906247,
          0.19046996905840896,
          -0.199575010944785,
          1.763674923294254,
          0.7998263899160724,
          0.4694877243781425,
          -0.18758354700512347,
          -0.27105335552054344,
          0.2000247639308463,
          0.828433270741575,
          -0.7058613693027531,
          1.8623140211472056,
          2.1618073436752887,
          -1.7317496849627836,
          -0.3992836362099629,
          -2.2223897210323944,
          1.3436501899446402,
          -1.1852917082259877,
          0.4828293211581265,
          -1.9592110315381874,
          1.507469336916762,
          -0.0700760714281321,
          0.8282896907807905,
          -1.997244238790069,
          0.4585925848688841,
          -1.4981223246453403,
          -0.31732990651485327,
          1.8869775085501947,
          1.1584731749792427,
          1.0273130448326746,
          0.19508827087091382,
          1.4258471228220166,
          0.5788535326226437,
          -0.299954280656903,
          -0.3998410210242254,
          -0.35031737167406823,
          0.8832288439399775,
          0.21669465213116756,
          1.5391788486551,
          0.4271428089617199,
          -0.5953874578026,
          -0.6572397682085748,
          -0.26642398341379453,
          0.5076714514941331,
          -0.49600297058156256,
          -0.04379002145007061,
          0.13194756351743006,
          1.3883149776748287,
          0.6451060566263321,
          -0.7813472507428276,
          -0.9010886847348751,
          -0.07420666006715997,
          2.1058526584425343,
          1.5004904613813166,
          -0.8716479253418286,
          -1.0163449295692388,
          -0.006685171080727264,
          -1.2081557920076373,
          0.046997033531740375,
          -1.0292765217406235,
          -0.5659707554107236,
          0.5939692678161016,
          1.32004815915914,
          1.693620985365639
         ],
         "yaxis": "y8"
        },
        {
         "line": {
          "color": "rgba(128, 128, 128, 1.0)",
          "dash": "solid",
          "shape": "linear",
          "width": 1.3
         },
         "marker": {
          "size": 2,
          "symbol": "circle"
         },
         "mode": "markers",
         "name": "C",
         "text": "",
         "type": "scatter",
         "x": [
          0.21681727542441842,
          -1.9772885113327838,
          -0.5462132471505399,
          -0.6819819367976302,
          -1.0214246855639262,
          -1.4663406701189936,
          -1.3869714818665195,
          0.6792759180849723,
          0.003323249589601154,
          0.35263353393747643,
          -2.173396383826939,
          -0.39936467024163136,
          0.8835612461124585,
          1.748782428403716,
          1.2981444583558728,
          -0.32230543795352296,
          -2.2872486799886977,
          -0.9222217108403428,
          1.0586883344373945,
          -0.7728894682805112,
          0.1846911614370194,
          0.9551326809373836,
          0.06571449259757192,
          -0.2879721715497405,
          0.4192649222122794,
          -0.22975781578973978,
          1.1268507659495426,
          -0.8736355780617026,
          -0.49053047435131,
          -1.860305257457072,
          -1.3014448030976098,
          -0.7363205380791245,
          0.18582304290026405,
          -0.9193683541857193,
          -0.04760099120972285,
          1.1381969500860398,
          0.7132664776376054,
          -1.4059686462089924,
          0.12934554272216123,
          0.07709514927434992,
          1.2065139611399052,
          -0.2922868261161954,
          -0.6492118066817882,
          -2.7875169264679287,
          1.487366502025058,
          -0.27655005327292226,
          0.6720373114730019,
          1.0871682635420434,
          -1.2882506461748495,
          -1.1688212881513926,
          2.1650038192151153,
          0.9167077936678667,
          -0.6828969660269069,
          -0.362244895015562,
          -0.09097710761368762,
          1.1693454323863541,
          -1.0802438914386934,
          1.6878002831003949,
          -0.7579699094459557,
          -0.923800232625123,
          -2.114427367903597,
          -0.8129595596031683,
          -0.9012657916491319,
          -0.5455684789811972,
          0.003975478803318766,
          1.1179112763539043,
          0.9018043992546574,
          -0.8986152080322387,
          -0.21730607952635342,
          -0.5377706905229709,
          0.7182445328073375,
          1.3848319307421704,
          0.2073759925829057,
          0.7458428658575877,
          -1.1782479208176158,
          0.7308951672261628,
          1.2742068212954676,
          -0.5091233276267916,
          1.2123761493889964,
          -0.8696175139611265,
          0.05467665427955305,
          -0.10334873767188274,
          -0.8969549934246617,
          -0.5115917199381562,
          0.19375254046062468,
          1.148982738277355,
          -0.7879074944195215,
          0.20254895860414326,
          -0.10967627777498896,
          0.4834359516159212,
          0.26554038535107627,
          0.8015719884092859,
          -1.727774502348332,
          -0.8585361784135981,
          2.215116094482056,
          -0.8258598941353283,
          0.2927407389721164,
          -0.5278021971348248,
          -0.37959624617078397,
          -0.902146704300605
         ],
         "xaxis": "x9",
         "y": [
          -1.872954677600378,
          0.6237986215647472,
          0.6866408536792551,
          -0.48766271328392546,
          -1.6686735114095153,
          1.8403309348515722,
          -0.5802584868683829,
          -0.09590551641504427,
          -0.3442463387741227,
          0.2737142878257539,
          -1.4218450463159413,
          0.7709040897234393,
          -0.07295983746557827,
          -1.585735782030788,
          -1.5092326107678922,
          0.5987878893341813,
          -2.442247418258759,
          0.576734661954173,
          0.8932620270742699,
          1.7210945926264,
          -0.193650720818915,
          -1.8827382883360646,
          0.5267084819851623,
          0.4502021076727158,
          0.5782721498235335,
          1.524876126491854,
          -0.5764848321310584,
          -1.0182912978470837,
          -0.3742721960445256,
          -0.025784471592042307,
          -0.07569622413293894,
          -1.8154983154776863,
          0.4116414754184234,
          0.26766633150779834,
          -0.2806289232711756,
          -0.3663080388799181,
          -1.1917704708170465,
          -0.23254241210939353,
          -0.5351316137964464,
          0.8845920872694568,
          -0.7873773746819375,
          0.2696003554116361,
          0.08794955587826678,
          -0.6270801337312517,
          0.4486869821425425,
          1.488637625170458,
          -0.31130228901789786,
          -0.716111509929642,
          0.20497583156080681,
          -0.2962049922521928,
          -0.2082296782079445,
          0.26253270562528874,
          -0.029461583376019222,
          2.1259929146531658,
          -1.3524190583596964,
          1.2273251696394714,
          -0.2226446997934744,
          1.5468268499509297,
          1.0926860304033381,
          -0.6997672107763743,
          -0.8529187938069779,
          -0.7459564482678005,
          -0.44526888387627556,
          -1.4362303726731906,
          -0.722555502691798,
          -2.4472253539453135,
          1.2597956722977133,
          -0.6710559039136937,
          -0.00360102487350076,
          -0.5765588505391732,
          -0.7977464865918783,
          -0.292568575810376,
          0.16079219281142076,
          -1.8156656652692287,
          -0.21540313286528162,
          -0.4266057263630033,
          -0.06602932667023537,
          0.9181668400319609,
          0.6111089534555753,
          0.2559227548732202,
          0.6589708527863093,
          0.0962924738039389,
          -0.7387430617003714,
          -0.8894694047202094,
          -0.35252595282788435,
          0.3317370217514892,
          -0.17473481883169364,
          0.5280074710824594,
          -0.23774601846475946,
          -2.3276518020216455,
          -0.08554987200826247,
          -1.6747764742596722,
          -0.4897571707909026,
          0.546843935985657,
          -0.880815681633401,
          -0.5754310312497479,
          -0.10487926773626505,
          -0.7872773624593267,
          -0.4662007162197939,
          0.1483084351961708
         ],
         "yaxis": "y9"
        },
        {
         "line": {
          "color": "rgba(128, 128, 128, 1.0)",
          "dash": "solid",
          "shape": "linear",
          "width": 1.3
         },
         "marker": {
          "size": 2,
          "symbol": "circle"
         },
         "mode": "markers",
         "name": "C",
         "text": "",
         "type": "scatter",
         "x": [
          -0.5744108505115697,
          1.3250127875694866,
          1.0609501013173488,
          1.4471358685229194,
          1.636441501367267,
          0.3591387809175054,
          -0.008677973283243321,
          1.2483095611775963,
          -0.3377835165446373,
          2.2936306970939824,
          1.4935410087314982,
          -1.1678829013387353,
          -0.4302557027404968,
          -1.2175853872046736,
          0.9976278820986041,
          1.8542346052856826,
          -0.3336832591907579,
          0.4305648305343407,
          -0.3413782131381251,
          1.885562577489426,
          -1.167728416431715,
          -0.25855441335933166,
          0.8457605079877005,
          1.786687191313069,
          -0.08016895736742227,
          -0.1675114125436269,
          0.6660676823694558,
          0.45908821282456685,
          0.024217153209860284,
          -1.256145709598057,
          -0.04627554807779002,
          -1.0138047364711658,
          0.8176005919444439,
          0.7242425774053408,
          1.0121548452900764,
          0.08734325694977876,
          -0.6137761053906247,
          0.19046996905840896,
          -0.199575010944785,
          1.763674923294254,
          0.7998263899160724,
          0.4694877243781425,
          -0.18758354700512347,
          -0.27105335552054344,
          0.2000247639308463,
          0.828433270741575,
          -0.7058613693027531,
          1.8623140211472056,
          2.1618073436752887,
          -1.7317496849627836,
          -0.3992836362099629,
          -2.2223897210323944,
          1.3436501899446402,
          -1.1852917082259877,
          0.4828293211581265,
          -1.9592110315381874,
          1.507469336916762,
          -0.0700760714281321,
          0.8282896907807905,
          -1.997244238790069,
          0.4585925848688841,
          -1.4981223246453403,
          -0.31732990651485327,
          1.8869775085501947,
          1.1584731749792427,
          1.0273130448326746,
          0.19508827087091382,
          1.4258471228220166,
          0.5788535326226437,
          -0.299954280656903,
          -0.3998410210242254,
          -0.35031737167406823,
          0.8832288439399775,
          0.21669465213116756,
          1.5391788486551,
          0.4271428089617199,
          -0.5953874578026,
          -0.6572397682085748,
          -0.26642398341379453,
          0.5076714514941331,
          -0.49600297058156256,
          -0.04379002145007061,
          0.13194756351743006,
          1.3883149776748287,
          0.6451060566263321,
          -0.7813472507428276,
          -0.9010886847348751,
          -0.07420666006715997,
          2.1058526584425343,
          1.5004904613813166,
          -0.8716479253418286,
          -1.0163449295692388,
          -0.006685171080727264,
          -1.2081557920076373,
          0.046997033531740375,
          -1.0292765217406235,
          -0.5659707554107236,
          0.5939692678161016,
          1.32004815915914,
          1.693620985365639
         ],
         "xaxis": "x10",
         "y": [
          -1.872954677600378,
          0.6237986215647472,
          0.6866408536792551,
          -0.48766271328392546,
          -1.6686735114095153,
          1.8403309348515722,
          -0.5802584868683829,
          -0.09590551641504427,
          -0.3442463387741227,
          0.2737142878257539,
          -1.4218450463159413,
          0.7709040897234393,
          -0.07295983746557827,
          -1.585735782030788,
          -1.5092326107678922,
          0.5987878893341813,
          -2.442247418258759,
          0.576734661954173,
          0.8932620270742699,
          1.7210945926264,
          -0.193650720818915,
          -1.8827382883360646,
          0.5267084819851623,
          0.4502021076727158,
          0.5782721498235335,
          1.524876126491854,
          -0.5764848321310584,
          -1.0182912978470837,
          -0.3742721960445256,
          -0.025784471592042307,
          -0.07569622413293894,
          -1.8154983154776863,
          0.4116414754184234,
          0.26766633150779834,
          -0.2806289232711756,
          -0.3663080388799181,
          -1.1917704708170465,
          -0.23254241210939353,
          -0.5351316137964464,
          0.8845920872694568,
          -0.7873773746819375,
          0.2696003554116361,
          0.08794955587826678,
          -0.6270801337312517,
          0.4486869821425425,
          1.488637625170458,
          -0.31130228901789786,
          -0.716111509929642,
          0.20497583156080681,
          -0.2962049922521928,
          -0.2082296782079445,
          0.26253270562528874,
          -0.029461583376019222,
          2.1259929146531658,
          -1.3524190583596964,
          1.2273251696394714,
          -0.2226446997934744,
          1.5468268499509297,
          1.0926860304033381,
          -0.6997672107763743,
          -0.8529187938069779,
          -0.7459564482678005,
          -0.44526888387627556,
          -1.4362303726731906,
          -0.722555502691798,
          -2.4472253539453135,
          1.2597956722977133,
          -0.6710559039136937,
          -0.00360102487350076,
          -0.5765588505391732,
          -0.7977464865918783,
          -0.292568575810376,
          0.16079219281142076,
          -1.8156656652692287,
          -0.21540313286528162,
          -0.4266057263630033,
          -0.06602932667023537,
          0.9181668400319609,
          0.6111089534555753,
          0.2559227548732202,
          0.6589708527863093,
          0.0962924738039389,
          -0.7387430617003714,
          -0.8894694047202094,
          -0.35252595282788435,
          0.3317370217514892,
          -0.17473481883169364,
          0.5280074710824594,
          -0.23774601846475946,
          -2.3276518020216455,
          -0.08554987200826247,
          -1.6747764742596722,
          -0.4897571707909026,
          0.546843935985657,
          -0.880815681633401,
          -0.5754310312497479,
          -0.10487926773626505,
          -0.7872773624593267,
          -0.4662007162197939,
          0.1483084351961708
         ],
         "yaxis": "y10"
        },
        {
         "histfunc": "count",
         "histnorm": "",
         "marker": {
          "color": "rgba(50, 171, 96, 1.0)",
          "line": {
           "color": "#4D5663",
           "width": 1.3
          }
         },
         "name": "C",
         "nbinsx": 10,
         "opacity": 0.8,
         "orientation": "v",
         "type": "histogram",
         "x": [
          -1.872954677600378,
          0.6237986215647472,
          0.6866408536792551,
          -0.48766271328392546,
          -1.6686735114095153,
          1.8403309348515722,
          -0.5802584868683829,
          -0.09590551641504427,
          -0.3442463387741227,
          0.2737142878257539,
          -1.4218450463159413,
          0.7709040897234393,
          -0.07295983746557827,
          -1.585735782030788,
          -1.5092326107678922,
          0.5987878893341813,
          -2.442247418258759,
          0.576734661954173,
          0.8932620270742699,
          1.7210945926264,
          -0.193650720818915,
          -1.8827382883360646,
          0.5267084819851623,
          0.4502021076727158,
          0.5782721498235335,
          1.524876126491854,
          -0.5764848321310584,
          -1.0182912978470837,
          -0.3742721960445256,
          -0.025784471592042307,
          -0.07569622413293894,
          -1.8154983154776863,
          0.4116414754184234,
          0.26766633150779834,
          -0.2806289232711756,
          -0.3663080388799181,
          -1.1917704708170465,
          -0.23254241210939353,
          -0.5351316137964464,
          0.8845920872694568,
          -0.7873773746819375,
          0.2696003554116361,
          0.08794955587826678,
          -0.6270801337312517,
          0.4486869821425425,
          1.488637625170458,
          -0.31130228901789786,
          -0.716111509929642,
          0.20497583156080681,
          -0.2962049922521928,
          -0.2082296782079445,
          0.26253270562528874,
          -0.029461583376019222,
          2.1259929146531658,
          -1.3524190583596964,
          1.2273251696394714,
          -0.2226446997934744,
          1.5468268499509297,
          1.0926860304033381,
          -0.6997672107763743,
          -0.8529187938069779,
          -0.7459564482678005,
          -0.44526888387627556,
          -1.4362303726731906,
          -0.722555502691798,
          -2.4472253539453135,
          1.2597956722977133,
          -0.6710559039136937,
          -0.00360102487350076,
          -0.5765588505391732,
          -0.7977464865918783,
          -0.292568575810376,
          0.16079219281142076,
          -1.8156656652692287,
          -0.21540313286528162,
          -0.4266057263630033,
          -0.06602932667023537,
          0.9181668400319609,
          0.6111089534555753,
          0.2559227548732202,
          0.6589708527863093,
          0.0962924738039389,
          -0.7387430617003714,
          -0.8894694047202094,
          -0.35252595282788435,
          0.3317370217514892,
          -0.17473481883169364,
          0.5280074710824594,
          -0.23774601846475946,
          -2.3276518020216455,
          -0.08554987200826247,
          -1.6747764742596722,
          -0.4897571707909026,
          0.546843935985657,
          -0.880815681633401,
          -0.5754310312497479,
          -0.10487926773626505,
          -0.7872773624593267,
          -0.4662007162197939,
          0.1483084351961708
         ],
         "xaxis": "x11",
         "yaxis": "y11"
        },
        {
         "line": {
          "color": "rgba(128, 128, 128, 1.0)",
          "dash": "solid",
          "shape": "linear",
          "width": 1.3
         },
         "marker": {
          "size": 2,
          "symbol": "circle"
         },
         "mode": "markers",
         "name": "C",
         "text": "",
         "type": "scatter",
         "x": [
          -0.8728568372913522,
          -1.0510839903023959,
          -1.3522210246133695,
          -1.0816602083836728,
          0.6161322785741782,
          -2.270253807128969,
          0.6457899317353106,
          -1.3023380466637922,
          0.0960482715782704,
          1.5902741295396368,
          -1.6356410274309405,
          -0.31939983853754883,
          1.1145104516527602,
          0.21057626889985578,
          -0.348828659122623,
          -0.7740468853790099,
          -1.1371514856913192,
          -2.7563694180718286,
          -0.18317684500872908,
          0.13512465678845337,
          0.6178216024363102,
          0.5604358561514041,
          1.3983856775592367,
          -0.3035881578738405,
          -0.3774950175173685,
          -0.6616870657179112,
          1.5493503947902147,
          -0.4066197153605928,
          -0.18170123689474885,
          -1.311645410463092,
          0.03470772459447403,
          1.0901857430839144,
          -0.8352027962332579,
          -1.160382279111738,
          0.7929162188452963,
          0.74698492705652,
          0.30823360053240406,
          0.7986033694033816,
          0.20032881366843805,
          0.48512832309855636,
          0.34674395826673204,
          0.931126066960723,
          1.8001481372656352,
          -0.29031346160423976,
          -0.7562122193388319,
          1.0508531904257834,
          0.8535621846402527,
          -1.5367587665560831,
          -0.32931442972299696,
          -0.07158615958449306,
          1.535187698124292,
          0.7104861445707624,
          -0.29305053344074944,
          -0.9086209710701793,
          -0.7543966871857999,
          1.177980752510718,
          -0.8325497999131194,
          0.25156817802406456,
          1.6825980027936205,
          0.5558331143556858,
          0.044974642202284934,
          0.45569153607454416,
          1.5167151857230254,
          -0.3801697586836345,
          -0.6043239029203588,
          -1.2627049881656545,
          0.6083375058295283,
          -0.6591289274799408,
          -0.582030722062489,
          0.35254231790267604,
          -0.5340487197214605,
          0.09964931800781102,
          -0.7653941341267405,
          -0.5454442040396222,
          2.1473975031906143,
          0.24770283578654514,
          1.8349778113605748,
          1.043134585923067,
          1.5448786834883979,
          1.3503980196143361,
          -0.06148969425015488,
          -0.5629858218381755,
          -0.5881476331205633,
          1.0917438061825997,
          -0.42805670621658326,
          0.3809315099034995,
          -0.6032626214404642,
          -0.5012972379840266,
          -0.1121313752327508,
          -0.5734900802024279,
          -0.9910032634693237,
          -0.5802253131299402,
          -0.6184576789314314,
          0.9186984268311955,
          -0.6996580907227681,
          0.7777360459923974,
          -1.3180784343881304,
          0.5228080624229092,
          -1.34301177081277,
          -0.5740555702198387
         ],
         "xaxis": "x12",
         "y": [
          -1.872954677600378,
          0.6237986215647472,
          0.6866408536792551,
          -0.48766271328392546,
          -1.6686735114095153,
          1.8403309348515722,
          -0.5802584868683829,
          -0.09590551641504427,
          -0.3442463387741227,
          0.2737142878257539,
          -1.4218450463159413,
          0.7709040897234393,
          -0.07295983746557827,
          -1.585735782030788,
          -1.5092326107678922,
          0.5987878893341813,
          -2.442247418258759,
          0.576734661954173,
          0.8932620270742699,
          1.7210945926264,
          -0.193650720818915,
          -1.8827382883360646,
          0.5267084819851623,
          0.4502021076727158,
          0.5782721498235335,
          1.524876126491854,
          -0.5764848321310584,
          -1.0182912978470837,
          -0.3742721960445256,
          -0.025784471592042307,
          -0.07569622413293894,
          -1.8154983154776863,
          0.4116414754184234,
          0.26766633150779834,
          -0.2806289232711756,
          -0.3663080388799181,
          -1.1917704708170465,
          -0.23254241210939353,
          -0.5351316137964464,
          0.8845920872694568,
          -0.7873773746819375,
          0.2696003554116361,
          0.08794955587826678,
          -0.6270801337312517,
          0.4486869821425425,
          1.488637625170458,
          -0.31130228901789786,
          -0.716111509929642,
          0.20497583156080681,
          -0.2962049922521928,
          -0.2082296782079445,
          0.26253270562528874,
          -0.029461583376019222,
          2.1259929146531658,
          -1.3524190583596964,
          1.2273251696394714,
          -0.2226446997934744,
          1.5468268499509297,
          1.0926860304033381,
          -0.6997672107763743,
          -0.8529187938069779,
          -0.7459564482678005,
          -0.44526888387627556,
          -1.4362303726731906,
          -0.722555502691798,
          -2.4472253539453135,
          1.2597956722977133,
          -0.6710559039136937,
          -0.00360102487350076,
          -0.5765588505391732,
          -0.7977464865918783,
          -0.292568575810376,
          0.16079219281142076,
          -1.8156656652692287,
          -0.21540313286528162,
          -0.4266057263630033,
          -0.06602932667023537,
          0.9181668400319609,
          0.6111089534555753,
          0.2559227548732202,
          0.6589708527863093,
          0.0962924738039389,
          -0.7387430617003714,
          -0.8894694047202094,
          -0.35252595282788435,
          0.3317370217514892,
          -0.17473481883169364,
          0.5280074710824594,
          -0.23774601846475946,
          -2.3276518020216455,
          -0.08554987200826247,
          -1.6747764742596722,
          -0.4897571707909026,
          0.546843935985657,
          -0.880815681633401,
          -0.5754310312497479,
          -0.10487926773626505,
          -0.7872773624593267,
          -0.4662007162197939,
          0.1483084351961708
         ],
         "yaxis": "y12"
        },
        {
         "line": {
          "color": "rgba(128, 128, 128, 1.0)",
          "dash": "solid",
          "shape": "linear",
          "width": 1.3
         },
         "marker": {
          "size": 2,
          "symbol": "circle"
         },
         "mode": "markers",
         "name": "D",
         "text": "",
         "type": "scatter",
         "x": [
          0.21681727542441842,
          -1.9772885113327838,
          -0.5462132471505399,
          -0.6819819367976302,
          -1.0214246855639262,
          -1.4663406701189936,
          -1.3869714818665195,
          0.6792759180849723,
          0.003323249589601154,
          0.35263353393747643,
          -2.173396383826939,
          -0.39936467024163136,
          0.8835612461124585,
          1.748782428403716,
          1.2981444583558728,
          -0.32230543795352296,
          -2.2872486799886977,
          -0.9222217108403428,
          1.0586883344373945,
          -0.7728894682805112,
          0.1846911614370194,
          0.9551326809373836,
          0.06571449259757192,
          -0.2879721715497405,
          0.4192649222122794,
          -0.22975781578973978,
          1.1268507659495426,
          -0.8736355780617026,
          -0.49053047435131,
          -1.860305257457072,
          -1.3014448030976098,
          -0.7363205380791245,
          0.18582304290026405,
          -0.9193683541857193,
          -0.04760099120972285,
          1.1381969500860398,
          0.7132664776376054,
          -1.4059686462089924,
          0.12934554272216123,
          0.07709514927434992,
          1.2065139611399052,
          -0.2922868261161954,
          -0.6492118066817882,
          -2.7875169264679287,
          1.487366502025058,
          -0.27655005327292226,
          0.6720373114730019,
          1.0871682635420434,
          -1.2882506461748495,
          -1.1688212881513926,
          2.1650038192151153,
          0.9167077936678667,
          -0.6828969660269069,
          -0.362244895015562,
          -0.09097710761368762,
          1.1693454323863541,
          -1.0802438914386934,
          1.6878002831003949,
          -0.7579699094459557,
          -0.923800232625123,
          -2.114427367903597,
          -0.8129595596031683,
          -0.9012657916491319,
          -0.5455684789811972,
          0.003975478803318766,
          1.1179112763539043,
          0.9018043992546574,
          -0.8986152080322387,
          -0.21730607952635342,
          -0.5377706905229709,
          0.7182445328073375,
          1.3848319307421704,
          0.2073759925829057,
          0.7458428658575877,
          -1.1782479208176158,
          0.7308951672261628,
          1.2742068212954676,
          -0.5091233276267916,
          1.2123761493889964,
          -0.8696175139611265,
          0.05467665427955305,
          -0.10334873767188274,
          -0.8969549934246617,
          -0.5115917199381562,
          0.19375254046062468,
          1.148982738277355,
          -0.7879074944195215,
          0.20254895860414326,
          -0.10967627777498896,
          0.4834359516159212,
          0.26554038535107627,
          0.8015719884092859,
          -1.727774502348332,
          -0.8585361784135981,
          2.215116094482056,
          -0.8258598941353283,
          0.2927407389721164,
          -0.5278021971348248,
          -0.37959624617078397,
          -0.902146704300605
         ],
         "xaxis": "x13",
         "y": [
          -0.8728568372913522,
          -1.0510839903023959,
          -1.3522210246133695,
          -1.0816602083836728,
          0.6161322785741782,
          -2.270253807128969,
          0.6457899317353106,
          -1.3023380466637922,
          0.0960482715782704,
          1.5902741295396368,
          -1.6356410274309405,
          -0.31939983853754883,
          1.1145104516527602,
          0.21057626889985578,
          -0.348828659122623,
          -0.7740468853790099,
          -1.1371514856913192,
          -2.7563694180718286,
          -0.18317684500872908,
          0.13512465678845337,
          0.6178216024363102,
          0.5604358561514041,
          1.3983856775592367,
          -0.3035881578738405,
          -0.3774950175173685,
          -0.6616870657179112,
          1.5493503947902147,
          -0.4066197153605928,
          -0.18170123689474885,
          -1.311645410463092,
          0.03470772459447403,
          1.0901857430839144,
          -0.8352027962332579,
          -1.160382279111738,
          0.7929162188452963,
          0.74698492705652,
          0.30823360053240406,
          0.7986033694033816,
          0.20032881366843805,
          0.48512832309855636,
          0.34674395826673204,
          0.931126066960723,
          1.8001481372656352,
          -0.29031346160423976,
          -0.7562122193388319,
          1.0508531904257834,
          0.8535621846402527,
          -1.5367587665560831,
          -0.32931442972299696,
          -0.07158615958449306,
          1.535187698124292,
          0.7104861445707624,
          -0.29305053344074944,
          -0.9086209710701793,
          -0.7543966871857999,
          1.177980752510718,
          -0.8325497999131194,
          0.25156817802406456,
          1.6825980027936205,
          0.5558331143556858,
          0.044974642202284934,
          0.45569153607454416,
          1.5167151857230254,
          -0.3801697586836345,
          -0.6043239029203588,
          -1.2627049881656545,
          0.6083375058295283,
          -0.6591289274799408,
          -0.582030722062489,
          0.35254231790267604,
          -0.5340487197214605,
          0.09964931800781102,
          -0.7653941341267405,
          -0.5454442040396222,
          2.1473975031906143,
          0.24770283578654514,
          1.8349778113605748,
          1.043134585923067,
          1.5448786834883979,
          1.3503980196143361,
          -0.06148969425015488,
          -0.5629858218381755,
          -0.5881476331205633,
          1.0917438061825997,
          -0.42805670621658326,
          0.3809315099034995,
          -0.6032626214404642,
          -0.5012972379840266,
          -0.1121313752327508,
          -0.5734900802024279,
          -0.9910032634693237,
          -0.5802253131299402,
          -0.6184576789314314,
          0.9186984268311955,
          -0.6996580907227681,
          0.7777360459923974,
          -1.3180784343881304,
          0.5228080624229092,
          -1.34301177081277,
          -0.5740555702198387
         ],
         "yaxis": "y13"
        },
        {
         "line": {
          "color": "rgba(128, 128, 128, 1.0)",
          "dash": "solid",
          "shape": "linear",
          "width": 1.3
         },
         "marker": {
          "size": 2,
          "symbol": "circle"
         },
         "mode": "markers",
         "name": "D",
         "text": "",
         "type": "scatter",
         "x": [
          -0.5744108505115697,
          1.3250127875694866,
          1.0609501013173488,
          1.4471358685229194,
          1.636441501367267,
          0.3591387809175054,
          -0.008677973283243321,
          1.2483095611775963,
          -0.3377835165446373,
          2.2936306970939824,
          1.4935410087314982,
          -1.1678829013387353,
          -0.4302557027404968,
          -1.2175853872046736,
          0.9976278820986041,
          1.8542346052856826,
          -0.3336832591907579,
          0.4305648305343407,
          -0.3413782131381251,
          1.885562577489426,
          -1.167728416431715,
          -0.25855441335933166,
          0.8457605079877005,
          1.786687191313069,
          -0.08016895736742227,
          -0.1675114125436269,
          0.6660676823694558,
          0.45908821282456685,
          0.024217153209860284,
          -1.256145709598057,
          -0.04627554807779002,
          -1.0138047364711658,
          0.8176005919444439,
          0.7242425774053408,
          1.0121548452900764,
          0.08734325694977876,
          -0.6137761053906247,
          0.19046996905840896,
          -0.199575010944785,
          1.763674923294254,
          0.7998263899160724,
          0.4694877243781425,
          -0.18758354700512347,
          -0.27105335552054344,
          0.2000247639308463,
          0.828433270741575,
          -0.7058613693027531,
          1.8623140211472056,
          2.1618073436752887,
          -1.7317496849627836,
          -0.3992836362099629,
          -2.2223897210323944,
          1.3436501899446402,
          -1.1852917082259877,
          0.4828293211581265,
          -1.9592110315381874,
          1.507469336916762,
          -0.0700760714281321,
          0.8282896907807905,
          -1.997244238790069,
          0.4585925848688841,
          -1.4981223246453403,
          -0.31732990651485327,
          1.8869775085501947,
          1.1584731749792427,
          1.0273130448326746,
          0.19508827087091382,
          1.4258471228220166,
          0.5788535326226437,
          -0.299954280656903,
          -0.3998410210242254,
          -0.35031737167406823,
          0.8832288439399775,
          0.21669465213116756,
          1.5391788486551,
          0.4271428089617199,
          -0.5953874578026,
          -0.6572397682085748,
          -0.26642398341379453,
          0.5076714514941331,
          -0.49600297058156256,
          -0.04379002145007061,
          0.13194756351743006,
          1.3883149776748287,
          0.6451060566263321,
          -0.7813472507428276,
          -0.9010886847348751,
          -0.07420666006715997,
          2.1058526584425343,
          1.5004904613813166,
          -0.8716479253418286,
          -1.0163449295692388,
          -0.006685171080727264,
          -1.2081557920076373,
          0.046997033531740375,
          -1.0292765217406235,
          -0.5659707554107236,
          0.5939692678161016,
          1.32004815915914,
          1.693620985365639
         ],
         "xaxis": "x14",
         "y": [
          -0.8728568372913522,
          -1.0510839903023959,
          -1.3522210246133695,
          -1.0816602083836728,
          0.6161322785741782,
          -2.270253807128969,
          0.6457899317353106,
          -1.3023380466637922,
          0.0960482715782704,
          1.5902741295396368,
          -1.6356410274309405,
          -0.31939983853754883,
          1.1145104516527602,
          0.21057626889985578,
          -0.348828659122623,
          -0.7740468853790099,
          -1.1371514856913192,
          -2.7563694180718286,
          -0.18317684500872908,
          0.13512465678845337,
          0.6178216024363102,
          0.5604358561514041,
          1.3983856775592367,
          -0.3035881578738405,
          -0.3774950175173685,
          -0.6616870657179112,
          1.5493503947902147,
          -0.4066197153605928,
          -0.18170123689474885,
          -1.311645410463092,
          0.03470772459447403,
          1.0901857430839144,
          -0.8352027962332579,
          -1.160382279111738,
          0.7929162188452963,
          0.74698492705652,
          0.30823360053240406,
          0.7986033694033816,
          0.20032881366843805,
          0.48512832309855636,
          0.34674395826673204,
          0.931126066960723,
          1.8001481372656352,
          -0.29031346160423976,
          -0.7562122193388319,
          1.0508531904257834,
          0.8535621846402527,
          -1.5367587665560831,
          -0.32931442972299696,
          -0.07158615958449306,
          1.535187698124292,
          0.7104861445707624,
          -0.29305053344074944,
          -0.9086209710701793,
          -0.7543966871857999,
          1.177980752510718,
          -0.8325497999131194,
          0.25156817802406456,
          1.6825980027936205,
          0.5558331143556858,
          0.044974642202284934,
          0.45569153607454416,
          1.5167151857230254,
          -0.3801697586836345,
          -0.6043239029203588,
          -1.2627049881656545,
          0.6083375058295283,
          -0.6591289274799408,
          -0.582030722062489,
          0.35254231790267604,
          -0.5340487197214605,
          0.09964931800781102,
          -0.7653941341267405,
          -0.5454442040396222,
          2.1473975031906143,
          0.24770283578654514,
          1.8349778113605748,
          1.043134585923067,
          1.5448786834883979,
          1.3503980196143361,
          -0.06148969425015488,
          -0.5629858218381755,
          -0.5881476331205633,
          1.0917438061825997,
          -0.42805670621658326,
          0.3809315099034995,
          -0.6032626214404642,
          -0.5012972379840266,
          -0.1121313752327508,
          -0.5734900802024279,
          -0.9910032634693237,
          -0.5802253131299402,
          -0.6184576789314314,
          0.9186984268311955,
          -0.6996580907227681,
          0.7777360459923974,
          -1.3180784343881304,
          0.5228080624229092,
          -1.34301177081277,
          -0.5740555702198387
         ],
         "yaxis": "y14"
        },
        {
         "line": {
          "color": "rgba(128, 128, 128, 1.0)",
          "dash": "solid",
          "shape": "linear",
          "width": 1.3
         },
         "marker": {
          "size": 2,
          "symbol": "circle"
         },
         "mode": "markers",
         "name": "D",
         "text": "",
         "type": "scatter",
         "x": [
          -1.872954677600378,
          0.6237986215647472,
          0.6866408536792551,
          -0.48766271328392546,
          -1.6686735114095153,
          1.8403309348515722,
          -0.5802584868683829,
          -0.09590551641504427,
          -0.3442463387741227,
          0.2737142878257539,
          -1.4218450463159413,
          0.7709040897234393,
          -0.07295983746557827,
          -1.585735782030788,
          -1.5092326107678922,
          0.5987878893341813,
          -2.442247418258759,
          0.576734661954173,
          0.8932620270742699,
          1.7210945926264,
          -0.193650720818915,
          -1.8827382883360646,
          0.5267084819851623,
          0.4502021076727158,
          0.5782721498235335,
          1.524876126491854,
          -0.5764848321310584,
          -1.0182912978470837,
          -0.3742721960445256,
          -0.025784471592042307,
          -0.07569622413293894,
          -1.8154983154776863,
          0.4116414754184234,
          0.26766633150779834,
          -0.2806289232711756,
          -0.3663080388799181,
          -1.1917704708170465,
          -0.23254241210939353,
          -0.5351316137964464,
          0.8845920872694568,
          -0.7873773746819375,
          0.2696003554116361,
          0.08794955587826678,
          -0.6270801337312517,
          0.4486869821425425,
          1.488637625170458,
          -0.31130228901789786,
          -0.716111509929642,
          0.20497583156080681,
          -0.2962049922521928,
          -0.2082296782079445,
          0.26253270562528874,
          -0.029461583376019222,
          2.1259929146531658,
          -1.3524190583596964,
          1.2273251696394714,
          -0.2226446997934744,
          1.5468268499509297,
          1.0926860304033381,
          -0.6997672107763743,
          -0.8529187938069779,
          -0.7459564482678005,
          -0.44526888387627556,
          -1.4362303726731906,
          -0.722555502691798,
          -2.4472253539453135,
          1.2597956722977133,
          -0.6710559039136937,
          -0.00360102487350076,
          -0.5765588505391732,
          -0.7977464865918783,
          -0.292568575810376,
          0.16079219281142076,
          -1.8156656652692287,
          -0.21540313286528162,
          -0.4266057263630033,
          -0.06602932667023537,
          0.9181668400319609,
          0.6111089534555753,
          0.2559227548732202,
          0.6589708527863093,
          0.0962924738039389,
          -0.7387430617003714,
          -0.8894694047202094,
          -0.35252595282788435,
          0.3317370217514892,
          -0.17473481883169364,
          0.5280074710824594,
          -0.23774601846475946,
          -2.3276518020216455,
          -0.08554987200826247,
          -1.6747764742596722,
          -0.4897571707909026,
          0.546843935985657,
          -0.880815681633401,
          -0.5754310312497479,
          -0.10487926773626505,
          -0.7872773624593267,
          -0.4662007162197939,
          0.1483084351961708
         ],
         "xaxis": "x15",
         "y": [
          -0.8728568372913522,
          -1.0510839903023959,
          -1.3522210246133695,
          -1.0816602083836728,
          0.6161322785741782,
          -2.270253807128969,
          0.6457899317353106,
          -1.3023380466637922,
          0.0960482715782704,
          1.5902741295396368,
          -1.6356410274309405,
          -0.31939983853754883,
          1.1145104516527602,
          0.21057626889985578,
          -0.348828659122623,
          -0.7740468853790099,
          -1.1371514856913192,
          -2.7563694180718286,
          -0.18317684500872908,
          0.13512465678845337,
          0.6178216024363102,
          0.5604358561514041,
          1.3983856775592367,
          -0.3035881578738405,
          -0.3774950175173685,
          -0.6616870657179112,
          1.5493503947902147,
          -0.4066197153605928,
          -0.18170123689474885,
          -1.311645410463092,
          0.03470772459447403,
          1.0901857430839144,
          -0.8352027962332579,
          -1.160382279111738,
          0.7929162188452963,
          0.74698492705652,
          0.30823360053240406,
          0.7986033694033816,
          0.20032881366843805,
          0.48512832309855636,
          0.34674395826673204,
          0.931126066960723,
          1.8001481372656352,
          -0.29031346160423976,
          -0.7562122193388319,
          1.0508531904257834,
          0.8535621846402527,
          -1.5367587665560831,
          -0.32931442972299696,
          -0.07158615958449306,
          1.535187698124292,
          0.7104861445707624,
          -0.29305053344074944,
          -0.9086209710701793,
          -0.7543966871857999,
          1.177980752510718,
          -0.8325497999131194,
          0.25156817802406456,
          1.6825980027936205,
          0.5558331143556858,
          0.044974642202284934,
          0.45569153607454416,
          1.5167151857230254,
          -0.3801697586836345,
          -0.6043239029203588,
          -1.2627049881656545,
          0.6083375058295283,
          -0.6591289274799408,
          -0.582030722062489,
          0.35254231790267604,
          -0.5340487197214605,
          0.09964931800781102,
          -0.7653941341267405,
          -0.5454442040396222,
          2.1473975031906143,
          0.24770283578654514,
          1.8349778113605748,
          1.043134585923067,
          1.5448786834883979,
          1.3503980196143361,
          -0.06148969425015488,
          -0.5629858218381755,
          -0.5881476331205633,
          1.0917438061825997,
          -0.42805670621658326,
          0.3809315099034995,
          -0.6032626214404642,
          -0.5012972379840266,
          -0.1121313752327508,
          -0.5734900802024279,
          -0.9910032634693237,
          -0.5802253131299402,
          -0.6184576789314314,
          0.9186984268311955,
          -0.6996580907227681,
          0.7777360459923974,
          -1.3180784343881304,
          0.5228080624229092,
          -1.34301177081277,
          -0.5740555702198387
         ],
         "yaxis": "y15"
        },
        {
         "histfunc": "count",
         "histnorm": "",
         "marker": {
          "color": "rgba(128, 0, 128, 1.0)",
          "line": {
           "color": "#4D5663",
           "width": 1.3
          }
         },
         "name": "D",
         "nbinsx": 10,
         "opacity": 0.8,
         "orientation": "v",
         "type": "histogram",
         "x": [
          -0.8728568372913522,
          -1.0510839903023959,
          -1.3522210246133695,
          -1.0816602083836728,
          0.6161322785741782,
          -2.270253807128969,
          0.6457899317353106,
          -1.3023380466637922,
          0.0960482715782704,
          1.5902741295396368,
          -1.6356410274309405,
          -0.31939983853754883,
          1.1145104516527602,
          0.21057626889985578,
          -0.348828659122623,
          -0.7740468853790099,
          -1.1371514856913192,
          -2.7563694180718286,
          -0.18317684500872908,
          0.13512465678845337,
          0.6178216024363102,
          0.5604358561514041,
          1.3983856775592367,
          -0.3035881578738405,
          -0.3774950175173685,
          -0.6616870657179112,
          1.5493503947902147,
          -0.4066197153605928,
          -0.18170123689474885,
          -1.311645410463092,
          0.03470772459447403,
          1.0901857430839144,
          -0.8352027962332579,
          -1.160382279111738,
          0.7929162188452963,
          0.74698492705652,
          0.30823360053240406,
          0.7986033694033816,
          0.20032881366843805,
          0.48512832309855636,
          0.34674395826673204,
          0.931126066960723,
          1.8001481372656352,
          -0.29031346160423976,
          -0.7562122193388319,
          1.0508531904257834,
          0.8535621846402527,
          -1.5367587665560831,
          -0.32931442972299696,
          -0.07158615958449306,
          1.535187698124292,
          0.7104861445707624,
          -0.29305053344074944,
          -0.9086209710701793,
          -0.7543966871857999,
          1.177980752510718,
          -0.8325497999131194,
          0.25156817802406456,
          1.6825980027936205,
          0.5558331143556858,
          0.044974642202284934,
          0.45569153607454416,
          1.5167151857230254,
          -0.3801697586836345,
          -0.6043239029203588,
          -1.2627049881656545,
          0.6083375058295283,
          -0.6591289274799408,
          -0.582030722062489,
          0.35254231790267604,
          -0.5340487197214605,
          0.09964931800781102,
          -0.7653941341267405,
          -0.5454442040396222,
          2.1473975031906143,
          0.24770283578654514,
          1.8349778113605748,
          1.043134585923067,
          1.5448786834883979,
          1.3503980196143361,
          -0.06148969425015488,
          -0.5629858218381755,
          -0.5881476331205633,
          1.0917438061825997,
          -0.42805670621658326,
          0.3809315099034995,
          -0.6032626214404642,
          -0.5012972379840266,
          -0.1121313752327508,
          -0.5734900802024279,
          -0.9910032634693237,
          -0.5802253131299402,
          -0.6184576789314314,
          0.9186984268311955,
          -0.6996580907227681,
          0.7777360459923974,
          -1.3180784343881304,
          0.5228080624229092,
          -1.34301177081277,
          -0.5740555702198387
         ],
         "xaxis": "x16",
         "yaxis": "y16"
        }
       ],
       "layout": {
        "bargap": 0.02,
        "legend": {
         "bgcolor": "#F5F6F9",
         "font": {
          "color": "#4D5663"
         }
        },
        "paper_bgcolor": "#F5F6F9",
        "plot_bgcolor": "#F5F6F9",
        "showlegend": false,
        "template": {
         "data": {
          "bar": [
           {
            "error_x": {
             "color": "#2a3f5f"
            },
            "error_y": {
             "color": "#2a3f5f"
            },
            "marker": {
             "line": {
              "color": "#E5ECF6",
              "width": 0.5
             }
            },
            "type": "bar"
           }
          ],
          "barpolar": [
           {
            "marker": {
             "line": {
              "color": "#E5ECF6",
              "width": 0.5
             }
            },
            "type": "barpolar"
           }
          ],
          "carpet": [
           {
            "aaxis": {
             "endlinecolor": "#2a3f5f",
             "gridcolor": "white",
             "linecolor": "white",
             "minorgridcolor": "white",
             "startlinecolor": "#2a3f5f"
            },
            "baxis": {
             "endlinecolor": "#2a3f5f",
             "gridcolor": "white",
             "linecolor": "white",
             "minorgridcolor": "white",
             "startlinecolor": "#2a3f5f"
            },
            "type": "carpet"
           }
          ],
          "choropleth": [
           {
            "colorbar": {
             "outlinewidth": 0,
             "ticks": ""
            },
            "type": "choropleth"
           }
          ],
          "contour": [
           {
            "colorbar": {
             "outlinewidth": 0,
             "ticks": ""
            },
            "colorscale": [
             [
              0,
              "#0d0887"
             ],
             [
              0.1111111111111111,
              "#46039f"
             ],
             [
              0.2222222222222222,
              "#7201a8"
             ],
             [
              0.3333333333333333,
              "#9c179e"
             ],
             [
              0.4444444444444444,
              "#bd3786"
             ],
             [
              0.5555555555555556,
              "#d8576b"
             ],
             [
              0.6666666666666666,
              "#ed7953"
             ],
             [
              0.7777777777777778,
              "#fb9f3a"
             ],
             [
              0.8888888888888888,
              "#fdca26"
             ],
             [
              1,
              "#f0f921"
             ]
            ],
            "type": "contour"
           }
          ],
          "contourcarpet": [
           {
            "colorbar": {
             "outlinewidth": 0,
             "ticks": ""
            },
            "type": "contourcarpet"
           }
          ],
          "heatmap": [
           {
            "colorbar": {
             "outlinewidth": 0,
             "ticks": ""
            },
            "colorscale": [
             [
              0,
              "#0d0887"
             ],
             [
              0.1111111111111111,
              "#46039f"
             ],
             [
              0.2222222222222222,
              "#7201a8"
             ],
             [
              0.3333333333333333,
              "#9c179e"
             ],
             [
              0.4444444444444444,
              "#bd3786"
             ],
             [
              0.5555555555555556,
              "#d8576b"
             ],
             [
              0.6666666666666666,
              "#ed7953"
             ],
             [
              0.7777777777777778,
              "#fb9f3a"
             ],
             [
              0.8888888888888888,
              "#fdca26"
             ],
             [
              1,
              "#f0f921"
             ]
            ],
            "type": "heatmap"
           }
          ],
          "heatmapgl": [
           {
            "colorbar": {
             "outlinewidth": 0,
             "ticks": ""
            },
            "colorscale": [
             [
              0,
              "#0d0887"
             ],
             [
              0.1111111111111111,
              "#46039f"
             ],
             [
              0.2222222222222222,
              "#7201a8"
             ],
             [
              0.3333333333333333,
              "#9c179e"
             ],
             [
              0.4444444444444444,
              "#bd3786"
             ],
             [
              0.5555555555555556,
              "#d8576b"
             ],
             [
              0.6666666666666666,
              "#ed7953"
             ],
             [
              0.7777777777777778,
              "#fb9f3a"
             ],
             [
              0.8888888888888888,
              "#fdca26"
             ],
             [
              1,
              "#f0f921"
             ]
            ],
            "type": "heatmapgl"
           }
          ],
          "histogram": [
           {
            "marker": {
             "colorbar": {
              "outlinewidth": 0,
              "ticks": ""
             }
            },
            "type": "histogram"
           }
          ],
          "histogram2d": [
           {
            "colorbar": {
             "outlinewidth": 0,
             "ticks": ""
            },
            "colorscale": [
             [
              0,
              "#0d0887"
             ],
             [
              0.1111111111111111,
              "#46039f"
             ],
             [
              0.2222222222222222,
              "#7201a8"
             ],
             [
              0.3333333333333333,
              "#9c179e"
             ],
             [
              0.4444444444444444,
              "#bd3786"
             ],
             [
              0.5555555555555556,
              "#d8576b"
             ],
             [
              0.6666666666666666,
              "#ed7953"
             ],
             [
              0.7777777777777778,
              "#fb9f3a"
             ],
             [
              0.8888888888888888,
              "#fdca26"
             ],
             [
              1,
              "#f0f921"
             ]
            ],
            "type": "histogram2d"
           }
          ],
          "histogram2dcontour": [
           {
            "colorbar": {
             "outlinewidth": 0,
             "ticks": ""
            },
            "colorscale": [
             [
              0,
              "#0d0887"
             ],
             [
              0.1111111111111111,
              "#46039f"
             ],
             [
              0.2222222222222222,
              "#7201a8"
             ],
             [
              0.3333333333333333,
              "#9c179e"
             ],
             [
              0.4444444444444444,
              "#bd3786"
             ],
             [
              0.5555555555555556,
              "#d8576b"
             ],
             [
              0.6666666666666666,
              "#ed7953"
             ],
             [
              0.7777777777777778,
              "#fb9f3a"
             ],
             [
              0.8888888888888888,
              "#fdca26"
             ],
             [
              1,
              "#f0f921"
             ]
            ],
            "type": "histogram2dcontour"
           }
          ],
          "mesh3d": [
           {
            "colorbar": {
             "outlinewidth": 0,
             "ticks": ""
            },
            "type": "mesh3d"
           }
          ],
          "parcoords": [
           {
            "line": {
             "colorbar": {
              "outlinewidth": 0,
              "ticks": ""
             }
            },
            "type": "parcoords"
           }
          ],
          "pie": [
           {
            "automargin": true,
            "type": "pie"
           }
          ],
          "scatter": [
           {
            "marker": {
             "colorbar": {
              "outlinewidth": 0,
              "ticks": ""
             }
            },
            "type": "scatter"
           }
          ],
          "scatter3d": [
           {
            "line": {
             "colorbar": {
              "outlinewidth": 0,
              "ticks": ""
             }
            },
            "marker": {
             "colorbar": {
              "outlinewidth": 0,
              "ticks": ""
             }
            },
            "type": "scatter3d"
           }
          ],
          "scattercarpet": [
           {
            "marker": {
             "colorbar": {
              "outlinewidth": 0,
              "ticks": ""
             }
            },
            "type": "scattercarpet"
           }
          ],
          "scattergeo": [
           {
            "marker": {
             "colorbar": {
              "outlinewidth": 0,
              "ticks": ""
             }
            },
            "type": "scattergeo"
           }
          ],
          "scattergl": [
           {
            "marker": {
             "colorbar": {
              "outlinewidth": 0,
              "ticks": ""
             }
            },
            "type": "scattergl"
           }
          ],
          "scattermapbox": [
           {
            "marker": {
             "colorbar": {
              "outlinewidth": 0,
              "ticks": ""
             }
            },
            "type": "scattermapbox"
           }
          ],
          "scatterpolar": [
           {
            "marker": {
             "colorbar": {
              "outlinewidth": 0,
              "ticks": ""
             }
            },
            "type": "scatterpolar"
           }
          ],
          "scatterpolargl": [
           {
            "marker": {
             "colorbar": {
              "outlinewidth": 0,
              "ticks": ""
             }
            },
            "type": "scatterpolargl"
           }
          ],
          "scatterternary": [
           {
            "marker": {
             "colorbar": {
              "outlinewidth": 0,
              "ticks": ""
             }
            },
            "type": "scatterternary"
           }
          ],
          "surface": [
           {
            "colorbar": {
             "outlinewidth": 0,
             "ticks": ""
            },
            "colorscale": [
             [
              0,
              "#0d0887"
             ],
             [
              0.1111111111111111,
              "#46039f"
             ],
             [
              0.2222222222222222,
              "#7201a8"
             ],
             [
              0.3333333333333333,
              "#9c179e"
             ],
             [
              0.4444444444444444,
              "#bd3786"
             ],
             [
              0.5555555555555556,
              "#d8576b"
             ],
             [
              0.6666666666666666,
              "#ed7953"
             ],
             [
              0.7777777777777778,
              "#fb9f3a"
             ],
             [
              0.8888888888888888,
              "#fdca26"
             ],
             [
              1,
              "#f0f921"
             ]
            ],
            "type": "surface"
           }
          ],
          "table": [
           {
            "cells": {
             "fill": {
              "color": "#EBF0F8"
             },
             "line": {
              "color": "white"
             }
            },
            "header": {
             "fill": {
              "color": "#C8D4E3"
             },
             "line": {
              "color": "white"
             }
            },
            "type": "table"
           }
          ]
         },
         "layout": {
          "annotationdefaults": {
           "arrowcolor": "#2a3f5f",
           "arrowhead": 0,
           "arrowwidth": 1
          },
          "coloraxis": {
           "colorbar": {
            "outlinewidth": 0,
            "ticks": ""
           }
          },
          "colorscale": {
           "diverging": [
            [
             0,
             "#8e0152"
            ],
            [
             0.1,
             "#c51b7d"
            ],
            [
             0.2,
             "#de77ae"
            ],
            [
             0.3,
             "#f1b6da"
            ],
            [
             0.4,
             "#fde0ef"
            ],
            [
             0.5,
             "#f7f7f7"
            ],
            [
             0.6,
             "#e6f5d0"
            ],
            [
             0.7,
             "#b8e186"
            ],
            [
             0.8,
             "#7fbc41"
            ],
            [
             0.9,
             "#4d9221"
            ],
            [
             1,
             "#276419"
            ]
           ],
           "sequential": [
            [
             0,
             "#0d0887"
            ],
            [
             0.1111111111111111,
             "#46039f"
            ],
            [
             0.2222222222222222,
             "#7201a8"
            ],
            [
             0.3333333333333333,
             "#9c179e"
            ],
            [
             0.4444444444444444,
             "#bd3786"
            ],
            [
             0.5555555555555556,
             "#d8576b"
            ],
            [
             0.6666666666666666,
             "#ed7953"
            ],
            [
             0.7777777777777778,
             "#fb9f3a"
            ],
            [
             0.8888888888888888,
             "#fdca26"
            ],
            [
             1,
             "#f0f921"
            ]
           ],
           "sequentialminus": [
            [
             0,
             "#0d0887"
            ],
            [
             0.1111111111111111,
             "#46039f"
            ],
            [
             0.2222222222222222,
             "#7201a8"
            ],
            [
             0.3333333333333333,
             "#9c179e"
            ],
            [
             0.4444444444444444,
             "#bd3786"
            ],
            [
             0.5555555555555556,
             "#d8576b"
            ],
            [
             0.6666666666666666,
             "#ed7953"
            ],
            [
             0.7777777777777778,
             "#fb9f3a"
            ],
            [
             0.8888888888888888,
             "#fdca26"
            ],
            [
             1,
             "#f0f921"
            ]
           ]
          },
          "colorway": [
           "#636efa",
           "#EF553B",
           "#00cc96",
           "#ab63fa",
           "#FFA15A",
           "#19d3f3",
           "#FF6692",
           "#B6E880",
           "#FF97FF",
           "#FECB52"
          ],
          "font": {
           "color": "#2a3f5f"
          },
          "geo": {
           "bgcolor": "white",
           "lakecolor": "white",
           "landcolor": "#E5ECF6",
           "showlakes": true,
           "showland": true,
           "subunitcolor": "white"
          },
          "hoverlabel": {
           "align": "left"
          },
          "hovermode": "closest",
          "mapbox": {
           "style": "light"
          },
          "paper_bgcolor": "white",
          "plot_bgcolor": "#E5ECF6",
          "polar": {
           "angularaxis": {
            "gridcolor": "white",
            "linecolor": "white",
            "ticks": ""
           },
           "bgcolor": "#E5ECF6",
           "radialaxis": {
            "gridcolor": "white",
            "linecolor": "white",
            "ticks": ""
           }
          },
          "scene": {
           "xaxis": {
            "backgroundcolor": "#E5ECF6",
            "gridcolor": "white",
            "gridwidth": 2,
            "linecolor": "white",
            "showbackground": true,
            "ticks": "",
            "zerolinecolor": "white"
           },
           "yaxis": {
            "backgroundcolor": "#E5ECF6",
            "gridcolor": "white",
            "gridwidth": 2,
            "linecolor": "white",
            "showbackground": true,
            "ticks": "",
            "zerolinecolor": "white"
           },
           "zaxis": {
            "backgroundcolor": "#E5ECF6",
            "gridcolor": "white",
            "gridwidth": 2,
            "linecolor": "white",
            "showbackground": true,
            "ticks": "",
            "zerolinecolor": "white"
           }
          },
          "shapedefaults": {
           "line": {
            "color": "#2a3f5f"
           }
          },
          "ternary": {
           "aaxis": {
            "gridcolor": "white",
            "linecolor": "white",
            "ticks": ""
           },
           "baxis": {
            "gridcolor": "white",
            "linecolor": "white",
            "ticks": ""
           },
           "bgcolor": "#E5ECF6",
           "caxis": {
            "gridcolor": "white",
            "linecolor": "white",
            "ticks": ""
           }
          },
          "title": {
           "x": 0.05
          },
          "xaxis": {
           "automargin": true,
           "gridcolor": "white",
           "linecolor": "white",
           "ticks": "",
           "title": {
            "standoff": 15
           },
           "zerolinecolor": "white",
           "zerolinewidth": 2
          },
          "yaxis": {
           "automargin": true,
           "gridcolor": "white",
           "linecolor": "white",
           "ticks": "",
           "title": {
            "standoff": 15
           },
           "zerolinecolor": "white",
           "zerolinewidth": 2
          }
         }
        },
        "title": {
         "font": {
          "color": "#4D5663"
         }
        },
        "xaxis": {
         "anchor": "y",
         "domain": [
          0,
          0.2125
         ],
         "gridcolor": "#E1E5ED",
         "showgrid": false,
         "tickfont": {
          "color": "#4D5663"
         },
         "title": {
          "font": {
           "color": "#4D5663"
          },
          "text": ""
         },
         "zerolinecolor": "#E1E5ED"
        },
        "xaxis10": {
         "anchor": "y10",
         "domain": [
          0.2625,
          0.475
         ],
         "gridcolor": "#E1E5ED",
         "showgrid": false,
         "tickfont": {
          "color": "#4D5663"
         },
         "title": {
          "font": {
           "color": "#4D5663"
          },
          "text": ""
         },
         "zerolinecolor": "#E1E5ED"
        },
        "xaxis11": {
         "anchor": "y11",
         "domain": [
          0.525,
          0.7375
         ],
         "gridcolor": "#E1E5ED",
         "showgrid": false,
         "tickfont": {
          "color": "#4D5663"
         },
         "title": {
          "font": {
           "color": "#4D5663"
          },
          "text": ""
         },
         "zerolinecolor": "#E1E5ED"
        },
        "xaxis12": {
         "anchor": "y12",
         "domain": [
          0.7875,
          1
         ],
         "gridcolor": "#E1E5ED",
         "showgrid": false,
         "tickfont": {
          "color": "#4D5663"
         },
         "title": {
          "font": {
           "color": "#4D5663"
          },
          "text": ""
         },
         "zerolinecolor": "#E1E5ED"
        },
        "xaxis13": {
         "anchor": "y13",
         "domain": [
          0,
          0.2125
         ],
         "gridcolor": "#E1E5ED",
         "showgrid": false,
         "tickfont": {
          "color": "#4D5663"
         },
         "title": {
          "font": {
           "color": "#4D5663"
          },
          "text": ""
         },
         "zerolinecolor": "#E1E5ED"
        },
        "xaxis14": {
         "anchor": "y14",
         "domain": [
          0.2625,
          0.475
         ],
         "gridcolor": "#E1E5ED",
         "showgrid": false,
         "tickfont": {
          "color": "#4D5663"
         },
         "title": {
          "font": {
           "color": "#4D5663"
          },
          "text": ""
         },
         "zerolinecolor": "#E1E5ED"
        },
        "xaxis15": {
         "anchor": "y15",
         "domain": [
          0.525,
          0.7375
         ],
         "gridcolor": "#E1E5ED",
         "showgrid": false,
         "tickfont": {
          "color": "#4D5663"
         },
         "title": {
          "font": {
           "color": "#4D5663"
          },
          "text": ""
         },
         "zerolinecolor": "#E1E5ED"
        },
        "xaxis16": {
         "anchor": "y16",
         "domain": [
          0.7875,
          1
         ],
         "gridcolor": "#E1E5ED",
         "showgrid": false,
         "tickfont": {
          "color": "#4D5663"
         },
         "title": {
          "font": {
           "color": "#4D5663"
          },
          "text": ""
         },
         "zerolinecolor": "#E1E5ED"
        },
        "xaxis2": {
         "anchor": "y2",
         "domain": [
          0.2625,
          0.475
         ],
         "gridcolor": "#E1E5ED",
         "showgrid": false,
         "tickfont": {
          "color": "#4D5663"
         },
         "title": {
          "font": {
           "color": "#4D5663"
          },
          "text": ""
         },
         "zerolinecolor": "#E1E5ED"
        },
        "xaxis3": {
         "anchor": "y3",
         "domain": [
          0.525,
          0.7375
         ],
         "gridcolor": "#E1E5ED",
         "showgrid": false,
         "tickfont": {
          "color": "#4D5663"
         },
         "title": {
          "font": {
           "color": "#4D5663"
          },
          "text": ""
         },
         "zerolinecolor": "#E1E5ED"
        },
        "xaxis4": {
         "anchor": "y4",
         "domain": [
          0.7875,
          1
         ],
         "gridcolor": "#E1E5ED",
         "showgrid": false,
         "tickfont": {
          "color": "#4D5663"
         },
         "title": {
          "font": {
           "color": "#4D5663"
          },
          "text": ""
         },
         "zerolinecolor": "#E1E5ED"
        },
        "xaxis5": {
         "anchor": "y5",
         "domain": [
          0,
          0.2125
         ],
         "gridcolor": "#E1E5ED",
         "showgrid": false,
         "tickfont": {
          "color": "#4D5663"
         },
         "title": {
          "font": {
           "color": "#4D5663"
          },
          "text": ""
         },
         "zerolinecolor": "#E1E5ED"
        },
        "xaxis6": {
         "anchor": "y6",
         "domain": [
          0.2625,
          0.475
         ],
         "gridcolor": "#E1E5ED",
         "showgrid": false,
         "tickfont": {
          "color": "#4D5663"
         },
         "title": {
          "font": {
           "color": "#4D5663"
          },
          "text": ""
         },
         "zerolinecolor": "#E1E5ED"
        },
        "xaxis7": {
         "anchor": "y7",
         "domain": [
          0.525,
          0.7375
         ],
         "gridcolor": "#E1E5ED",
         "showgrid": false,
         "tickfont": {
          "color": "#4D5663"
         },
         "title": {
          "font": {
           "color": "#4D5663"
          },
          "text": ""
         },
         "zerolinecolor": "#E1E5ED"
        },
        "xaxis8": {
         "anchor": "y8",
         "domain": [
          0.7875,
          1
         ],
         "gridcolor": "#E1E5ED",
         "showgrid": false,
         "tickfont": {
          "color": "#4D5663"
         },
         "title": {
          "font": {
           "color": "#4D5663"
          },
          "text": ""
         },
         "zerolinecolor": "#E1E5ED"
        },
        "xaxis9": {
         "anchor": "y9",
         "domain": [
          0,
          0.2125
         ],
         "gridcolor": "#E1E5ED",
         "showgrid": false,
         "tickfont": {
          "color": "#4D5663"
         },
         "title": {
          "font": {
           "color": "#4D5663"
          },
          "text": ""
         },
         "zerolinecolor": "#E1E5ED"
        },
        "yaxis": {
         "anchor": "x",
         "domain": [
          0.8025,
          1
         ],
         "gridcolor": "#E1E5ED",
         "showgrid": false,
         "tickfont": {
          "color": "#4D5663"
         },
         "title": {
          "font": {
           "color": "#4D5663"
          },
          "text": ""
         },
         "zerolinecolor": "#E1E5ED"
        },
        "yaxis10": {
         "anchor": "x10",
         "domain": [
          0.2675,
          0.465
         ],
         "gridcolor": "#E1E5ED",
         "showgrid": false,
         "tickfont": {
          "color": "#4D5663"
         },
         "title": {
          "font": {
           "color": "#4D5663"
          },
          "text": ""
         },
         "zerolinecolor": "#E1E5ED"
        },
        "yaxis11": {
         "anchor": "x11",
         "domain": [
          0.2675,
          0.465
         ],
         "gridcolor": "#E1E5ED",
         "showgrid": false,
         "tickfont": {
          "color": "#4D5663"
         },
         "title": {
          "font": {
           "color": "#4D5663"
          },
          "text": ""
         },
         "zerolinecolor": "#E1E5ED"
        },
        "yaxis12": {
         "anchor": "x12",
         "domain": [
          0.2675,
          0.465
         ],
         "gridcolor": "#E1E5ED",
         "showgrid": false,
         "tickfont": {
          "color": "#4D5663"
         },
         "title": {
          "font": {
           "color": "#4D5663"
          },
          "text": ""
         },
         "zerolinecolor": "#E1E5ED"
        },
        "yaxis13": {
         "anchor": "x13",
         "domain": [
          0,
          0.1975
         ],
         "gridcolor": "#E1E5ED",
         "showgrid": false,
         "tickfont": {
          "color": "#4D5663"
         },
         "title": {
          "font": {
           "color": "#4D5663"
          },
          "text": ""
         },
         "zerolinecolor": "#E1E5ED"
        },
        "yaxis14": {
         "anchor": "x14",
         "domain": [
          0,
          0.1975
         ],
         "gridcolor": "#E1E5ED",
         "showgrid": false,
         "tickfont": {
          "color": "#4D5663"
         },
         "title": {
          "font": {
           "color": "#4D5663"
          },
          "text": ""
         },
         "zerolinecolor": "#E1E5ED"
        },
        "yaxis15": {
         "anchor": "x15",
         "domain": [
          0,
          0.1975
         ],
         "gridcolor": "#E1E5ED",
         "showgrid": false,
         "tickfont": {
          "color": "#4D5663"
         },
         "title": {
          "font": {
           "color": "#4D5663"
          },
          "text": ""
         },
         "zerolinecolor": "#E1E5ED"
        },
        "yaxis16": {
         "anchor": "x16",
         "domain": [
          0,
          0.1975
         ],
         "gridcolor": "#E1E5ED",
         "showgrid": false,
         "tickfont": {
          "color": "#4D5663"
         },
         "title": {
          "font": {
           "color": "#4D5663"
          },
          "text": ""
         },
         "zerolinecolor": "#E1E5ED"
        },
        "yaxis2": {
         "anchor": "x2",
         "domain": [
          0.8025,
          1
         ],
         "gridcolor": "#E1E5ED",
         "showgrid": false,
         "tickfont": {
          "color": "#4D5663"
         },
         "title": {
          "font": {
           "color": "#4D5663"
          },
          "text": ""
         },
         "zerolinecolor": "#E1E5ED"
        },
        "yaxis3": {
         "anchor": "x3",
         "domain": [
          0.8025,
          1
         ],
         "gridcolor": "#E1E5ED",
         "showgrid": false,
         "tickfont": {
          "color": "#4D5663"
         },
         "title": {
          "font": {
           "color": "#4D5663"
          },
          "text": ""
         },
         "zerolinecolor": "#E1E5ED"
        },
        "yaxis4": {
         "anchor": "x4",
         "domain": [
          0.8025,
          1
         ],
         "gridcolor": "#E1E5ED",
         "showgrid": false,
         "tickfont": {
          "color": "#4D5663"
         },
         "title": {
          "font": {
           "color": "#4D5663"
          },
          "text": ""
         },
         "zerolinecolor": "#E1E5ED"
        },
        "yaxis5": {
         "anchor": "x5",
         "domain": [
          0.535,
          0.7325
         ],
         "gridcolor": "#E1E5ED",
         "showgrid": false,
         "tickfont": {
          "color": "#4D5663"
         },
         "title": {
          "font": {
           "color": "#4D5663"
          },
          "text": ""
         },
         "zerolinecolor": "#E1E5ED"
        },
        "yaxis6": {
         "anchor": "x6",
         "domain": [
          0.535,
          0.7325
         ],
         "gridcolor": "#E1E5ED",
         "showgrid": false,
         "tickfont": {
          "color": "#4D5663"
         },
         "title": {
          "font": {
           "color": "#4D5663"
          },
          "text": ""
         },
         "zerolinecolor": "#E1E5ED"
        },
        "yaxis7": {
         "anchor": "x7",
         "domain": [
          0.535,
          0.7325
         ],
         "gridcolor": "#E1E5ED",
         "showgrid": false,
         "tickfont": {
          "color": "#4D5663"
         },
         "title": {
          "font": {
           "color": "#4D5663"
          },
          "text": ""
         },
         "zerolinecolor": "#E1E5ED"
        },
        "yaxis8": {
         "anchor": "x8",
         "domain": [
          0.535,
          0.7325
         ],
         "gridcolor": "#E1E5ED",
         "showgrid": false,
         "tickfont": {
          "color": "#4D5663"
         },
         "title": {
          "font": {
           "color": "#4D5663"
          },
          "text": ""
         },
         "zerolinecolor": "#E1E5ED"
        },
        "yaxis9": {
         "anchor": "x9",
         "domain": [
          0.2675,
          0.465
         ],
         "gridcolor": "#E1E5ED",
         "showgrid": false,
         "tickfont": {
          "color": "#4D5663"
         },
         "title": {
          "font": {
           "color": "#4D5663"
          },
          "text": ""
         },
         "zerolinecolor": "#E1E5ED"
        }
       }
      },
      "text/html": [
       "<div>\n",
       "        \n",
       "        \n",
       "            <div id=\"570f4525-b204-4056-92f5-0ea453d09338\" class=\"plotly-graph-div\" style=\"height:525px; width:100%;\"></div>\n",
       "            <script type=\"text/javascript\">\n",
       "                require([\"plotly\"], function(Plotly) {\n",
       "                    window.PLOTLYENV=window.PLOTLYENV || {};\n",
       "                    window.PLOTLYENV.BASE_URL='https://plot.ly';\n",
       "                    \n",
       "                if (document.getElementById(\"570f4525-b204-4056-92f5-0ea453d09338\")) {\n",
       "                    Plotly.newPlot(\n",
       "                        '570f4525-b204-4056-92f5-0ea453d09338',\n",
       "                        [{\"histfunc\": \"count\", \"histnorm\": \"\", \"marker\": {\"color\": \"rgba(255, 153, 51, 1.0)\", \"line\": {\"color\": \"#4D5663\", \"width\": 1.3}}, \"name\": \"A\", \"nbinsx\": 10, \"opacity\": 0.8, \"orientation\": \"v\", \"type\": \"histogram\", \"x\": [0.21681727542441842, -1.9772885113327838, -0.5462132471505399, -0.6819819367976302, -1.0214246855639262, -1.4663406701189936, -1.3869714818665195, 0.6792759180849723, 0.003323249589601154, 0.35263353393747643, -2.173396383826939, -0.39936467024163136, 0.8835612461124585, 1.748782428403716, 1.2981444583558728, -0.32230543795352296, -2.2872486799886977, -0.9222217108403428, 1.0586883344373945, -0.7728894682805112, 0.1846911614370194, 0.9551326809373836, 0.06571449259757192, -0.2879721715497405, 0.4192649222122794, -0.22975781578973978, 1.1268507659495426, -0.8736355780617026, -0.49053047435131, -1.860305257457072, -1.3014448030976098, -0.7363205380791245, 0.18582304290026405, -0.9193683541857193, -0.04760099120972285, 1.1381969500860398, 0.7132664776376054, -1.4059686462089924, 0.12934554272216123, 0.07709514927434992, 1.2065139611399052, -0.2922868261161954, -0.6492118066817882, -2.7875169264679287, 1.487366502025058, -0.27655005327292226, 0.6720373114730019, 1.0871682635420434, -1.2882506461748495, -1.1688212881513926, 2.1650038192151153, 0.9167077936678667, -0.6828969660269069, -0.362244895015562, -0.09097710761368762, 1.1693454323863541, -1.0802438914386934, 1.6878002831003949, -0.7579699094459557, -0.923800232625123, -2.114427367903597, -0.8129595596031683, -0.9012657916491319, -0.5455684789811972, 0.003975478803318766, 1.1179112763539043, 0.9018043992546574, -0.8986152080322387, -0.21730607952635342, -0.5377706905229709, 0.7182445328073375, 1.3848319307421704, 0.2073759925829057, 0.7458428658575877, -1.1782479208176158, 0.7308951672261628, 1.2742068212954676, -0.5091233276267916, 1.2123761493889964, -0.8696175139611265, 0.05467665427955305, -0.10334873767188274, -0.8969549934246617, -0.5115917199381562, 0.19375254046062468, 1.148982738277355, -0.7879074944195215, 0.20254895860414326, -0.10967627777498896, 0.4834359516159212, 0.26554038535107627, 0.8015719884092859, -1.727774502348332, -0.8585361784135981, 2.215116094482056, -0.8258598941353283, 0.2927407389721164, -0.5278021971348248, -0.37959624617078397, -0.902146704300605], \"xaxis\": \"x\", \"yaxis\": \"y\"}, {\"line\": {\"color\": \"rgba(128, 128, 128, 1.0)\", \"dash\": \"solid\", \"shape\": \"linear\", \"width\": 1.3}, \"marker\": {\"size\": 2, \"symbol\": \"circle\"}, \"mode\": \"markers\", \"name\": \"A\", \"text\": \"\", \"type\": \"scatter\", \"x\": [-0.5744108505115697, 1.3250127875694866, 1.0609501013173488, 1.4471358685229194, 1.636441501367267, 0.3591387809175054, -0.008677973283243321, 1.2483095611775963, -0.3377835165446373, 2.2936306970939824, 1.4935410087314982, -1.1678829013387353, -0.4302557027404968, -1.2175853872046736, 0.9976278820986041, 1.8542346052856826, -0.3336832591907579, 0.4305648305343407, -0.3413782131381251, 1.885562577489426, -1.167728416431715, -0.25855441335933166, 0.8457605079877005, 1.786687191313069, -0.08016895736742227, -0.1675114125436269, 0.6660676823694558, 0.45908821282456685, 0.024217153209860284, -1.256145709598057, -0.04627554807779002, -1.0138047364711658, 0.8176005919444439, 0.7242425774053408, 1.0121548452900764, 0.08734325694977876, -0.6137761053906247, 0.19046996905840896, -0.199575010944785, 1.763674923294254, 0.7998263899160724, 0.4694877243781425, -0.18758354700512347, -0.27105335552054344, 0.2000247639308463, 0.828433270741575, -0.7058613693027531, 1.8623140211472056, 2.1618073436752887, -1.7317496849627836, -0.3992836362099629, -2.2223897210323944, 1.3436501899446402, -1.1852917082259877, 0.4828293211581265, -1.9592110315381874, 1.507469336916762, -0.0700760714281321, 0.8282896907807905, -1.997244238790069, 0.4585925848688841, -1.4981223246453403, -0.31732990651485327, 1.8869775085501947, 1.1584731749792427, 1.0273130448326746, 0.19508827087091382, 1.4258471228220166, 0.5788535326226437, -0.299954280656903, -0.3998410210242254, -0.35031737167406823, 0.8832288439399775, 0.21669465213116756, 1.5391788486551, 0.4271428089617199, -0.5953874578026, -0.6572397682085748, -0.26642398341379453, 0.5076714514941331, -0.49600297058156256, -0.04379002145007061, 0.13194756351743006, 1.3883149776748287, 0.6451060566263321, -0.7813472507428276, -0.9010886847348751, -0.07420666006715997, 2.1058526584425343, 1.5004904613813166, -0.8716479253418286, -1.0163449295692388, -0.006685171080727264, -1.2081557920076373, 0.046997033531740375, -1.0292765217406235, -0.5659707554107236, 0.5939692678161016, 1.32004815915914, 1.693620985365639], \"xaxis\": \"x2\", \"y\": [0.21681727542441842, -1.9772885113327838, -0.5462132471505399, -0.6819819367976302, -1.0214246855639262, -1.4663406701189936, -1.3869714818665195, 0.6792759180849723, 0.003323249589601154, 0.35263353393747643, -2.173396383826939, -0.39936467024163136, 0.8835612461124585, 1.748782428403716, 1.2981444583558728, -0.32230543795352296, -2.2872486799886977, -0.9222217108403428, 1.0586883344373945, -0.7728894682805112, 0.1846911614370194, 0.9551326809373836, 0.06571449259757192, -0.2879721715497405, 0.4192649222122794, -0.22975781578973978, 1.1268507659495426, -0.8736355780617026, -0.49053047435131, -1.860305257457072, -1.3014448030976098, -0.7363205380791245, 0.18582304290026405, -0.9193683541857193, -0.04760099120972285, 1.1381969500860398, 0.7132664776376054, -1.4059686462089924, 0.12934554272216123, 0.07709514927434992, 1.2065139611399052, -0.2922868261161954, -0.6492118066817882, -2.7875169264679287, 1.487366502025058, -0.27655005327292226, 0.6720373114730019, 1.0871682635420434, -1.2882506461748495, -1.1688212881513926, 2.1650038192151153, 0.9167077936678667, -0.6828969660269069, -0.362244895015562, -0.09097710761368762, 1.1693454323863541, -1.0802438914386934, 1.6878002831003949, -0.7579699094459557, -0.923800232625123, -2.114427367903597, -0.8129595596031683, -0.9012657916491319, -0.5455684789811972, 0.003975478803318766, 1.1179112763539043, 0.9018043992546574, -0.8986152080322387, -0.21730607952635342, -0.5377706905229709, 0.7182445328073375, 1.3848319307421704, 0.2073759925829057, 0.7458428658575877, -1.1782479208176158, 0.7308951672261628, 1.2742068212954676, -0.5091233276267916, 1.2123761493889964, -0.8696175139611265, 0.05467665427955305, -0.10334873767188274, -0.8969549934246617, -0.5115917199381562, 0.19375254046062468, 1.148982738277355, -0.7879074944195215, 0.20254895860414326, -0.10967627777498896, 0.4834359516159212, 0.26554038535107627, 0.8015719884092859, -1.727774502348332, -0.8585361784135981, 2.215116094482056, -0.8258598941353283, 0.2927407389721164, -0.5278021971348248, -0.37959624617078397, -0.902146704300605], \"yaxis\": \"y2\"}, {\"line\": {\"color\": \"rgba(128, 128, 128, 1.0)\", \"dash\": \"solid\", \"shape\": \"linear\", \"width\": 1.3}, \"marker\": {\"size\": 2, \"symbol\": \"circle\"}, \"mode\": \"markers\", \"name\": \"A\", \"text\": \"\", \"type\": \"scatter\", \"x\": [-1.872954677600378, 0.6237986215647472, 0.6866408536792551, -0.48766271328392546, -1.6686735114095153, 1.8403309348515722, -0.5802584868683829, -0.09590551641504427, -0.3442463387741227, 0.2737142878257539, -1.4218450463159413, 0.7709040897234393, -0.07295983746557827, -1.585735782030788, -1.5092326107678922, 0.5987878893341813, -2.442247418258759, 0.576734661954173, 0.8932620270742699, 1.7210945926264, -0.193650720818915, -1.8827382883360646, 0.5267084819851623, 0.4502021076727158, 0.5782721498235335, 1.524876126491854, -0.5764848321310584, -1.0182912978470837, -0.3742721960445256, -0.025784471592042307, -0.07569622413293894, -1.8154983154776863, 0.4116414754184234, 0.26766633150779834, -0.2806289232711756, -0.3663080388799181, -1.1917704708170465, -0.23254241210939353, -0.5351316137964464, 0.8845920872694568, -0.7873773746819375, 0.2696003554116361, 0.08794955587826678, -0.6270801337312517, 0.4486869821425425, 1.488637625170458, -0.31130228901789786, -0.716111509929642, 0.20497583156080681, -0.2962049922521928, -0.2082296782079445, 0.26253270562528874, -0.029461583376019222, 2.1259929146531658, -1.3524190583596964, 1.2273251696394714, -0.2226446997934744, 1.5468268499509297, 1.0926860304033381, -0.6997672107763743, -0.8529187938069779, -0.7459564482678005, -0.44526888387627556, -1.4362303726731906, -0.722555502691798, -2.4472253539453135, 1.2597956722977133, -0.6710559039136937, -0.00360102487350076, -0.5765588505391732, -0.7977464865918783, -0.292568575810376, 0.16079219281142076, -1.8156656652692287, -0.21540313286528162, -0.4266057263630033, -0.06602932667023537, 0.9181668400319609, 0.6111089534555753, 0.2559227548732202, 0.6589708527863093, 0.0962924738039389, -0.7387430617003714, -0.8894694047202094, -0.35252595282788435, 0.3317370217514892, -0.17473481883169364, 0.5280074710824594, -0.23774601846475946, -2.3276518020216455, -0.08554987200826247, -1.6747764742596722, -0.4897571707909026, 0.546843935985657, -0.880815681633401, -0.5754310312497479, -0.10487926773626505, -0.7872773624593267, -0.4662007162197939, 0.1483084351961708], \"xaxis\": \"x3\", \"y\": [0.21681727542441842, -1.9772885113327838, -0.5462132471505399, -0.6819819367976302, -1.0214246855639262, -1.4663406701189936, -1.3869714818665195, 0.6792759180849723, 0.003323249589601154, 0.35263353393747643, -2.173396383826939, -0.39936467024163136, 0.8835612461124585, 1.748782428403716, 1.2981444583558728, -0.32230543795352296, -2.2872486799886977, -0.9222217108403428, 1.0586883344373945, -0.7728894682805112, 0.1846911614370194, 0.9551326809373836, 0.06571449259757192, -0.2879721715497405, 0.4192649222122794, -0.22975781578973978, 1.1268507659495426, -0.8736355780617026, -0.49053047435131, -1.860305257457072, -1.3014448030976098, -0.7363205380791245, 0.18582304290026405, -0.9193683541857193, -0.04760099120972285, 1.1381969500860398, 0.7132664776376054, -1.4059686462089924, 0.12934554272216123, 0.07709514927434992, 1.2065139611399052, -0.2922868261161954, -0.6492118066817882, -2.7875169264679287, 1.487366502025058, -0.27655005327292226, 0.6720373114730019, 1.0871682635420434, -1.2882506461748495, -1.1688212881513926, 2.1650038192151153, 0.9167077936678667, -0.6828969660269069, -0.362244895015562, -0.09097710761368762, 1.1693454323863541, -1.0802438914386934, 1.6878002831003949, -0.7579699094459557, -0.923800232625123, -2.114427367903597, -0.8129595596031683, -0.9012657916491319, -0.5455684789811972, 0.003975478803318766, 1.1179112763539043, 0.9018043992546574, -0.8986152080322387, -0.21730607952635342, -0.5377706905229709, 0.7182445328073375, 1.3848319307421704, 0.2073759925829057, 0.7458428658575877, -1.1782479208176158, 0.7308951672261628, 1.2742068212954676, -0.5091233276267916, 1.2123761493889964, -0.8696175139611265, 0.05467665427955305, -0.10334873767188274, -0.8969549934246617, -0.5115917199381562, 0.19375254046062468, 1.148982738277355, -0.7879074944195215, 0.20254895860414326, -0.10967627777498896, 0.4834359516159212, 0.26554038535107627, 0.8015719884092859, -1.727774502348332, -0.8585361784135981, 2.215116094482056, -0.8258598941353283, 0.2927407389721164, -0.5278021971348248, -0.37959624617078397, -0.902146704300605], \"yaxis\": \"y3\"}, {\"line\": {\"color\": \"rgba(128, 128, 128, 1.0)\", \"dash\": \"solid\", \"shape\": \"linear\", \"width\": 1.3}, \"marker\": {\"size\": 2, \"symbol\": \"circle\"}, \"mode\": \"markers\", \"name\": \"A\", \"text\": \"\", \"type\": \"scatter\", \"x\": [-0.8728568372913522, -1.0510839903023959, -1.3522210246133695, -1.0816602083836728, 0.6161322785741782, -2.270253807128969, 0.6457899317353106, -1.3023380466637922, 0.0960482715782704, 1.5902741295396368, -1.6356410274309405, -0.31939983853754883, 1.1145104516527602, 0.21057626889985578, -0.348828659122623, -0.7740468853790099, -1.1371514856913192, -2.7563694180718286, -0.18317684500872908, 0.13512465678845337, 0.6178216024363102, 0.5604358561514041, 1.3983856775592367, -0.3035881578738405, -0.3774950175173685, -0.6616870657179112, 1.5493503947902147, -0.4066197153605928, -0.18170123689474885, -1.311645410463092, 0.03470772459447403, 1.0901857430839144, -0.8352027962332579, -1.160382279111738, 0.7929162188452963, 0.74698492705652, 0.30823360053240406, 0.7986033694033816, 0.20032881366843805, 0.48512832309855636, 0.34674395826673204, 0.931126066960723, 1.8001481372656352, -0.29031346160423976, -0.7562122193388319, 1.0508531904257834, 0.8535621846402527, -1.5367587665560831, -0.32931442972299696, -0.07158615958449306, 1.535187698124292, 0.7104861445707624, -0.29305053344074944, -0.9086209710701793, -0.7543966871857999, 1.177980752510718, -0.8325497999131194, 0.25156817802406456, 1.6825980027936205, 0.5558331143556858, 0.044974642202284934, 0.45569153607454416, 1.5167151857230254, -0.3801697586836345, -0.6043239029203588, -1.2627049881656545, 0.6083375058295283, -0.6591289274799408, -0.582030722062489, 0.35254231790267604, -0.5340487197214605, 0.09964931800781102, -0.7653941341267405, -0.5454442040396222, 2.1473975031906143, 0.24770283578654514, 1.8349778113605748, 1.043134585923067, 1.5448786834883979, 1.3503980196143361, -0.06148969425015488, -0.5629858218381755, -0.5881476331205633, 1.0917438061825997, -0.42805670621658326, 0.3809315099034995, -0.6032626214404642, -0.5012972379840266, -0.1121313752327508, -0.5734900802024279, -0.9910032634693237, -0.5802253131299402, -0.6184576789314314, 0.9186984268311955, -0.6996580907227681, 0.7777360459923974, -1.3180784343881304, 0.5228080624229092, -1.34301177081277, -0.5740555702198387], \"xaxis\": \"x4\", \"y\": [0.21681727542441842, -1.9772885113327838, -0.5462132471505399, -0.6819819367976302, -1.0214246855639262, -1.4663406701189936, -1.3869714818665195, 0.6792759180849723, 0.003323249589601154, 0.35263353393747643, -2.173396383826939, -0.39936467024163136, 0.8835612461124585, 1.748782428403716, 1.2981444583558728, -0.32230543795352296, -2.2872486799886977, -0.9222217108403428, 1.0586883344373945, -0.7728894682805112, 0.1846911614370194, 0.9551326809373836, 0.06571449259757192, -0.2879721715497405, 0.4192649222122794, -0.22975781578973978, 1.1268507659495426, -0.8736355780617026, -0.49053047435131, -1.860305257457072, -1.3014448030976098, -0.7363205380791245, 0.18582304290026405, -0.9193683541857193, -0.04760099120972285, 1.1381969500860398, 0.7132664776376054, -1.4059686462089924, 0.12934554272216123, 0.07709514927434992, 1.2065139611399052, -0.2922868261161954, -0.6492118066817882, -2.7875169264679287, 1.487366502025058, -0.27655005327292226, 0.6720373114730019, 1.0871682635420434, -1.2882506461748495, -1.1688212881513926, 2.1650038192151153, 0.9167077936678667, -0.6828969660269069, -0.362244895015562, -0.09097710761368762, 1.1693454323863541, -1.0802438914386934, 1.6878002831003949, -0.7579699094459557, -0.923800232625123, -2.114427367903597, -0.8129595596031683, -0.9012657916491319, -0.5455684789811972, 0.003975478803318766, 1.1179112763539043, 0.9018043992546574, -0.8986152080322387, -0.21730607952635342, -0.5377706905229709, 0.7182445328073375, 1.3848319307421704, 0.2073759925829057, 0.7458428658575877, -1.1782479208176158, 0.7308951672261628, 1.2742068212954676, -0.5091233276267916, 1.2123761493889964, -0.8696175139611265, 0.05467665427955305, -0.10334873767188274, -0.8969549934246617, -0.5115917199381562, 0.19375254046062468, 1.148982738277355, -0.7879074944195215, 0.20254895860414326, -0.10967627777498896, 0.4834359516159212, 0.26554038535107627, 0.8015719884092859, -1.727774502348332, -0.8585361784135981, 2.215116094482056, -0.8258598941353283, 0.2927407389721164, -0.5278021971348248, -0.37959624617078397, -0.902146704300605], \"yaxis\": \"y4\"}, {\"line\": {\"color\": \"rgba(128, 128, 128, 1.0)\", \"dash\": \"solid\", \"shape\": \"linear\", \"width\": 1.3}, \"marker\": {\"size\": 2, \"symbol\": \"circle\"}, \"mode\": \"markers\", \"name\": \"B\", \"text\": \"\", \"type\": \"scatter\", \"x\": [0.21681727542441842, -1.9772885113327838, -0.5462132471505399, -0.6819819367976302, -1.0214246855639262, -1.4663406701189936, -1.3869714818665195, 0.6792759180849723, 0.003323249589601154, 0.35263353393747643, -2.173396383826939, -0.39936467024163136, 0.8835612461124585, 1.748782428403716, 1.2981444583558728, -0.32230543795352296, -2.2872486799886977, -0.9222217108403428, 1.0586883344373945, -0.7728894682805112, 0.1846911614370194, 0.9551326809373836, 0.06571449259757192, -0.2879721715497405, 0.4192649222122794, -0.22975781578973978, 1.1268507659495426, -0.8736355780617026, -0.49053047435131, -1.860305257457072, -1.3014448030976098, -0.7363205380791245, 0.18582304290026405, -0.9193683541857193, -0.04760099120972285, 1.1381969500860398, 0.7132664776376054, -1.4059686462089924, 0.12934554272216123, 0.07709514927434992, 1.2065139611399052, -0.2922868261161954, -0.6492118066817882, -2.7875169264679287, 1.487366502025058, -0.27655005327292226, 0.6720373114730019, 1.0871682635420434, -1.2882506461748495, -1.1688212881513926, 2.1650038192151153, 0.9167077936678667, -0.6828969660269069, -0.362244895015562, -0.09097710761368762, 1.1693454323863541, -1.0802438914386934, 1.6878002831003949, -0.7579699094459557, -0.923800232625123, -2.114427367903597, -0.8129595596031683, -0.9012657916491319, -0.5455684789811972, 0.003975478803318766, 1.1179112763539043, 0.9018043992546574, -0.8986152080322387, -0.21730607952635342, -0.5377706905229709, 0.7182445328073375, 1.3848319307421704, 0.2073759925829057, 0.7458428658575877, -1.1782479208176158, 0.7308951672261628, 1.2742068212954676, -0.5091233276267916, 1.2123761493889964, -0.8696175139611265, 0.05467665427955305, -0.10334873767188274, -0.8969549934246617, -0.5115917199381562, 0.19375254046062468, 1.148982738277355, -0.7879074944195215, 0.20254895860414326, -0.10967627777498896, 0.4834359516159212, 0.26554038535107627, 0.8015719884092859, -1.727774502348332, -0.8585361784135981, 2.215116094482056, -0.8258598941353283, 0.2927407389721164, -0.5278021971348248, -0.37959624617078397, -0.902146704300605], \"xaxis\": \"x5\", \"y\": [-0.5744108505115697, 1.3250127875694866, 1.0609501013173488, 1.4471358685229194, 1.636441501367267, 0.3591387809175054, -0.008677973283243321, 1.2483095611775963, -0.3377835165446373, 2.2936306970939824, 1.4935410087314982, -1.1678829013387353, -0.4302557027404968, -1.2175853872046736, 0.9976278820986041, 1.8542346052856826, -0.3336832591907579, 0.4305648305343407, -0.3413782131381251, 1.885562577489426, -1.167728416431715, -0.25855441335933166, 0.8457605079877005, 1.786687191313069, -0.08016895736742227, -0.1675114125436269, 0.6660676823694558, 0.45908821282456685, 0.024217153209860284, -1.256145709598057, -0.04627554807779002, -1.0138047364711658, 0.8176005919444439, 0.7242425774053408, 1.0121548452900764, 0.08734325694977876, -0.6137761053906247, 0.19046996905840896, -0.199575010944785, 1.763674923294254, 0.7998263899160724, 0.4694877243781425, -0.18758354700512347, -0.27105335552054344, 0.2000247639308463, 0.828433270741575, -0.7058613693027531, 1.8623140211472056, 2.1618073436752887, -1.7317496849627836, -0.3992836362099629, -2.2223897210323944, 1.3436501899446402, -1.1852917082259877, 0.4828293211581265, -1.9592110315381874, 1.507469336916762, -0.0700760714281321, 0.8282896907807905, -1.997244238790069, 0.4585925848688841, -1.4981223246453403, -0.31732990651485327, 1.8869775085501947, 1.1584731749792427, 1.0273130448326746, 0.19508827087091382, 1.4258471228220166, 0.5788535326226437, -0.299954280656903, -0.3998410210242254, -0.35031737167406823, 0.8832288439399775, 0.21669465213116756, 1.5391788486551, 0.4271428089617199, -0.5953874578026, -0.6572397682085748, -0.26642398341379453, 0.5076714514941331, -0.49600297058156256, -0.04379002145007061, 0.13194756351743006, 1.3883149776748287, 0.6451060566263321, -0.7813472507428276, -0.9010886847348751, -0.07420666006715997, 2.1058526584425343, 1.5004904613813166, -0.8716479253418286, -1.0163449295692388, -0.006685171080727264, -1.2081557920076373, 0.046997033531740375, -1.0292765217406235, -0.5659707554107236, 0.5939692678161016, 1.32004815915914, 1.693620985365639], \"yaxis\": \"y5\"}, {\"histfunc\": \"count\", \"histnorm\": \"\", \"marker\": {\"color\": \"rgba(55, 128, 191, 1.0)\", \"line\": {\"color\": \"#4D5663\", \"width\": 1.3}}, \"name\": \"B\", \"nbinsx\": 10, \"opacity\": 0.8, \"orientation\": \"v\", \"type\": \"histogram\", \"x\": [-0.5744108505115697, 1.3250127875694866, 1.0609501013173488, 1.4471358685229194, 1.636441501367267, 0.3591387809175054, -0.008677973283243321, 1.2483095611775963, -0.3377835165446373, 2.2936306970939824, 1.4935410087314982, -1.1678829013387353, -0.4302557027404968, -1.2175853872046736, 0.9976278820986041, 1.8542346052856826, -0.3336832591907579, 0.4305648305343407, -0.3413782131381251, 1.885562577489426, -1.167728416431715, -0.25855441335933166, 0.8457605079877005, 1.786687191313069, -0.08016895736742227, -0.1675114125436269, 0.6660676823694558, 0.45908821282456685, 0.024217153209860284, -1.256145709598057, -0.04627554807779002, -1.0138047364711658, 0.8176005919444439, 0.7242425774053408, 1.0121548452900764, 0.08734325694977876, -0.6137761053906247, 0.19046996905840896, -0.199575010944785, 1.763674923294254, 0.7998263899160724, 0.4694877243781425, -0.18758354700512347, -0.27105335552054344, 0.2000247639308463, 0.828433270741575, -0.7058613693027531, 1.8623140211472056, 2.1618073436752887, -1.7317496849627836, -0.3992836362099629, -2.2223897210323944, 1.3436501899446402, -1.1852917082259877, 0.4828293211581265, -1.9592110315381874, 1.507469336916762, -0.0700760714281321, 0.8282896907807905, -1.997244238790069, 0.4585925848688841, -1.4981223246453403, -0.31732990651485327, 1.8869775085501947, 1.1584731749792427, 1.0273130448326746, 0.19508827087091382, 1.4258471228220166, 0.5788535326226437, -0.299954280656903, -0.3998410210242254, -0.35031737167406823, 0.8832288439399775, 0.21669465213116756, 1.5391788486551, 0.4271428089617199, -0.5953874578026, -0.6572397682085748, -0.26642398341379453, 0.5076714514941331, -0.49600297058156256, -0.04379002145007061, 0.13194756351743006, 1.3883149776748287, 0.6451060566263321, -0.7813472507428276, -0.9010886847348751, -0.07420666006715997, 2.1058526584425343, 1.5004904613813166, -0.8716479253418286, -1.0163449295692388, -0.006685171080727264, -1.2081557920076373, 0.046997033531740375, -1.0292765217406235, -0.5659707554107236, 0.5939692678161016, 1.32004815915914, 1.693620985365639], \"xaxis\": \"x6\", \"yaxis\": \"y6\"}, {\"line\": {\"color\": \"rgba(128, 128, 128, 1.0)\", \"dash\": \"solid\", \"shape\": \"linear\", \"width\": 1.3}, \"marker\": {\"size\": 2, \"symbol\": \"circle\"}, \"mode\": \"markers\", \"name\": \"B\", \"text\": \"\", \"type\": \"scatter\", \"x\": [-1.872954677600378, 0.6237986215647472, 0.6866408536792551, -0.48766271328392546, -1.6686735114095153, 1.8403309348515722, -0.5802584868683829, -0.09590551641504427, -0.3442463387741227, 0.2737142878257539, -1.4218450463159413, 0.7709040897234393, -0.07295983746557827, -1.585735782030788, -1.5092326107678922, 0.5987878893341813, -2.442247418258759, 0.576734661954173, 0.8932620270742699, 1.7210945926264, -0.193650720818915, -1.8827382883360646, 0.5267084819851623, 0.4502021076727158, 0.5782721498235335, 1.524876126491854, -0.5764848321310584, -1.0182912978470837, -0.3742721960445256, -0.025784471592042307, -0.07569622413293894, -1.8154983154776863, 0.4116414754184234, 0.26766633150779834, -0.2806289232711756, -0.3663080388799181, -1.1917704708170465, -0.23254241210939353, -0.5351316137964464, 0.8845920872694568, -0.7873773746819375, 0.2696003554116361, 0.08794955587826678, -0.6270801337312517, 0.4486869821425425, 1.488637625170458, -0.31130228901789786, -0.716111509929642, 0.20497583156080681, -0.2962049922521928, -0.2082296782079445, 0.26253270562528874, -0.029461583376019222, 2.1259929146531658, -1.3524190583596964, 1.2273251696394714, -0.2226446997934744, 1.5468268499509297, 1.0926860304033381, -0.6997672107763743, -0.8529187938069779, -0.7459564482678005, -0.44526888387627556, -1.4362303726731906, -0.722555502691798, -2.4472253539453135, 1.2597956722977133, -0.6710559039136937, -0.00360102487350076, -0.5765588505391732, -0.7977464865918783, -0.292568575810376, 0.16079219281142076, -1.8156656652692287, -0.21540313286528162, -0.4266057263630033, -0.06602932667023537, 0.9181668400319609, 0.6111089534555753, 0.2559227548732202, 0.6589708527863093, 0.0962924738039389, -0.7387430617003714, -0.8894694047202094, -0.35252595282788435, 0.3317370217514892, -0.17473481883169364, 0.5280074710824594, -0.23774601846475946, -2.3276518020216455, -0.08554987200826247, -1.6747764742596722, -0.4897571707909026, 0.546843935985657, -0.880815681633401, -0.5754310312497479, -0.10487926773626505, -0.7872773624593267, -0.4662007162197939, 0.1483084351961708], \"xaxis\": \"x7\", \"y\": [-0.5744108505115697, 1.3250127875694866, 1.0609501013173488, 1.4471358685229194, 1.636441501367267, 0.3591387809175054, -0.008677973283243321, 1.2483095611775963, -0.3377835165446373, 2.2936306970939824, 1.4935410087314982, -1.1678829013387353, -0.4302557027404968, -1.2175853872046736, 0.9976278820986041, 1.8542346052856826, -0.3336832591907579, 0.4305648305343407, -0.3413782131381251, 1.885562577489426, -1.167728416431715, -0.25855441335933166, 0.8457605079877005, 1.786687191313069, -0.08016895736742227, -0.1675114125436269, 0.6660676823694558, 0.45908821282456685, 0.024217153209860284, -1.256145709598057, -0.04627554807779002, -1.0138047364711658, 0.8176005919444439, 0.7242425774053408, 1.0121548452900764, 0.08734325694977876, -0.6137761053906247, 0.19046996905840896, -0.199575010944785, 1.763674923294254, 0.7998263899160724, 0.4694877243781425, -0.18758354700512347, -0.27105335552054344, 0.2000247639308463, 0.828433270741575, -0.7058613693027531, 1.8623140211472056, 2.1618073436752887, -1.7317496849627836, -0.3992836362099629, -2.2223897210323944, 1.3436501899446402, -1.1852917082259877, 0.4828293211581265, -1.9592110315381874, 1.507469336916762, -0.0700760714281321, 0.8282896907807905, -1.997244238790069, 0.4585925848688841, -1.4981223246453403, -0.31732990651485327, 1.8869775085501947, 1.1584731749792427, 1.0273130448326746, 0.19508827087091382, 1.4258471228220166, 0.5788535326226437, -0.299954280656903, -0.3998410210242254, -0.35031737167406823, 0.8832288439399775, 0.21669465213116756, 1.5391788486551, 0.4271428089617199, -0.5953874578026, -0.6572397682085748, -0.26642398341379453, 0.5076714514941331, -0.49600297058156256, -0.04379002145007061, 0.13194756351743006, 1.3883149776748287, 0.6451060566263321, -0.7813472507428276, -0.9010886847348751, -0.07420666006715997, 2.1058526584425343, 1.5004904613813166, -0.8716479253418286, -1.0163449295692388, -0.006685171080727264, -1.2081557920076373, 0.046997033531740375, -1.0292765217406235, -0.5659707554107236, 0.5939692678161016, 1.32004815915914, 1.693620985365639], \"yaxis\": \"y7\"}, {\"line\": {\"color\": \"rgba(128, 128, 128, 1.0)\", \"dash\": \"solid\", \"shape\": \"linear\", \"width\": 1.3}, \"marker\": {\"size\": 2, \"symbol\": \"circle\"}, \"mode\": \"markers\", \"name\": \"B\", \"text\": \"\", \"type\": \"scatter\", \"x\": [-0.8728568372913522, -1.0510839903023959, -1.3522210246133695, -1.0816602083836728, 0.6161322785741782, -2.270253807128969, 0.6457899317353106, -1.3023380466637922, 0.0960482715782704, 1.5902741295396368, -1.6356410274309405, -0.31939983853754883, 1.1145104516527602, 0.21057626889985578, -0.348828659122623, -0.7740468853790099, -1.1371514856913192, -2.7563694180718286, -0.18317684500872908, 0.13512465678845337, 0.6178216024363102, 0.5604358561514041, 1.3983856775592367, -0.3035881578738405, -0.3774950175173685, -0.6616870657179112, 1.5493503947902147, -0.4066197153605928, -0.18170123689474885, -1.311645410463092, 0.03470772459447403, 1.0901857430839144, -0.8352027962332579, -1.160382279111738, 0.7929162188452963, 0.74698492705652, 0.30823360053240406, 0.7986033694033816, 0.20032881366843805, 0.48512832309855636, 0.34674395826673204, 0.931126066960723, 1.8001481372656352, -0.29031346160423976, -0.7562122193388319, 1.0508531904257834, 0.8535621846402527, -1.5367587665560831, -0.32931442972299696, -0.07158615958449306, 1.535187698124292, 0.7104861445707624, -0.29305053344074944, -0.9086209710701793, -0.7543966871857999, 1.177980752510718, -0.8325497999131194, 0.25156817802406456, 1.6825980027936205, 0.5558331143556858, 0.044974642202284934, 0.45569153607454416, 1.5167151857230254, -0.3801697586836345, -0.6043239029203588, -1.2627049881656545, 0.6083375058295283, -0.6591289274799408, -0.582030722062489, 0.35254231790267604, -0.5340487197214605, 0.09964931800781102, -0.7653941341267405, -0.5454442040396222, 2.1473975031906143, 0.24770283578654514, 1.8349778113605748, 1.043134585923067, 1.5448786834883979, 1.3503980196143361, -0.06148969425015488, -0.5629858218381755, -0.5881476331205633, 1.0917438061825997, -0.42805670621658326, 0.3809315099034995, -0.6032626214404642, -0.5012972379840266, -0.1121313752327508, -0.5734900802024279, -0.9910032634693237, -0.5802253131299402, -0.6184576789314314, 0.9186984268311955, -0.6996580907227681, 0.7777360459923974, -1.3180784343881304, 0.5228080624229092, -1.34301177081277, -0.5740555702198387], \"xaxis\": \"x8\", \"y\": [-0.5744108505115697, 1.3250127875694866, 1.0609501013173488, 1.4471358685229194, 1.636441501367267, 0.3591387809175054, -0.008677973283243321, 1.2483095611775963, -0.3377835165446373, 2.2936306970939824, 1.4935410087314982, -1.1678829013387353, -0.4302557027404968, -1.2175853872046736, 0.9976278820986041, 1.8542346052856826, -0.3336832591907579, 0.4305648305343407, -0.3413782131381251, 1.885562577489426, -1.167728416431715, -0.25855441335933166, 0.8457605079877005, 1.786687191313069, -0.08016895736742227, -0.1675114125436269, 0.6660676823694558, 0.45908821282456685, 0.024217153209860284, -1.256145709598057, -0.04627554807779002, -1.0138047364711658, 0.8176005919444439, 0.7242425774053408, 1.0121548452900764, 0.08734325694977876, -0.6137761053906247, 0.19046996905840896, -0.199575010944785, 1.763674923294254, 0.7998263899160724, 0.4694877243781425, -0.18758354700512347, -0.27105335552054344, 0.2000247639308463, 0.828433270741575, -0.7058613693027531, 1.8623140211472056, 2.1618073436752887, -1.7317496849627836, -0.3992836362099629, -2.2223897210323944, 1.3436501899446402, -1.1852917082259877, 0.4828293211581265, -1.9592110315381874, 1.507469336916762, -0.0700760714281321, 0.8282896907807905, -1.997244238790069, 0.4585925848688841, -1.4981223246453403, -0.31732990651485327, 1.8869775085501947, 1.1584731749792427, 1.0273130448326746, 0.19508827087091382, 1.4258471228220166, 0.5788535326226437, -0.299954280656903, -0.3998410210242254, -0.35031737167406823, 0.8832288439399775, 0.21669465213116756, 1.5391788486551, 0.4271428089617199, -0.5953874578026, -0.6572397682085748, -0.26642398341379453, 0.5076714514941331, -0.49600297058156256, -0.04379002145007061, 0.13194756351743006, 1.3883149776748287, 0.6451060566263321, -0.7813472507428276, -0.9010886847348751, -0.07420666006715997, 2.1058526584425343, 1.5004904613813166, -0.8716479253418286, -1.0163449295692388, -0.006685171080727264, -1.2081557920076373, 0.046997033531740375, -1.0292765217406235, -0.5659707554107236, 0.5939692678161016, 1.32004815915914, 1.693620985365639], \"yaxis\": \"y8\"}, {\"line\": {\"color\": \"rgba(128, 128, 128, 1.0)\", \"dash\": \"solid\", \"shape\": \"linear\", \"width\": 1.3}, \"marker\": {\"size\": 2, \"symbol\": \"circle\"}, \"mode\": \"markers\", \"name\": \"C\", \"text\": \"\", \"type\": \"scatter\", \"x\": [0.21681727542441842, -1.9772885113327838, -0.5462132471505399, -0.6819819367976302, -1.0214246855639262, -1.4663406701189936, -1.3869714818665195, 0.6792759180849723, 0.003323249589601154, 0.35263353393747643, -2.173396383826939, -0.39936467024163136, 0.8835612461124585, 1.748782428403716, 1.2981444583558728, -0.32230543795352296, -2.2872486799886977, -0.9222217108403428, 1.0586883344373945, -0.7728894682805112, 0.1846911614370194, 0.9551326809373836, 0.06571449259757192, -0.2879721715497405, 0.4192649222122794, -0.22975781578973978, 1.1268507659495426, -0.8736355780617026, -0.49053047435131, -1.860305257457072, -1.3014448030976098, -0.7363205380791245, 0.18582304290026405, -0.9193683541857193, -0.04760099120972285, 1.1381969500860398, 0.7132664776376054, -1.4059686462089924, 0.12934554272216123, 0.07709514927434992, 1.2065139611399052, -0.2922868261161954, -0.6492118066817882, -2.7875169264679287, 1.487366502025058, -0.27655005327292226, 0.6720373114730019, 1.0871682635420434, -1.2882506461748495, -1.1688212881513926, 2.1650038192151153, 0.9167077936678667, -0.6828969660269069, -0.362244895015562, -0.09097710761368762, 1.1693454323863541, -1.0802438914386934, 1.6878002831003949, -0.7579699094459557, -0.923800232625123, -2.114427367903597, -0.8129595596031683, -0.9012657916491319, -0.5455684789811972, 0.003975478803318766, 1.1179112763539043, 0.9018043992546574, -0.8986152080322387, -0.21730607952635342, -0.5377706905229709, 0.7182445328073375, 1.3848319307421704, 0.2073759925829057, 0.7458428658575877, -1.1782479208176158, 0.7308951672261628, 1.2742068212954676, -0.5091233276267916, 1.2123761493889964, -0.8696175139611265, 0.05467665427955305, -0.10334873767188274, -0.8969549934246617, -0.5115917199381562, 0.19375254046062468, 1.148982738277355, -0.7879074944195215, 0.20254895860414326, -0.10967627777498896, 0.4834359516159212, 0.26554038535107627, 0.8015719884092859, -1.727774502348332, -0.8585361784135981, 2.215116094482056, -0.8258598941353283, 0.2927407389721164, -0.5278021971348248, -0.37959624617078397, -0.902146704300605], \"xaxis\": \"x9\", \"y\": [-1.872954677600378, 0.6237986215647472, 0.6866408536792551, -0.48766271328392546, -1.6686735114095153, 1.8403309348515722, -0.5802584868683829, -0.09590551641504427, -0.3442463387741227, 0.2737142878257539, -1.4218450463159413, 0.7709040897234393, -0.07295983746557827, -1.585735782030788, -1.5092326107678922, 0.5987878893341813, -2.442247418258759, 0.576734661954173, 0.8932620270742699, 1.7210945926264, -0.193650720818915, -1.8827382883360646, 0.5267084819851623, 0.4502021076727158, 0.5782721498235335, 1.524876126491854, -0.5764848321310584, -1.0182912978470837, -0.3742721960445256, -0.025784471592042307, -0.07569622413293894, -1.8154983154776863, 0.4116414754184234, 0.26766633150779834, -0.2806289232711756, -0.3663080388799181, -1.1917704708170465, -0.23254241210939353, -0.5351316137964464, 0.8845920872694568, -0.7873773746819375, 0.2696003554116361, 0.08794955587826678, -0.6270801337312517, 0.4486869821425425, 1.488637625170458, -0.31130228901789786, -0.716111509929642, 0.20497583156080681, -0.2962049922521928, -0.2082296782079445, 0.26253270562528874, -0.029461583376019222, 2.1259929146531658, -1.3524190583596964, 1.2273251696394714, -0.2226446997934744, 1.5468268499509297, 1.0926860304033381, -0.6997672107763743, -0.8529187938069779, -0.7459564482678005, -0.44526888387627556, -1.4362303726731906, -0.722555502691798, -2.4472253539453135, 1.2597956722977133, -0.6710559039136937, -0.00360102487350076, -0.5765588505391732, -0.7977464865918783, -0.292568575810376, 0.16079219281142076, -1.8156656652692287, -0.21540313286528162, -0.4266057263630033, -0.06602932667023537, 0.9181668400319609, 0.6111089534555753, 0.2559227548732202, 0.6589708527863093, 0.0962924738039389, -0.7387430617003714, -0.8894694047202094, -0.35252595282788435, 0.3317370217514892, -0.17473481883169364, 0.5280074710824594, -0.23774601846475946, -2.3276518020216455, -0.08554987200826247, -1.6747764742596722, -0.4897571707909026, 0.546843935985657, -0.880815681633401, -0.5754310312497479, -0.10487926773626505, -0.7872773624593267, -0.4662007162197939, 0.1483084351961708], \"yaxis\": \"y9\"}, {\"line\": {\"color\": \"rgba(128, 128, 128, 1.0)\", \"dash\": \"solid\", \"shape\": \"linear\", \"width\": 1.3}, \"marker\": {\"size\": 2, \"symbol\": \"circle\"}, \"mode\": \"markers\", \"name\": \"C\", \"text\": \"\", \"type\": \"scatter\", \"x\": [-0.5744108505115697, 1.3250127875694866, 1.0609501013173488, 1.4471358685229194, 1.636441501367267, 0.3591387809175054, -0.008677973283243321, 1.2483095611775963, -0.3377835165446373, 2.2936306970939824, 1.4935410087314982, -1.1678829013387353, -0.4302557027404968, -1.2175853872046736, 0.9976278820986041, 1.8542346052856826, -0.3336832591907579, 0.4305648305343407, -0.3413782131381251, 1.885562577489426, -1.167728416431715, -0.25855441335933166, 0.8457605079877005, 1.786687191313069, -0.08016895736742227, -0.1675114125436269, 0.6660676823694558, 0.45908821282456685, 0.024217153209860284, -1.256145709598057, -0.04627554807779002, -1.0138047364711658, 0.8176005919444439, 0.7242425774053408, 1.0121548452900764, 0.08734325694977876, -0.6137761053906247, 0.19046996905840896, -0.199575010944785, 1.763674923294254, 0.7998263899160724, 0.4694877243781425, -0.18758354700512347, -0.27105335552054344, 0.2000247639308463, 0.828433270741575, -0.7058613693027531, 1.8623140211472056, 2.1618073436752887, -1.7317496849627836, -0.3992836362099629, -2.2223897210323944, 1.3436501899446402, -1.1852917082259877, 0.4828293211581265, -1.9592110315381874, 1.507469336916762, -0.0700760714281321, 0.8282896907807905, -1.997244238790069, 0.4585925848688841, -1.4981223246453403, -0.31732990651485327, 1.8869775085501947, 1.1584731749792427, 1.0273130448326746, 0.19508827087091382, 1.4258471228220166, 0.5788535326226437, -0.299954280656903, -0.3998410210242254, -0.35031737167406823, 0.8832288439399775, 0.21669465213116756, 1.5391788486551, 0.4271428089617199, -0.5953874578026, -0.6572397682085748, -0.26642398341379453, 0.5076714514941331, -0.49600297058156256, -0.04379002145007061, 0.13194756351743006, 1.3883149776748287, 0.6451060566263321, -0.7813472507428276, -0.9010886847348751, -0.07420666006715997, 2.1058526584425343, 1.5004904613813166, -0.8716479253418286, -1.0163449295692388, -0.006685171080727264, -1.2081557920076373, 0.046997033531740375, -1.0292765217406235, -0.5659707554107236, 0.5939692678161016, 1.32004815915914, 1.693620985365639], \"xaxis\": \"x10\", \"y\": [-1.872954677600378, 0.6237986215647472, 0.6866408536792551, -0.48766271328392546, -1.6686735114095153, 1.8403309348515722, -0.5802584868683829, -0.09590551641504427, -0.3442463387741227, 0.2737142878257539, -1.4218450463159413, 0.7709040897234393, -0.07295983746557827, -1.585735782030788, -1.5092326107678922, 0.5987878893341813, -2.442247418258759, 0.576734661954173, 0.8932620270742699, 1.7210945926264, -0.193650720818915, -1.8827382883360646, 0.5267084819851623, 0.4502021076727158, 0.5782721498235335, 1.524876126491854, -0.5764848321310584, -1.0182912978470837, -0.3742721960445256, -0.025784471592042307, -0.07569622413293894, -1.8154983154776863, 0.4116414754184234, 0.26766633150779834, -0.2806289232711756, -0.3663080388799181, -1.1917704708170465, -0.23254241210939353, -0.5351316137964464, 0.8845920872694568, -0.7873773746819375, 0.2696003554116361, 0.08794955587826678, -0.6270801337312517, 0.4486869821425425, 1.488637625170458, -0.31130228901789786, -0.716111509929642, 0.20497583156080681, -0.2962049922521928, -0.2082296782079445, 0.26253270562528874, -0.029461583376019222, 2.1259929146531658, -1.3524190583596964, 1.2273251696394714, -0.2226446997934744, 1.5468268499509297, 1.0926860304033381, -0.6997672107763743, -0.8529187938069779, -0.7459564482678005, -0.44526888387627556, -1.4362303726731906, -0.722555502691798, -2.4472253539453135, 1.2597956722977133, -0.6710559039136937, -0.00360102487350076, -0.5765588505391732, -0.7977464865918783, -0.292568575810376, 0.16079219281142076, -1.8156656652692287, -0.21540313286528162, -0.4266057263630033, -0.06602932667023537, 0.9181668400319609, 0.6111089534555753, 0.2559227548732202, 0.6589708527863093, 0.0962924738039389, -0.7387430617003714, -0.8894694047202094, -0.35252595282788435, 0.3317370217514892, -0.17473481883169364, 0.5280074710824594, -0.23774601846475946, -2.3276518020216455, -0.08554987200826247, -1.6747764742596722, -0.4897571707909026, 0.546843935985657, -0.880815681633401, -0.5754310312497479, -0.10487926773626505, -0.7872773624593267, -0.4662007162197939, 0.1483084351961708], \"yaxis\": \"y10\"}, {\"histfunc\": \"count\", \"histnorm\": \"\", \"marker\": {\"color\": \"rgba(50, 171, 96, 1.0)\", \"line\": {\"color\": \"#4D5663\", \"width\": 1.3}}, \"name\": \"C\", \"nbinsx\": 10, \"opacity\": 0.8, \"orientation\": \"v\", \"type\": \"histogram\", \"x\": [-1.872954677600378, 0.6237986215647472, 0.6866408536792551, -0.48766271328392546, -1.6686735114095153, 1.8403309348515722, -0.5802584868683829, -0.09590551641504427, -0.3442463387741227, 0.2737142878257539, -1.4218450463159413, 0.7709040897234393, -0.07295983746557827, -1.585735782030788, -1.5092326107678922, 0.5987878893341813, -2.442247418258759, 0.576734661954173, 0.8932620270742699, 1.7210945926264, -0.193650720818915, -1.8827382883360646, 0.5267084819851623, 0.4502021076727158, 0.5782721498235335, 1.524876126491854, -0.5764848321310584, -1.0182912978470837, -0.3742721960445256, -0.025784471592042307, -0.07569622413293894, -1.8154983154776863, 0.4116414754184234, 0.26766633150779834, -0.2806289232711756, -0.3663080388799181, -1.1917704708170465, -0.23254241210939353, -0.5351316137964464, 0.8845920872694568, -0.7873773746819375, 0.2696003554116361, 0.08794955587826678, -0.6270801337312517, 0.4486869821425425, 1.488637625170458, -0.31130228901789786, -0.716111509929642, 0.20497583156080681, -0.2962049922521928, -0.2082296782079445, 0.26253270562528874, -0.029461583376019222, 2.1259929146531658, -1.3524190583596964, 1.2273251696394714, -0.2226446997934744, 1.5468268499509297, 1.0926860304033381, -0.6997672107763743, -0.8529187938069779, -0.7459564482678005, -0.44526888387627556, -1.4362303726731906, -0.722555502691798, -2.4472253539453135, 1.2597956722977133, -0.6710559039136937, -0.00360102487350076, -0.5765588505391732, -0.7977464865918783, -0.292568575810376, 0.16079219281142076, -1.8156656652692287, -0.21540313286528162, -0.4266057263630033, -0.06602932667023537, 0.9181668400319609, 0.6111089534555753, 0.2559227548732202, 0.6589708527863093, 0.0962924738039389, -0.7387430617003714, -0.8894694047202094, -0.35252595282788435, 0.3317370217514892, -0.17473481883169364, 0.5280074710824594, -0.23774601846475946, -2.3276518020216455, -0.08554987200826247, -1.6747764742596722, -0.4897571707909026, 0.546843935985657, -0.880815681633401, -0.5754310312497479, -0.10487926773626505, -0.7872773624593267, -0.4662007162197939, 0.1483084351961708], \"xaxis\": \"x11\", \"yaxis\": \"y11\"}, {\"line\": {\"color\": \"rgba(128, 128, 128, 1.0)\", \"dash\": \"solid\", \"shape\": \"linear\", \"width\": 1.3}, \"marker\": {\"size\": 2, \"symbol\": \"circle\"}, \"mode\": \"markers\", \"name\": \"C\", \"text\": \"\", \"type\": \"scatter\", \"x\": [-0.8728568372913522, -1.0510839903023959, -1.3522210246133695, -1.0816602083836728, 0.6161322785741782, -2.270253807128969, 0.6457899317353106, -1.3023380466637922, 0.0960482715782704, 1.5902741295396368, -1.6356410274309405, -0.31939983853754883, 1.1145104516527602, 0.21057626889985578, -0.348828659122623, -0.7740468853790099, -1.1371514856913192, -2.7563694180718286, -0.18317684500872908, 0.13512465678845337, 0.6178216024363102, 0.5604358561514041, 1.3983856775592367, -0.3035881578738405, -0.3774950175173685, -0.6616870657179112, 1.5493503947902147, -0.4066197153605928, -0.18170123689474885, -1.311645410463092, 0.03470772459447403, 1.0901857430839144, -0.8352027962332579, -1.160382279111738, 0.7929162188452963, 0.74698492705652, 0.30823360053240406, 0.7986033694033816, 0.20032881366843805, 0.48512832309855636, 0.34674395826673204, 0.931126066960723, 1.8001481372656352, -0.29031346160423976, -0.7562122193388319, 1.0508531904257834, 0.8535621846402527, -1.5367587665560831, -0.32931442972299696, -0.07158615958449306, 1.535187698124292, 0.7104861445707624, -0.29305053344074944, -0.9086209710701793, -0.7543966871857999, 1.177980752510718, -0.8325497999131194, 0.25156817802406456, 1.6825980027936205, 0.5558331143556858, 0.044974642202284934, 0.45569153607454416, 1.5167151857230254, -0.3801697586836345, -0.6043239029203588, -1.2627049881656545, 0.6083375058295283, -0.6591289274799408, -0.582030722062489, 0.35254231790267604, -0.5340487197214605, 0.09964931800781102, -0.7653941341267405, -0.5454442040396222, 2.1473975031906143, 0.24770283578654514, 1.8349778113605748, 1.043134585923067, 1.5448786834883979, 1.3503980196143361, -0.06148969425015488, -0.5629858218381755, -0.5881476331205633, 1.0917438061825997, -0.42805670621658326, 0.3809315099034995, -0.6032626214404642, -0.5012972379840266, -0.1121313752327508, -0.5734900802024279, -0.9910032634693237, -0.5802253131299402, -0.6184576789314314, 0.9186984268311955, -0.6996580907227681, 0.7777360459923974, -1.3180784343881304, 0.5228080624229092, -1.34301177081277, -0.5740555702198387], \"xaxis\": \"x12\", \"y\": [-1.872954677600378, 0.6237986215647472, 0.6866408536792551, -0.48766271328392546, -1.6686735114095153, 1.8403309348515722, -0.5802584868683829, -0.09590551641504427, -0.3442463387741227, 0.2737142878257539, -1.4218450463159413, 0.7709040897234393, -0.07295983746557827, -1.585735782030788, -1.5092326107678922, 0.5987878893341813, -2.442247418258759, 0.576734661954173, 0.8932620270742699, 1.7210945926264, -0.193650720818915, -1.8827382883360646, 0.5267084819851623, 0.4502021076727158, 0.5782721498235335, 1.524876126491854, -0.5764848321310584, -1.0182912978470837, -0.3742721960445256, -0.025784471592042307, -0.07569622413293894, -1.8154983154776863, 0.4116414754184234, 0.26766633150779834, -0.2806289232711756, -0.3663080388799181, -1.1917704708170465, -0.23254241210939353, -0.5351316137964464, 0.8845920872694568, -0.7873773746819375, 0.2696003554116361, 0.08794955587826678, -0.6270801337312517, 0.4486869821425425, 1.488637625170458, -0.31130228901789786, -0.716111509929642, 0.20497583156080681, -0.2962049922521928, -0.2082296782079445, 0.26253270562528874, -0.029461583376019222, 2.1259929146531658, -1.3524190583596964, 1.2273251696394714, -0.2226446997934744, 1.5468268499509297, 1.0926860304033381, -0.6997672107763743, -0.8529187938069779, -0.7459564482678005, -0.44526888387627556, -1.4362303726731906, -0.722555502691798, -2.4472253539453135, 1.2597956722977133, -0.6710559039136937, -0.00360102487350076, -0.5765588505391732, -0.7977464865918783, -0.292568575810376, 0.16079219281142076, -1.8156656652692287, -0.21540313286528162, -0.4266057263630033, -0.06602932667023537, 0.9181668400319609, 0.6111089534555753, 0.2559227548732202, 0.6589708527863093, 0.0962924738039389, -0.7387430617003714, -0.8894694047202094, -0.35252595282788435, 0.3317370217514892, -0.17473481883169364, 0.5280074710824594, -0.23774601846475946, -2.3276518020216455, -0.08554987200826247, -1.6747764742596722, -0.4897571707909026, 0.546843935985657, -0.880815681633401, -0.5754310312497479, -0.10487926773626505, -0.7872773624593267, -0.4662007162197939, 0.1483084351961708], \"yaxis\": \"y12\"}, {\"line\": {\"color\": \"rgba(128, 128, 128, 1.0)\", \"dash\": \"solid\", \"shape\": \"linear\", \"width\": 1.3}, \"marker\": {\"size\": 2, \"symbol\": \"circle\"}, \"mode\": \"markers\", \"name\": \"D\", \"text\": \"\", \"type\": \"scatter\", \"x\": [0.21681727542441842, -1.9772885113327838, -0.5462132471505399, -0.6819819367976302, -1.0214246855639262, -1.4663406701189936, -1.3869714818665195, 0.6792759180849723, 0.003323249589601154, 0.35263353393747643, -2.173396383826939, -0.39936467024163136, 0.8835612461124585, 1.748782428403716, 1.2981444583558728, -0.32230543795352296, -2.2872486799886977, -0.9222217108403428, 1.0586883344373945, -0.7728894682805112, 0.1846911614370194, 0.9551326809373836, 0.06571449259757192, -0.2879721715497405, 0.4192649222122794, -0.22975781578973978, 1.1268507659495426, -0.8736355780617026, -0.49053047435131, -1.860305257457072, -1.3014448030976098, -0.7363205380791245, 0.18582304290026405, -0.9193683541857193, -0.04760099120972285, 1.1381969500860398, 0.7132664776376054, -1.4059686462089924, 0.12934554272216123, 0.07709514927434992, 1.2065139611399052, -0.2922868261161954, -0.6492118066817882, -2.7875169264679287, 1.487366502025058, -0.27655005327292226, 0.6720373114730019, 1.0871682635420434, -1.2882506461748495, -1.1688212881513926, 2.1650038192151153, 0.9167077936678667, -0.6828969660269069, -0.362244895015562, -0.09097710761368762, 1.1693454323863541, -1.0802438914386934, 1.6878002831003949, -0.7579699094459557, -0.923800232625123, -2.114427367903597, -0.8129595596031683, -0.9012657916491319, -0.5455684789811972, 0.003975478803318766, 1.1179112763539043, 0.9018043992546574, -0.8986152080322387, -0.21730607952635342, -0.5377706905229709, 0.7182445328073375, 1.3848319307421704, 0.2073759925829057, 0.7458428658575877, -1.1782479208176158, 0.7308951672261628, 1.2742068212954676, -0.5091233276267916, 1.2123761493889964, -0.8696175139611265, 0.05467665427955305, -0.10334873767188274, -0.8969549934246617, -0.5115917199381562, 0.19375254046062468, 1.148982738277355, -0.7879074944195215, 0.20254895860414326, -0.10967627777498896, 0.4834359516159212, 0.26554038535107627, 0.8015719884092859, -1.727774502348332, -0.8585361784135981, 2.215116094482056, -0.8258598941353283, 0.2927407389721164, -0.5278021971348248, -0.37959624617078397, -0.902146704300605], \"xaxis\": \"x13\", \"y\": [-0.8728568372913522, -1.0510839903023959, -1.3522210246133695, -1.0816602083836728, 0.6161322785741782, -2.270253807128969, 0.6457899317353106, -1.3023380466637922, 0.0960482715782704, 1.5902741295396368, -1.6356410274309405, -0.31939983853754883, 1.1145104516527602, 0.21057626889985578, -0.348828659122623, -0.7740468853790099, -1.1371514856913192, -2.7563694180718286, -0.18317684500872908, 0.13512465678845337, 0.6178216024363102, 0.5604358561514041, 1.3983856775592367, -0.3035881578738405, -0.3774950175173685, -0.6616870657179112, 1.5493503947902147, -0.4066197153605928, -0.18170123689474885, -1.311645410463092, 0.03470772459447403, 1.0901857430839144, -0.8352027962332579, -1.160382279111738, 0.7929162188452963, 0.74698492705652, 0.30823360053240406, 0.7986033694033816, 0.20032881366843805, 0.48512832309855636, 0.34674395826673204, 0.931126066960723, 1.8001481372656352, -0.29031346160423976, -0.7562122193388319, 1.0508531904257834, 0.8535621846402527, -1.5367587665560831, -0.32931442972299696, -0.07158615958449306, 1.535187698124292, 0.7104861445707624, -0.29305053344074944, -0.9086209710701793, -0.7543966871857999, 1.177980752510718, -0.8325497999131194, 0.25156817802406456, 1.6825980027936205, 0.5558331143556858, 0.044974642202284934, 0.45569153607454416, 1.5167151857230254, -0.3801697586836345, -0.6043239029203588, -1.2627049881656545, 0.6083375058295283, -0.6591289274799408, -0.582030722062489, 0.35254231790267604, -0.5340487197214605, 0.09964931800781102, -0.7653941341267405, -0.5454442040396222, 2.1473975031906143, 0.24770283578654514, 1.8349778113605748, 1.043134585923067, 1.5448786834883979, 1.3503980196143361, -0.06148969425015488, -0.5629858218381755, -0.5881476331205633, 1.0917438061825997, -0.42805670621658326, 0.3809315099034995, -0.6032626214404642, -0.5012972379840266, -0.1121313752327508, -0.5734900802024279, -0.9910032634693237, -0.5802253131299402, -0.6184576789314314, 0.9186984268311955, -0.6996580907227681, 0.7777360459923974, -1.3180784343881304, 0.5228080624229092, -1.34301177081277, -0.5740555702198387], \"yaxis\": \"y13\"}, {\"line\": {\"color\": \"rgba(128, 128, 128, 1.0)\", \"dash\": \"solid\", \"shape\": \"linear\", \"width\": 1.3}, \"marker\": {\"size\": 2, \"symbol\": \"circle\"}, \"mode\": \"markers\", \"name\": \"D\", \"text\": \"\", \"type\": \"scatter\", \"x\": [-0.5744108505115697, 1.3250127875694866, 1.0609501013173488, 1.4471358685229194, 1.636441501367267, 0.3591387809175054, -0.008677973283243321, 1.2483095611775963, -0.3377835165446373, 2.2936306970939824, 1.4935410087314982, -1.1678829013387353, -0.4302557027404968, -1.2175853872046736, 0.9976278820986041, 1.8542346052856826, -0.3336832591907579, 0.4305648305343407, -0.3413782131381251, 1.885562577489426, -1.167728416431715, -0.25855441335933166, 0.8457605079877005, 1.786687191313069, -0.08016895736742227, -0.1675114125436269, 0.6660676823694558, 0.45908821282456685, 0.024217153209860284, -1.256145709598057, -0.04627554807779002, -1.0138047364711658, 0.8176005919444439, 0.7242425774053408, 1.0121548452900764, 0.08734325694977876, -0.6137761053906247, 0.19046996905840896, -0.199575010944785, 1.763674923294254, 0.7998263899160724, 0.4694877243781425, -0.18758354700512347, -0.27105335552054344, 0.2000247639308463, 0.828433270741575, -0.7058613693027531, 1.8623140211472056, 2.1618073436752887, -1.7317496849627836, -0.3992836362099629, -2.2223897210323944, 1.3436501899446402, -1.1852917082259877, 0.4828293211581265, -1.9592110315381874, 1.507469336916762, -0.0700760714281321, 0.8282896907807905, -1.997244238790069, 0.4585925848688841, -1.4981223246453403, -0.31732990651485327, 1.8869775085501947, 1.1584731749792427, 1.0273130448326746, 0.19508827087091382, 1.4258471228220166, 0.5788535326226437, -0.299954280656903, -0.3998410210242254, -0.35031737167406823, 0.8832288439399775, 0.21669465213116756, 1.5391788486551, 0.4271428089617199, -0.5953874578026, -0.6572397682085748, -0.26642398341379453, 0.5076714514941331, -0.49600297058156256, -0.04379002145007061, 0.13194756351743006, 1.3883149776748287, 0.6451060566263321, -0.7813472507428276, -0.9010886847348751, -0.07420666006715997, 2.1058526584425343, 1.5004904613813166, -0.8716479253418286, -1.0163449295692388, -0.006685171080727264, -1.2081557920076373, 0.046997033531740375, -1.0292765217406235, -0.5659707554107236, 0.5939692678161016, 1.32004815915914, 1.693620985365639], \"xaxis\": \"x14\", \"y\": [-0.8728568372913522, -1.0510839903023959, -1.3522210246133695, -1.0816602083836728, 0.6161322785741782, -2.270253807128969, 0.6457899317353106, -1.3023380466637922, 0.0960482715782704, 1.5902741295396368, -1.6356410274309405, -0.31939983853754883, 1.1145104516527602, 0.21057626889985578, -0.348828659122623, -0.7740468853790099, -1.1371514856913192, -2.7563694180718286, -0.18317684500872908, 0.13512465678845337, 0.6178216024363102, 0.5604358561514041, 1.3983856775592367, -0.3035881578738405, -0.3774950175173685, -0.6616870657179112, 1.5493503947902147, -0.4066197153605928, -0.18170123689474885, -1.311645410463092, 0.03470772459447403, 1.0901857430839144, -0.8352027962332579, -1.160382279111738, 0.7929162188452963, 0.74698492705652, 0.30823360053240406, 0.7986033694033816, 0.20032881366843805, 0.48512832309855636, 0.34674395826673204, 0.931126066960723, 1.8001481372656352, -0.29031346160423976, -0.7562122193388319, 1.0508531904257834, 0.8535621846402527, -1.5367587665560831, -0.32931442972299696, -0.07158615958449306, 1.535187698124292, 0.7104861445707624, -0.29305053344074944, -0.9086209710701793, -0.7543966871857999, 1.177980752510718, -0.8325497999131194, 0.25156817802406456, 1.6825980027936205, 0.5558331143556858, 0.044974642202284934, 0.45569153607454416, 1.5167151857230254, -0.3801697586836345, -0.6043239029203588, -1.2627049881656545, 0.6083375058295283, -0.6591289274799408, -0.582030722062489, 0.35254231790267604, -0.5340487197214605, 0.09964931800781102, -0.7653941341267405, -0.5454442040396222, 2.1473975031906143, 0.24770283578654514, 1.8349778113605748, 1.043134585923067, 1.5448786834883979, 1.3503980196143361, -0.06148969425015488, -0.5629858218381755, -0.5881476331205633, 1.0917438061825997, -0.42805670621658326, 0.3809315099034995, -0.6032626214404642, -0.5012972379840266, -0.1121313752327508, -0.5734900802024279, -0.9910032634693237, -0.5802253131299402, -0.6184576789314314, 0.9186984268311955, -0.6996580907227681, 0.7777360459923974, -1.3180784343881304, 0.5228080624229092, -1.34301177081277, -0.5740555702198387], \"yaxis\": \"y14\"}, {\"line\": {\"color\": \"rgba(128, 128, 128, 1.0)\", \"dash\": \"solid\", \"shape\": \"linear\", \"width\": 1.3}, \"marker\": {\"size\": 2, \"symbol\": \"circle\"}, \"mode\": \"markers\", \"name\": \"D\", \"text\": \"\", \"type\": \"scatter\", \"x\": [-1.872954677600378, 0.6237986215647472, 0.6866408536792551, -0.48766271328392546, -1.6686735114095153, 1.8403309348515722, -0.5802584868683829, -0.09590551641504427, -0.3442463387741227, 0.2737142878257539, -1.4218450463159413, 0.7709040897234393, -0.07295983746557827, -1.585735782030788, -1.5092326107678922, 0.5987878893341813, -2.442247418258759, 0.576734661954173, 0.8932620270742699, 1.7210945926264, -0.193650720818915, -1.8827382883360646, 0.5267084819851623, 0.4502021076727158, 0.5782721498235335, 1.524876126491854, -0.5764848321310584, -1.0182912978470837, -0.3742721960445256, -0.025784471592042307, -0.07569622413293894, -1.8154983154776863, 0.4116414754184234, 0.26766633150779834, -0.2806289232711756, -0.3663080388799181, -1.1917704708170465, -0.23254241210939353, -0.5351316137964464, 0.8845920872694568, -0.7873773746819375, 0.2696003554116361, 0.08794955587826678, -0.6270801337312517, 0.4486869821425425, 1.488637625170458, -0.31130228901789786, -0.716111509929642, 0.20497583156080681, -0.2962049922521928, -0.2082296782079445, 0.26253270562528874, -0.029461583376019222, 2.1259929146531658, -1.3524190583596964, 1.2273251696394714, -0.2226446997934744, 1.5468268499509297, 1.0926860304033381, -0.6997672107763743, -0.8529187938069779, -0.7459564482678005, -0.44526888387627556, -1.4362303726731906, -0.722555502691798, -2.4472253539453135, 1.2597956722977133, -0.6710559039136937, -0.00360102487350076, -0.5765588505391732, -0.7977464865918783, -0.292568575810376, 0.16079219281142076, -1.8156656652692287, -0.21540313286528162, -0.4266057263630033, -0.06602932667023537, 0.9181668400319609, 0.6111089534555753, 0.2559227548732202, 0.6589708527863093, 0.0962924738039389, -0.7387430617003714, -0.8894694047202094, -0.35252595282788435, 0.3317370217514892, -0.17473481883169364, 0.5280074710824594, -0.23774601846475946, -2.3276518020216455, -0.08554987200826247, -1.6747764742596722, -0.4897571707909026, 0.546843935985657, -0.880815681633401, -0.5754310312497479, -0.10487926773626505, -0.7872773624593267, -0.4662007162197939, 0.1483084351961708], \"xaxis\": \"x15\", \"y\": [-0.8728568372913522, -1.0510839903023959, -1.3522210246133695, -1.0816602083836728, 0.6161322785741782, -2.270253807128969, 0.6457899317353106, -1.3023380466637922, 0.0960482715782704, 1.5902741295396368, -1.6356410274309405, -0.31939983853754883, 1.1145104516527602, 0.21057626889985578, -0.348828659122623, -0.7740468853790099, -1.1371514856913192, -2.7563694180718286, -0.18317684500872908, 0.13512465678845337, 0.6178216024363102, 0.5604358561514041, 1.3983856775592367, -0.3035881578738405, -0.3774950175173685, -0.6616870657179112, 1.5493503947902147, -0.4066197153605928, -0.18170123689474885, -1.311645410463092, 0.03470772459447403, 1.0901857430839144, -0.8352027962332579, -1.160382279111738, 0.7929162188452963, 0.74698492705652, 0.30823360053240406, 0.7986033694033816, 0.20032881366843805, 0.48512832309855636, 0.34674395826673204, 0.931126066960723, 1.8001481372656352, -0.29031346160423976, -0.7562122193388319, 1.0508531904257834, 0.8535621846402527, -1.5367587665560831, -0.32931442972299696, -0.07158615958449306, 1.535187698124292, 0.7104861445707624, -0.29305053344074944, -0.9086209710701793, -0.7543966871857999, 1.177980752510718, -0.8325497999131194, 0.25156817802406456, 1.6825980027936205, 0.5558331143556858, 0.044974642202284934, 0.45569153607454416, 1.5167151857230254, -0.3801697586836345, -0.6043239029203588, -1.2627049881656545, 0.6083375058295283, -0.6591289274799408, -0.582030722062489, 0.35254231790267604, -0.5340487197214605, 0.09964931800781102, -0.7653941341267405, -0.5454442040396222, 2.1473975031906143, 0.24770283578654514, 1.8349778113605748, 1.043134585923067, 1.5448786834883979, 1.3503980196143361, -0.06148969425015488, -0.5629858218381755, -0.5881476331205633, 1.0917438061825997, -0.42805670621658326, 0.3809315099034995, -0.6032626214404642, -0.5012972379840266, -0.1121313752327508, -0.5734900802024279, -0.9910032634693237, -0.5802253131299402, -0.6184576789314314, 0.9186984268311955, -0.6996580907227681, 0.7777360459923974, -1.3180784343881304, 0.5228080624229092, -1.34301177081277, -0.5740555702198387], \"yaxis\": \"y15\"}, {\"histfunc\": \"count\", \"histnorm\": \"\", \"marker\": {\"color\": \"rgba(128, 0, 128, 1.0)\", \"line\": {\"color\": \"#4D5663\", \"width\": 1.3}}, \"name\": \"D\", \"nbinsx\": 10, \"opacity\": 0.8, \"orientation\": \"v\", \"type\": \"histogram\", \"x\": [-0.8728568372913522, -1.0510839903023959, -1.3522210246133695, -1.0816602083836728, 0.6161322785741782, -2.270253807128969, 0.6457899317353106, -1.3023380466637922, 0.0960482715782704, 1.5902741295396368, -1.6356410274309405, -0.31939983853754883, 1.1145104516527602, 0.21057626889985578, -0.348828659122623, -0.7740468853790099, -1.1371514856913192, -2.7563694180718286, -0.18317684500872908, 0.13512465678845337, 0.6178216024363102, 0.5604358561514041, 1.3983856775592367, -0.3035881578738405, -0.3774950175173685, -0.6616870657179112, 1.5493503947902147, -0.4066197153605928, -0.18170123689474885, -1.311645410463092, 0.03470772459447403, 1.0901857430839144, -0.8352027962332579, -1.160382279111738, 0.7929162188452963, 0.74698492705652, 0.30823360053240406, 0.7986033694033816, 0.20032881366843805, 0.48512832309855636, 0.34674395826673204, 0.931126066960723, 1.8001481372656352, -0.29031346160423976, -0.7562122193388319, 1.0508531904257834, 0.8535621846402527, -1.5367587665560831, -0.32931442972299696, -0.07158615958449306, 1.535187698124292, 0.7104861445707624, -0.29305053344074944, -0.9086209710701793, -0.7543966871857999, 1.177980752510718, -0.8325497999131194, 0.25156817802406456, 1.6825980027936205, 0.5558331143556858, 0.044974642202284934, 0.45569153607454416, 1.5167151857230254, -0.3801697586836345, -0.6043239029203588, -1.2627049881656545, 0.6083375058295283, -0.6591289274799408, -0.582030722062489, 0.35254231790267604, -0.5340487197214605, 0.09964931800781102, -0.7653941341267405, -0.5454442040396222, 2.1473975031906143, 0.24770283578654514, 1.8349778113605748, 1.043134585923067, 1.5448786834883979, 1.3503980196143361, -0.06148969425015488, -0.5629858218381755, -0.5881476331205633, 1.0917438061825997, -0.42805670621658326, 0.3809315099034995, -0.6032626214404642, -0.5012972379840266, -0.1121313752327508, -0.5734900802024279, -0.9910032634693237, -0.5802253131299402, -0.6184576789314314, 0.9186984268311955, -0.6996580907227681, 0.7777360459923974, -1.3180784343881304, 0.5228080624229092, -1.34301177081277, -0.5740555702198387], \"xaxis\": \"x16\", \"yaxis\": \"y16\"}],\n",
       "                        {\"bargap\": 0.02, \"legend\": {\"bgcolor\": \"#F5F6F9\", \"font\": {\"color\": \"#4D5663\"}}, \"paper_bgcolor\": \"#F5F6F9\", \"plot_bgcolor\": \"#F5F6F9\", \"showlegend\": false, \"template\": {\"data\": {\"bar\": [{\"error_x\": {\"color\": \"#2a3f5f\"}, \"error_y\": {\"color\": \"#2a3f5f\"}, \"marker\": {\"line\": {\"color\": \"#E5ECF6\", \"width\": 0.5}}, \"type\": \"bar\"}], \"barpolar\": [{\"marker\": {\"line\": {\"color\": \"#E5ECF6\", \"width\": 0.5}}, \"type\": \"barpolar\"}], \"carpet\": [{\"aaxis\": {\"endlinecolor\": \"#2a3f5f\", \"gridcolor\": \"white\", \"linecolor\": \"white\", \"minorgridcolor\": \"white\", \"startlinecolor\": \"#2a3f5f\"}, \"baxis\": {\"endlinecolor\": \"#2a3f5f\", \"gridcolor\": \"white\", \"linecolor\": \"white\", \"minorgridcolor\": \"white\", \"startlinecolor\": \"#2a3f5f\"}, \"type\": \"carpet\"}], \"choropleth\": [{\"colorbar\": {\"outlinewidth\": 0, \"ticks\": \"\"}, \"type\": \"choropleth\"}], \"contour\": [{\"colorbar\": {\"outlinewidth\": 0, \"ticks\": \"\"}, \"colorscale\": [[0.0, \"#0d0887\"], [0.1111111111111111, \"#46039f\"], [0.2222222222222222, \"#7201a8\"], [0.3333333333333333, \"#9c179e\"], [0.4444444444444444, \"#bd3786\"], [0.5555555555555556, \"#d8576b\"], [0.6666666666666666, \"#ed7953\"], [0.7777777777777778, \"#fb9f3a\"], [0.8888888888888888, \"#fdca26\"], [1.0, \"#f0f921\"]], \"type\": \"contour\"}], \"contourcarpet\": [{\"colorbar\": {\"outlinewidth\": 0, \"ticks\": \"\"}, \"type\": \"contourcarpet\"}], \"heatmap\": [{\"colorbar\": {\"outlinewidth\": 0, \"ticks\": \"\"}, \"colorscale\": [[0.0, \"#0d0887\"], [0.1111111111111111, \"#46039f\"], [0.2222222222222222, \"#7201a8\"], [0.3333333333333333, \"#9c179e\"], [0.4444444444444444, \"#bd3786\"], [0.5555555555555556, \"#d8576b\"], [0.6666666666666666, \"#ed7953\"], [0.7777777777777778, \"#fb9f3a\"], [0.8888888888888888, \"#fdca26\"], [1.0, \"#f0f921\"]], \"type\": \"heatmap\"}], \"heatmapgl\": [{\"colorbar\": {\"outlinewidth\": 0, \"ticks\": \"\"}, \"colorscale\": [[0.0, \"#0d0887\"], [0.1111111111111111, \"#46039f\"], [0.2222222222222222, \"#7201a8\"], [0.3333333333333333, \"#9c179e\"], [0.4444444444444444, \"#bd3786\"], [0.5555555555555556, \"#d8576b\"], [0.6666666666666666, \"#ed7953\"], [0.7777777777777778, \"#fb9f3a\"], [0.8888888888888888, \"#fdca26\"], [1.0, \"#f0f921\"]], \"type\": \"heatmapgl\"}], \"histogram\": [{\"marker\": {\"colorbar\": {\"outlinewidth\": 0, \"ticks\": \"\"}}, \"type\": \"histogram\"}], \"histogram2d\": [{\"colorbar\": {\"outlinewidth\": 0, \"ticks\": \"\"}, \"colorscale\": [[0.0, \"#0d0887\"], [0.1111111111111111, \"#46039f\"], [0.2222222222222222, \"#7201a8\"], [0.3333333333333333, \"#9c179e\"], [0.4444444444444444, \"#bd3786\"], [0.5555555555555556, \"#d8576b\"], [0.6666666666666666, \"#ed7953\"], [0.7777777777777778, \"#fb9f3a\"], [0.8888888888888888, \"#fdca26\"], [1.0, \"#f0f921\"]], \"type\": \"histogram2d\"}], \"histogram2dcontour\": [{\"colorbar\": {\"outlinewidth\": 0, \"ticks\": \"\"}, \"colorscale\": [[0.0, \"#0d0887\"], [0.1111111111111111, \"#46039f\"], [0.2222222222222222, \"#7201a8\"], [0.3333333333333333, \"#9c179e\"], [0.4444444444444444, \"#bd3786\"], [0.5555555555555556, \"#d8576b\"], [0.6666666666666666, \"#ed7953\"], [0.7777777777777778, \"#fb9f3a\"], [0.8888888888888888, \"#fdca26\"], [1.0, \"#f0f921\"]], \"type\": \"histogram2dcontour\"}], \"mesh3d\": [{\"colorbar\": {\"outlinewidth\": 0, \"ticks\": \"\"}, \"type\": \"mesh3d\"}], \"parcoords\": [{\"line\": {\"colorbar\": {\"outlinewidth\": 0, \"ticks\": \"\"}}, \"type\": \"parcoords\"}], \"pie\": [{\"automargin\": true, \"type\": \"pie\"}], \"scatter\": [{\"marker\": {\"colorbar\": {\"outlinewidth\": 0, \"ticks\": \"\"}}, \"type\": \"scatter\"}], \"scatter3d\": [{\"line\": {\"colorbar\": {\"outlinewidth\": 0, \"ticks\": \"\"}}, \"marker\": {\"colorbar\": {\"outlinewidth\": 0, \"ticks\": \"\"}}, \"type\": \"scatter3d\"}], \"scattercarpet\": [{\"marker\": {\"colorbar\": {\"outlinewidth\": 0, \"ticks\": \"\"}}, \"type\": \"scattercarpet\"}], \"scattergeo\": [{\"marker\": {\"colorbar\": {\"outlinewidth\": 0, \"ticks\": \"\"}}, \"type\": \"scattergeo\"}], \"scattergl\": [{\"marker\": {\"colorbar\": {\"outlinewidth\": 0, \"ticks\": \"\"}}, \"type\": \"scattergl\"}], \"scattermapbox\": [{\"marker\": {\"colorbar\": {\"outlinewidth\": 0, \"ticks\": \"\"}}, \"type\": \"scattermapbox\"}], \"scatterpolar\": [{\"marker\": {\"colorbar\": {\"outlinewidth\": 0, \"ticks\": \"\"}}, \"type\": \"scatterpolar\"}], \"scatterpolargl\": [{\"marker\": {\"colorbar\": {\"outlinewidth\": 0, \"ticks\": \"\"}}, \"type\": \"scatterpolargl\"}], \"scatterternary\": [{\"marker\": {\"colorbar\": {\"outlinewidth\": 0, \"ticks\": \"\"}}, \"type\": \"scatterternary\"}], \"surface\": [{\"colorbar\": {\"outlinewidth\": 0, \"ticks\": \"\"}, \"colorscale\": [[0.0, \"#0d0887\"], [0.1111111111111111, \"#46039f\"], [0.2222222222222222, \"#7201a8\"], [0.3333333333333333, \"#9c179e\"], [0.4444444444444444, \"#bd3786\"], [0.5555555555555556, \"#d8576b\"], [0.6666666666666666, \"#ed7953\"], [0.7777777777777778, \"#fb9f3a\"], [0.8888888888888888, \"#fdca26\"], [1.0, \"#f0f921\"]], \"type\": \"surface\"}], \"table\": [{\"cells\": {\"fill\": {\"color\": \"#EBF0F8\"}, \"line\": {\"color\": \"white\"}}, \"header\": {\"fill\": {\"color\": \"#C8D4E3\"}, \"line\": {\"color\": \"white\"}}, \"type\": \"table\"}]}, \"layout\": {\"annotationdefaults\": {\"arrowcolor\": \"#2a3f5f\", \"arrowhead\": 0, \"arrowwidth\": 1}, \"coloraxis\": {\"colorbar\": {\"outlinewidth\": 0, \"ticks\": \"\"}}, \"colorscale\": {\"diverging\": [[0, \"#8e0152\"], [0.1, \"#c51b7d\"], [0.2, \"#de77ae\"], [0.3, \"#f1b6da\"], [0.4, \"#fde0ef\"], [0.5, \"#f7f7f7\"], [0.6, \"#e6f5d0\"], [0.7, \"#b8e186\"], [0.8, \"#7fbc41\"], [0.9, \"#4d9221\"], [1, \"#276419\"]], \"sequential\": [[0.0, \"#0d0887\"], [0.1111111111111111, \"#46039f\"], [0.2222222222222222, \"#7201a8\"], [0.3333333333333333, \"#9c179e\"], [0.4444444444444444, \"#bd3786\"], [0.5555555555555556, \"#d8576b\"], [0.6666666666666666, \"#ed7953\"], [0.7777777777777778, \"#fb9f3a\"], [0.8888888888888888, \"#fdca26\"], [1.0, \"#f0f921\"]], \"sequentialminus\": [[0.0, \"#0d0887\"], [0.1111111111111111, \"#46039f\"], [0.2222222222222222, \"#7201a8\"], [0.3333333333333333, \"#9c179e\"], [0.4444444444444444, \"#bd3786\"], [0.5555555555555556, \"#d8576b\"], [0.6666666666666666, \"#ed7953\"], [0.7777777777777778, \"#fb9f3a\"], [0.8888888888888888, \"#fdca26\"], [1.0, \"#f0f921\"]]}, \"colorway\": [\"#636efa\", \"#EF553B\", \"#00cc96\", \"#ab63fa\", \"#FFA15A\", \"#19d3f3\", \"#FF6692\", \"#B6E880\", \"#FF97FF\", \"#FECB52\"], \"font\": {\"color\": \"#2a3f5f\"}, \"geo\": {\"bgcolor\": \"white\", \"lakecolor\": \"white\", \"landcolor\": \"#E5ECF6\", \"showlakes\": true, \"showland\": true, \"subunitcolor\": \"white\"}, \"hoverlabel\": {\"align\": \"left\"}, \"hovermode\": \"closest\", \"mapbox\": {\"style\": \"light\"}, \"paper_bgcolor\": \"white\", \"plot_bgcolor\": \"#E5ECF6\", \"polar\": {\"angularaxis\": {\"gridcolor\": \"white\", \"linecolor\": \"white\", \"ticks\": \"\"}, \"bgcolor\": \"#E5ECF6\", \"radialaxis\": {\"gridcolor\": \"white\", \"linecolor\": \"white\", \"ticks\": \"\"}}, \"scene\": {\"xaxis\": {\"backgroundcolor\": \"#E5ECF6\", \"gridcolor\": \"white\", \"gridwidth\": 2, \"linecolor\": \"white\", \"showbackground\": true, \"ticks\": \"\", \"zerolinecolor\": \"white\"}, \"yaxis\": {\"backgroundcolor\": \"#E5ECF6\", \"gridcolor\": \"white\", \"gridwidth\": 2, \"linecolor\": \"white\", \"showbackground\": true, \"ticks\": \"\", \"zerolinecolor\": \"white\"}, \"zaxis\": {\"backgroundcolor\": \"#E5ECF6\", \"gridcolor\": \"white\", \"gridwidth\": 2, \"linecolor\": \"white\", \"showbackground\": true, \"ticks\": \"\", \"zerolinecolor\": \"white\"}}, \"shapedefaults\": {\"line\": {\"color\": \"#2a3f5f\"}}, \"ternary\": {\"aaxis\": {\"gridcolor\": \"white\", \"linecolor\": \"white\", \"ticks\": \"\"}, \"baxis\": {\"gridcolor\": \"white\", \"linecolor\": \"white\", \"ticks\": \"\"}, \"bgcolor\": \"#E5ECF6\", \"caxis\": {\"gridcolor\": \"white\", \"linecolor\": \"white\", \"ticks\": \"\"}}, \"title\": {\"x\": 0.05}, \"xaxis\": {\"automargin\": true, \"gridcolor\": \"white\", \"linecolor\": \"white\", \"ticks\": \"\", \"title\": {\"standoff\": 15}, \"zerolinecolor\": \"white\", \"zerolinewidth\": 2}, \"yaxis\": {\"automargin\": true, \"gridcolor\": \"white\", \"linecolor\": \"white\", \"ticks\": \"\", \"title\": {\"standoff\": 15}, \"zerolinecolor\": \"white\", \"zerolinewidth\": 2}}}, \"title\": {\"font\": {\"color\": \"#4D5663\"}}, \"xaxis\": {\"anchor\": \"y\", \"domain\": [0.0, 0.2125], \"gridcolor\": \"#E1E5ED\", \"showgrid\": false, \"tickfont\": {\"color\": \"#4D5663\"}, \"title\": {\"font\": {\"color\": \"#4D5663\"}, \"text\": \"\"}, \"zerolinecolor\": \"#E1E5ED\"}, \"xaxis10\": {\"anchor\": \"y10\", \"domain\": [0.2625, 0.475], \"gridcolor\": \"#E1E5ED\", \"showgrid\": false, \"tickfont\": {\"color\": \"#4D5663\"}, \"title\": {\"font\": {\"color\": \"#4D5663\"}, \"text\": \"\"}, \"zerolinecolor\": \"#E1E5ED\"}, \"xaxis11\": {\"anchor\": \"y11\", \"domain\": [0.525, 0.7375], \"gridcolor\": \"#E1E5ED\", \"showgrid\": false, \"tickfont\": {\"color\": \"#4D5663\"}, \"title\": {\"font\": {\"color\": \"#4D5663\"}, \"text\": \"\"}, \"zerolinecolor\": \"#E1E5ED\"}, \"xaxis12\": {\"anchor\": \"y12\", \"domain\": [0.7875, 1.0], \"gridcolor\": \"#E1E5ED\", \"showgrid\": false, \"tickfont\": {\"color\": \"#4D5663\"}, \"title\": {\"font\": {\"color\": \"#4D5663\"}, \"text\": \"\"}, \"zerolinecolor\": \"#E1E5ED\"}, \"xaxis13\": {\"anchor\": \"y13\", \"domain\": [0.0, 0.2125], \"gridcolor\": \"#E1E5ED\", \"showgrid\": false, \"tickfont\": {\"color\": \"#4D5663\"}, \"title\": {\"font\": {\"color\": \"#4D5663\"}, \"text\": \"\"}, \"zerolinecolor\": \"#E1E5ED\"}, \"xaxis14\": {\"anchor\": \"y14\", \"domain\": [0.2625, 0.475], \"gridcolor\": \"#E1E5ED\", \"showgrid\": false, \"tickfont\": {\"color\": \"#4D5663\"}, \"title\": {\"font\": {\"color\": \"#4D5663\"}, \"text\": \"\"}, \"zerolinecolor\": \"#E1E5ED\"}, \"xaxis15\": {\"anchor\": \"y15\", \"domain\": [0.525, 0.7375], \"gridcolor\": \"#E1E5ED\", \"showgrid\": false, \"tickfont\": {\"color\": \"#4D5663\"}, \"title\": {\"font\": {\"color\": \"#4D5663\"}, \"text\": \"\"}, \"zerolinecolor\": \"#E1E5ED\"}, \"xaxis16\": {\"anchor\": \"y16\", \"domain\": [0.7875, 1.0], \"gridcolor\": \"#E1E5ED\", \"showgrid\": false, \"tickfont\": {\"color\": \"#4D5663\"}, \"title\": {\"font\": {\"color\": \"#4D5663\"}, \"text\": \"\"}, \"zerolinecolor\": \"#E1E5ED\"}, \"xaxis2\": {\"anchor\": \"y2\", \"domain\": [0.2625, 0.475], \"gridcolor\": \"#E1E5ED\", \"showgrid\": false, \"tickfont\": {\"color\": \"#4D5663\"}, \"title\": {\"font\": {\"color\": \"#4D5663\"}, \"text\": \"\"}, \"zerolinecolor\": \"#E1E5ED\"}, \"xaxis3\": {\"anchor\": \"y3\", \"domain\": [0.525, 0.7375], \"gridcolor\": \"#E1E5ED\", \"showgrid\": false, \"tickfont\": {\"color\": \"#4D5663\"}, \"title\": {\"font\": {\"color\": \"#4D5663\"}, \"text\": \"\"}, \"zerolinecolor\": \"#E1E5ED\"}, \"xaxis4\": {\"anchor\": \"y4\", \"domain\": [0.7875, 1.0], \"gridcolor\": \"#E1E5ED\", \"showgrid\": false, \"tickfont\": {\"color\": \"#4D5663\"}, \"title\": {\"font\": {\"color\": \"#4D5663\"}, \"text\": \"\"}, \"zerolinecolor\": \"#E1E5ED\"}, \"xaxis5\": {\"anchor\": \"y5\", \"domain\": [0.0, 0.2125], \"gridcolor\": \"#E1E5ED\", \"showgrid\": false, \"tickfont\": {\"color\": \"#4D5663\"}, \"title\": {\"font\": {\"color\": \"#4D5663\"}, \"text\": \"\"}, \"zerolinecolor\": \"#E1E5ED\"}, \"xaxis6\": {\"anchor\": \"y6\", \"domain\": [0.2625, 0.475], \"gridcolor\": \"#E1E5ED\", \"showgrid\": false, \"tickfont\": {\"color\": \"#4D5663\"}, \"title\": {\"font\": {\"color\": \"#4D5663\"}, \"text\": \"\"}, \"zerolinecolor\": \"#E1E5ED\"}, \"xaxis7\": {\"anchor\": \"y7\", \"domain\": [0.525, 0.7375], \"gridcolor\": \"#E1E5ED\", \"showgrid\": false, \"tickfont\": {\"color\": \"#4D5663\"}, \"title\": {\"font\": {\"color\": \"#4D5663\"}, \"text\": \"\"}, \"zerolinecolor\": \"#E1E5ED\"}, \"xaxis8\": {\"anchor\": \"y8\", \"domain\": [0.7875, 1.0], \"gridcolor\": \"#E1E5ED\", \"showgrid\": false, \"tickfont\": {\"color\": \"#4D5663\"}, \"title\": {\"font\": {\"color\": \"#4D5663\"}, \"text\": \"\"}, \"zerolinecolor\": \"#E1E5ED\"}, \"xaxis9\": {\"anchor\": \"y9\", \"domain\": [0.0, 0.2125], \"gridcolor\": \"#E1E5ED\", \"showgrid\": false, \"tickfont\": {\"color\": \"#4D5663\"}, \"title\": {\"font\": {\"color\": \"#4D5663\"}, \"text\": \"\"}, \"zerolinecolor\": \"#E1E5ED\"}, \"yaxis\": {\"anchor\": \"x\", \"domain\": [0.8025, 1.0], \"gridcolor\": \"#E1E5ED\", \"showgrid\": false, \"tickfont\": {\"color\": \"#4D5663\"}, \"title\": {\"font\": {\"color\": \"#4D5663\"}, \"text\": \"\"}, \"zerolinecolor\": \"#E1E5ED\"}, \"yaxis10\": {\"anchor\": \"x10\", \"domain\": [0.2675, 0.465], \"gridcolor\": \"#E1E5ED\", \"showgrid\": false, \"tickfont\": {\"color\": \"#4D5663\"}, \"title\": {\"font\": {\"color\": \"#4D5663\"}, \"text\": \"\"}, \"zerolinecolor\": \"#E1E5ED\"}, \"yaxis11\": {\"anchor\": \"x11\", \"domain\": [0.2675, 0.465], \"gridcolor\": \"#E1E5ED\", \"showgrid\": false, \"tickfont\": {\"color\": \"#4D5663\"}, \"title\": {\"font\": {\"color\": \"#4D5663\"}, \"text\": \"\"}, \"zerolinecolor\": \"#E1E5ED\"}, \"yaxis12\": {\"anchor\": \"x12\", \"domain\": [0.2675, 0.465], \"gridcolor\": \"#E1E5ED\", \"showgrid\": false, \"tickfont\": {\"color\": \"#4D5663\"}, \"title\": {\"font\": {\"color\": \"#4D5663\"}, \"text\": \"\"}, \"zerolinecolor\": \"#E1E5ED\"}, \"yaxis13\": {\"anchor\": \"x13\", \"domain\": [0.0, 0.1975], \"gridcolor\": \"#E1E5ED\", \"showgrid\": false, \"tickfont\": {\"color\": \"#4D5663\"}, \"title\": {\"font\": {\"color\": \"#4D5663\"}, \"text\": \"\"}, \"zerolinecolor\": \"#E1E5ED\"}, \"yaxis14\": {\"anchor\": \"x14\", \"domain\": [0.0, 0.1975], \"gridcolor\": \"#E1E5ED\", \"showgrid\": false, \"tickfont\": {\"color\": \"#4D5663\"}, \"title\": {\"font\": {\"color\": \"#4D5663\"}, \"text\": \"\"}, \"zerolinecolor\": \"#E1E5ED\"}, \"yaxis15\": {\"anchor\": \"x15\", \"domain\": [0.0, 0.1975], \"gridcolor\": \"#E1E5ED\", \"showgrid\": false, \"tickfont\": {\"color\": \"#4D5663\"}, \"title\": {\"font\": {\"color\": \"#4D5663\"}, \"text\": \"\"}, \"zerolinecolor\": \"#E1E5ED\"}, \"yaxis16\": {\"anchor\": \"x16\", \"domain\": [0.0, 0.1975], \"gridcolor\": \"#E1E5ED\", \"showgrid\": false, \"tickfont\": {\"color\": \"#4D5663\"}, \"title\": {\"font\": {\"color\": \"#4D5663\"}, \"text\": \"\"}, \"zerolinecolor\": \"#E1E5ED\"}, \"yaxis2\": {\"anchor\": \"x2\", \"domain\": [0.8025, 1.0], \"gridcolor\": \"#E1E5ED\", \"showgrid\": false, \"tickfont\": {\"color\": \"#4D5663\"}, \"title\": {\"font\": {\"color\": \"#4D5663\"}, \"text\": \"\"}, \"zerolinecolor\": \"#E1E5ED\"}, \"yaxis3\": {\"anchor\": \"x3\", \"domain\": [0.8025, 1.0], \"gridcolor\": \"#E1E5ED\", \"showgrid\": false, \"tickfont\": {\"color\": \"#4D5663\"}, \"title\": {\"font\": {\"color\": \"#4D5663\"}, \"text\": \"\"}, \"zerolinecolor\": \"#E1E5ED\"}, \"yaxis4\": {\"anchor\": \"x4\", \"domain\": [0.8025, 1.0], \"gridcolor\": \"#E1E5ED\", \"showgrid\": false, \"tickfont\": {\"color\": \"#4D5663\"}, \"title\": {\"font\": {\"color\": \"#4D5663\"}, \"text\": \"\"}, \"zerolinecolor\": \"#E1E5ED\"}, \"yaxis5\": {\"anchor\": \"x5\", \"domain\": [0.535, 0.7325], \"gridcolor\": \"#E1E5ED\", \"showgrid\": false, \"tickfont\": {\"color\": \"#4D5663\"}, \"title\": {\"font\": {\"color\": \"#4D5663\"}, \"text\": \"\"}, \"zerolinecolor\": \"#E1E5ED\"}, \"yaxis6\": {\"anchor\": \"x6\", \"domain\": [0.535, 0.7325], \"gridcolor\": \"#E1E5ED\", \"showgrid\": false, \"tickfont\": {\"color\": \"#4D5663\"}, \"title\": {\"font\": {\"color\": \"#4D5663\"}, \"text\": \"\"}, \"zerolinecolor\": \"#E1E5ED\"}, \"yaxis7\": {\"anchor\": \"x7\", \"domain\": [0.535, 0.7325], \"gridcolor\": \"#E1E5ED\", \"showgrid\": false, \"tickfont\": {\"color\": \"#4D5663\"}, \"title\": {\"font\": {\"color\": \"#4D5663\"}, \"text\": \"\"}, \"zerolinecolor\": \"#E1E5ED\"}, \"yaxis8\": {\"anchor\": \"x8\", \"domain\": [0.535, 0.7325], \"gridcolor\": \"#E1E5ED\", \"showgrid\": false, \"tickfont\": {\"color\": \"#4D5663\"}, \"title\": {\"font\": {\"color\": \"#4D5663\"}, \"text\": \"\"}, \"zerolinecolor\": \"#E1E5ED\"}, \"yaxis9\": {\"anchor\": \"x9\", \"domain\": [0.2675, 0.465], \"gridcolor\": \"#E1E5ED\", \"showgrid\": false, \"tickfont\": {\"color\": \"#4D5663\"}, \"title\": {\"font\": {\"color\": \"#4D5663\"}, \"text\": \"\"}, \"zerolinecolor\": \"#E1E5ED\"}},\n",
       "                        {\"showLink\": true, \"linkText\": \"Export to plot.ly\", \"plotlyServerURL\": \"https://plot.ly\", \"responsive\": true}\n",
       "                    ).then(function(){\n",
       "                            \n",
       "var gd = document.getElementById('570f4525-b204-4056-92f5-0ea453d09338');\n",
       "var x = new MutationObserver(function (mutations, observer) {{\n",
       "        var display = window.getComputedStyle(gd).display;\n",
       "        if (!display || display === 'none') {{\n",
       "            console.log([gd, 'removed!']);\n",
       "            Plotly.purge(gd);\n",
       "            observer.disconnect();\n",
       "        }}\n",
       "}});\n",
       "\n",
       "// Listen for the removal of the full notebook cells\n",
       "var notebookContainer = gd.closest('#notebook-container');\n",
       "if (notebookContainer) {{\n",
       "    x.observe(notebookContainer, {childList: true});\n",
       "}}\n",
       "\n",
       "// Listen for the clearing of the current output cell\n",
       "var outputEl = gd.closest('.output');\n",
       "if (outputEl) {{\n",
       "    x.observe(outputEl, {childList: true});\n",
       "}}\n",
       "\n",
       "                        })\n",
       "                };\n",
       "                });\n",
       "            </script>\n",
       "        </div>"
      ]
     },
     "metadata": {},
     "output_type": "display_data"
    }
   ],
   "source": [
    "df.scatter_matrix()"
   ]
  }
 ],
 "metadata": {
  "kernelspec": {
   "display_name": "Python 3",
   "language": "python",
   "name": "python3"
  },
  "language_info": {
   "codemirror_mode": {
    "name": "ipython",
    "version": 3
   },
   "file_extension": ".py",
   "mimetype": "text/x-python",
   "name": "python",
   "nbconvert_exporter": "python",
   "pygments_lexer": "ipython3",
   "version": "3.7.6"
  }
 },
 "nbformat": 4,
 "nbformat_minor": 1
}
